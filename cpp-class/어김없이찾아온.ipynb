{
 "cells": [
  {
   "cell_type": "markdown",
   "source": [
    "# 1. 깊이 우선 탐색 (DFS)\n",
    "\n",
    "그래프를 깊이 우선 탐색 알고리즘 기반으로 탐색할 때 정점을 방문하는 순서를 출력하는 프로그램을 작성하세요. 단, 방문할 수 있는 정점이 여러 개인 경우에는 정점 번호가 작은 것을 먼저 방문합니다.\n",
    "\n",
    "<br>\n",
    "\n",
    "**입력**\n",
    "\n",
    "- 첫째 줄에는 정점의 개수 N, 간선의 개수 M, 탐색을 시작할 정점의 번호 V가 주어진다. (단, N은 1,000개 이하, M은 10,000개 이하, V는 1부터 N까지 범위의 임의의 자연수)\n",
    "- 둘째 줄부터 M개의 줄에는 간선을 연결하는 두 정점의 번호가 주어진다. 어떤 두 정점 사이에 여러 개의 간선이 있을 수 있으며 입력으로 주어지는 간선은 양방향이다.\n",
    "\n",
    "<br>\n",
    "\n",
    "**출력**\n",
    "\n",
    "- V부터 방문된 정점을 방문 순서대로 출력한다. 이때 정점 번호는 공백으로 구분한다.\n"
   ],
   "metadata": {
    "collapsed": false,
    "pycharm": {
     "name": "#%% md\n"
    }
   }
  },
  {
   "cell_type": "code",
   "execution_count": null,
   "outputs": [],
   "source": [
    "N, M, V = map(int, input().split())\n",
    "graph = [[False] * (N+1) for _ in range(N+1)]\n",
    "visited = [False] * (N+1)\n",
    "for _ in range(M):\n",
    "\ta, b = map(int, input().split())\n",
    "\tgraph[a][b] = True\n",
    "\tgraph[b][a] = True\n",
    "\n",
    "def dfs(v, visited):\n",
    "    # 현재 노드 방문 처리\n",
    "    visited[v] = True\n",
    "    print(v, end=' ')\n",
    "\n",
    "    # 현재 노드와 연결된 다른 노드를 재귀적으로 방문\n",
    "    for i in range(1, len(graph[v])):\n",
    "        if graph[v][i] and not visited[i]:\n",
    "            dfs(i, visited)\n",
    "\n",
    "dfs(V, visited)"
   ],
   "metadata": {
    "collapsed": false,
    "pycharm": {
     "name": "#%%\n"
    }
   }
  },
  {
   "cell_type": "markdown",
   "source": [
    "# 2. 너비 우선 탐색 (BFS)\n",
    "\n",
    "그래프를 너비 우선 탐색 알고리즘 기반으로 탐색할 때 정점을 방문하는 순서를 출력하는 프로그램을 작성하세요. 단, 방문할 수 있는 정점이 여러 개인 경우에는 정점 번호가 작은 것을 먼저 방문합니다.\n",
    "\n",
    "<br>\n",
    "\n",
    "**입력**\n",
    "\n",
    "- 첫째 줄에는 정점의 개수 N, 간선의 개수 M, 탐색을 시작할 정점의 번호 V가 주어진다. (단, N은 1,000개 이하, M은 10,000개 이하, V는 1부터 N까지 범위의 임의의 자연수)\n",
    "- 둘째 줄부터 M개의 줄에는 간선을 연결하는 두 정점의 번호가 주어진다. 어떤 두 정점 사이에 여러 개의 간선이 있을 수 있으며 입력으로 주어지는 간선은 양방향이다.\n",
    "\n",
    "<br>\n",
    "\n",
    "**출력**\n",
    "\n",
    "- V부터 방문된 정점을 방문 순서대로 출력한다. 이때 정점 번호는 공백으로 구분한다."
   ],
   "metadata": {
    "collapsed": false,
    "pycharm": {
     "name": "#%% md\n"
    }
   }
  },
  {
   "cell_type": "code",
   "execution_count": null,
   "outputs": [],
   "source": [
    "from collections import deque\n",
    "\n",
    "N, M, V = map(int, input().split())\n",
    "graph = [[False]*(N+1) for _ in range(N+1)]\n",
    "visited = [False] * (N+1)\n",
    "for _ in range(M):\n",
    "\ta, b = map(int, input().split())\n",
    "\tgraph[a][b] = True\n",
    "\tgraph[b][a] = True\n",
    "\n",
    "\n",
    "def bfs(start, visited):\n",
    "    queue = deque([start])\n",
    "    visited[start] = True\n",
    "\n",
    "    while queue:\n",
    "        v = queue.popleft()\n",
    "        print(v, end=' ')\n",
    "\n",
    "        for i in range(1, len(graph[v])):\n",
    "            if graph[v][i] and not visited[i]:\n",
    "                queue.append(i)\n",
    "                visited[i] = True\n",
    "\n",
    "\n",
    "bfs(V, visited)"
   ],
   "metadata": {
    "collapsed": false,
    "pycharm": {
     "name": "#%%\n"
    }
   }
  },
  {
   "cell_type": "markdown",
   "source": [
    "# 3. 이진 탐색\n",
    "\n",
    "이진 탐색을 통해 N개의 정수가 주어질 때 이 안에 X라는 정수가 존재하는지 알아내는 프로그램을 작성하세요.\n",
    "\n",
    "<br>\n",
    "\n",
    "**입력**\n",
    "\n",
    "- 첫째 줄에는 자연수 N이 주어진다. (N은 100,000 이하)\n",
    "- 둘째 줄에는 N개의 정수가 주어진다.\n",
    "- 셋째 줄에는 자연수 M이 주어진다. (M은 100,000 이하)\n",
    "- 넷째 줄에는 M개의 수가 주어지며, 이 수들이 주어진 N개의 정수 중에 존재하는지를 알아내면 된다. 모든 정수의 범위는 보다 크거나 같고 보다 작다.\n",
    "\n",
    "<br>\n",
    "\n",
    "**출력**\n",
    "\n",
    "- M개의 줄에 존재 여부를 출력한다. 존재하면 1을, 존재하지 않으면 0을 출력한다."
   ],
   "metadata": {
    "collapsed": false,
    "pycharm": {
     "name": "#%% md\n"
    }
   }
  },
  {
   "cell_type": "code",
   "execution_count": null,
   "outputs": [],
   "source": [
    "N = int(input())\n",
    "numbers = list(map(int, input().split()))\n",
    "M = int(input())\n",
    "target = list(map(int, input().split()))\n",
    "numbers.sort()\n",
    "\n",
    "def recursiveBinarySearch(array, target, start, end):\n",
    "    if start > end: return None\n",
    "    mid = (start + end) // 2\n",
    "\n",
    "    if array[mid] == target: return mid\n",
    "    elif array[mid] > target: return recursiveBinarySearch(array, target, start, mid-1)\n",
    "    elif array[mid] < target: return recursiveBinarySearch(array, target, mid+1, end)\n",
    "\n",
    "for t in target:\n",
    "\tresult = recursiveBinarySearch(numbers, t, 0, N-1)\n",
    "\tprint(1 if result is not None else 0)"
   ],
   "metadata": {
    "collapsed": false,
    "pycharm": {
     "name": "#%%\n"
    }
   }
  },
  {
   "cell_type": "markdown",
   "source": [
    "# 4. Dijkstra\n",
    "\n",
    "방향 그래프에 대해 Dijkstra 알고리즘을 기반으로 시작 지점에서 다른 모든 정점으로 가는 최소 비용을 구하는 프로그램을 작성하세요.\n",
    "\n",
    "<br>\n",
    "\n",
    "**입력**\n",
    "\n",
    "- 첫째 줄에는 정점의 개수 N, 간선의 개수 M, 탐색을 시작할 정점의 번호 V가 주어진다. (단, N은 20,000개 이하, M은 300,000개 이하, V는 1부터 N까지 범위의 임의의 자연수)\n",
    "- 둘째 줄부터 M개의 줄에는 각 간선을 나타내는 세 개의 정수 (u, v, w)가 순서대로 주어진다. 간선을 연결하는 두 정점의 번호가 주어진다. 이는 u에서 v로 가는 비용이 w인 간선이 존재한다는 뜻이다. u와 v는 서로 다르며 w는 10 이하의 자연수이다. 서로 다른 두 정점 사이에 여러 개의 간선이 존재할 수도 있음에 유의한다.\n",
    "\n",
    "<br>\n",
    "\n",
    "**출력**\n",
    "\n",
    "- 첫째 줄부터 N개의 줄에 걸쳐, i번째 줄에 i번 정점으로 가는 최소 비용을 출력한다. 시작점에서 시작점까지의 거리는 0으로 출력하고, 경로가 존재하지 않는 경우에는 INF를 출력한다."
   ],
   "metadata": {
    "collapsed": false,
    "pycharm": {
     "name": "#%% md\n"
    }
   }
  },
  {
   "cell_type": "code",
   "execution_count": null,
   "outputs": [],
   "source": [
    "import heapq\n",
    "\n",
    "INF = int(1e9)\n",
    "N, M, V = map(int, input().split())\n",
    "distance = [INF] * (N+1)\n",
    "graph = [[] for _ in range(N+1)]\n",
    "for _ in range(M):\n",
    "\tu, v, w = map(int, input().split())\n",
    "\tgraph[u].append((v, w))\n",
    "\n",
    "def betterDijkstra(start):\n",
    "    q = []\n",
    "    heapq.heappush(q, (0, start))\n",
    "    distance[start] = 0\n",
    "\n",
    "    while q:\n",
    "        dist, now = heapq.heappop(q)\n",
    "        if distance[now] < dist: continue\n",
    "\n",
    "        for i in graph[now]:\n",
    "            coost = dist + i[1]\n",
    "\n",
    "            if coost < distance[i[0]]:\n",
    "                distance[i[0]] = coost\n",
    "                heapq.heappush(q, (coost, i[0]))\n",
    "\n",
    "betterDijkstra(V)\n",
    "\n",
    "for i in range(1, N+1):\n",
    "    print(distance[i]) if distance[i] != INF else print(\"INF\")"
   ],
   "metadata": {
    "collapsed": false,
    "pycharm": {
     "name": "#%%\n"
    }
   }
  },
  {
   "cell_type": "markdown",
   "source": [
    "# 5. 플로이드 워셜\n",
    "\n",
    "방향 그래프에 대해 플로이드 워셜 알고리즘을 기반으로 모든 정점에서 출발하여 다른 모든 정점에 도착할 때까지 소요되는 최소 비용을 출력하는 프로그램을 작성하세요.\n",
    "\n",
    "<br>\n",
    "\n",
    "**입력**\n",
    "\n",
    "- 첫째 줄에는 정점의 개수 N이 주어진다. (N은 500 이하 자연수)\n",
    "- 둘째 줄에는 간선의 개수 M이 주어진다. (M은 100,000 이하 자연수)\n",
    "- 셋째줄 부터 시작점, 끝점, 비용 정보가 간선의 개수만큼 주어진다. 단, 노드 번호는 N 이하 자연수이다.\n",
    "\n",
    "<br>\n",
    "\n",
    "**출력**\n",
    "\n",
    "- N개의 줄을 출력한다. i번째 줄에 출력하는 j번째 숫자는 정점 i에서 출발하여 정점 j에 도착할 때까지 소요되는 최소 비용이다. 만약 i에서 j로 갈 수 없는 경우에는 -1을 출력한다."
   ],
   "metadata": {
    "collapsed": false,
    "pycharm": {
     "name": "#%% md\n"
    }
   }
  },
  {
   "cell_type": "code",
   "execution_count": null,
   "outputs": [],
   "source": [
    "INF = int(1e9)\n",
    "n = int(input())\n",
    "m = int(input())\n",
    "graph = [[INF] * (n+1) for _ in range(n+1)]\n",
    "\n",
    "for i in range(1, n+1): graph[i][i] = 0\n",
    "\n",
    "for _ in range(m):\n",
    "    startNode, endNode, cost = map(int, input().split())\n",
    "    graph[startNode][endNode] = cost\n",
    "\n",
    "for k in range(1, n+1):\n",
    "    for i in range(1, n+1):\n",
    "        for j in range(1, n+1):\n",
    "            graph[i][j] = min(graph[i][j], graph[i][k] + graph[k][j])\n",
    "\n",
    "for i in range(1, n+1):\n",
    "    for j in range(1, n+1):\n",
    "        print(graph[i][j] if graph[i][j] != INF else -1, end=\" \")\n",
    "    print()"
   ],
   "metadata": {
    "collapsed": false,
    "pycharm": {
     "name": "#%%\n"
    }
   }
  },
  {
   "cell_type": "markdown",
   "source": [
    "# 6. 음료수 얼려 먹기\n",
    "\n",
    "N  M 크기의 얼음 틀이 있다.\n",
    "\n",
    "구멍이 뚫려 있는 부분은 0, 칸막이가 존재하는 부분은 1로 표시된다.\n",
    "\n",
    "구멍이 뚫려 있는 부분끼리 상, 하, 좌, 우로 붙어 있는 경우 서로 연결되어 있는 것으로 간주한다.\n",
    "\n",
    "이때 얼음 틀의 모양이 주어졌을 때 생성되는 아이스크림 총 개수를 구하는 프로그램을 작성하시오.\n",
    "\n",
    "<br>\n",
    "\n",
    "**입력**\n",
    "\n",
    "- 첫 번째 줄에 얼음 틀의 세로 길이 N과 가로 길이 M이 주어진다. (1<=N, M <=1000)\n",
    "- 두 번째 줄부터 N + 1번째 줄까지 얼음 틀의 형태가 주어진다.\n",
    "- 이때 구멍이 뚫려있는 부분은 0, 그렇지 않은 부분은 1이다.\n",
    "\n",
    "<br>\n",
    "\n",
    "**출력**\n",
    "\n",
    "- 한 번에 만들 수 있는 아이스크림 개수를 출력한다."
   ],
   "metadata": {
    "collapsed": false,
    "pycharm": {
     "name": "#%% md\n"
    }
   }
  },
  {
   "cell_type": "code",
   "execution_count": null,
   "outputs": [],
   "source": [
    "from collections import deque\n",
    "\n",
    "N, M = map(int, input().split())\n",
    "ice = [list(map(int, input().split())) for _ in range(N)]\n",
    "icecream = 0\n",
    "go = [(0, 1), (1, 0), (0, -1), (-1, 0)]\n",
    "\n",
    "\n",
    "def bfs(x, y):\n",
    "\tglobal ice\n",
    "\n",
    "\tq = deque([(x, y)])\n",
    "\n",
    "\twhile q:\n",
    "\t\tnx, ny = q.popleft()\n",
    "\t\tice[nx][ny] = 1\n",
    "\n",
    "\n",
    "\t\tfor gx, gy in go:\n",
    "\t\t\ttx, ty = gx+nx, gy+ny\n",
    "\t\t\tif 0 <= tx < N and 0 <= ty < M and ice[tx][ty] == 0:\n",
    "\t\t\t\tq.append((tx, ty))\n",
    "\n",
    "\n",
    "for i in range(N):\n",
    "\tfor j in range(M):\n",
    "\t\tif ice[i][j] == 0:\n",
    "\t\t\tbfs(i, j)\n",
    "\t\t\ticecream += 1\n",
    "\n",
    "print(icecream)"
   ],
   "metadata": {
    "collapsed": false,
    "pycharm": {
     "name": "#%%\n"
    }
   }
  },
  {
   "cell_type": "markdown",
   "source": [
    "# 7. 떡볶이 떡 만들기\n",
    "\n",
    "오늘 동빈이는 여행 가신 부모님을 대신해서 떡집 일을 하기로 했다.\n",
    "\n",
    "오늘은 떡볶이 떡을 만드는 날이다.\n",
    "\n",
    "동빈이네 떡볶이 떡은 길이가 일정하지 않다.\n",
    "\n",
    "대신에 한 봉지 안에 들어가는 떡의 총 길이는 절단기로 잘라서 맞춰준다.\n",
    "\n",
    "절단기에 높이(H)를 지정하면 줄지어진 떡을 한 번에 절단한다.\n",
    "\n",
    "높이가 H보다 긴 떡은 H 위의 부분이 잘릴 것이고, 낮은 떡은 잘리지 않는다.\n",
    "\n",
    "예를 들어 높이가 19, 14, 10, 17 cm인 떡이 나란히 있고 절단가의 높이를 15cm로 지정하면 자른 뒤 떡의 높이는 15, 14, 10, 15 cm가 될 것이다.\n",
    "\n",
    "잘린 떡의 길이는 차례대로 4, 0, 0, 2 cm 이다.\n",
    "\n",
    "손님은 6 cm 만큼의 길이를 가져간다.\n",
    "\n",
    "손님이 왔을 때 요청한 길이가 M일 때 적어도 M만큼의 떡을 얻기 위해 절단기에 설정할 수 있는 높이의 최댓값을 구하는 프로그램을 작성하시오.\n",
    "\n",
    "<br>\n",
    "\n",
    "**입력**\n",
    "\n",
    "- 첫째 줄에 떡의 개수 N과 요청한 떡의 길이 M이 주어진다. (1<=N<=1,000,000, 1<=M<=2,000,000,000)\n",
    "- 둘째 줄에는 떡의 개별 높이가 주어진다. 떡 높이의 총합은 항상 M이상이므로 손님은 필요한 양만큼 떡을 사갈 수 있다. 높이는 10억 보다 작거나 같은 양의 정수 또는 0이다.\n",
    "\n",
    "<br>\n",
    "\n",
    "**출력**\n",
    "\n",
    "- 적어도 M만큼의 떡을 집에 가져가기 위해 절단기에 설정할 수 있는 높이의 최댓값을 출력한다."
   ],
   "metadata": {
    "collapsed": false,
    "pycharm": {
     "name": "#%% md\n"
    }
   }
  },
  {
   "cell_type": "code",
   "execution_count": null,
   "outputs": [],
   "source": [
    "N, M = map(int, input().split())\n",
    "dduck = list(map(int, input().split()))\n",
    "\n",
    "dduck.sort()\n",
    "\n",
    "start = 0\n",
    "end = max(dduck)\n",
    "\n",
    "result = 0\n",
    "while start <= end:\n",
    "    total = 0\n",
    "    mid = (start + end) // 2\n",
    "\n",
    "    for d in dduck:\n",
    "        if d > mid:\n",
    "            total += d - mid\n",
    "\n",
    "    if total < M:\n",
    "        end = mid -1\n",
    "    else:\n",
    "        result = mid\n",
    "        start = mid + 1\n",
    "\n",
    "print(result)"
   ],
   "metadata": {
    "collapsed": false,
    "pycharm": {
     "name": "#%%\n"
    }
   }
  },
  {
   "cell_type": "markdown",
   "source": [
    "# 8. 특정 수의 개수 구하기\n",
    "\n",
    "N개의 원소를 포함하고 있는 수열이 오름차순으로 정렬되어 있습니다.\n",
    "\n",
    "이때 이 수열에서 x가 등장하는 횟수를 계산하세요.\n",
    "\n",
    "예를 들어 수열 {1, 1, 2, 2, 2, 2, 3}이 있을 때 x=2라면, 현재 수열에서 값이 2인 원소가 4개 이므로 4를 출력합니다.\n",
    "\n",
    "단, 시간 복잡도 O(logN)으로 알고리즘을 설계하세요\n",
    "\n",
    "<br>\n",
    "\n",
    "**입력**\n",
    "\n",
    "- 첫째 줄에 N과 x가 정수 형태로 공백으로 구분되어 입력됩니다. (N은 100만 이하의 자연수, x는 -10억 이상 10억 이하)\n",
    "- 둘째 줄에 N개의 원소가 정수 형태로 공백으로 구분되어 입력됩니다. (각 원소의 값은 -10억 이상 10억 이하)\n",
    "\n",
    "<br>\n",
    "\n",
    "**출력**\n",
    "\n",
    "- 수열의 원소 중에서 값이 x인 원소의 개수를 출력합니다. 단, 값이 x인 원소가 하나도 없다면 -1을 출력합니다."
   ],
   "metadata": {
    "collapsed": false,
    "pycharm": {
     "name": "#%% md\n"
    }
   }
  },
  {
   "cell_type": "code",
   "execution_count": null,
   "outputs": [],
   "source": [
    "N, x = map(int, input().split())\n",
    "numbers = list(map(int, input().split()))\n",
    "\n",
    "\n",
    "def findLeftIndex(start, end):\n",
    "    if start > end: return None\n",
    "    mid = (start + end) // 2\n",
    "\n",
    "    if (mid == 0 or numbers[mid] != numbers[mid - 1]) and numbers[mid] == x:\n",
    "        return mid\n",
    "    elif numbers[mid] >= x:\n",
    "        return findLeftIndex(start, mid - 1)\n",
    "    elif numbers[mid] < x:\n",
    "        return findLeftIndex(mid + 1, end)\n",
    "\n",
    "\n",
    "def findRightIndex(start, end):\n",
    "    if start > end: return None\n",
    "    mid = (start + end) // 2\n",
    "\n",
    "    if (mid == N - 1 or numbers[mid] != numbers[mid + 1]) and numbers[mid] == x:\n",
    "        return mid\n",
    "    elif numbers[mid] > x:\n",
    "        return findRightIndex(start, mid - 1)\n",
    "    elif numbers[mid] <= x:\n",
    "        return findRightIndex(mid + 1, end)\n",
    "\n",
    "\n",
    "print(findRightIndex(0, N - 1) - findLeftIndex(0, N - 1) + 1 if x in numbers else -1)"
   ],
   "metadata": {
    "collapsed": false,
    "pycharm": {
     "name": "#%%\n",
     "is_executing": true
    }
   }
  },
  {
   "cell_type": "markdown",
   "source": [
    "# 9. 전보\n",
    "\n",
    "어떤 나라에는 N개의 도시가 있다.\n",
    "\n",
    "그리고 각 도시는 보내고자 하는 메시지가 있는 경우, 다른 도시로 전보를 보내서 다른 도시로 해당 메시지를 전송할 수 있다.\n",
    "\n",
    "하지만 X라는 도시에서 Y라는 도시로 전보를 보내고자 한다면, 도시 X에서 Y로 향하는 통로가 설치되어 있어야 한다.\n",
    "\n",
    "예를 들어 X에서 Y로 향하는 통로는 있지만, Y에서 X로 향하는 통로가 없다면 Y는 X로 메시지를 보낼 수 없다.\n",
    "\n",
    "또한 통로를 거쳐 메시지를 보낼 때는 일정 시간이 소요된다.\n",
    "\n",
    "어느 날 C라는 도시에서 위급 상황이 발생했다.\n",
    "\n",
    "그래서 최대한 많은 도시로 메시지를 보내고자 한다.\n",
    "\n",
    "메시지는 도시 C에서 출발하여 각 도시 사이에 설치된 통로를 거쳐, 최대한 많이 퍼져나갈 것이다.\n",
    "\n",
    "각 도시의 번호와 통로가 설치되어 있는 정보가 주어졌을 때, 도시 C에서 보낸 메시지를 받게 되는 도시의 개수는 총 몇 개이며 도시들이 모두 메시지를 받는 데까지 걸리는 시간은 얼마인지 계산하는 프로그램을 작성하시오.\n",
    "\n",
    "<br>\n",
    "\n",
    "**입력**\n",
    "\n",
    "- 첫째 줄에 도시의 개수 N, 통로의 개수 M, 메시지를 보내고자 하는 도시 C가 주어진다. (1<=N<=30,000, 1<=M<=200,000, 1<=C<=N)\n",
    "- 둘째 줄부터 M+1번째 줄에 걸쳐서 통로에 대한 정보 X, Y, Z가 주어진다. 이는 특정 도시 X에서 다른 특정 도시 Y로 이어지는 통로가 있으며, 메시지가 전달되는 시간이 Z라는 의미이다. (1<=X, Y<=N, 1<=Z<=1,000)\n",
    "\n",
    "<br>\n",
    "\n",
    "**출력**\n",
    "\n",
    "- 첫째 줄에 도시 C에서 보낸 메시지를 받는 도시의 총 개수와 총 걸리는 시간을 공백으로 구분하여 출력한다."
   ],
   "metadata": {
    "collapsed": false,
    "pycharm": {
     "name": "#%% md\n"
    }
   }
  },
  {
   "cell_type": "code",
   "execution_count": null,
   "outputs": [],
   "source": [
    "import heapq\n",
    "\n",
    "INF = int(1e9)\n",
    "\n",
    "N, M, C = map(int, input().split())\n",
    "city = [[] for _ in range(N + 1)]\n",
    "distance = [INF] * (N + 1)\n",
    "\n",
    "for _ in range(M):\n",
    "    tstart, tend, ttime = map(int, input().split())\n",
    "    city[tstart].append((tend, ttime))\n",
    "print(city)\n",
    "\n",
    "\n",
    "def dijkstra(start):\n",
    "    q = []\n",
    "    heapq.heappush(q, (0, start))\n",
    "    distance[start] = 0\n",
    "\n",
    "    while q:\n",
    "        dist, now = heapq.heappop(q)\n",
    "\n",
    "        if distance[now] < dist: continue\n",
    "\n",
    "        for c in city[now]:\n",
    "            time = dist + c[1]\n",
    "\n",
    "            if time < distance[c[0]]:\n",
    "                distance[c[0]] = time\n",
    "                heapq.heappush(q, (time, c[0]))\n",
    "\n",
    "\n",
    "dijkstra(C)\n",
    "\n",
    "count = 0\n",
    "maxDistance = 0\n",
    "\n",
    "for d in distance:\n",
    "    if d != INF:\n",
    "        count += 1\n",
    "        maxDistance = max(maxDistance, d)\n",
    "\n",
    "print(count - 1, maxDistance)"
   ],
   "metadata": {
    "collapsed": false,
    "pycharm": {
     "name": "#%%\n"
    }
   }
  }
 ],
 "metadata": {
  "kernelspec": {
   "display_name": "Python 3",
   "language": "python",
   "name": "python3"
  },
  "language_info": {
   "codemirror_mode": {
    "name": "ipython",
    "version": 2
   },
   "file_extension": ".py",
   "mimetype": "text/x-python",
   "name": "python",
   "nbconvert_exporter": "python",
   "pygments_lexer": "ipython2",
   "version": "2.7.6"
  }
 },
 "nbformat": 4,
 "nbformat_minor": 0
}