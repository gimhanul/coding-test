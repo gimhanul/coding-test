{
 "cells": [
  {
   "cell_type": "markdown",
   "source": [],
   "metadata": {
    "collapsed": false,
    "pycharm": {
     "name": "#%% md\n"
    }
   }
  },
  {
   "cell_type": "code",
   "execution_count": 4,
   "outputs": [],
   "source": [
    "import heapq"
   ],
   "metadata": {
    "collapsed": false,
    "pycharm": {
     "name": "#%%\n"
    }
   }
  },
  {
   "cell_type": "code",
   "execution_count": 6,
   "outputs": [],
   "source": [
    "N, M = map(int, input().split())\n",
    "barns = [[] for _ in range(N+1)]\n",
    "\n",
    "for _ in range(M):\n",
    "    A, B = map(int, input().split())\n",
    "    barns[A].append((1, B))\n",
    "    barns[B].append((1, A))\n",
    "\n",
    "INF = int(1e9)\n",
    "distance = [INF] * (N+1)"
   ],
   "metadata": {
    "collapsed": false,
    "pycharm": {
     "name": "#%%\n"
    }
   }
  },
  {
   "cell_type": "code",
   "execution_count": 11,
   "outputs": [],
   "source": [
    "q = []\n",
    "heapq.heappush(q, (0, 1))\n",
    "distance[1] = 0\n",
    "\n",
    "while q:\n",
    "    dist, i = heapq.heappop(q)\n",
    "    if distance[i] < dist: continue\n",
    "\n",
    "    for tdist, ti in barns[i]:\n",
    "        tcost = dist + tdist\n",
    "\n",
    "        if tcost < distance[ti]:\n",
    "            distance[ti] = tcost\n",
    "            heapq.heappush(q, (tcost, ti))"
   ],
   "metadata": {
    "collapsed": false,
    "pycharm": {
     "name": "#%%\n"
    }
   }
  },
  {
   "cell_type": "code",
   "execution_count": 13,
   "outputs": [
    {
     "name": "stdout",
     "output_type": "stream",
     "text": [
      "4 2 3\n"
     ]
    }
   ],
   "source": [
    "cnt = 0\n",
    "maxValueIndex = 0\n",
    "for i in range(1, len(distance)):\n",
    "    if distance[maxValueIndex] < distance[i]:\n",
    "        cnt = 1\n",
    "        maxValueIndex = i\n",
    "    elif distance[maxValueIndex] == distance[i]: cnt += 1\n",
    "\n",
    "print(maxValueIndex, distance[maxValueIndex], cnt)"
   ],
   "metadata": {
    "collapsed": false,
    "pycharm": {
     "name": "#%%\n"
    }
   }
  }
 ],
 "metadata": {
  "kernelspec": {
   "display_name": "Python 3",
   "language": "python",
   "name": "python3"
  },
  "language_info": {
   "codemirror_mode": {
    "name": "ipython",
    "version": 2
   },
   "file_extension": ".py",
   "mimetype": "text/x-python",
   "name": "python",
   "nbconvert_exporter": "python",
   "pygments_lexer": "ipython2",
   "version": "2.7.6"
  }
 },
 "nbformat": 4,
 "nbformat_minor": 0
}