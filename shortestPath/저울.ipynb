{
 "cells": [
  {
   "cell_type": "markdown",
   "source": [
    "# 저울\n",
    "\n",
    "[here](https://www.acmicpc.net/problem/10159)\n",
    "[here](https://codeup.kr/problem.php?id=4805)"
   ],
   "metadata": {
    "collapsed": false,
    "pycharm": {
     "name": "#%% md\n"
    }
   }
  },
  {
   "cell_type": "code",
   "execution_count": null,
   "metadata": {
    "collapsed": true,
    "pycharm": {
     "name": "#%%\n"
    }
   },
   "outputs": [],
   "source": [
    "import sys\n",
    "read = sys.stdin.readline\n",
    "INF = int(1e9)\n",
    "\n",
    "N = int(read().rstrip())\n",
    "M = int(read().rstrip())\n",
    "things = [[INF] * (N+1) for _ in range(N+1)]\n",
    "\n",
    "for i in range(1, N+1): things[i][i] = 0\n",
    "\n",
    "for _ in range(M):\n",
    "    t1, t2 = map(int, read().split())\n",
    "    things[t1][t2] = 1  # t1 > t2\n",
    "\n",
    "for k in range(1, N+1):\n",
    "    for i in range(1, N+1):\n",
    "        for j in range(1, N+1):\n",
    "            things[i][j] = min(things[i][j], things[i][k] + things[k][j])\n",
    "\n",
    "for i in range(1, N+1):\n",
    "    cnt = 0\n",
    "    for j in range(1, N+1):\n",
    "        if i == j: continue\n",
    "        if things[i][j] == INF and things[j][i] == INF: cnt += 1\n",
    "    print(cnt)"
   ]
  }
 ],
 "metadata": {
  "kernelspec": {
   "display_name": "Python 3",
   "language": "python",
   "name": "python3"
  },
  "language_info": {
   "codemirror_mode": {
    "name": "ipython",
    "version": 2
   },
   "file_extension": ".py",
   "mimetype": "text/x-python",
   "name": "python",
   "nbconvert_exporter": "python",
   "pygments_lexer": "ipython2",
   "version": "2.7.6"
  }
 },
 "nbformat": 4,
 "nbformat_minor": 0
}