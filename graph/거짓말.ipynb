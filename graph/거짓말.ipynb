{
 "cells": [
  {
   "cell_type": "markdown",
   "source": [
    "# 거짓말\n",
    "\n",
    "[here](https://www.acmicpc.net/problem/1043)"
   ],
   "metadata": {
    "collapsed": false,
    "pycharm": {
     "name": "#%% md\n"
    }
   }
  },
  {
   "cell_type": "code",
   "execution_count": null,
   "metadata": {
    "collapsed": true,
    "pycharm": {
     "name": "#%%\n"
    }
   },
   "outputs": [],
   "source": [
    "import sys\n",
    "read = sys.stdin.readline\n",
    "\n",
    "N, M = map(int, read().split())\n",
    "people = set()\n",
    "cnt = 0\n",
    "\n",
    "peopleWhoKnow = list(map(int, read().split()))\n",
    "for i in range(1, len(peopleWhoKnow)):\n",
    "    people.add(peopleWhoKnow[i])\n",
    "\n",
    "party = [set(list(map(int, read().split()))[1:]) for _ in range(M)]\n",
    "\n",
    "for _ in range(M):\n",
    "    for p in party:\n",
    "        if p & people: people |= p\n",
    "\n",
    "for p in party:\n",
    "    if not p & people: cnt += 1\n",
    "\n",
    "print(cnt)"
   ]
  }
 ],
 "metadata": {
  "kernelspec": {
   "display_name": "Python 3",
   "language": "python",
   "name": "python3"
  },
  "language_info": {
   "codemirror_mode": {
    "name": "ipython",
    "version": 2
   },
   "file_extension": ".py",
   "mimetype": "text/x-python",
   "name": "python",
   "nbconvert_exporter": "python",
   "pygments_lexer": "ipython2",
   "version": "2.7.6"
  }
 },
 "nbformat": 4,
 "nbformat_minor": 0
}