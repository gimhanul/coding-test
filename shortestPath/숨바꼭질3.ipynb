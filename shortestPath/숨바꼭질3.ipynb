{
 "cells": [
  {
   "cell_type": "markdown",
   "source": [
    "# 숨바꼭질\n",
    "\n",
    "[here](https://www.acmicpc.net/problem/13549)"
   ],
   "metadata": {
    "collapsed": false,
    "pycharm": {
     "name": "#%% md\n"
    }
   }
  },
  {
   "cell_type": "code",
   "execution_count": null,
   "outputs": [],
   "source": [
    "import heapq"
   ],
   "metadata": {
    "collapsed": false,
    "pycharm": {
     "name": "#%%\n"
    }
   }
  },
  {
   "cell_type": "code",
   "execution_count": null,
   "metadata": {
    "collapsed": true,
    "pycharm": {
     "name": "#%%\n"
    }
   },
   "outputs": [],
   "source": [
    "INF = int(1e9)\n",
    "\n",
    "N, K = map(int, input().split())\n",
    "distance = [INF] * max(N+2, K+2)\n",
    "\n",
    "dijkstra(N)\n",
    "print(distance[K])"
   ]
  },
  {
   "cell_type": "code",
   "execution_count": null,
   "outputs": [],
   "source": [
    "def dijkstra(start):\n",
    "    global distance\n",
    "\n",
    "    q = []\n",
    "    heapq.heappush(q, (0, start))\n",
    "    distance[start] = 0\n",
    "\n",
    "    while q:\n",
    "        tdist, now = heapq.heappop(q)\n",
    "        if distance[now] < tdist: continue\n",
    "\n",
    "        checkLinkedNode(now+1, tdist+1, q)\n",
    "        checkLinkedNode(now-1, tdist+1, q)\n",
    "        checkLinkedNode(now*2, tdist, q)"
   ],
   "metadata": {
    "collapsed": false,
    "pycharm": {
     "name": "#%%\n"
    }
   }
  },
  {
   "cell_type": "code",
   "execution_count": null,
   "outputs": [],
   "source": [
    "def checkLinkedNode(node, cost, q):\n",
    "    global distance\n",
    "\n",
    "    if 0 <= node < len(distance):\n",
    "        if cost < distance[node]:\n",
    "            distance[node] = cost\n",
    "            heapq.heappush(q, (cost, node))"
   ],
   "metadata": {
    "collapsed": false,
    "pycharm": {
     "name": "#%%\n"
    }
   }
  }
 ],
 "metadata": {
  "kernelspec": {
   "display_name": "Python 3",
   "language": "python",
   "name": "python3"
  },
  "language_info": {
   "codemirror_mode": {
    "name": "ipython",
    "version": 2
   },
   "file_extension": ".py",
   "mimetype": "text/x-python",
   "name": "python",
   "nbconvert_exporter": "python",
   "pygments_lexer": "ipython2",
   "version": "2.7.6"
  }
 },
 "nbformat": 4,
 "nbformat_minor": 0
}