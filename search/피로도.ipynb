{
 "cells": [
  {
   "cell_type": "markdown",
   "source": [
    "# 피로도\n",
    "\n",
    "[here](https://school.programmers.co.kr/learn/courses/30/lessons/87946)"
   ],
   "metadata": {
    "collapsed": false,
    "pycharm": {
     "name": "#%% md\n"
    }
   }
  },
  {
   "cell_type": "code",
   "execution_count": 1,
   "outputs": [],
   "source": [
    "from itertools import permutations"
   ],
   "metadata": {
    "collapsed": false,
    "pycharm": {
     "name": "#%%\n"
    }
   }
  },
  {
   "cell_type": "code",
   "execution_count": 14,
   "metadata": {
    "collapsed": true,
    "pycharm": {
     "name": "#%%\n"
    }
   },
   "outputs": [],
   "source": [
    "def solution(k, dungeons):\n",
    "    max_dungeons = -1\n",
    "    for case in list(permutations(dungeons)):\n",
    "        fatigue = k\n",
    "        dungeons = 0\n",
    "        for min_fatigue, waste_fatigue in case:\n",
    "            if fatigue >= min_fatigue:\n",
    "                fatigue -= waste_fatigue\n",
    "                dungeons += 1\n",
    "                max_dungeons = max(max_dungeons, dungeons)\n",
    "            else:\n",
    "                continue\n",
    "    return max_dungeons"
   ]
  },
  {
   "cell_type": "code",
   "execution_count": 15,
   "outputs": [
    {
     "name": "stdout",
     "output_type": "stream",
     "text": [
      "3\n"
     ]
    }
   ],
   "source": [
    "print(solution(80, [[80, 20], [50, 40], [30, 10]]))\n",
    "\n",
    "# must be 3"
   ],
   "metadata": {
    "collapsed": false,
    "pycharm": {
     "name": "#%%\n"
    }
   }
  },
  {
   "cell_type": "code",
   "execution_count": null,
   "outputs": [],
   "source": [],
   "metadata": {
    "collapsed": false,
    "pycharm": {
     "name": "#%%\n"
    }
   }
  }
 ],
 "metadata": {
  "kernelspec": {
   "display_name": "Python 3",
   "language": "python",
   "name": "python3"
  },
  "language_info": {
   "codemirror_mode": {
    "name": "ipython",
    "version": 2
   },
   "file_extension": ".py",
   "mimetype": "text/x-python",
   "name": "python",
   "nbconvert_exporter": "python",
   "pygments_lexer": "ipython2",
   "version": "2.7.6"
  }
 },
 "nbformat": 4,
 "nbformat_minor": 0
}