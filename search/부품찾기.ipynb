{
 "cells": [
  {
   "cell_type": "markdown",
   "source": [
    "# 부품 찾기\n",
    "\n",
    "동빈이네 전자 매장에는 부품이 N개 있다. 각 부품은 정수 형태의 고유한 번호가 있다. 어느 날 손님이 M개 종류의 부품을 대량으로 구매하겠다며 당일 날 견적서를 요청했다. 동빈이는 때를 놓치지 않고 손님이 문의한 부품 M개의 종류를 모두 확인해서 견적서를 작성해야 한다. 이때 가게 안에 부품이 모두 있는지 확인하는 프로그램을 작성해보자.\n",
    "\n",
    "<br>\n",
    "\n",
    "**입력 조건**\n",
    "\n",
    "- 첫째 줄에는 정수 N이 주어진다. (1 <= N <= 1000000)\n",
    "- 둘째 줄에는 공백으로 구분하여 N개의 정수가 주어진다. (1 < N개의 정수 <= 1000000)\n",
    "- 셋째 줄에는 정수 M이 주어진다. (1 <= M <= 1000000)\n",
    "- 넷째 줄에는 공백으로 구분하여 M개의 정수가 주어진다. (1 < M개의 정수 <= 1000000)\n",
    "\n",
    "<br>\n",
    "\n",
    "**출력 조건**\n",
    "\n",
    "- 첫째 줄에 공백으로 구분하여 각 부품이 존재하면 yes, 아니라면 no를 출력한다.\n",
    "\n",
    "<br>\n",
    "\n",
    "|입력|출력|\n",
    "|---|---|\n",
    "|5<br>8 3 7 9 2<br>3<br>5 7 9|no yes yes|"
   ],
   "metadata": {
    "collapsed": false,
    "pycharm": {
     "name": "#%% md\n"
    }
   }
  },
  {
   "cell_type": "code",
   "execution_count": 15,
   "outputs": [],
   "source": [
    "def binarySearch(array, target, start, end):\n",
    "    if start > end: return None\n",
    "    mid = (start + end) // 2\n",
    "\n",
    "    if array[mid] == target: return mid\n",
    "    elif array[mid] > target: return binarySearch(array, target, start, mid-1)\n",
    "    elif array[mid] < target: return binarySearch(array, target, mid+1, end)"
   ],
   "metadata": {
    "collapsed": false,
    "pycharm": {
     "name": "#%%\n"
    }
   }
  },
  {
   "cell_type": "code",
   "execution_count": 20,
   "outputs": [
    {
     "name": "stdout",
     "output_type": "stream",
     "text": [
      "no yes yes "
     ]
    }
   ],
   "source": [
    "N = int(input())\n",
    "bupum = list(map(int, input().split()))\n",
    "M = int(input())\n",
    "bupumToBuy = list(map(int, input().split()))\n",
    "\n",
    "bupum.sort()\n",
    "\n",
    "for b in bupumToBuy:\n",
    "    if binarySearch(bupum, b, 0, N-1) is None: print(\"no\", end=' ')\n",
    "    else: print(\"yes\", end=' ')"
   ],
   "metadata": {
    "collapsed": false,
    "pycharm": {
     "name": "#%%\n"
    }
   }
  },
  {
   "cell_type": "markdown",
   "source": [
    "굳이 sort를 이용하지 않고 집합 자료형을 사용해 풀 수 있다."
   ],
   "metadata": {
    "collapsed": false,
    "pycharm": {
     "name": "#%% md\n"
    }
   }
  },
  {
   "cell_type": "code",
   "execution_count": 22,
   "outputs": [
    {
     "name": "stdout",
     "output_type": "stream",
     "text": [
      "no yes yes "
     ]
    }
   ],
   "source": [
    "N = int(input())\n",
    "bupum = set(map(int, input().split()))\n",
    "M = int(input())\n",
    "bupumToBuy = list(map(int, input().split()))\n",
    "\n",
    "for b in bupumToBuy:\n",
    "    if b in bupum: print(\"yes\", end=' ')\n",
    "    else: print(\"no\", end=' ')"
   ],
   "metadata": {
    "collapsed": false,
    "pycharm": {
     "name": "#%%\n"
    }
   }
  }
 ],
 "metadata": {
  "kernelspec": {
   "display_name": "Python 3",
   "language": "python",
   "name": "python3"
  },
  "language_info": {
   "codemirror_mode": {
    "name": "ipython",
    "version": 2
   },
   "file_extension": ".py",
   "mimetype": "text/x-python",
   "name": "python",
   "nbconvert_exporter": "python",
   "pygments_lexer": "ipython2",
   "version": "2.7.6"
  }
 },
 "nbformat": 4,
 "nbformat_minor": 0
}