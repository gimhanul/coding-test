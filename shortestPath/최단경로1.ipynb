{
 "cells": [
  {
   "cell_type": "markdown",
   "source": [
    "# 최단경로1\n",
    "\n",
    "[here](https://codeup.kr/problem.php?id=3215&rid=0)"
   ],
   "metadata": {
    "collapsed": false,
    "pycharm": {
     "name": "#%% md\n"
    }
   }
  },
  {
   "cell_type": "code",
   "execution_count": null,
   "outputs": [],
   "source": [
    "import sys\n",
    "import heapq\n",
    "read = sys.stdin.readline\n",
    "INF = int(1e9)"
   ],
   "metadata": {
    "collapsed": false,
    "pycharm": {
     "name": "#%%\n"
    }
   }
  },
  {
   "cell_type": "code",
   "execution_count": null,
   "outputs": [],
   "source": [
    "def toInt(s):\n",
    "    return ord(s) - ord('A') + 1"
   ],
   "metadata": {
    "collapsed": false,
    "pycharm": {
     "name": "#%%\n"
    }
   }
  },
  {
   "cell_type": "code",
   "execution_count": null,
   "outputs": [],
   "source": [
    "N, M = map(int, read().split())\n",
    "edges = [[] for _ in range(N+1)]\n",
    "distance = [INF] * (N+1)\n",
    "\n",
    "for _ in range(M):\n",
    "    start, end, cost = read().split()\n",
    "    edges[toInt(start)].append((toInt(end), int(cost)))\n",
    "    edges[toInt(end)].append((toInt(start), int(cost)))\n",
    "\n",
    "start, end = map(toInt, read().split())"
   ],
   "metadata": {
    "collapsed": false,
    "pycharm": {
     "name": "#%%\n"
    }
   }
  },
  {
   "cell_type": "code",
   "execution_count": null,
   "outputs": [],
   "source": [
    "q = []\n",
    "distance[start] = 0\n",
    "heapq.heappush(q, (0, start))\n",
    "\n",
    "while q:\n",
    "    ndist, now = heapq.heappop(q)\n",
    "    if ndist > distance[now]: continue\n",
    "\n",
    "    for node, dist in edges[now]:\n",
    "        tdist = dist + ndist\n",
    "        if tdist < distance[node]:\n",
    "            distance[node] = tdist\n",
    "            heapq.heappush(q, (tdist, node))\n",
    "\n",
    "print(distance[end] if distance[end] != INF else -1)"
   ],
   "metadata": {
    "collapsed": false,
    "pycharm": {
     "name": "#%%\n"
    }
   }
  }
 ],
 "metadata": {
  "kernelspec": {
   "display_name": "Python 3",
   "language": "python",
   "name": "python3"
  },
  "language_info": {
   "codemirror_mode": {
    "name": "ipython",
    "version": 2
   },
   "file_extension": ".py",
   "mimetype": "text/x-python",
   "name": "python",
   "nbconvert_exporter": "python",
   "pygments_lexer": "ipython2",
   "version": "2.7.6"
  }
 },
 "nbformat": 4,
 "nbformat_minor": 0
}