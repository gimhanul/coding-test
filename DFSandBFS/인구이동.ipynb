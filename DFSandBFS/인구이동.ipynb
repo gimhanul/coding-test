{
 "cells": [
  {
   "cell_type": "markdown",
   "source": [
    "# 인구 이동\n",
    "\n",
    "N×N크기의 땅이 있고, 땅은 1×1개의 칸으로 나누어져 있다. 각각의 땅에는 나라가 하나씩 존재하며, r행 c열에 있는 나라에는 A[r][c]명이 살고 있다. 인접한 나라 사이에는 국경선이 존재한다. 모든 나라는 1×1 크기이기 때문에, 모든 국경선은 정사각형 형태이다.\n",
    "\n",
    "오늘부터 인구 이동이 시작되는 날이다.\n",
    "\n",
    "인구 이동은 하루 동안 다음과 같이 진행되고, 더 이상 아래 방법에 의해 인구 이동이 없을 때까지 지속된다.\n",
    "\n",
    "- 국경선을 공유하는 두 나라의 인구 차이가 L명 이상, R명 이하라면, 두 나라가 공유하는 국경선을 오늘 하루 동안 연다.\n",
    "- 위의 조건에 의해 열어야하는 국경선이 모두 열렸다면, 인구 이동을 시작한다.\n",
    "- 국경선이 열려있어 인접한 칸만을 이용해 이동할 수 있으면, 그 나라를 오늘 하루 동안은 연합이라고 한다.\n",
    "- 연합을 이루고 있는 각 칸의 인구수는 (연합의 인구수) / (연합을 이루고 있는 칸의 개수)가 된다. 편의상 소수점은 버린다.\n",
    "- 연합을 해체하고, 모든 국경선을 닫는다.\n",
    "\n",
    "- 각 나라의 인구수가 주어졌을 때, 인구 이동이 며칠 동안 발생하는지 구하는 프로그램을 작성하시오.\n",
    "\n",
    "<br>\n",
    "\n",
    "**입력 조건**\n",
    "\n",
    "- 첫째 줄에 N, L, R이 주어진다. (1 ≤ N ≤ 50, 1 ≤ L ≤ R ≤ 100)\n",
    "- 둘째 줄부터 N개의 줄에 각 나라의 인구수가 주어진다. r행 c열에 주어지는 정수는 A[r][c]의 값이다. (0 ≤ A[r][c] ≤ 100)\n",
    "- 인구 이동이 발생하는 일수가 2,000번 보다 작거나 같은 입력만 주어진다.\n",
    "\n",
    "<br>\n",
    "\n",
    "**출력 조건**\n",
    "\n",
    "- 인구 이동이 며칠 동안 발생하는지 첫째 줄에 출력한다.\n",
    "\n",
    "<br>\n",
    "\n",
    "|입력|출력|\n",
    "|---|---|\n",
    "|2 20 50<br>50 30<br>20 40|1|\n",
    "|2 40 50<br>50 30<br>20 40|0|\n",
    "|2 20 50<br>50 30<br>30 40|1|\n",
    "|3 5 10<br>10 15 20<br>20 30 25<br>40 22 10|2|\n",
    "|4 10 50<br>10 100 20 90<br>80 100 60 70<br>70 20 30 40<br>50 20 100 10|3|"
   ],
   "metadata": {
    "collapsed": false,
    "pycharm": {
     "name": "#%% md\n"
    }
   }
  },
  {
   "cell_type": "code",
   "execution_count": 14,
   "metadata": {
    "collapsed": true,
    "pycharm": {
     "name": "#%%\n"
    }
   },
   "outputs": [],
   "source": [
    "N, L, R = map(int, input().split())\n",
    "country = [list(map(int, input().split())) for _ in range(N)]\n",
    "visited = [[False] * N for _ in range(N)]"
   ]
  },
  {
   "cell_type": "code",
   "execution_count": 2,
   "outputs": [],
   "source": [
    "from collections import deque"
   ],
   "metadata": {
    "collapsed": false,
    "pycharm": {
     "name": "#%%\n"
    }
   }
  },
  {
   "cell_type": "code",
   "execution_count": 3,
   "outputs": [],
   "source": [
    "go = [(0, -1), (0, 1), (-1, 0), (1, 0)]"
   ],
   "metadata": {
    "collapsed": false,
    "pycharm": {
     "name": "#%%\n"
    }
   }
  },
  {
   "cell_type": "code",
   "execution_count": 16,
   "outputs": [],
   "source": [
    "def movePeople(start):\n",
    "    global visited, country\n",
    "\n",
    "    q = deque([start])\n",
    "    alliance = [start]\n",
    "\n",
    "    if visited[start[0]][start[1]]: return False\n",
    "\n",
    "    visited[start[0]][start[1]] = True\n",
    "\n",
    "    while q:\n",
    "        nowX, nowY = q.popleft()\n",
    "\n",
    "        for goX, goY in go:\n",
    "            x, y = nowX+goX, nowY+goY\n",
    "            if 0 <= x < N and 0 <= y < N and (not visited[x][y]) and L <= abs(country[x][y] - country[nowX][nowY]) <= R:\n",
    "                q.append((x, y))\n",
    "                alliance.append((x, y))\n",
    "                visited[x][y] = True\n",
    "\n",
    "\n",
    "    if len(alliance) == 1: return False\n",
    "\n",
    "    people = 0\n",
    "    for x, y in alliance:\n",
    "        people += country[x][y]\n",
    "\n",
    "    for x, y in alliance:\n",
    "        country[x][y] = people // len(alliance)\n",
    "\n",
    "    return True"
   ],
   "metadata": {
    "collapsed": false,
    "pycharm": {
     "name": "#%%\n"
    }
   }
  },
  {
   "cell_type": "code",
   "execution_count": 5,
   "outputs": [],
   "source": [
    "def day():\n",
    "    isMoved = False\n",
    "\n",
    "    for i in range(N):\n",
    "        for j in range(N):\n",
    "            if movePeople((i, j)): isMoved = True\n",
    "\n",
    "    return isMoved"
   ],
   "metadata": {
    "collapsed": false,
    "pycharm": {
     "name": "#%%\n"
    }
   }
  },
  {
   "cell_type": "code",
   "execution_count": 17,
   "outputs": [
    {
     "name": "stdout",
     "output_type": "stream",
     "text": [
      "3\n"
     ]
    }
   ],
   "source": [
    "days = 0\n",
    "\n",
    "while True:\n",
    "\n",
    "    if not day():\n",
    "        print(days)\n",
    "        break\n",
    "\n",
    "    visited = [[False] * N for _ in range(N)]\n",
    "    days += 1"
   ],
   "metadata": {
    "collapsed": false,
    "pycharm": {
     "name": "#%%\n"
    }
   }
  }
 ],
 "metadata": {
  "kernelspec": {
   "display_name": "Python 3",
   "language": "python",
   "name": "python3"
  },
  "language_info": {
   "codemirror_mode": {
    "name": "ipython",
    "version": 2
   },
   "file_extension": ".py",
   "mimetype": "text/x-python",
   "name": "python",
   "nbconvert_exporter": "python",
   "pygments_lexer": "ipython2",
   "version": "2.7.6"
  }
 },
 "nbformat": 4,
 "nbformat_minor": 0
}