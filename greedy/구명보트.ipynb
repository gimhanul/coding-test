{
 "cells": [
  {
   "cell_type": "markdown",
   "source": [
    "# 구명보트\n",
    "\n",
    "[here](https://school.programmers.co.kr/learn/courses/30/lessons/42885)"
   ],
   "metadata": {
    "collapsed": false,
    "pycharm": {
     "name": "#%% md\n"
    }
   }
  },
  {
   "cell_type": "code",
   "execution_count": null,
   "outputs": [],
   "source": [
    "def solution(people, limit):\n",
    "    answer = 0\n",
    "    INF = int(1e9)\n",
    "\n",
    "    for i in range(len(people)):\n",
    "        if people[i] == 0: continue\n",
    "\n",
    "        if limit - people[i] < 40:\n",
    "            answer += 1\n",
    "            people[i] = 0\n",
    "            continue\n",
    "\n",
    "        gap = INF\n",
    "        key = -1\n",
    "        for j in range(len(people)):\n",
    "            if i != j:\n",
    "                g = limit - people[i] - people[j]\n",
    "                if 0 <= g < limit and g < gap:\n",
    "                    gap = g\n",
    "                    key = j\n",
    "        if key != -1:\n",
    "            people[i] = 0\n",
    "            people[j] = 0\n",
    "            answer += 1\n",
    "\n",
    "    return answer"
   ],
   "metadata": {
    "collapsed": false,
    "pycharm": {
     "name": "#%%\n"
    }
   }
  },
  {
   "cell_type": "markdown",
   "source": [
    "### 힌트\n",
    "\n",
    "두명 밖에 못타기 때문에 '가장 가벼운사람 + 가장 무거운사람' 탑승 가능하면 그 두명 빼고, 그게 안되면 무거운 사람부터 빼면 됩니다"
   ],
   "metadata": {
    "collapsed": false,
    "pycharm": {
     "name": "#%% md\n"
    }
   }
  },
  {
   "cell_type": "code",
   "execution_count": 1,
   "outputs": [],
   "source": [
    "from collections import deque"
   ],
   "metadata": {
    "collapsed": false,
    "pycharm": {
     "name": "#%%\n"
    }
   }
  },
  {
   "cell_type": "code",
   "execution_count": 4,
   "outputs": [],
   "source": [
    "def solution(people, limit):\n",
    "    answer = 0\n",
    "    people.sort()\n",
    "    p = deque(people)\n",
    "\n",
    "    while p:\n",
    "        answer += 1\n",
    "        if len(p) > 1 and p[0] + p[-1] <= limit:\n",
    "            p.popleft()\n",
    "        p.pop()\n",
    "\n",
    "    return answer"
   ],
   "metadata": {
    "collapsed": false,
    "pycharm": {
     "name": "#%%\n"
    }
   }
  },
  {
   "cell_type": "code",
   "execution_count": 5,
   "outputs": [
    {
     "name": "stdout",
     "output_type": "stream",
     "text": [
      "3\n"
     ]
    }
   ],
   "source": [
    "print(solution([70, 50, 80, 50], 100))\n",
    "\n",
    "# must be 3"
   ],
   "metadata": {
    "collapsed": false,
    "pycharm": {
     "name": "#%%\n"
    }
   }
  },
  {
   "cell_type": "code",
   "execution_count": null,
   "outputs": [],
   "source": [],
   "metadata": {
    "collapsed": false,
    "pycharm": {
     "name": "#%%\n"
    }
   }
  }
 ],
 "metadata": {
  "kernelspec": {
   "display_name": "Python 3",
   "language": "python",
   "name": "python3"
  },
  "language_info": {
   "codemirror_mode": {
    "name": "ipython",
    "version": 2
   },
   "file_extension": ".py",
   "mimetype": "text/x-python",
   "name": "python",
   "nbconvert_exporter": "python",
   "pygments_lexer": "ipython2",
   "version": "2.7.6"
  }
 },
 "nbformat": 4,
 "nbformat_minor": 0
}