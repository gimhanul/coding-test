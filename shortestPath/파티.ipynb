{
 "cells": [
  {
   "cell_type": "markdown",
   "source": [
    "# 파티\n",
    "\n",
    "[here](https://www.acmicpc.net/problem/1238)"
   ],
   "metadata": {
    "collapsed": false,
    "pycharm": {
     "name": "#%% md\n"
    }
   }
  },
  {
   "cell_type": "code",
   "execution_count": null,
   "metadata": {
    "collapsed": true,
    "pycharm": {
     "name": "#%%\n"
    }
   },
   "outputs": [],
   "source": [
    "import sys\n",
    "import heapq\n",
    "sys.setrecursionlimit(10**5)\n",
    "read = sys.stdin.readline\n",
    "\n",
    "N, M, X = map(int, input().split())\n",
    "loads = [[] for _ in range(N+1)]\n",
    "INF = int(1e9)\n",
    "\n",
    "for _ in range(M):\n",
    "    start, end, t = map(int, input().split())\n",
    "    loads[start].append((end, t))\n",
    "\n",
    "\n",
    "def dijkstra(target):\n",
    "    result = [INF] * (N+1)\n",
    "    result[target] = 0\n",
    "    q = []\n",
    "    heapq.heappush(q, (0, target))\n",
    "\n",
    "    while q:\n",
    "        ndist, now = heapq.heappop(q)\n",
    "        if ndist > result[now]: continue\n",
    "\n",
    "        for town, dist in loads[now]:\n",
    "            tdist = ndist + dist\n",
    "            if tdist < result[town]:\n",
    "                result[town] = tdist\n",
    "                heapq.heappush(q, (tdist, town))\n",
    "\n",
    "    return result\n",
    "\n",
    "\n",
    "distance = dijkstra(X)\n",
    "for i in range(1, N+1):\n",
    "    distance[i] += dijkstra(i)[X]\n",
    "\n",
    "print(max(distance[1:]))"
   ]
  }
 ],
 "metadata": {
  "kernelspec": {
   "display_name": "Python 3",
   "language": "python",
   "name": "python3"
  },
  "language_info": {
   "codemirror_mode": {
    "name": "ipython",
    "version": 2
   },
   "file_extension": ".py",
   "mimetype": "text/x-python",
   "name": "python",
   "nbconvert_exporter": "python",
   "pygments_lexer": "ipython2",
   "version": "2.7.6"
  }
 },
 "nbformat": 4,
 "nbformat_minor": 0
}