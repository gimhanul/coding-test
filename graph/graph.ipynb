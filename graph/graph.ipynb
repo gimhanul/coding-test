{
 "cells": [
  {
   "cell_type": "markdown",
   "source": [
    "# 그래프\n",
    "\n",
    "node와 node 사이에 연결된 edge의 정보를 가지고 있는 자료구조.\n",
    "\n",
    "> 서로 다른 개체가 연결되어 있다는 이야기를 들으면 그래프 떠올리기\n",
    "\n",
    "- 인접 행렬 `Adjacency Matrix` : 2차원 배열 사용\n",
    "- 인접 리스트 `Adjacency List` : 리스트 사용"
   ],
   "metadata": {
    "collapsed": false,
    "pycharm": {
     "name": "#%% md\n"
    }
   }
  },
  {
   "cell_type": "markdown",
   "source": [
    "## 서로소 집합\n",
    "\n",
    "Disjoint Sets. 공통 원소가 없는 두 집합을 의미함.\n",
    "\n",
    "서로소 부분 집합들로 나누어진 원소들의 데이터를 처리하기 위한 자료구조임. 트리를 사용함.\n",
    "\n",
    "<br>\n",
    "\n",
    "**연산**\n",
    "\n",
    "- 합집합 `union` : 2 개의 원소가 포함된 집합을 하나의 집합으로 함치는 연산\n",
    "- 찾기 `find` : 특정한 원소가 속한 집합이 어떤 집합인지 알려주는 연산\n",
    "\n",
    "<br>\n",
    "\n",
    "**union 알고리즘**\n",
    "\n",
    "각각 루트 노드를 찾아서, 더 큰 루트 노드가 더 작은 루트 노드를 가리키도록 함.\n",
    "\n",
    "1. union 연산을 확인하여, 서로 연결된 두 노드 A, B를 확인함.\n",
    "    (1) A와 B의 루트 노드 A', B'를 각각 찾음.\n",
    "    (2) A'를 B'의 부모 노드로 설정함. (B'가 A'를 가리키도록)\n",
    "2. 모든 union 연산을 처리할 때까지 1번 과정 반복"
   ],
   "metadata": {
    "collapsed": false,
    "pycharm": {
     "name": "#%% md\n"
    }
   }
  },
  {
   "cell_type": "code",
   "execution_count": 6,
   "outputs": [],
   "source": [
    "def findParent(parent, x):\n",
    "    if parent[x] != x:\n",
    "        return findParent(parent, parent[x])\n",
    "    return x"
   ],
   "metadata": {
    "collapsed": false,
    "pycharm": {
     "name": "#%%\n"
    }
   }
  },
  {
   "cell_type": "code",
   "execution_count": 7,
   "outputs": [],
   "source": [
    "def unionParent(parent, a, b):\n",
    "    a = findParent(parent, a)\n",
    "    b = findParent(parent, b)\n",
    "\n",
    "    if a < b: parent[b] = a\n",
    "    else: parent[a] = b"
   ],
   "metadata": {
    "collapsed": false,
    "pycharm": {
     "name": "#%%\n"
    }
   }
  },
  {
   "cell_type": "code",
   "execution_count": 16,
   "outputs": [],
   "source": [
    "v, e = map(int, input().split())\n",
    "parent = [0] * (v+1)\n",
    "\n",
    "for i in range(1, v+1):\n",
    "    parent[i] = i"
   ],
   "metadata": {
    "collapsed": false,
    "pycharm": {
     "name": "#%%\n"
    }
   }
  },
  {
   "cell_type": "code",
   "execution_count": 14,
   "outputs": [
    {
     "name": "stdout",
     "output_type": "stream",
     "text": [
      "각 원소가 속한 집합: 1 1 1 1 5 5 \n",
      "부모 테이블: 1 1 1 1 5 5 "
     ]
    }
   ],
   "source": [
    "for _ in range(e):\n",
    "    a, b = map(int, input().split())\n",
    "    unionParent(parent, a, b)\n",
    "\n",
    "print('각 원소가 속한 집합:', end=' ')\n",
    "for i in range(1, v+1):\n",
    "    print(findParent(parent, i), end=' ')\n",
    "\n",
    "print()\n",
    "\n",
    "print('부모 테이블:', end=' ')\n",
    "for i in range(1, v+1):\n",
    "    print(parent[i], end=' ')"
   ],
   "metadata": {
    "collapsed": false,
    "pycharm": {
     "name": "#%%\n"
    }
   }
  },
  {
   "cell_type": "markdown",
   "source": [
    "하지만, 위의 find 함수는 매우 비효율적임.\n",
    "\n",
    "최악의 경우 find 함수가 모든 노드를 다 확인하는 터라 시간 복잡도가 O(V)이다.\n",
    "\n",
    "이런 find 함수를 경로 압축 `Path Compression` 기법을 적용하여 최적화 할 수 있다. **find 함수를 재귀적으로 호출한 뒤에, 부모 테이블값을 갱신한다.**"
   ],
   "metadata": {
    "collapsed": false,
    "pycharm": {
     "name": "#%% md\n"
    }
   }
  },
  {
   "cell_type": "code",
   "execution_count": 13,
   "outputs": [],
   "source": [
    "def findParent(parent, x):\n",
    "    if parent[x] != x:\n",
    "        parent[x] = findParent(parent, parent[x])\n",
    "    return parent[x]"
   ],
   "metadata": {
    "collapsed": false,
    "pycharm": {
     "name": "#%%\n"
    }
   }
  },
  {
   "cell_type": "markdown",
   "source": [
    "**cycle 판별**\n",
    "\n",
    "서로소 집합은 다양한 알고리즘에 사용될 수 있음. 특히 서로소 집합은 무방향 그래프 내에서의 사이클을 판별할 때 사용할 수 있다는 특징이 있음.\n",
    "\n",
    "1. 각 간선을 확인하며 두 노드의 루트 노드를 확인한다.\n",
    "    (1) 루트 논드가 서로 다르다면 두 노드에 대하여 union 연산을 수행함.\n",
    "    (2) 루트 노드가 서로 같다면 cycle이 발생한 것임.\n",
    "2. 그래프에 포함되어 있는 모든 간선에 대하여 1번 과정 반복함."
   ],
   "metadata": {
    "collapsed": false,
    "pycharm": {
     "name": "#%% md\n"
    }
   }
  },
  {
   "cell_type": "code",
   "execution_count": 17,
   "outputs": [
    {
     "name": "stdout",
     "output_type": "stream",
     "text": [
      "cycle 발생\n"
     ]
    }
   ],
   "source": [
    "cycle = False\n",
    "\n",
    "for i in range(e):\n",
    "    a, b = map(int, input().split())\n",
    "    if findParent(parent, a) == findParent(parent, b):\n",
    "        cycle = True\n",
    "        break\n",
    "    else:\n",
    "        unionParent(parent, a, b)\n",
    "\n",
    "print(\"cycle 발생\" if cycle else \"no cycle\")"
   ],
   "metadata": {
    "collapsed": false,
    "pycharm": {
     "name": "#%%\n"
    }
   }
  }
 ],
 "metadata": {
  "kernelspec": {
   "display_name": "Python 3",
   "language": "python",
   "name": "python3"
  },
  "language_info": {
   "codemirror_mode": {
    "name": "ipython",
    "version": 2
   },
   "file_extension": ".py",
   "mimetype": "text/x-python",
   "name": "python",
   "nbconvert_exporter": "python",
   "pygments_lexer": "ipython2",
   "version": "2.7.6"
  }
 },
 "nbformat": 4,
 "nbformat_minor": 0
}