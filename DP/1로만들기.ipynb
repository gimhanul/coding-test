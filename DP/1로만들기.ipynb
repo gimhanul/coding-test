{
 "cells": [
  {
   "cell_type": "markdown",
   "source": [
    "# 1로 만들기\n",
    "\n",
    "정수 X가 주어질 때 정수 X에 사용할 수 있는 연산은 다음과 같이 4가지이다.\n",
    "\n",
    "- X가 5로 나누어 떨어지면, 5로 나눈다.\n",
    "- X가 3으로 나누어 떨어지면, 3으로 나눈다.\n",
    "- X가 2로 나누어 떨어지면, 2로 나눈다.\n",
    "- X에서 1을 뺀다.\n",
    "\n",
    "정수 X가 주어졌을 때, 연산 4개를 적절히 사용해서 1을 만들려고 한다. 연산을 사용하는 횟수의 최솟값을 출력하시오.\n",
    "\n",
    "<br>\n",
    "\n",
    "**입력 조건**\n",
    "\n",
    "- 첫째 줄에 정수 X가 주어진다. (1 <= X <= 30000)\n",
    "\n",
    "<br>\n",
    "\n",
    "**출력 조건**\n",
    "\n",
    "- 첫째 줄에 연산을 하는 횟수의 최솟값을 출력한다.\n",
    "\n",
    "<br>\n",
    "\n",
    "|입력|출력|\n",
    "|---|---|\n",
    "|26|3|"
   ],
   "metadata": {
    "collapsed": false,
    "pycharm": {
     "name": "#%% md\n"
    }
   }
  },
  {
   "cell_type": "code",
   "execution_count": 13,
   "metadata": {
    "collapsed": true,
    "pycharm": {
     "name": "#%%\n"
    }
   },
   "outputs": [],
   "source": [
    "X = int(input())\n",
    "cnt = 0\n",
    "v = 1"
   ]
  },
  {
   "cell_type": "code",
   "execution_count": 2,
   "outputs": [],
   "source": [
    "def validate(v):\n",
    "    global X\n",
    "    return v <= X"
   ],
   "metadata": {
    "collapsed": false,
    "pycharm": {
     "name": "#%%\n"
    }
   }
  },
  {
   "cell_type": "code",
   "execution_count": 14,
   "outputs": [
    {
     "name": "stdout",
     "output_type": "stream",
     "text": [
      "3\n"
     ]
    }
   ],
   "source": [
    "while not X == v:\n",
    "    if validate(v*5): v *= 5\n",
    "    elif validate(v*3): v *= 3\n",
    "    elif validate(v*2): v *= 2\n",
    "    elif validate(v+1): v+= 1\n",
    "\n",
    "    cnt += 1\n",
    "\n",
    "print(cnt)"
   ],
   "metadata": {
    "collapsed": false,
    "pycharm": {
     "name": "#%%\n"
    }
   }
  },
  {
   "cell_type": "markdown",
   "source": [
    "이것은 DP의 풀이가 아닙니다~! 히히\n",
    "피보나치마냥 bottom-up 방식에서 그 DP 값에 최솟값 넣으면 됨.\n",
    "\n",
    "<br>\n",
    "\n",
    "점화식은\n",
    "\n",
    "$$\n",
    "a_i = min(a_{i-1}, a_{i/2}, a_{i/3}, a_{i/5}) + 1\n",
    "$$\n",
    "\n",
    "점화식 끝에 1을 더해주는 이유는 함수의 호출 횟수를 구해야 하기 때문이다.\n",
    "아 그럼 DP table에는 연산 횟수가 담기는거네용."
   ],
   "metadata": {
    "collapsed": false,
    "pycharm": {
     "name": "#%% md\n"
    }
   }
  },
  {
   "cell_type": "code",
   "execution_count": 15,
   "outputs": [
    {
     "name": "stdout",
     "output_type": "stream",
     "text": [
      "3\n"
     ]
    }
   ],
   "source": [
    "X = int(input())\n",
    "d = [0] * 30001\n",
    "\n",
    "for i in range(2, X+1):\n",
    "    d[i] = d[i - 1] + 1\n",
    "    if i % 2 == 0: d[i] = min(d[i], d[i//2]+1)\n",
    "    elif i % 3 == 0: d[i] = min(d[i], d[i//3]+1)\n",
    "    elif i % 5 == 0: d[i] = min(d[i], d[i//5]+1)\n",
    "\n",
    "print(d[X])"
   ],
   "metadata": {
    "collapsed": false,
    "pycharm": {
     "name": "#%%\n"
    }
   }
  }
 ],
 "metadata": {
  "kernelspec": {
   "display_name": "Python 3",
   "language": "python",
   "name": "python3"
  },
  "language_info": {
   "codemirror_mode": {
    "name": "ipython",
    "version": 2
   },
   "file_extension": ".py",
   "mimetype": "text/x-python",
   "name": "python",
   "nbconvert_exporter": "python",
   "pygments_lexer": "ipython2",
   "version": "2.7.6"
  }
 },
 "nbformat": 4,
 "nbformat_minor": 0
}