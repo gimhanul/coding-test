{
 "cells": [
  {
   "cell_type": "markdown",
   "source": [
    "# 뱀\n",
    "\n",
    "'Dummy'라는 도스 게임이 있습니다. 이 게임에는 뱀이 나와서 기어다니느데, 사과를 먹으면 뱀 길이가 늘어납니다. 뱀이 이리저리 기어 다니다가 벽 또는 자기 자신의 몸과 부딪히면 게임이 끝납니다.\n",
    "\n",
    "게임은 N * N 정사각 보드 위에서 진행되고, 몇몇 칸에는 사과가 놓여져 있습니다. 보드의 상하좌우 끝에는 벽이 있습니다. 게임을 시작할 때 뱀은 맨 위 좌측에 위치하고 있고 뱀의 길이는 1입니다. 뱀은 처음에 오른쪽을 향합니다.\n",
    "\n",
    "뱀은 매 초마다 이동을 하는데 다음과 같은 규칙을 따릅니다.\n",
    "\n",
    "- 먼저 뱀은 몸 길이를 늘려 머리를 다음 칸에 위치시킵니다.\n",
    "- 만약 이동한 칸에 사과가 있다면, 그 칸에 있던 사과가 없어지고 꼬리는 움직이지 않습니다.\n",
    "- 만약 이동한 칸에 사과가 없다면, 몸 길이를 줄여서 꼬리가 위치한 칸을 비워줍니다. 즉,몸 길이는 변하지 않습니다.\n",
    "\n",
    "사과의 위치와 뱀의 이동 경로가 주어질 때 이 게임이 몇 초에 끝나는지 계산하세요.\n",
    "\n",
    "<br>\n",
    "\n",
    "**입력 조건**\n",
    "\n",
    "- 첫째 줄에 보드의 크기 N이 주어집니다. (2 <= N <= 100) 다음 줄에 사과의 개수 K가 주어집니다. (0 <= K <= 100)\n",
    "- 다음 K개의 줄에는 사과의 위치가 주어지는데, 첫 번째 정수는 행, 두 번째 정수는 열 위치를 의미합니다. 사과의 위치는 모두 다르며, 맨 위 좌측(1행 1열)에는 사과가 없습니다.\n",
    "- 다음 줄에는 뱀의 방향 변환 횟수 L이 주어집니다. (1 <= L <= 100)\n",
    "- 다음 L개의 줄에는 뱀의 방향 변환 정보가 주어지는데, 정수 X와 문자 C로 이루어져 있으며, 개임 시작 시간으로부터 X초가 끝난 뒤에 왼쪽(C가 'L') 또는 오른쪽 (C가 'D')으로 90도 방향을 회전시킨다는 뜻입니다. X는 10000 이하의 양의 정수이며, 방향 전환 정보는 X가 증가하는 순으로 주어집니다.\n",
    "\n",
    "<br>\n",
    "\n",
    "**출력 조건**\n",
    "\n",
    "- 첫째 줄에 게임이 몇 초에 끝나는지 출력합니다.\n",
    "\n",
    "<br>\n",
    "\n",
    "| 입력                                                      |출력|\n",
    "|---------------------------------------------------------|---|\n",
    "| 6<br>3<br>3 4<br>2 5<br>5 3<br>3<br>3 D<br>15 L<br>17 D |9|\n",
    "|10<br>4<br>1 2<br>1 3<br>1 4<br>1 5<br>4<br>8 D<br>10 D<br>11 D<br>13 L|21|\n",
    "|10<br>5<br>1 5<br>1 3<br>1 2<br>1 6<br>1 7<br>4<br>8 D<br>10 D<br>11 D<br>13 L|13|"
   ],
   "metadata": {
    "collapsed": false,
    "pycharm": {
     "name": "#%% md\n"
    }
   }
  },
  {
   "cell_type": "code",
   "execution_count": 96,
   "outputs": [],
   "source": [
    "N = int(input())\n",
    "K = int(input())\n",
    "board = [[[0, -1] for _ in range(N)] for _ in range(N)]\n",
    "\n",
    "for _ in range(K):\n",
    "    x, y = map(int, input().split())\n",
    "    board[x-1][y-1][0] = 1\n",
    "\n",
    "L = int(input())\n",
    "go = []\n",
    "\n",
    "for _ in range(L):\n",
    "    time, direction = input().split()\n",
    "    go.append((int(time), direction))\n",
    "\n",
    "DIRECTION_TABLE = [(-1, 0), (0, 1), (1, 0), (0, -1)]"
   ],
   "metadata": {
    "collapsed": false,
    "pycharm": {
     "name": "#%%\n"
    }
   }
  },
  {
   "cell_type": "markdown",
   "source": [
    "board 한 칸 = [board status, direction]\n",
    "\n",
    "```\n",
    "board status = {\n",
    "    0: 아무것도 없는 상태,\n",
    "    1: 사과가 있는 상태,\n",
    "    2: 뱀이 있는 상태\n",
    "}\n",
    "```"
   ],
   "metadata": {
    "collapsed": false,
    "pycharm": {
     "name": "#%% md\n"
    }
   }
  },
  {
   "cell_type": "code",
   "execution_count": 98,
   "outputs": [],
   "source": [
    "board[0][0][0] = 2\n",
    "head = [0, 0]\n",
    "tail = [0, 0]\n",
    "nowDirection = 1\n",
    "sec = 0"
   ],
   "metadata": {
    "collapsed": false,
    "pycharm": {
     "name": "#%%\n"
    }
   }
  },
  {
   "cell_type": "code",
   "execution_count": 100,
   "outputs": [],
   "source": [
    "while True:\n",
    "    sec += 1\n",
    "\n",
    "    board[head[0]][head[1]][1] = nowDirection\n",
    "    head[0] += DIRECTION_TABLE[nowDirection][0]\n",
    "    head[1] += DIRECTION_TABLE[nowDirection][1]\n",
    "\n",
    "    if not (0 <= head[0] < N and 0 <= head[1] < N): break\n",
    "    what = board[head[0]][head[1]][0]\n",
    "    if what == 2: break\n",
    "\n",
    "    board[head[0]][head[1]][0] = 2\n",
    "    if what == 0:\n",
    "        board[tail[0]][tail[1]][0] = 0\n",
    "        tailDirection = board[tail[0]][tail[1]][1]\n",
    "        tail[0] += DIRECTION_TABLE[tailDirection][0]\n",
    "        tail[1] += DIRECTION_TABLE[tailDirection][1]\n",
    "\n",
    "\n",
    "    if go and sec == go[0][0]:\n",
    "        g = go.pop(0)\n",
    "        if g[1] == 'L': nowDirection -= 1\n",
    "        if g[1] == 'D': nowDirection += 1\n",
    "        nowDirection = (nowDirection + 4) % 4\n",
    "        if nowDirection == -1: nowDirection = 3"
   ],
   "metadata": {
    "collapsed": false,
    "pycharm": {
     "name": "#%%\n"
    }
   }
  },
  {
   "cell_type": "code",
   "execution_count": 101,
   "outputs": [
    {
     "name": "stdout",
     "output_type": "stream",
     "text": [
      "13\n"
     ]
    }
   ],
   "source": [
    "print(sec)"
   ],
   "metadata": {
    "collapsed": false,
    "pycharm": {
     "name": "#%%\n"
    }
   }
  }
 ],
 "metadata": {
  "kernelspec": {
   "display_name": "Python 3",
   "language": "python",
   "name": "python3"
  },
  "language_info": {
   "codemirror_mode": {
    "name": "ipython",
    "version": 2
   },
   "file_extension": ".py",
   "mimetype": "text/x-python",
   "name": "python",
   "nbconvert_exporter": "python",
   "pygments_lexer": "ipython2",
   "version": "2.7.6"
  }
 },
 "nbformat": 4,
 "nbformat_minor": 0
}