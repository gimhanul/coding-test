{
 "cells": [
  {
   "cell_type": "markdown",
   "source": [
    "# N과 M(8)\n",
    "\n",
    "[here](https://www.acmicpc.net/problem/15652)"
   ],
   "metadata": {
    "collapsed": false,
    "pycharm": {
     "name": "#%% md\n"
    }
   }
  },
  {
   "cell_type": "code",
   "execution_count": 5,
   "outputs": [
    {
     "name": "stdout",
     "output_type": "stream",
     "text": [
      "1231 1231 1231 1231 \n",
      "1231 1231 1231 1232 \n",
      "1231 1231 1231 1233 \n",
      "1231 1231 1231 1234 \n",
      "1231 1231 1232 1232 \n",
      "1231 1231 1232 1233 \n",
      "1231 1231 1232 1234 \n",
      "1231 1231 1233 1233 \n",
      "1231 1231 1233 1234 \n",
      "1231 1231 1234 1234 \n",
      "1231 1232 1232 1232 \n",
      "1231 1232 1232 1233 \n",
      "1231 1232 1232 1234 \n",
      "1231 1232 1233 1233 \n",
      "1231 1232 1233 1234 \n",
      "1231 1232 1234 1234 \n",
      "1231 1233 1233 1233 \n",
      "1231 1233 1233 1234 \n",
      "1231 1233 1234 1234 \n",
      "1231 1234 1234 1234 \n",
      "1232 1232 1232 1232 \n",
      "1232 1232 1232 1233 \n",
      "1232 1232 1232 1234 \n",
      "1232 1232 1233 1233 \n",
      "1232 1232 1233 1234 \n",
      "1232 1232 1234 1234 \n",
      "1232 1233 1233 1233 \n",
      "1232 1233 1233 1234 \n",
      "1232 1233 1234 1234 \n",
      "1232 1234 1234 1234 \n",
      "1233 1233 1233 1233 \n",
      "1233 1233 1233 1234 \n",
      "1233 1233 1234 1234 \n",
      "1233 1234 1234 1234 \n",
      "1234 1234 1234 1234 \n"
     ]
    }
   ],
   "source": [
    "N, M = map(int, input().split())\n",
    "numbers = list(map(int, input().split()))\n",
    "numbers.sort()\n",
    "result = []\n",
    "\n",
    "dfs(0)"
   ],
   "metadata": {
    "collapsed": false,
    "pycharm": {
     "name": "#%%\n"
    }
   }
  },
  {
   "cell_type": "code",
   "execution_count": 1,
   "outputs": [],
   "source": [
    "def printResult():\n",
    "    for r in result:\n",
    "        print(numbers[r], end=' ')\n",
    "    print()"
   ],
   "metadata": {
    "collapsed": false,
    "pycharm": {
     "name": "#%%\n"
    }
   }
  },
  {
   "cell_type": "code",
   "execution_count": 2,
   "outputs": [],
   "source": [
    "def dfs(number):\n",
    "    if len(result) == M:\n",
    "        printResult()\n",
    "    else:\n",
    "        for i in range(number, N):\n",
    "            result.append(i)\n",
    "            dfs(i)\n",
    "            result.pop()"
   ],
   "metadata": {
    "collapsed": false,
    "pycharm": {
     "name": "#%%\n"
    }
   }
  }
 ],
 "metadata": {
  "kernelspec": {
   "display_name": "Python 3",
   "language": "python",
   "name": "python3"
  },
  "language_info": {
   "codemirror_mode": {
    "name": "ipython",
    "version": 2
   },
   "file_extension": ".py",
   "mimetype": "text/x-python",
   "name": "python",
   "nbconvert_exporter": "python",
   "pygments_lexer": "ipython2",
   "version": "2.7.6"
  }
 },
 "nbformat": 4,
 "nbformat_minor": 0
}