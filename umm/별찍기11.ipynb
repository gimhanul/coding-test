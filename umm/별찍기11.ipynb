{
 "cells": [
  {
   "cell_type": "markdown",
   "source": [
    "# 별찍기 - 11\n",
    "\n",
    "[here](https://www.acmicpc.net/problem/2448)"
   ],
   "metadata": {
    "collapsed": false,
    "pycharm": {
     "name": "#%% md\n"
    }
   }
  },
  {
   "cell_type": "code",
   "execution_count": null,
   "outputs": [],
   "source": [
    "import sys\n",
    "read = sys.stdin.readline"
   ],
   "metadata": {
    "collapsed": false,
    "pycharm": {
     "name": "#%%\n"
    }
   }
  },
  {
   "cell_type": "code",
   "execution_count": null,
   "outputs": [],
   "source": [
    "n = int(read().rstrip())\n",
    "star = [[False] * (n*2-1) for _ in range(n)]\n",
    "\n",
    "drawStar(0, n-1)\n",
    "for t in range(3, n, 3):\n",
    "    drawLine(t-1)\n",
    "\n",
    "printStar()"
   ],
   "metadata": {
    "collapsed": false,
    "pycharm": {
     "name": "#%%\n"
    }
   }
  },
  {
   "cell_type": "code",
   "execution_count": null,
   "outputs": [],
   "source": [
    "def printStar():\n",
    "    for s in star:\n",
    "        for i in s: print('*' if i else ' ', end='')\n",
    "        print()"
   ],
   "metadata": {
    "collapsed": false,
    "pycharm": {
     "name": "#%%\n"
    }
   }
  },
  {
   "cell_type": "code",
   "execution_count": null,
   "outputs": [],
   "source": [
    "def xorStar(x, y):\n",
    "    star[x][y] = not star[x][y]"
   ],
   "metadata": {
    "collapsed": false,
    "pycharm": {
     "name": "#%%\n"
    }
   }
  },
  {
   "cell_type": "code",
   "execution_count": null,
   "outputs": [],
   "source": [
    "def drawStar(x, y):\n",
    "    global star\n",
    "\n",
    "    for i in range(1, 3):\n",
    "        for j in range(i, 0, -1):\n",
    "            xorStar(x+i, y-j)\n",
    "            xorStar(x+i, y+j)\n",
    "\n",
    "    xorStar(x, y)\n",
    "    xorStar(x+2, y)"
   ],
   "metadata": {
    "collapsed": false,
    "pycharm": {
     "name": "#%%\n"
    }
   }
  },
  {
   "cell_type": "code",
   "execution_count": null,
   "outputs": [],
   "source": [
    "def drawLine(x):\n",
    "    for i in range(n-x-2, n*2-n+x):\n",
    "        if star[x][i] ^ star[x][i+1]:\n",
    "            if star[x][i]: drawStar(x+1, i+1)\n",
    "            else: drawStar(x+1, i)"
   ],
   "metadata": {
    "collapsed": false,
    "pycharm": {
     "name": "#%%\n"
    }
   }
  }
 ],
 "metadata": {
  "kernelspec": {
   "display_name": "Python 3",
   "language": "python",
   "name": "python3"
  },
  "language_info": {
   "codemirror_mode": {
    "name": "ipython",
    "version": 2
   },
   "file_extension": ".py",
   "mimetype": "text/x-python",
   "name": "python",
   "nbconvert_exporter": "python",
   "pygments_lexer": "ipython2",
   "version": "2.7.6"
  }
 },
 "nbformat": 4,
 "nbformat_minor": 0
}