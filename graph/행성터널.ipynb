{
 "cells": [
  {
   "cell_type": "markdown",
   "source": [
    "# 행성 터널\n",
    "\n",
    "[here](https://www.acmicpc.net/problem/2887)"
   ],
   "metadata": {
    "collapsed": false,
    "pycharm": {
     "name": "#%% md\n"
    }
   }
  },
  {
   "cell_type": "code",
   "execution_count": null,
   "outputs": [],
   "source": [
    "from itertools import combinations"
   ],
   "metadata": {
    "collapsed": false,
    "pycharm": {
     "name": "#%%\n"
    }
   }
  },
  {
   "cell_type": "code",
   "execution_count": 1,
   "outputs": [],
   "source": [
    "def findParent(parent, x):\n",
    "    if parent[x] != x:\n",
    "        parent[x] = findParent(parent, parent[x])\n",
    "    return parent[x]"
   ],
   "metadata": {
    "collapsed": false,
    "pycharm": {
     "name": "#%%\n"
    }
   }
  },
  {
   "cell_type": "code",
   "execution_count": 2,
   "outputs": [],
   "source": [
    "def unionParent(parent, a, b):\n",
    "    a = findParent(parent, a)\n",
    "    b = findParent(parent, b)\n",
    "\n",
    "    if a < b: parent[b] = a\n",
    "    else: parent[a] = b"
   ],
   "metadata": {
    "collapsed": false,
    "pycharm": {
     "name": "#%%\n"
    }
   }
  },
  {
   "cell_type": "code",
   "execution_count": 12,
   "outputs": [],
   "source": [
    "def solution():\n",
    "    N = int(input())\n",
    "    parent = [i for i in range(N)]\n",
    "    planet = []\n",
    "    tunnel = []\n",
    "    result = 0\n",
    "\n",
    "    for i in range(N):\n",
    "        X, Y, Z = map(int, input().split())\n",
    "        planet.append((i, X, Y, Z))\n",
    "\n",
    "    for a, b in list(combinations(planet, 2)):\n",
    "        cost = min(abs(a[1]-b[1]), abs(a[2]-b[2]), abs(a[3]-b[3]))\n",
    "        tunnel.append((cost, a[0], b[0]))\n",
    "\n",
    "    tunnel.sort()\n",
    "    for cost, a, b in tunnel:\n",
    "        if findParent(parent, a) != findParent(parent, b):\n",
    "            result += cost\n",
    "            unionParent(parent, a, b)\n",
    "\n",
    "    return result"
   ],
   "metadata": {
    "collapsed": false,
    "pycharm": {
     "name": "#%%\n"
    }
   }
  },
  {
   "cell_type": "markdown",
   "source": [
    "umm...\n",
    "memory umm...\n",
    "\n",
    "애초에 낮은 것끼리 계산하는 것으로~"
   ],
   "metadata": {
    "collapsed": false,
    "pycharm": {
     "name": "#%% md\n"
    }
   }
  },
  {
   "cell_type": "code",
   "execution_count": 15,
   "outputs": [],
   "source": [
    "def solution():\n",
    "    N = int(input())\n",
    "    parent = [i for i in range(N)]\n",
    "    x, y, z = [], [], []\n",
    "    tunnel = []\n",
    "    result = 0\n",
    "\n",
    "    for i in range(N):\n",
    "        X, Y, Z = map(int, input().split())\n",
    "        x.append((X, i))\n",
    "        y.append((Y, i))\n",
    "        z.append((Z, i))\n",
    "\n",
    "    x.sort()\n",
    "    y.sort()\n",
    "    z.sort()\n",
    "\n",
    "    for i in range(N-1):\n",
    "        tunnel.append((x[i+1][0]-x[i][0], x[i+1][1], x[i][1]))\n",
    "        tunnel.append((y[i+1][0]-y[i][0], y[i+1][1], y[i][1]))\n",
    "        tunnel.append((z[i+1][0]-z[i][0], z[i+1][1], z[i][1]))\n",
    "\n",
    "    tunnel.sort()\n",
    "    for cost, a, b in tunnel:\n",
    "        if findParent(parent, a) != findParent(parent, b):\n",
    "            result += cost\n",
    "            unionParent(parent, a, b)\n",
    "\n",
    "    return result"
   ],
   "metadata": {
    "collapsed": false,
    "pycharm": {
     "name": "#%%\n"
    }
   }
  },
  {
   "cell_type": "code",
   "execution_count": 17,
   "outputs": [
    {
     "name": "stdout",
     "output_type": "stream",
     "text": [
      "4\n"
     ]
    }
   ],
   "source": [
    "print(solution())"
   ],
   "metadata": {
    "collapsed": false,
    "pycharm": {
     "name": "#%%\n"
    }
   }
  }
 ],
 "metadata": {
  "kernelspec": {
   "display_name": "Python 3",
   "language": "python",
   "name": "python3"
  },
  "language_info": {
   "codemirror_mode": {
    "name": "ipython",
    "version": 2
   },
   "file_extension": ".py",
   "mimetype": "text/x-python",
   "name": "python",
   "nbconvert_exporter": "python",
   "pygments_lexer": "ipython2",
   "version": "2.7.6"
  }
 },
 "nbformat": 4,
 "nbformat_minor": 0
}