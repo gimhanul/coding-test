{
 "cells": [
  {
   "cell_type": "markdown",
   "source": [
    "# 최단 결로 알고리즘\n",
    "\n",
    "가장 짧은 경로를 찾는 알고리즘.\n",
    "DP와 greedy 알고리즘의 한 유형으로 볼 수 있음."
   ],
   "metadata": {
    "collapsed": false,
    "pycharm": {
     "name": "#%% md\n"
    }
   }
  },
  {
   "cell_type": "markdown",
   "source": [
    "## 다익스트라 최단 경로 알고리즘\n",
    "\n",
    "Dijkstra... 신기하네\n",
    "\n",
    "그래프에 여러 개의 노드가 있을 때, 특정한 노드에서 출발하여 다른 노드로 가는 각각의 최단 경로를 구함.\n",
    "음의 간선이 없을 떄 정상적으로 동작함. greedy 알고리즘으로 분류함.\n",
    "\n",
    "<br>\n",
    "\n",
    "**과정**\n",
    "\n",
    "1. 출발 노드를 정함.\n",
    "2. 최단 거리 테이블을 초기화함.\n",
    "3. 방문하지 않은 노드 중 최단 거리가 가장 짧은 노드를 선택함.\n",
    "4. 해당 노드를 거쳐 다른 노드로 가는 비용을 계산하여 최단 거리 테이블을 갱신함.\n",
    "5. `3~4` 반복\n"
   ],
   "metadata": {
    "collapsed": false,
    "pycharm": {
     "name": "#%% md\n"
    }
   }
  },
  {
   "cell_type": "code",
   "execution_count": 1,
   "outputs": [],
   "source": [
    "import sys"
   ],
   "metadata": {
    "collapsed": false,
    "pycharm": {
     "name": "#%%\n"
    }
   }
  },
  {
   "cell_type": "code",
   "execution_count": 12,
   "outputs": [],
   "source": [
    "inputData = sys.stdin.readline() # input 더 빨리 됨.\n",
    "INF = int(1e9) # 무한을 의미하는 값, 10억\n",
    "\n",
    "n, m = map(int, input().split()) # 노드의 개수, 간선의 개수 입력\n",
    "start = int(input())\n",
    "graph = [[] for _ in range(n+1)]\n",
    "visited = [False] * (n+1)\n",
    "distance = [INF] * (n+1)\n",
    "\n",
    "for _ in range(m):\n",
    "    startNode, endNode, cost = map(int, input().split())\n",
    "    graph[startNode].append((endNode, cost))"
   ],
   "metadata": {
    "collapsed": false,
    "pycharm": {
     "name": "#%%\n"
    }
   }
  },
  {
   "cell_type": "markdown",
   "source": [
    "### 간단한 다익스트라 알고리즘\n",
    "\n",
    "알고리즘을 그대로 구현함. 시간복잡도는 $O(V^2)$ $(V: 노드의 개수)$를 가짐."
   ],
   "metadata": {
    "collapsed": false,
    "pycharm": {
     "name": "#%% md\n"
    }
   }
  },
  {
   "cell_type": "code",
   "execution_count": 1,
   "outputs": [],
   "source": [
    "def getSmallestNode():\n",
    "    minVal = INF\n",
    "    index = 0\n",
    "\n",
    "    for i in range(1, n+1):\n",
    "        if distance[i] < minVal and not visited[i]:\n",
    "            minVal = distance[i]\n",
    "            index = i\n",
    "\n",
    "    return index"
   ],
   "metadata": {
    "collapsed": false,
    "pycharm": {
     "name": "#%%\n"
    }
   }
  },
  {
   "cell_type": "code",
   "execution_count": 2,
   "outputs": [],
   "source": [
    "def dijkstra(start):\n",
    "    distance[start] = 0\n",
    "    visited[start] = True\n",
    "    for j in graph[start]:\n",
    "        distance[j[0]] = j[1]\n",
    "\n",
    "    for i in range(n-1):\n",
    "        # 현재 최단 거리가 가장 짧은 노드 방문 처리\n",
    "        now = getSmallestNode()\n",
    "        visited[now] = True\n",
    "\n",
    "        # 현재 노드와 연결된 다른 노드 확인\n",
    "        for j in graph[now]:\n",
    "            coost = distance[now] + j[1]\n",
    "\n",
    "            # 현재 노드를 거쳐서 다른 노드로 이동하는 거리가 더 짧은 경우\n",
    "            if coost < distance[j[0]]:\n",
    "                distance[j[0]] = coost"
   ],
   "metadata": {
    "collapsed": false,
    "pycharm": {
     "name": "#%%\n"
    }
   }
  },
  {
   "cell_type": "code",
   "execution_count": 17,
   "outputs": [
    {
     "name": "stdout",
     "output_type": "stream",
     "text": [
      "0\n",
      "2\n",
      "3\n",
      "1\n",
      "2\n",
      "4\n"
     ]
    }
   ],
   "source": [
    "dijkstra(start)\n",
    "\n",
    "for i in range(1, n+1):\n",
    "    print(distance[i]) if distance[i] != INF else print(\"INFINITY\")"
   ],
   "metadata": {
    "collapsed": false,
    "pycharm": {
     "name": "#%%\n"
    }
   }
  },
  {
   "cell_type": "markdown",
   "source": [
    "### 개선된 다익스트라 알고리즘\n",
    "\n",
    "시간복잡도 $O(ElogV)$ $(E: 간선의 개수, V: 노드의 개수)$를 보장하여 해결할 수 있음.\n",
    "\n",
    "최단 거리가 가장 짧은 노드를 선형적으로 찾는 것이 아니라 힙 자료구조를 사용함. (-> `getSmallestNode()` 함수 필요 X)\n",
    "즉, 현재 가장 가까운 노드를 저장하기 위한 목적으로만 우선순위 쿠를 추가로 이용함.\n",
    "\n",
    "> 힙(Heap): Priority Queue를 구현하기 위해 사용함.\n",
    ">> Max Heap: 값이 큰 데이터가 먼저 삭제됨. 부모가 제일 큰 완전 이진 트리.\n",
    ">> Min Heap: 값이 작은 데이터가 먼저 삭제됨. 부모가 가장 작은 완전 이진 트리."
   ],
   "metadata": {
    "collapsed": false,
    "pycharm": {
     "name": "#%% md\n"
    }
   }
  },
  {
   "cell_type": "code",
   "execution_count": 5,
   "outputs": [],
   "source": [
    "import heapq # heap 자료구조 사용"
   ],
   "metadata": {
    "collapsed": false,
    "pycharm": {
     "name": "#%%\n"
    }
   }
  },
  {
   "cell_type": "code",
   "execution_count": 16,
   "outputs": [],
   "source": [
    "distance = [INF] * (n+1)"
   ],
   "metadata": {
    "collapsed": false,
    "pycharm": {
     "name": "#%%\n"
    }
   }
  },
  {
   "cell_type": "code",
   "execution_count": 19,
   "outputs": [],
   "source": [
    "def betterDijkstra(start):\n",
    "    # priority queue에 시작 노드 삽입\n",
    "    q = []\n",
    "    heapq.heappush(q, (0, start))\n",
    "    distance[start] = 0\n",
    "\n",
    "    while q: # queue가 비어있지 않다면\n",
    "        dist, now = heapq.heappop(q) # 최단 거리가 짧은 노드에 대한 정보 꺼내기\n",
    "        if distance[now] < dist: continue # 이미 처리 됐다면 무시\n",
    "\n",
    "        # 현재 노드와 연결된 다른 노드 확인\n",
    "        for i in graph[now]:\n",
    "            coost = dist + i[1]\n",
    "\n",
    "            # 현재 노드를 거쳐서, 다른 노드로 이동하는 거리가 더 짧은 경우\n",
    "            if coost < distance[i[0]]:\n",
    "                distance[i[0]] = coost\n",
    "                heapq.heappush(q, (coost, i[0]))"
   ],
   "metadata": {
    "collapsed": false,
    "pycharm": {
     "name": "#%%\n"
    }
   }
  },
  {
   "cell_type": "code",
   "execution_count": 20,
   "outputs": [
    {
     "name": "stdout",
     "output_type": "stream",
     "text": [
      "0\n",
      "2\n",
      "3\n",
      "1\n",
      "2\n",
      "4\n"
     ]
    }
   ],
   "source": [
    "betterDijkstra(start)\n",
    "\n",
    "for i in range(1, n+1):\n",
    "    print(distance[i]) if distance[i] != INF else print(\"INFINITY\")"
   ],
   "metadata": {
    "collapsed": false,
    "pycharm": {
     "name": "#%%\n"
    }
   }
  },
  {
   "cell_type": "markdown",
   "source": [
    "## 플로이드 워셜 알고리즘\n",
    "\n",
    "Floyed-Warshall Algorithm\n",
    "\n",
    "모든 지점에서 다른 모든 지점까지의 최단 경로를 모두 구해야 하는 경우 사용함.\n",
    "DP로 구현함. 점화식을 다음과 같음.\n",
    "\n",
    "$$D_{ab} = min(D_{ab}, D_{ak}+D_{kb}) $$\n",
    "\n",
    "<br>\n",
    "\n",
    "**과정**\n",
    "\n",
    "1. 최단 거리를 가지는 노드를 하나씩 반복적으로 선택함.\n",
    "2. 해당 노드를 거쳐 가는 경로를 확인함.\n",
    "3. 최단 거리 테이블을 갱신함.\n",
    "\n",
    "<br>\n",
    "\n",
    "노드의 개수가 N개일 때, 알고리즘 상으로 N번의 단계를 수행하며, 각 단계마다 $O(N^2)$의 연산을 통해 현재노드를 거쳐가는 모든 경로를 고려함. 따라서 총 시간 복잡도는 $O(N^3)$임."
   ],
   "metadata": {
    "collapsed": false,
    "pycharm": {
     "name": "#%% md\n"
    }
   }
  },
  {
   "cell_type": "code",
   "execution_count": 1,
   "outputs": [],
   "source": [
    "INF = int(1e9)\n",
    "\n",
    "n = int(input())\n",
    "m = int(input())\n",
    "graph = [[INF] * (n+1) for _ in range(n+1)]\n",
    "\n",
    "for i in range(1, n+1):\n",
    "    for j in range(1, n+1):\n",
    "        if i == j: graph[i][j] = 0\n",
    "\n",
    "for _ in range(m):\n",
    "    startNode, endNode, cost = map(int, input().split())\n",
    "    graph[startNode][endNode] = cost"
   ],
   "metadata": {
    "collapsed": false,
    "pycharm": {
     "name": "#%%\n"
    }
   }
  },
  {
   "cell_type": "code",
   "execution_count": 2,
   "outputs": [],
   "source": [
    "for k in range(1, n+1):\n",
    "    for i in range(1, n+1):\n",
    "        for j in range(1, n+1):\n",
    "            graph[i][j] = min(graph[i][j], graph[i][k] + graph[k][j])"
   ],
   "metadata": {
    "collapsed": false,
    "pycharm": {
     "name": "#%%\n"
    }
   }
  },
  {
   "cell_type": "code",
   "execution_count": 3,
   "outputs": [
    {
     "name": "stdout",
     "output_type": "stream",
     "text": [
      "0 4 8 6 \n",
      "3 0 7 9 \n",
      "5 9 0 4 \n",
      "7 11 2 0 \n"
     ]
    }
   ],
   "source": [
    "for i in range(1, n+1):\n",
    "    for j in range(1, n+1):\n",
    "        print(graph[i][j], end=\" \") if graph[i][j] != INF else print(\"INFINITY\", end=\" \")\n",
    "    print()"
   ],
   "metadata": {
    "collapsed": false,
    "pycharm": {
     "name": "#%%\n"
    }
   }
  }
 ],
 "metadata": {
  "kernelspec": {
   "display_name": "Python 3",
   "language": "python",
   "name": "python3"
  },
  "language_info": {
   "codemirror_mode": {
    "name": "ipython",
    "version": 2
   },
   "file_extension": ".py",
   "mimetype": "text/x-python",
   "name": "python",
   "nbconvert_exporter": "python",
   "pygments_lexer": "ipython2",
   "version": "2.7.6"
  }
 },
 "nbformat": 4,
 "nbformat_minor": 0
}