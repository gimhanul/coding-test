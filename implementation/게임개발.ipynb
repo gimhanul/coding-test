{
 "cells": [
  {
   "cell_type": "markdown",
   "source": [
    "# 게임 개발\n",
    "\n",
    "현민이는 게임 캐릭터가 맵 안에서 움직이는 시스템을 개발 중이다. 캐릭터가 있는 장소는 1 * 1 크기의 정사각형으로 이뤄진 N * M 크기의 직사각형으로, 각각의 칸은 육지 또는 바다이다. 캐릭터는 동서남북 중 한 곳을 바라본다.\n",
    "맵의 각 칸은 (A, B)로 나타낼 수 있고, A는 북쪽으로부터 떨어진 칸의 개수, B는 서쪽으로부터 떨어진 칸의 개수이다. 캐릭터는 상하좌우로 움직일 수 있고, 바다로 되어 있는 공간에는 갈 수 없다. 캐릭터가 움직임을 설정하기 위해 정해 놓은 메뉴얼은 이러하다.\n",
    "\n",
    "1. 현재 위치에서 현재 방향을 기준으로 왼쪽 방향(반시계 방향으로 90도 회전한 방향)부터 차례대로 갈 곳을 정한다.\n",
    "2. 캐릭터의 바로 왼쪽 방향에 아직 가보지 않은 칸이 존재한다면, 왼쪽 방향으로 회전한 다음 왼쪽으로 한 칸을 전진한다. 왼쪽 방향에 가보지 않은 칸이 없다면, 왼쪽 방향으로 회전만 수행하고 1단계로 돌아간다.\n",
    "3. 만약 네 방향 모두 이미 가본 칸이거나 바다로 되어있는 경우에는, 바라보는 방향을 유지한 채로 한 칸 뒤로 가고 1단계로 돌아간다. 단, 이때 뒤쪽 방향이 바다인 칸이라 뒤로 갈 수 없는 경우에는 움직임을 멈춘다.\n",
    "\n",
    "현민이는 위 과정을 반복적으로 수행하면서 캐릭터의 움직임에 이상이 있는지 테스트하려고 한다.\n",
    "메뉴얼에 따라 캐릭터를 이동시킨 뒤에, 캐릭터가 방문한 칸의 수를 출력하는 프로그램을 만드시오.\n",
    "\n",
    "<br>\n",
    "\n",
    "**입력 조건**\n",
    "\n",
    "- 첫째 줄에는 맵의 세로 크기 N과 가로 크기 M을 공백으로 구분하여 입력한다. (3 <= N, M <= 50)\n",
    "- 둘째 줄에 게임 캐릭터가 있는 칸의 좌표 (A, B)와 바라보는 방향 d가 각각 서로 공백으로 구분하여 주어진다. 방향 d의 값으로는 다음과 같이 4가지가 존재한다.\n",
    "    - 0: 북쪽\n",
    "    - 1: 동쪽\n",
    "    - 2: 남쪽\n",
    "    - 3: 서쪽\n",
    "- 셋째 줄부터 맵이 육지인지 바다인지에 대한 정보가 주어진다. N개의 줄에 맵의 상태가 북쪽에서 남쪽 순서대로, 각 줄의 데이터는 서쪽에서 동쪽 순서대로 주어진다. 맵의 외각은 항상 바다로 되어있다.\n",
    "    - 0: 육지\n",
    "    - 1: 바다\n",
    "- 처음에 캐릭터가 위치한 칸의 상태는 항상 육지이다.\n",
    "\n",
    "**출력 조건**\n",
    "\n",
    "- 첫째 줄에 이동을 마친 후 캐릭터가 방문한 칸의 수를 출력한다.\n",
    "\n",
    "<br>\n",
    "\n",
    "|입력|출력|\n",
    "|---|---|\n",
    "|4 4<br>1 1 0<br>1 1 1 1<br>1 0 0 1<br>1 1 0 1<br>1 1 1 1|3|"
   ],
   "metadata": {
    "collapsed": false,
    "pycharm": {
     "name": "#%% md\n"
    }
   }
  },
  {
   "cell_type": "code",
   "execution_count": 1,
   "outputs": [
    {
     "name": "stdout",
     "output_type": "stream",
     "text": [
      "3\n"
     ]
    }
   ],
   "source": [
    "N, M = map(int, input().split())\n",
    "A, B, d = map(int, input().split())\n",
    "gameMap = [list(map(int, input().split())) for _ in range(N)]\n",
    "visited = [[False] * M for _ in range(N)]\n",
    "go = [(-1, 0), (0, 1), (1, 0), (0, -1)]\n",
    "goBack = [(1, 0), (0, -1), (-1, 0), (0, 1)]\n",
    "\n",
    "# 왼쪽으로 회전하는 함수\n",
    "def left():\n",
    "    global d\n",
    "    d -= 1\n",
    "    if d == -1: d = 3\n",
    "\n",
    "# 네 방향 중 한 방향으로라도 갈 수 있는지 검증하는 함수\n",
    "def canIGo():\n",
    "    global A, B, N, M, d, go, visited\n",
    "\n",
    "    for i in range(4):\n",
    "        x = A + go[i][0]\n",
    "        y = B + go[i][1]\n",
    "        if gameMap[x][y] == 0 and 0 <= x < N and 0 <= y < M and (not visited[x][y]): return True\n",
    "\n",
    "    return False\n",
    "\n",
    "# 뒤로 갈 수 있는지 검증하는 함수\n",
    "def backStep():\n",
    "    global A, B, N, M, goBack\n",
    "\n",
    "    A += goBack[d][0]\n",
    "    B += goBack[d][1]\n",
    "\n",
    "    return gameMap[A][B] == 0 and 0 <= A < N and 0 <= B < M\n",
    "\n",
    "# 앞으로 갈 수 있는지 검증하는 함수\n",
    "def step():\n",
    "    global A, B, N, M, d, go, visited\n",
    "\n",
    "    x = A + go[d][0]\n",
    "    y = B + go[d][1]\n",
    "    return gameMap[x][y] == 0 and 0 <= x < N and 0 <= y < M and (not visited[x][y])\n",
    "\n",
    "# main\n",
    "while(1):\n",
    "    visited[A][B] = True\n",
    "    if canIGo():\n",
    "        while(1):\n",
    "            left()\n",
    "            if step():\n",
    "                A += go[d][0]\n",
    "                B += go[d][1]\n",
    "                break\n",
    "    else:\n",
    "        if not backStep(): break\n",
    "\n",
    "# 방문한 적 있는 거 세기\n",
    "result = 0\n",
    "for i in range(N):\n",
    "    result += visited[i].count(True)\n",
    "\n",
    "print(result)"
   ],
   "metadata": {
    "collapsed": false,
    "pycharm": {
     "name": "#%%\n"
    }
   }
  }
 ],
 "metadata": {
  "kernelspec": {
   "display_name": "Python 3",
   "language": "python",
   "name": "python3"
  },
  "language_info": {
   "codemirror_mode": {
    "name": "ipython",
    "version": 2
   },
   "file_extension": ".py",
   "mimetype": "text/x-python",
   "name": "python",
   "nbconvert_exporter": "python",
   "pygments_lexer": "ipython2",
   "version": "2.7.6"
  }
 },
 "nbformat": 4,
 "nbformat_minor": 0
}