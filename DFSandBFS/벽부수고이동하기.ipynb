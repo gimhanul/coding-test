{
 "cells": [
  {
   "cell_type": "markdown",
   "source": [
    "# 벽 부수고 이동하기\n",
    "\n",
    "[here](https://www.acmicpc.net/problem/2206)"
   ],
   "metadata": {
    "collapsed": false,
    "pycharm": {
     "name": "#%% md\n"
    }
   }
  },
  {
   "cell_type": "code",
   "execution_count": null,
   "metadata": {
    "collapsed": true,
    "pycharm": {
     "name": "#%%\n"
    }
   },
   "outputs": [],
   "source": [
    "from collections import deque\n",
    "\n",
    "INF = int(1e9)\n",
    "go = [(0, 1), (1, 0), (-1, 0), (0, -1)]\n",
    "N, M = map(int, input().split())\n",
    "place = [[] for _ in range(N)]\n",
    "\n",
    "for i in range(N):\n",
    "    place[i] = list(map(int, input()))\n",
    "\n",
    "\n",
    "def getShortestDistance():\n",
    "    p = [[0] * M for _ in range(N)]\n",
    "    p[0][0] = 1\n",
    "    q = deque([(0, 0)])\n",
    "\n",
    "    while q:\n",
    "        nx, ny = q.popleft()\n",
    "\n",
    "        for gx, gy in go:\n",
    "            tx, ty = nx+gx, ny+gy\n",
    "            if 0 <= tx < N and 0 <= ty < M and p[tx][ty] == 0 and place[tx][ty] == 0:\n",
    "                p[tx][ty] = p[nx][ny] + 1\n",
    "                q.append((tx, ty))\n",
    "\n",
    "    if p[N-1][M-1] == 0: return INF\n",
    "    return p[N-1][M-1]\n",
    "\n",
    "\n",
    "def bombWall():\n",
    "    global minDistance\n",
    "\n",
    "    for i in range(N):\n",
    "        for j in range(M):\n",
    "            if place[i][j] == 1:\n",
    "                place[i][j] = 0\n",
    "                minDistance = min(minDistance, getShortestDistance())\n",
    "                place[i][j] = 1\n",
    "\n",
    "\n",
    "minDistance = getShortestDistance()\n",
    "bombWall()\n",
    "print(minDistance if minDistance != INF else -1)"
   ]
  },
  {
   "cell_type": "markdown",
   "source": [
    "음!! 너무... 그거네요\n",
    "그ㅓ 시간초과나여\n",
    "...\n",
    "그래서답지찾아봄"
   ],
   "metadata": {
    "collapsed": false,
    "pycharm": {
     "name": "#%% md\n"
    }
   }
  },
  {
   "cell_type": "code",
   "execution_count": null,
   "outputs": [],
   "source": [
    "from collections import deque\n",
    "\n",
    "INF = int(1e9)\n",
    "go = [(0, 1), (1, 0), (-1, 0), (0, -1)]\n",
    "N, M = map(int, input().split())\n",
    "place = [[] for _ in range(N)]\n",
    "\n",
    "for i in range(N):\n",
    "    place[i] = list(map(int, input()))\n",
    "\n",
    "\n",
    "def getShortestDistance():\n",
    "    p = [[[0] * 2 for _ in range(M)] for _ in range(N)]\n",
    "    p[0][0][0] = 1\n",
    "    q = deque([(0, 0, 0)])\n",
    "\n",
    "    while q:\n",
    "        nx, ny, w = q.popleft()\n",
    "        if nx == N-1 and ny == M-1: return p[N-1][M-1][w]\n",
    "\n",
    "        for gx, gy in go:\n",
    "            tx, ty = nx+gx, ny+gy\n",
    "            if 0 <= tx < N and 0 <= ty < M:\n",
    "                # 현재 위치로 이동할 수 있고, 아직 방문하지 않았다면\n",
    "                if place[tx][ty] == 0 and p[tx][ty][w] == 0:\n",
    "                    p[tx][ty][w] = p[nx][ny][w] + 1\n",
    "                    q.append((tx, ty, w))\n",
    "\n",
    "                # 현재 위치가 벽이고, 벽을 아직 부수지 않았다면\n",
    "                elif place[tx][ty] == 1 and w == 0:\n",
    "                    p[tx][ty][1] = p[nx][ny][w] + 1\n",
    "                    q.append((tx, ty, 1))\n",
    "\n",
    "    return INF\n",
    "\n",
    "\n",
    "minDistance = getShortestDistance()\n",
    "print(minDistance if minDistance != INF else -1)"
   ],
   "metadata": {
    "collapsed": false,
    "pycharm": {
     "name": "#%%\n"
    }
   }
  }
 ],
 "metadata": {
  "kernelspec": {
   "display_name": "Python 3",
   "language": "python",
   "name": "python3"
  },
  "language_info": {
   "codemirror_mode": {
    "name": "ipython",
    "version": 2
   },
   "file_extension": ".py",
   "mimetype": "text/x-python",
   "name": "python",
   "nbconvert_exporter": "python",
   "pygments_lexer": "ipython2",
   "version": "2.7.6"
  }
 },
 "nbformat": 4,
 "nbformat_minor": 0
}