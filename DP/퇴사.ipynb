{
 "cells": [
  {
   "cell_type": "markdown",
   "source": [
    "# 퇴사\n",
    "\n",
    "[here](https://www.acmicpc.net/problem/14501)"
   ],
   "metadata": {
    "collapsed": false,
    "pycharm": {
     "name": "#%% md\n"
    }
   }
  },
  {
   "cell_type": "code",
   "execution_count": 30,
   "outputs": [],
   "source": [
    "N = int(input())\n",
    "T, P = [], []\n",
    "for _ in range(N):\n",
    "    tt, tp = map(int, input().split())\n",
    "    T.append(tt)\n",
    "    P.append(tp)"
   ],
   "metadata": {
    "collapsed": false,
    "pycharm": {
     "name": "#%%\n"
    }
   }
  },
  {
   "cell_type": "code",
   "execution_count": 31,
   "outputs": [],
   "source": [
    "dp = [0] * (N + 1)\n",
    "for i in range(N-1, -1, -1):\n",
    "    if T[i] + i <= N: dp[i] = max(dp[i+1], dp[i + T[i]] + P[i])\n",
    "    else: dp[i] = dp[i+1]"
   ],
   "metadata": {
    "collapsed": false,
    "pycharm": {
     "name": "#%%\n"
    }
   }
  },
  {
   "cell_type": "code",
   "execution_count": 32,
   "outputs": [
    {
     "name": "stdout",
     "output_type": "stream",
     "text": [
      "90\n"
     ]
    }
   ],
   "source": [
    "print(dp[0])"
   ],
   "metadata": {
    "collapsed": false,
    "pycharm": {
     "name": "#%%\n"
    }
   }
  }
 ],
 "metadata": {
  "kernelspec": {
   "display_name": "Python 3",
   "language": "python",
   "name": "python3"
  },
  "language_info": {
   "codemirror_mode": {
    "name": "ipython",
    "version": 2
   },
   "file_extension": ".py",
   "mimetype": "text/x-python",
   "name": "python",
   "nbconvert_exporter": "python",
   "pygments_lexer": "ipython2",
   "version": "2.7.6"
  }
 },
 "nbformat": 4,
 "nbformat_minor": 0
}