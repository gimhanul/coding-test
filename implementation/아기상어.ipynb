{
 "cells": [
  {
   "cell_type": "markdown",
   "source": [
    "# 아기 상어\n",
    "\n",
    "[here](https://www.acmicpc.net/problem/16236)"
   ],
   "metadata": {
    "collapsed": false,
    "pycharm": {
     "name": "#%% md\n"
    }
   }
  },
  {
   "cell_type": "code",
   "execution_count": null,
   "outputs": [],
   "source": [
    "import sys\n",
    "from collections import deque"
   ],
   "metadata": {
    "collapsed": false,
    "pycharm": {
     "name": "#%%\n"
    }
   }
  },
  {
   "cell_type": "code",
   "execution_count": null,
   "outputs": [],
   "source": [
    "N = int(sys.stdin.readline())\n",
    "sea = [list(map(int, sys.stdin.readline().split())) for _ in range(N)]\n",
    "bsX, bsY, babySharkSize = 0, 0, 2\n",
    "go = [(0, 1), (0, -1), (1, 0), (-1, 0)]\n",
    "INF = int(1e9)\n",
    "t, eat = 0, 0\n",
    "\n",
    "for i in range(N):\n",
    "    for j in range(N):\n",
    "        if sea[i][j] == 9:\n",
    "            bsX, bsY = i, j\n",
    "            sea[i][j] = 0"
   ],
   "metadata": {
    "collapsed": false,
    "pycharm": {
     "name": "#%%\n"
    }
   }
  },
  {
   "cell_type": "code",
   "execution_count": null,
   "outputs": [],
   "source": [
    "while True:\n",
    "    value = eatFish(bfs())\n",
    "\n",
    "    if value is None:\n",
    "        print(t)\n",
    "        break\n",
    "\n",
    "    else:\n",
    "        bsX, bsY, tdist = value\n",
    "        t += tdist\n",
    "\n",
    "        sea[bsX][bsY] = 0\n",
    "        eat += 1\n",
    "\n",
    "        if eat >= babySharkSize:\n",
    "            babySharkSize += 1\n",
    "            eat = 0"
   ],
   "metadata": {
    "collapsed": false,
    "pycharm": {
     "name": "#%%\n"
    }
   }
  },
  {
   "cell_type": "code",
   "execution_count": null,
   "metadata": {
    "collapsed": true,
    "pycharm": {
     "name": "#%%\n"
    }
   },
   "outputs": [],
   "source": [
    "def bfs():\n",
    "    dist = [[-1] * N for _ in range(N)]\n",
    "    q = deque([(bsX, bsY)])\n",
    "    dist[bsX][bsY] = 0\n",
    "\n",
    "    while q:\n",
    "        nx, ny = q.popleft()\n",
    "        for gx, gy in go:\n",
    "            tx, ty = nx + gx, ny + gy\n",
    "            if 0 <= tx < N and 0 <= ty < N and dist[tx][ty] == -1 and sea[tx][ty] <= babySharkSize:\n",
    "                dist[tx][ty] = dist[nx][ny] + 1\n",
    "                q.append((tx, ty))\n",
    "\n",
    "    return dist"
   ]
  },
  {
   "cell_type": "code",
   "execution_count": null,
   "outputs": [],
   "source": [
    "def eatFish(dist):\n",
    "    x, y = 0, 0\n",
    "    minDist = INF\n",
    "\n",
    "    for i in range(N):\n",
    "        for j in range(N):\n",
    "            if dist[i][j] != -1 and 1 <= sea[i][j] < babySharkSize and dist[i][j] < minDist:\n",
    "                x, y = i, j\n",
    "                minDist = dist[i][j]\n",
    "\n",
    "    if minDist == INF: return None\n",
    "    else: return x, y, minDist"
   ],
   "metadata": {
    "collapsed": false,
    "pycharm": {
     "name": "#%%\n"
    }
   }
  }
 ],
 "metadata": {
  "kernelspec": {
   "display_name": "Python 3",
   "language": "python",
   "name": "python3"
  },
  "language_info": {
   "codemirror_mode": {
    "name": "ipython",
    "version": 2
   },
   "file_extension": ".py",
   "mimetype": "text/x-python",
   "name": "python",
   "nbconvert_exporter": "python",
   "pygments_lexer": "ipython2",
   "version": "2.7.6"
  }
 },
 "nbformat": 4,
 "nbformat_minor": 0
}