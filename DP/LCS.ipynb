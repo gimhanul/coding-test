{
 "cells": [
  {
   "cell_type": "markdown",
   "source": [
    "# LCS\n",
    "\n",
    "[here](https://www.acmicpc.net/problem/9251)"
   ],
   "metadata": {
    "collapsed": false,
    "pycharm": {
     "name": "#%% md\n"
    }
   }
  },
  {
   "cell_type": "code",
   "execution_count": null,
   "metadata": {
    "collapsed": true,
    "pycharm": {
     "name": "#%%\n"
    }
   },
   "outputs": [],
   "source": [
    "import sys\n",
    "\n",
    "s1 = sys.stdin.readline().rstrip()\n",
    "s2 = sys.stdin.readline().rstrip()\n",
    "LCS = [[0] * (len(s1)+1) for _ in range(len(s2)+1)]\n",
    "\n",
    "for i in range(1, len(s2)+1):\n",
    "    for j in range(1, len(s1)+1):\n",
    "        if s2[i-1] == s1[j-1]:\n",
    "            LCS[i][j] = LCS[i-1][j-1] + 1\n",
    "        else:\n",
    "            LCS[i][j] = max(LCS[i][j-1], LCS[i-1][j])\n",
    "\n",
    "print(LCS[-1][-1])"
   ]
  }
 ],
 "metadata": {
  "kernelspec": {
   "display_name": "Python 3",
   "language": "python",
   "name": "python3"
  },
  "language_info": {
   "codemirror_mode": {
    "name": "ipython",
    "version": 2
   },
   "file_extension": ".py",
   "mimetype": "text/x-python",
   "name": "python",
   "nbconvert_exporter": "python",
   "pygments_lexer": "ipython2",
   "version": "2.7.6"
  }
 },
 "nbformat": 4,
 "nbformat_minor": 0
}