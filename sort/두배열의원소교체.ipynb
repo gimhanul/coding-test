{
 "cells": [
  {
   "cell_type": "markdown",
   "source": [
    "# 두 배열의 원소 교체\n",
    "\n",
    "동빈이는 두 개의 배열 A와 B를 가지고 있다. 두 배열은 N개의 원소로 구성되어 있으며, 배열의 원소는 모두 자연수이다. 동빈이는 최대 K번의 바꿔치기 연산을 수행할 수 있는데, 바꿔치기 연산이란 배열 A에 있는 원소 하나와 배열 B에 있는 원소 하나를 골라서 두 원소를 서로 바꾸는 것을 말한다. 동빈이의 최종 목표는 배열 A의 모든 원소의 합이 최대가 되도록 하는 것이며, 여러분은 동빈이를 도와야 한다.\n",
    "\n",
    "N, K, 그리고 배열 A와 B의 정보가 주어졌을 때 최대 K번의 바꿔치기 연산을 수행하여 만들 수 있는 배열 A의 모든 원소의 합의 최댓값을 출력하는 프로그램을 작성하시오.\n",
    "\n",
    "<br>\n",
    "\n",
    "**입력 조건**\n",
    "\n",
    "- 첫 번째 줄에 N, K가 공백으로 구분되어 입력된다. (1 <= N <= 100000, 0 <= K <= N)\n",
    "- 두 번째 줄에 배열  A의 원소들이 공백으로 구분되어 입력된다. 모든 원소는 10000000보다 작은 자연수이다.\n",
    "- 세 번째 줄에 배열 B의 원소들이 공백으로 구분되어 입력된다. 모든 원소는 10000000보다 작은 자연수이다.\n",
    "\n",
    "<br>\n",
    "\n",
    "**출력 조건**\n",
    "\n",
    "- 최대 K번의 바꿔치기 연산을 수행하여 만들 수 있는 배열 A의 모든 원소의 합의 최댓값을 출력한다.\n",
    "\n",
    "<br>\n",
    "\n",
    "|입력|출력|\n",
    "|---|---|\n",
    "|5 3<br>1 2 5 4 3<br>5 5 6 6 5<br>|26|"
   ],
   "metadata": {
    "collapsed": false,
    "pycharm": {
     "name": "#%% md\n"
    }
   }
  },
  {
   "cell_type": "code",
   "execution_count": 5,
   "outputs": [
    {
     "name": "stdout",
     "output_type": "stream",
     "text": [
      "26\n"
     ]
    }
   ],
   "source": [
    "N, K = map(int, input().split())\n",
    "A = list(map(int, input().split()))\n",
    "B = list(map(int, input().split()))\n",
    "\n",
    "A.sort()\n",
    "B.sort(reverse=True)\n",
    "\n",
    "for i in range(K):\n",
    "    if A[i] < B[i]: A[i], B[i] = B[i], A[i]\n",
    "    else: break\n",
    "\n",
    "print(sum(A))"
   ],
   "metadata": {
    "collapsed": false,
    "pycharm": {
     "name": "#%%\n"
    }
   }
  }
 ],
 "metadata": {
  "kernelspec": {
   "display_name": "Python 3",
   "language": "python",
   "name": "python3"
  },
  "language_info": {
   "codemirror_mode": {
    "name": "ipython",
    "version": 2
   },
   "file_extension": ".py",
   "mimetype": "text/x-python",
   "name": "python",
   "nbconvert_exporter": "python",
   "pygments_lexer": "ipython2",
   "version": "2.7.6"
  }
 },
 "nbformat": 4,
 "nbformat_minor": 0
}