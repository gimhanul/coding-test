{
 "cells": [
  {
   "cell_type": "markdown",
   "source": [
    "# 미로 탈출\n",
    "\n",
    "동빈이는 N * M 크기의 직사각형 형태의 미로에 갇혀 있다. 미로에는 여러 마리의 괴물이 있어 이를 피해 탈출해야 한다. 동빈이의 위치는 (1, 1)이고 미로의 출구는 (N, M)의 위치에 존재하며 한 번에 한 칸씩 이동할 수 있다. 이때 괴물이 있는 부분은 0으로, 괴물이 없는 부분은 1로 표시되어 있다. 미로는 반드시 탈출할 수 있는 형태로 제시된다. 이때 동빈이가 탈출하기 위해 움직여야 하는 최소 칸의 개수를 구하시오. 칸을 셀 때는 시작 칸과 마지막 칸을 모두 포함해서 계산한다.\n",
    "\n",
    "<br>\n",
    "\n",
    "**입력 조건**\n",
    "\n",
    "- 첫째 줄에 두 정수 N, M(4 <= N, M <= 200)이 주어진다.\n",
    "- 다음 N 개의 줄제는 각각 M 개의 정수(0 혹은 1)로 미로의 정보가 주어진다.\n",
    "- 각각의 수들은 공백 없이 붙어서 입력으로 제시된다.\n",
    "\n",
    "<br>\n",
    "\n",
    "**출력 조건**\n",
    "\n",
    "- 첫째 줄에 최소 이동 칸의 개수를 출력한다.\n",
    "\n",
    "<br>\n",
    "\n",
    "| 입력                                                    |출력|\n",
    "|-------------------------------------------------------|---|\n",
    "| 5 6<br>101010<br>111111<br>000001<br>111111<br>111111 |10|"
   ],
   "metadata": {
    "collapsed": false,
    "pycharm": {
     "name": "#%% md\n"
    }
   }
  },
  {
   "cell_type": "code",
   "execution_count": 14,
   "outputs": [
    {
     "name": "stdout",
     "output_type": "stream",
     "text": [
      "10\n"
     ]
    }
   ],
   "source": [
    "from collections import deque\n",
    "\n",
    "N, M = map(int, input().split()) # N 세로, M 가로\n",
    "miro = [list(map(int, input())) for _ in range(N)]\n",
    "visited = [[False] * M for _ in range(N)]\n",
    "\n",
    "def bfs(x, y):\n",
    "    global visited, miro, N, M\n",
    "    go = [(0, 1), (0, -1), (-1, 0), (1, 0)]\n",
    "\n",
    "    queue = deque([(x, y)])\n",
    "    visited[y][x] = True\n",
    "\n",
    "    while queue:\n",
    "        nx, ny = queue.popleft()\n",
    "        for g in go:\n",
    "            tx = nx + g[0]\n",
    "            ty = ny + g[1]\n",
    "            if 0 <= tx < M and 0 <= ty < N and miro[ty][tx] == 1 and not visited[ty][tx]:\n",
    "                queue.append((tx, ty))\n",
    "                miro[ty][tx] = miro[ny][nx] + 1\n",
    "                visited[ty][tx] = True\n",
    "\n",
    "    print(miro[N-1][M-1])\n",
    "\n",
    "bfs(0, 0)"
   ],
   "metadata": {
    "collapsed": false,
    "pycharm": {
     "name": "#%%\n"
    }
   }
  }
 ],
 "metadata": {
  "kernelspec": {
   "display_name": "Python 3",
   "language": "python",
   "name": "python3"
  },
  "language_info": {
   "codemirror_mode": {
    "name": "ipython",
    "version": 2
   },
   "file_extension": ".py",
   "mimetype": "text/x-python",
   "name": "python",
   "nbconvert_exporter": "python",
   "pygments_lexer": "ipython2",
   "version": "2.7.6"
  }
 },
 "nbformat": 4,
 "nbformat_minor": 0
}