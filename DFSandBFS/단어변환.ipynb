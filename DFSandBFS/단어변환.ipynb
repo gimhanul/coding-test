{
 "cells": [
  {
   "cell_type": "markdown",
   "source": [
    "# 단어 변환\n",
    "\n",
    "[here](https://school.programmers.co.kr/learn/courses/30/lessons/43163?language=python3)"
   ],
   "metadata": {
    "collapsed": false,
    "pycharm": {
     "name": "#%% md\n"
    }
   }
  },
  {
   "cell_type": "code",
   "execution_count": 13,
   "outputs": [],
   "source": [
    "alphabets = [chr(c) for c in range(ord('a'), ord('z') + 1)]\n",
    "answer = int(1e9)"
   ],
   "metadata": {
    "collapsed": false,
    "pycharm": {
     "name": "#%%\n"
    }
   }
  },
  {
   "cell_type": "code",
   "execution_count": 70,
   "metadata": {
    "collapsed": true,
    "pycharm": {
     "name": "#%%\n"
    }
   },
   "outputs": [],
   "source": [
    "def solution(begin, target, words):\n",
    "    global answer\n",
    "\n",
    "    answer = int(1e9)\n",
    "    dfs(begin, 0, target, words, [False] * len(words))\n",
    "    return answer if answer < int(1e9) else 0"
   ]
  },
  {
   "cell_type": "code",
   "execution_count": 73,
   "outputs": [],
   "source": [
    "def dfs(word: str, depth, target, words, visited):\n",
    "    global answer\n",
    "\n",
    "    if answer <= depth:\n",
    "        return\n",
    "\n",
    "    if word == target:\n",
    "        answer = min(answer, depth)\n",
    "        return\n",
    "\n",
    "    listed_word = list(word)\n",
    "    for a in alphabets:\n",
    "        for i in range(len(word)):\n",
    "            temp = listed_word[i]\n",
    "            if a != listed_word[i]:\n",
    "                listed_word[i] = a\n",
    "\n",
    "                w = ''.join(listed_word)\n",
    "                if w in words:\n",
    "                    index = words.index(w)\n",
    "                    if not visited[index]:\n",
    "                        visited[index] = True\n",
    "                        dfs(w, depth + 1, target, words, visited)\n",
    "                        visited[index] = False\n",
    "\n",
    "                listed_word[i] = temp"
   ],
   "metadata": {
    "collapsed": false,
    "pycharm": {
     "name": "#%%\n"
    }
   }
  },
  {
   "cell_type": "code",
   "execution_count": 74,
   "outputs": [
    {
     "name": "stdout",
     "output_type": "stream",
     "text": [
      "4\n"
     ]
    }
   ],
   "source": [
    "print(solution(\"hit\", \"cog\", [\"hot\", \"dot\", \"dog\", \"lot\", \"log\", \"cog\"]))\n",
    "\n",
    "# must be 4"
   ],
   "metadata": {
    "collapsed": false,
    "pycharm": {
     "name": "#%%\n"
    }
   }
  },
  {
   "cell_type": "code",
   "execution_count": 75,
   "outputs": [
    {
     "name": "stdout",
     "output_type": "stream",
     "text": [
      "0\n"
     ]
    }
   ],
   "source": [
    "print(solution(\"hit\", \"cog\", [\"hot\", \"dot\", \"dog\", \"lot\", \"log\"]))\n",
    "\n",
    "# must be 0"
   ],
   "metadata": {
    "collapsed": false,
    "pycharm": {
     "name": "#%%\n"
    }
   }
  },
  {
   "cell_type": "code",
   "execution_count": null,
   "outputs": [],
   "source": [],
   "metadata": {
    "collapsed": false,
    "pycharm": {
     "name": "#%%\n"
    }
   }
  }
 ],
 "metadata": {
  "kernelspec": {
   "display_name": "Python 3",
   "language": "python",
   "name": "python3"
  },
  "language_info": {
   "codemirror_mode": {
    "name": "ipython",
    "version": 2
   },
   "file_extension": ".py",
   "mimetype": "text/x-python",
   "name": "python",
   "nbconvert_exporter": "python",
   "pygments_lexer": "ipython2",
   "version": "2.7.6"
  }
 },
 "nbformat": 4,
 "nbformat_minor": 0
}