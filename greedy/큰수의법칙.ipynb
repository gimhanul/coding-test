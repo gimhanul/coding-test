{
 "cells": [
  {
   "cell_type": "markdown",
   "metadata": {
    "pycharm": {
     "name": "#%% md\n"
    }
   },
   "source": [
    "# 큰 수의 법칙\n",
    "\n",
    "동빈이의 큰 수의 법칙은 다양한 수로 이루어진 배열이 있을 때 주어진 수들을 M번 더하여 가장 큰 수를 만드는 법칙이다.\n",
    "단, 배열의 특정한 인덱스(번호)에 해당하는 수가 연속해서 K 번을 초과하여 더해질 수 없는 것이 이 법칙의 특징이다.\n",
    "배열의 크기 N, 숫자가 더해지는 횟수 M, 그리고 K가 주어질 때 동빈이의 큰 수의 법칙에 따른 결과를 출력하시오.\n"
   ]
  },
  {
   "cell_type": "markdown",
   "metadata": {
    "pycharm": {
     "name": "#%% md\n"
    }
   },
   "source": [
    "**입력**\n",
    "```\n",
    "5 8 3\n",
    "2 4 5 4 6\n",
    "```\n",
    "\n",
    "<br>\n",
    "\n",
    "**출력**\n",
    "```\n",
    "46\n",
    "```"
   ]
  },
  {
   "cell_type": "code",
   "execution_count": 1,
   "metadata": {
    "pycharm": {
     "name": "#%%\n"
    }
   },
   "outputs": [
    {
     "name": "stdout",
     "output_type": "stream",
     "text": [
      "46\n"
     ]
    }
   ],
   "source": [
    "# 배열의 크기 N, 숫자가 더해지는 횟수 M, 연속해서 더할 수 있는 최대값 K\n",
    "N, M, K = map(int, input().split())\n",
    "numList = list(map(int, input().split()))\n",
    "numList.sort(reverse=True) # 큰 순서로 정렬\n",
    "\n",
    "i = 1\n",
    "sum = numList[0] # sum 에 가장 큰 수 넣고 시작\n",
    "\n",
    "# M-1 번 돌면서 K 번째일 때는 두 번째로 큰 수, 그 외에는 가장 큰수를 sum 에 더함\n",
    "while i < M:\n",
    "    if i % K == 0:\n",
    "        sum += numList[1]\n",
    "    else:\n",
    "        sum += numList[0]\n",
    "    i += 1\n",
    "\n",
    "print(sum)"
   ]
  }
 ],
 "metadata": {
  "kernelspec": {
   "display_name": "Python 3 (ipykernel)",
   "language": "python",
   "name": "python3"
  },
  "language_info": {
   "codemirror_mode": {
    "name": "ipython",
    "version": 3
   },
   "file_extension": ".py",
   "mimetype": "text/x-python",
   "name": "python",
   "nbconvert_exporter": "python",
   "pygments_lexer": "ipython3",
   "version": "3.9.12"
  }
 },
 "nbformat": 4,
 "nbformat_minor": 1
}