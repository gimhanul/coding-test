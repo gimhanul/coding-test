{
 "cells": [
  {
   "cell_type": "markdown",
   "source": [
    "# 평범한 배낭\n",
    "\n",
    "[here](https://www.acmicpc.net/problem/12865)"
   ],
   "metadata": {
    "collapsed": false,
    "pycharm": {
     "name": "#%% md\n"
    }
   }
  },
  {
   "cell_type": "code",
   "execution_count": null,
   "metadata": {
    "collapsed": true,
    "pycharm": {
     "name": "#%%\n"
    }
   },
   "outputs": [],
   "source": [
    "import sys\n",
    "\n",
    "read = sys.stdin.readline\n",
    "\n",
    "N, K = map(int, read().split())\n",
    "dp = [[0] * (K+1) for _ in range(N+1)]\n",
    "bags = []\n",
    "\n",
    "for _ in range(N):\n",
    "    W, V = map(int, read().split())\n",
    "    bags.append((W, V))\n",
    "\n",
    "for i in range(1, N+1):\n",
    "    bw, bv = bags[i-1]\n",
    "    for j in range(1, K+1):\n",
    "        if bw > j: dp[i][j] = dp[i-1][j]\n",
    "        else: dp[i][j] = max(dp[i-1][j], dp[i-1][j-bw]+bv)\\\n",
    "\n",
    "print(dp[N][K])"
   ]
  },
  {
   "cell_type": "markdown",
   "source": [],
   "metadata": {
    "collapsed": false,
    "pycharm": {
     "name": "#%% md\n"
    }
   }
  }
 ],
 "metadata": {
  "kernelspec": {
   "display_name": "Python 3",
   "language": "python",
   "name": "python3"
  },
  "language_info": {
   "codemirror_mode": {
    "name": "ipython",
    "version": 2
   },
   "file_extension": ".py",
   "mimetype": "text/x-python",
   "name": "python",
   "nbconvert_exporter": "python",
   "pygments_lexer": "ipython2",
   "version": "2.7.6"
  }
 },
 "nbformat": 4,
 "nbformat_minor": 0
}