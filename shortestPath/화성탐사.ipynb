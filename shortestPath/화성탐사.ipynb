{
 "cells": [
  {
   "cell_type": "markdown",
   "source": [
    "# 화성 탐사\n",
    "\n",
    "당신은 화성 탐사 기계를 개발하는 프로그래머입니다. 그런데 화성은 에너지 공급원을 찾기가 힘듭니다. 그래서 에너지를 효율적으로 사용하고자 화성 탐사 기계가 출발 지점에서 목표 지점까지 이동할 때 항상 최적의 경로를 찾도록 개발해야 합니다.\n",
    "\n",
    "화성 탐사 기계가 존재하는 공간은 N * N 크기의 2차원 공간이며, 각각의 칸을 지나기 위한 비용(에너지 소모량)이 존재합니다. 가장 왼쪽 위 칸인 [0][0] 위치에서 가장 오른쪽 아래 칸인 [N - 1][N - 1] 위치로 이동하는 최소 비용을 출력하는 프로그램을 작성하세요. 화성 탐사 기계는 특정한 위치에서 상하좌우 인접한 곳으로 1칸씩 이동할 수 있습니다.\n",
    "\n",
    "<br>\n",
    "\n",
    "**입력 조건**\n",
    "\n",
    "- 첫째 줄에 테스트 케이스의 수 T(1 <= T <= 10)이 주어집니다.\n",
    "- 매 테스트 케이스의 첫째 줄에는 탐사 공간의 크기를 의미하는 정수 N이 주어집니다. (2 <= N <= 125) 이어서 N개의 줄에 걸쳐 각 칸의 비용이 주어지며 공백으로 구분합니다. (0 <= 각 칸의 비용 <= 9)\n",
    "\n",
    "<br>\n",
    "\n",
    "**출력 조건**\n",
    "\n",
    "- 각 테스트 케이스마다 [0][0]의 위치에서 [N - 1][N - 1]의 위치로 이동하는 최소 비용을 한 줄에 하나씩 출력합니다.\n",
    "\n",
    "<br>\n",
    "\n",
    "|입력|출력|\n",
    "|---|---|\n",
    "|3<br>3<br>5 5 4<br>3 9 1<br>3 2 7<br>5<br>3 7 2 0 1<br>2 8 0 9 1<br>1 2 1 8 1<br>9 8 9 2 0<br>3 6 5 1 5<br>7<br>9 0 5 1 1 5 3<br>4 1 2 1 6 5 3<br>0 7 6 1 6 8 5<br>1 1 7 8 3 2 3<br>9 4 0 7 6 4 1<br>5 8 3 2 4 8 3<br>7 4 8 4 8 3 4|20<br>19<br>36|"
   ],
   "metadata": {
    "collapsed": false,
    "pycharm": {
     "name": "#%% md\n"
    }
   }
  },
  {
   "cell_type": "code",
   "execution_count": 1,
   "outputs": [],
   "source": [
    "import heapq"
   ],
   "metadata": {
    "collapsed": false,
    "pycharm": {
     "name": "#%%\n"
    }
   }
  },
  {
   "cell_type": "code",
   "execution_count": 3,
   "outputs": [],
   "source": [
    "INF = int(1e9)\n",
    "go = [(0, 1), (1, 0), (-1, 0), (0, -1)]"
   ],
   "metadata": {
    "collapsed": false,
    "pycharm": {
     "name": "#%%\n"
    }
   }
  },
  {
   "cell_type": "code",
   "execution_count": 18,
   "metadata": {
    "collapsed": true,
    "pycharm": {
     "name": "#%%\n"
    }
   },
   "outputs": [],
   "source": [
    "def solution(n, place, distance):\n",
    "    q = []\n",
    "    heapq.heappush(q, (place[0][0], 0, 0))\n",
    "    distance[0][0] = place[0][0]\n",
    "\n",
    "    while q:\n",
    "        dist, nx, ny = heapq.heappop(q)\n",
    "        if distance[nx][ny] < dist: continue\n",
    "\n",
    "        for gx, gy in go:\n",
    "            tx, ty = nx+gx, ny+gy\n",
    "            if not (0 <= tx < n and 0 <= ty < n): continue\n",
    "\n",
    "            tcost = dist + place[tx][ty]\n",
    "\n",
    "            if tcost < distance[tx][ty]:\n",
    "                distance[tx][ty] = tcost\n",
    "                heapq.heappush(q, (tcost, tx, ty))\n",
    "\n",
    "    return distance[n-1][n-1]"
   ]
  },
  {
   "cell_type": "code",
   "execution_count": 21,
   "outputs": [
    {
     "name": "stdout",
     "output_type": "stream",
     "text": [
      "20\n",
      "19\n",
      "36\n"
     ]
    }
   ],
   "source": [
    "T = int(input())\n",
    "for _ in range(T):\n",
    "    N = int(input())\n",
    "    mars = [list(map(int, input().split())) for _ in range(N)]\n",
    "    distance = [[INF] * N for _ in range(N)]\n",
    "    print(solution(N, mars, distance))"
   ],
   "metadata": {
    "collapsed": false,
    "pycharm": {
     "name": "#%%\n"
    }
   }
  }
 ],
 "metadata": {
  "kernelspec": {
   "display_name": "Python 3",
   "language": "python",
   "name": "python3"
  },
  "language_info": {
   "codemirror_mode": {
    "name": "ipython",
    "version": 2
   },
   "file_extension": ".py",
   "mimetype": "text/x-python",
   "name": "python",
   "nbconvert_exporter": "python",
   "pygments_lexer": "ipython2",
   "version": "2.7.6"
  }
 },
 "nbformat": 4,
 "nbformat_minor": 0
}