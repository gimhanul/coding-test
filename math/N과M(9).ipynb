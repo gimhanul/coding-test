{
 "cells": [
  {
   "cell_type": "markdown",
   "source": [
    "# N과 M(9)\n",
    "\n",
    "[here](https://www.acmicpc.net/problem/15653)"
   ],
   "metadata": {
    "collapsed": false,
    "pycharm": {
     "name": "#%% md\n"
    }
   }
  },
  {
   "cell_type": "code",
   "execution_count": 8,
   "outputs": [
    {
     "name": "stdout",
     "output_type": "stream",
     "text": [
      "1 1 1 1 \n"
     ]
    }
   ],
   "source": [
    "N, M = map(int, input().split())\n",
    "numbers = list(map(int, input().split()))\n",
    "numbers.sort()\n",
    "result = []\n",
    "results = set()\n",
    "\n",
    "dfs()\n",
    "printResults()"
   ],
   "metadata": {
    "collapsed": false,
    "pycharm": {
     "name": "#%%\n"
    }
   }
  },
  {
   "cell_type": "code",
   "execution_count": 1,
   "outputs": [],
   "source": [
    "def printResults():\n",
    "    for result in sorted(list(results)):\n",
    "        for r in result:\n",
    "            print(r, end=' ')\n",
    "        print()"
   ],
   "metadata": {
    "collapsed": false,
    "pycharm": {
     "name": "#%%\n"
    }
   }
  },
  {
   "cell_type": "code",
   "execution_count": 5,
   "outputs": [],
   "source": [
    "def resultToNumbers():\n",
    "    numbersResult = []\n",
    "    for r in result:\n",
    "        numbersResult.append(numbers[r])\n",
    "\n",
    "    return tuple(numbersResult)"
   ],
   "metadata": {
    "collapsed": false,
    "pycharm": {
     "name": "#%%\n"
    }
   }
  },
  {
   "cell_type": "code",
   "execution_count": 3,
   "outputs": [],
   "source": [
    "def dfs():\n",
    "    if len(result) == M:\n",
    "        results.add(resultToNumbers())\n",
    "    else:\n",
    "        for i in range(0, N):\n",
    "            if i not in result:\n",
    "                result.append(i)\n",
    "                dfs()\n",
    "                result.pop()"
   ],
   "metadata": {
    "collapsed": false,
    "pycharm": {
     "name": "#%%\n"
    }
   }
  }
 ],
 "metadata": {
  "kernelspec": {
   "display_name": "Python 3",
   "language": "python",
   "name": "python3"
  },
  "language_info": {
   "codemirror_mode": {
    "name": "ipython",
    "version": 2
   },
   "file_extension": ".py",
   "mimetype": "text/x-python",
   "name": "python",
   "nbconvert_exporter": "python",
   "pygments_lexer": "ipython2",
   "version": "2.7.6"
  }
 },
 "nbformat": 4,
 "nbformat_minor": 0
}