{
 "cells": [
  {
   "cell_type": "markdown",
   "source": [
    "# 성적이 낮은 순서로 학생 출력하기\n",
    "\n",
    "N 명의 학생 정보가 있다. 학생 정보는 학생의 이름과 학생의 성적으로 구분된다. 각 학생의 이름과 성적 정보가 주어졌을 때 성적이 낮은 순서대로 학생의 이름을 출력하는 프로그램을 작성하시오.\n",
    "\n",
    "<br>\n",
    "\n",
    "**입력 조건**\n",
    "\n",
    "- 첫 번쨰 줄에 학생의 수 N이 입력된다. (1 <= N <= 100000)\n",
    "- 두 번째 줄부터 N + 1 번째 줄에는 학생의 이름을 나타내는 문자열 A와 학생의 성적을 나타내는 정수 B가 공백으로 구분되어 입력된다. 문자열 A의 길이와 학생의 성적은 100 이하의 자연수이다.\n",
    "\n",
    "<br>\n",
    "\n",
    "**출력 조건**\n",
    "\n",
    "- 모든 학생의 이름을 성적이 낮은 순서대로 출력한다. 성적이 동일한 학생들의 순서는 자유롭게 출력해도 괜찮다.\n",
    "\n",
    "<br>\n",
    "\n",
    "| 입력                    |출력|\n",
    "|-----------------------|---|\n",
    "| 2<br>홍길동 95<br>이순신 77 |이순신 홍길동|"
   ],
   "metadata": {
    "collapsed": false,
    "pycharm": {
     "name": "#%% md\n"
    }
   }
  },
  {
   "cell_type": "code",
   "execution_count": 9,
   "outputs": [
    {
     "name": "stdout",
     "output_type": "stream",
     "text": [
      "이순신 홍길동 "
     ]
    }
   ],
   "source": [
    "N = int(input())\n",
    "students = []\n",
    "\n",
    "def compare(data):\n",
    "    return data[1]\n",
    "\n",
    "for _ in range(N):\n",
    "    studentInformation = list(input().split())\n",
    "    students.append((studentInformation[0], int(studentInformation[1])))\n",
    "\n",
    "result = sorted(students, key=compare)\n",
    "\n",
    "for r in result:\n",
    "    print(r[0], end=' ')"
   ],
   "metadata": {
    "collapsed": false,
    "pycharm": {
     "name": "#%%\n"
    }
   }
  }
 ],
 "metadata": {
  "kernelspec": {
   "display_name": "Python 3",
   "language": "python",
   "name": "python3"
  },
  "language_info": {
   "codemirror_mode": {
    "name": "ipython",
    "version": 2
   },
   "file_extension": ".py",
   "mimetype": "text/x-python",
   "name": "python",
   "nbconvert_exporter": "python",
   "pygments_lexer": "ipython2",
   "version": "2.7.6"
  }
 },
 "nbformat": 4,
 "nbformat_minor": 0
}