{
 "cells": [
  {
   "cell_type": "markdown",
   "source": [
    "# 무지의 먹방 라이브\n",
    "\n",
    "[여기](https://school.programmers.co.kr/learn/courses/30/lessons/42891)"
   ],
   "metadata": {
    "collapsed": false,
    "pycharm": {
     "name": "#%% md\n"
    }
   }
  },
  {
   "cell_type": "code",
   "execution_count": null,
   "metadata": {
    "collapsed": true,
    "pycharm": {
     "name": "#%%\n"
    }
   },
   "outputs": [],
   "source": [
    "import heapq\n",
    "\n",
    "def solution(food_times, k):\n",
    "\n",
    "    if sum(food_times) <= k: return -1\n",
    "\n",
    "    food = []\n",
    "    for i in range(len(food_times)):\n",
    "        heapq.heappush(food, (food_times[i], i+1))\n",
    "\n",
    "    time = 0\n",
    "    prevTime = 0\n",
    "    length = len(food_times)\n",
    "\n",
    "    while time + ((food[0][0] - prevTime) * length) <= k:\n",
    "        now = heapq.heappop(food)[0]\n",
    "        time += (now - prevTime) * length\n",
    "        length -= 1\n",
    "        prevTime = now\n",
    "\n",
    "    result = sorted(food, key = lambda x: x[1])\n",
    "    return result[(k - time) % length][1]"
   ]
  }
 ],
 "metadata": {
  "kernelspec": {
   "display_name": "Python 3",
   "language": "python",
   "name": "python3"
  },
  "language_info": {
   "codemirror_mode": {
    "name": "ipython",
    "version": 2
   },
   "file_extension": ".py",
   "mimetype": "text/x-python",
   "name": "python",
   "nbconvert_exporter": "python",
   "pygments_lexer": "ipython2",
   "version": "2.7.6"
  }
 },
 "nbformat": 4,
 "nbformat_minor": 0
}