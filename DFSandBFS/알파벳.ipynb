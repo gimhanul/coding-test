{
 "cells": [
  {
   "cell_type": "markdown",
   "source": [
    "# 알파뱃\n",
    "\n",
    "[here](https://www.acmicpc.net/problem/1987)"
   ],
   "metadata": {
    "collapsed": false
   }
  },
  {
   "cell_type": "code",
   "execution_count": null,
   "metadata": {
    "collapsed": true
   },
   "outputs": [],
   "source": [
    "import sys\n",
    "read = sys.stdin.readline\n",
    "\n",
    "R, C = map(int, read().split())\n",
    "board = [list(read().strip()) for _ in range(R)]\n",
    "alphabets = set(board[0][0])\n",
    "_max = 1\n",
    "go = [(1, 0), (0, 1), (-1, 0), (0, -1)]\n",
    "\n",
    "\n",
    "def dfs(x, y, cnt):\n",
    "    global _max\n",
    "    _max = max(_max, cnt)\n",
    "\n",
    "    for i in range(4):\n",
    "        nx, ny = x+go[i][0], y+go[i][1]\n",
    "\n",
    "        if 0 <= nx < R and 0 <= ny < C and not board[nx][ny] in alphabets:\n",
    "            alphabets.add(board[nx][ny])\n",
    "            dfs(nx, ny, cnt+1)\n",
    "            alphabets.remove(board[nx][ny])\n",
    "\n",
    "\n",
    "dfs(0, 0, _max)\n",
    "print(_max)"
   ]
  }
 ],
 "metadata": {
  "kernelspec": {
   "display_name": "Python 3",
   "language": "python",
   "name": "python3"
  },
  "language_info": {
   "codemirror_mode": {
    "name": "ipython",
    "version": 2
   },
   "file_extension": ".py",
   "mimetype": "text/x-python",
   "name": "python",
   "nbconvert_exporter": "python",
   "pygments_lexer": "ipython2",
   "version": "2.7.6"
  }
 },
 "nbformat": 4,
 "nbformat_minor": 0
}
