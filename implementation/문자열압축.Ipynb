{
 "cells": [
  {
   "cell_type": "markdown",
   "source": [
    "# 문자열 압축\n",
    "\n",
    "[여기](https://programmers.co.kr/learn/courses/30/lessons/60057)"
   ],
   "metadata": {
    "collapsed": false,
    "pycharm": {
     "name": "#%% md\n"
    }
   }
  },
  {
   "cell_type": "code",
   "execution_count": null,
   "metadata": {
    "collapsed": true,
    "pycharm": {
     "name": "#%%\n"
    }
   },
   "outputs": [],
   "source": [
    "def splitData(s, i):\n",
    "    result = ''\n",
    "    sameStrCnt = 1\n",
    "\n",
    "    while s:\n",
    "        currentStr = s[:i]\n",
    "        s = s[i:]\n",
    "        nextStr = s[:i]\n",
    "\n",
    "        if currentStr == nextStr: sameStrCnt += 1\n",
    "        else:\n",
    "            if sameStrCnt > 1: result += str(sameStrCnt) + currentStr\n",
    "            else: result += currentStr\n",
    "            sameStrCnt = 1\n",
    "\n",
    "    return len(result)\n",
    "\n",
    "\n",
    "def solution(s):\n",
    "    answer = 1000\n",
    "    for i in range(1, len(s)+1):\n",
    "        answer = min(answer, splitData(s, i))\n",
    "\n",
    "    print(answer)\n",
    "    return answer"
   ]
  }
 ],
 "metadata": {
  "kernelspec": {
   "display_name": "Python 3",
   "language": "python",
   "name": "python3"
  },
  "language_info": {
   "codemirror_mode": {
    "name": "ipython",
    "version": 2
   },
   "file_extension": ".py",
   "mimetype": "text/x-python",
   "name": "python",
   "nbconvert_exporter": "python",
   "pygments_lexer": "ipython2",
   "version": "2.7.6"
  }
 },
 "nbformat": 4,
 "nbformat_minor": 0
}