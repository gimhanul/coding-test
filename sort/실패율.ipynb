{
 "cells": [
  {
   "cell_type": "markdown",
   "source": [
    "# 실패율\n",
    "\n",
    "[여기](https://school.programmers.co.kr/learn/courses/30/lessons/42889)"
   ],
   "metadata": {
    "collapsed": false,
    "pycharm": {
     "name": "#%% md\n"
    }
   }
  },
  {
   "cell_type": "code",
   "execution_count": null,
   "outputs": [],
   "source": [
    "def getFailedRatio(N, stages):\n",
    "    result = [{'notClear': 0, 'reachPeople': len(stages)}]\n",
    "    for i in range(1, N+1):\n",
    "        result.append({\n",
    "            'stage': i,\n",
    "            'notClear': 0,\n",
    "            'reachPeople': 0,\n",
    "            'failedRatio': 0,\n",
    "        })\n",
    "\n",
    "    stages.sort()\n",
    "\n",
    "    for i in range(len(stages)):\n",
    "        if stages[i] != N+1: result[stages[i]]['notClear'] += 1\n",
    "\n",
    "    for i in range(1, N+1):\n",
    "        result[i]['reachPeople'] = result[i-1]['reachPeople'] - result[i-1]['notClear']\n",
    "        if result[i]['reachPeople'] != 0:\n",
    "            result[i]['failedRatio'] = result[i]['notClear'] / result[i]['reachPeople']\n",
    "\n",
    "    return result[1:]"
   ],
   "metadata": {
    "collapsed": false,
    "pycharm": {
     "name": "#%%\n"
    }
   }
  },
  {
   "cell_type": "code",
   "execution_count": null,
   "metadata": {
    "collapsed": true,
    "pycharm": {
     "name": "#%%\n"
    }
   },
   "outputs": [],
   "source": [
    "def solution(N, stages):\n",
    "    result = getFailedRatio(N, stages)\n",
    "    realResult = sorted(result, key=lambda x: (-x['failedRatio'], x['stage']))\n",
    "\n",
    "    answer = []\n",
    "    for r in realResult:\n",
    "        answer.append(r['stage'])\n",
    "\n",
    "    return answer\n"
   ]
  }
 ],
 "metadata": {
  "kernelspec": {
   "display_name": "Python 3",
   "language": "python",
   "name": "python3"
  },
  "language_info": {
   "codemirror_mode": {
    "name": "ipython",
    "version": 2
   },
   "file_extension": ".py",
   "mimetype": "text/x-python",
   "name": "python",
   "nbconvert_exporter": "python",
   "pygments_lexer": "ipython2",
   "version": "2.7.6"
  }
 },
 "nbformat": 4,
 "nbformat_minor": 0
}