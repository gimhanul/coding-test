{
 "cells": [
  {
   "cell_type": "markdown",
   "source": [
    "# 토마토\n",
    "\n",
    "[here](https://www.acmicpc.net/problem/7576)"
   ],
   "metadata": {
    "collapsed": false
   }
  },
  {
   "cell_type": "code",
   "execution_count": null,
   "outputs": [],
   "source": [
    "from collections import deque"
   ],
   "metadata": {
    "collapsed": false
   }
  },
  {
   "cell_type": "code",
   "execution_count": null,
   "outputs": [],
   "source": [
    "go = [(0, 1), (1, 0), (-1, 0), (0, -1)]"
   ],
   "metadata": {
    "collapsed": false
   }
  },
  {
   "cell_type": "code",
   "execution_count": null,
   "metadata": {
    "collapsed": true
   },
   "outputs": [],
   "source": [
    "M, N = map(int, input().split())\n",
    "tomatoes = [list(map(int, input().split())) for _ in range(N)]\n",
    "\n",
    "INF = int(1e9)"
   ]
  },
  {
   "cell_type": "code",
   "execution_count": null,
   "outputs": [],
   "source": [
    "q = deque([])\n",
    "\n",
    "for i in range(N):\n",
    "    for j in range(M):\n",
    "        if tomatoes[i][j] == 1:\n",
    "            q.append((i, j))"
   ],
   "metadata": {
    "collapsed": false
   }
  },
  {
   "cell_type": "code",
   "execution_count": null,
   "outputs": [],
   "source": [
    "while q:\n",
    "    nx, ny = q.popleft()\n",
    "\n",
    "    for gx, gy in go:\n",
    "        tx, ty = nx + gx, ny + gy\n",
    "\n",
    "        if 0 <= tx < N and 0 <= ty < M and tomatoes[tx][ty] == 0:\n",
    "            q.append([tx, ty])\n",
    "            tomatoes[tx][ty] = tomatoes[nx][ny] + 1"
   ],
   "metadata": {
    "collapsed": false
   }
  },
  {
   "cell_type": "code",
   "execution_count": null,
   "outputs": [],
   "source": [],
   "metadata": {
    "collapsed": false
   }
  }
 ],
 "metadata": {
  "kernelspec": {
   "display_name": "Python 3",
   "language": "python",
   "name": "python3"
  },
  "language_info": {
   "codemirror_mode": {
    "name": "ipython",
    "version": 2
   },
   "file_extension": ".py",
   "mimetype": "text/x-python",
   "name": "python",
   "nbconvert_exporter": "python",
   "pygments_lexer": "ipython2",
   "version": "2.7.6"
  }
 },
 "nbformat": 4,
 "nbformat_minor": 0
}
