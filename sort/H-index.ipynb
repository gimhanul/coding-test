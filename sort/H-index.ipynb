{
 "cells": [
  {
   "cell_type": "markdown",
   "source": [
    "# H-index\n",
    "\n",
    "[here](https://school.programmers.co.kr/learn/courses/30/lessons/42747)"
   ],
   "metadata": {
    "collapsed": false,
    "pycharm": {
     "name": "#%% md\n"
    }
   }
  },
  {
   "cell_type": "code",
   "execution_count": 29,
   "metadata": {
    "collapsed": true,
    "pycharm": {
     "name": "#%%\n"
    }
   },
   "outputs": [],
   "source": [
    "def solution(citations):\n",
    "    citations.sort()\n",
    "    n = len(citations)\n",
    "    s, e = 0, n - 1\n",
    "\n",
    "    for h in range(citations[-1], 0, -1):\n",
    "        if len(list(filter(lambda x: x >= h, citations))) >= h:\n",
    "            return h"
   ]
  },
  {
   "cell_type": "code",
   "execution_count": 30,
   "outputs": [
    {
     "name": "stdout",
     "output_type": "stream",
     "text": [
      "3\n"
     ]
    }
   ],
   "source": [
    "print(solution([3, 0, 6, 1, 5]))\n",
    "# [0, 1, 3, 5, 6]\n",
    "# must be 3"
   ],
   "metadata": {
    "collapsed": false,
    "pycharm": {
     "name": "#%%\n"
    }
   }
  }
 ],
 "metadata": {
  "kernelspec": {
   "display_name": "Python 3",
   "language": "python",
   "name": "python3"
  },
  "language_info": {
   "codemirror_mode": {
    "name": "ipython",
    "version": 2
   },
   "file_extension": ".py",
   "mimetype": "text/x-python",
   "name": "python",
   "nbconvert_exporter": "python",
   "pygments_lexer": "ipython2",
   "version": "2.7.6"
  }
 },
 "nbformat": 4,
 "nbformat_minor": 0
}