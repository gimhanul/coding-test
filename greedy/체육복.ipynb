{
 "cells": [
  {
   "cell_type": "markdown",
   "source": [
    "# 체육복\n",
    "\n",
    "[here](https://school.programmers.co.kr/learn/courses/30/lessons/42862?language=python3)"
   ],
   "metadata": {
    "collapsed": false,
    "pycharm": {
     "name": "#%% md\n"
    }
   }
  },
  {
   "cell_type": "code",
   "execution_count": null,
   "metadata": {
    "collapsed": true,
    "pycharm": {
     "name": "#%%\n"
    }
   },
   "outputs": [],
   "source": [
    "def solution(n, lost, reserve):\n",
    "    answer = 0\n",
    "\n",
    "    for i in range(len(lost)):\n",
    "        if lost[i] in reserve:\n",
    "            reserve.remove(lost[i])\n",
    "            lost[i] = -1\n",
    "\n",
    "    for i in range(1, n+1):\n",
    "        if i not in lost:\n",
    "            answer += 1\n",
    "        elif 1 < i and i-1 in reserve:\n",
    "            answer += 1\n",
    "            reserve.remove(i-1)\n",
    "        elif i < n and i+1 in reserve:\n",
    "            answer += 1\n",
    "            reserve.remove(i+1)\n",
    "\n",
    "    return answer"
   ]
  }
 ],
 "metadata": {
  "kernelspec": {
   "display_name": "Python 3",
   "language": "python",
   "name": "python3"
  },
  "language_info": {
   "codemirror_mode": {
    "name": "ipython",
    "version": 2
   },
   "file_extension": ".py",
   "mimetype": "text/x-python",
   "name": "python",
   "nbconvert_exporter": "python",
   "pygments_lexer": "ipython2",
   "version": "2.7.6"
  }
 },
 "nbformat": 4,
 "nbformat_minor": 0
}