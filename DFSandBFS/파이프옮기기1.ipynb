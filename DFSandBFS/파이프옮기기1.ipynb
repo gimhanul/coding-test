{
 "cells": [
  {
   "cell_type": "markdown",
   "source": [
    "# 파이프 옮기기 1\n",
    "\n",
    "[here](https://www.acmicpc.net/problem/17070)"
   ],
   "metadata": {
    "collapsed": false,
    "pycharm": {
     "name": "#%% md\n"
    }
   }
  },
  {
   "cell_type": "code",
   "execution_count": null,
   "outputs": [],
   "source": [
    "import sys\n",
    "from collections import deque\n",
    "read = sys.stdin.readline\n",
    "\n",
    "N = int(read().rstrip())\n",
    "house = [list(map(int, read().split())) for _ in range(N)]\n",
    "go = [(0, 1), (1, 1), (1, 0)]  # 0: →, 1: ↘, 2:︎ ↓\n",
    "canGo = [(0, 1), (0, 1, 2), (1, 2)]\n",
    "\n",
    "\n",
    "def bfs(sx, sy, direction):\n",
    "    if house[N-1][N-1] == 1: return 0\n",
    "    cnt = 0\n",
    "\n",
    "    q = deque([(sx, sy, direction)])\n",
    "\n",
    "    while q:\n",
    "        nx, ny, ndirec = q.popleft()\n",
    "        if nx == N - 1 and ny == N - 1: cnt += 1\n",
    "\n",
    "        for i in canGo[ndirec]:\n",
    "            gx, gy = go[i]\n",
    "            tx, ty = nx+gx, ny+gy\n",
    "\n",
    "            # 방향이 대각선일 때 비었는지 검사 추가\n",
    "            if i == 1 and 0 < tx < N and 0 < ty < N and (house[tx-1][ty] == 1 or house[tx][ty-1] == 1): continue\n",
    "\n",
    "            if 0 <= tx < N and 0 <= ty < N and house[tx][ty] == 0:\n",
    "                q.append((tx, ty, i))\n",
    "\n",
    "    return cnt\n",
    "\n",
    "\n",
    "print(bfs(0, 1, 0))"
   ],
   "metadata": {
    "collapsed": false,
    "pycharm": {
     "name": "#%%\n"
    }
   }
  },
  {
   "cell_type": "markdown",
   "source": [
    "bfs는 느려서 안 된대여...\n",
    "넘슬퍼\n",
    "dfs..."
   ],
   "metadata": {
    "collapsed": false,
    "pycharm": {
     "name": "#%% md\n"
    }
   }
  },
  {
   "cell_type": "code",
   "execution_count": null,
   "outputs": [],
   "source": [
    "import sys\n",
    "read = sys.stdin.readline\n",
    "\n",
    "N = int(read().rstrip())\n",
    "house = [list(map(int, read().split())) for _ in range(N)]\n",
    "cnt = 0\n",
    "\n",
    "\n",
    "def dfs(x, y, direction):\n",
    "    global cnt\n",
    "\n",
    "    if x == N-1 and y == N-1: cnt += 1\n",
    "    else:\n",
    "        # 0: →, 1: ↘, 2:︎ ↓\n",
    "        if direction in [0, 1] and y+1 < N and house[x][y+1] == 0: dfs(x, y+1, 0)\n",
    "        if direction in [0, 1, 2] and x+1 < N and y+1 < N and house[x+1][y] == 0 and house[x][y+1] == 0 and house[x+1][y+1] == 0: dfs(x+1, y+1, 1)\n",
    "        if direction in [1, 2] and x+1 < N and house[x+1][y] == 0: dfs(x+1, y, 2)\n",
    "\n",
    "\n",
    "dfs(0, 1, 0)\n",
    "print(cnt if house[N - 1][N - 1] != 1 else 0)"
   ],
   "metadata": {
    "collapsed": false,
    "pycharm": {
     "name": "#%%\n"
    }
   }
  }
 ],
 "metadata": {
  "kernelspec": {
   "display_name": "Python 3",
   "language": "python",
   "name": "python3"
  },
  "language_info": {
   "codemirror_mode": {
    "name": "ipython",
    "version": 2
   },
   "file_extension": ".py",
   "mimetype": "text/x-python",
   "name": "python",
   "nbconvert_exporter": "python",
   "pygments_lexer": "ipython2",
   "version": "2.7.6"
  }
 },
 "nbformat": 4,
 "nbformat_minor": 0
}