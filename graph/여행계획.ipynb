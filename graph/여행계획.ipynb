{
 "cells": [
  {
   "cell_type": "markdown",
   "source": [
    "# 여행 계획\n",
    "\n",
    "한울이가 사는 나라에는 N개의 여행지가 있으며, 각 여행지는 1~N번까지의 번호로 구분됩니다. 또한 임의의 두 여행지 사이에는 두 여행지를 연결하는 도로가 존재할 수 있습니다. 이때, 여행지가 도로로 연결되어 있다면 양방향으로 이동이 가능하다는 의미입니다. 한울이는 하나의 여행 계획을 세운 뒤에 이 여행 계획이 가능한지의 여부를 판단하고자 합니다.\n",
    "\n",
    "<br>\n",
    "\n",
    "**입력 조건**\n",
    "\n",
    "- 첫째 줄에 여행지의 수 N과 여행 계획에 속한 도시의 수 M이 주어집니다.\n",
    "- 다음 N개의 줄에 걸쳐 NxN 행렬을 통해 임의의 두 여행지가 서로 연결되어 있는지의 여부가 주어집니다. 그 값이 1이라면 서로 연결되었다는 의미이며, 0이라면 서로 연결되어 있지 않다는 의미입니다.\n",
    "- 마지막 줄에 한울이의 여행 계획에 포함된 여행지의 번호들이 주어지며 공백으로 구분합니다.\n",
    "\n",
    "<br>\n",
    "\n",
    "**출력 조건**\n",
    "\n",
    "- 첫째 줄에 한울이의 여행 계획이 가능하다면 YES를, 불가능하다면 NO를 출력합니다.\n",
    "\n",
    "<br>\n",
    "\n",
    "| 입력                                                                              |출력|\n",
    "|---------------------------------------------------------------------------------|---|\n",
    "| 5 4<br>0 1 0 1 1<br>1 0 1 1 0<br>0 1 0 0 0<br>1 1 0 0 0<br>1 0 0 0 0<br>2 3 5 4 |YES|\n",
    "| 5 4<br>0 1 0 1 0<br>1 0 1 1 0<br>0 1 0 0 0<br>1 1 0 0 0<br>0 0 0 0 0<br>2 3 5 4 |NO|"
   ],
   "metadata": {
    "collapsed": false,
    "pycharm": {
     "name": "#%% md\n"
    }
   }
  },
  {
   "cell_type": "code",
   "execution_count": 7,
   "metadata": {
    "collapsed": true,
    "pycharm": {
     "name": "#%%\n"
    }
   },
   "outputs": [],
   "source": [
    "N, M = map(int, input().split())\n",
    "parent = [i for i in range(N)]\n",
    "country = [list(map(int, input().split())) for _ in range(N)]\n",
    "\n",
    "for i in range(N):\n",
    "    for j in range(N):\n",
    "        if country[i][j] == 1: unionParent(parent, i, j)"
   ]
  },
  {
   "cell_type": "code",
   "execution_count": 3,
   "outputs": [],
   "source": [
    "def findParent(parent, x):\n",
    "    if parent[x] != x:\n",
    "        parent[x] = findParent(parent, parent[x])\n",
    "    return parent[x]"
   ],
   "metadata": {
    "collapsed": false,
    "pycharm": {
     "name": "#%%\n"
    }
   }
  },
  {
   "cell_type": "code",
   "execution_count": 2,
   "outputs": [],
   "source": [
    "def unionParent(parent, a, b):\n",
    "    a = findParent(parent, a)\n",
    "    b = findParent(parent, b)\n",
    "\n",
    "    if a < b: parent[b] = a\n",
    "    else: parent[a] = b"
   ],
   "metadata": {
    "collapsed": false,
    "pycharm": {
     "name": "#%%\n"
    }
   }
  },
  {
   "cell_type": "code",
   "execution_count": 5,
   "outputs": [],
   "source": [
    "def isCycle():\n",
    "    root = findParent(parent, sights[0]-1)\n",
    "    for s in sights:\n",
    "        if root != findParent(parent, s-1): return False\n",
    "\n",
    "    return True"
   ],
   "metadata": {
    "collapsed": false,
    "pycharm": {
     "name": "#%%\n"
    }
   }
  },
  {
   "cell_type": "code",
   "execution_count": 8,
   "outputs": [
    {
     "name": "stdout",
     "output_type": "stream",
     "text": [
      "NO\n"
     ]
    }
   ],
   "source": [
    "sights = list(map(int, input().split()))\n",
    "print(\"YES\" if isCycle() else \"NO\")"
   ],
   "metadata": {
    "collapsed": false,
    "pycharm": {
     "name": "#%%\n"
    }
   }
  }
 ],
 "metadata": {
  "kernelspec": {
   "display_name": "Python 3",
   "language": "python",
   "name": "python3"
  },
  "language_info": {
   "codemirror_mode": {
    "name": "ipython",
    "version": 2
   },
   "file_extension": ".py",
   "mimetype": "text/x-python",
   "name": "python",
   "nbconvert_exporter": "python",
   "pygments_lexer": "ipython2",
   "version": "2.7.6"
  }
 },
 "nbformat": 4,
 "nbformat_minor": 0
}