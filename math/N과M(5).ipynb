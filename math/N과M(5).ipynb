{
 "cells": [
  {
   "cell_type": "markdown",
   "source": [
    "# N과 M(5)\n",
    "\n",
    "[here](https://www.acmicpc.net/problem/15654)"
   ],
   "metadata": {
    "collapsed": false,
    "pycharm": {
     "name": "#%% md\n"
    }
   }
  },
  {
   "cell_type": "code",
   "execution_count": 1,
   "outputs": [],
   "source": [
    "from itertools import permutations"
   ],
   "metadata": {
    "collapsed": false,
    "pycharm": {
     "name": "#%%\n"
    }
   }
  },
  {
   "cell_type": "code",
   "execution_count": 9,
   "outputs": [],
   "source": [
    "N, M = map(int, input().split())\n",
    "numbers = list(map(int, input().split()))"
   ],
   "metadata": {
    "collapsed": false,
    "pycharm": {
     "name": "#%%\n"
    }
   }
  },
  {
   "cell_type": "code",
   "execution_count": 10,
   "outputs": [
    {
     "name": "stdout",
     "output_type": "stream",
     "text": [
      "1231 1232 1233 1234 \n",
      "1231 1232 1234 1233 \n",
      "1231 1233 1232 1234 \n",
      "1231 1233 1234 1232 \n",
      "1231 1234 1232 1233 \n",
      "1231 1234 1233 1232 \n",
      "1232 1231 1233 1234 \n",
      "1232 1231 1234 1233 \n",
      "1232 1233 1231 1234 \n",
      "1232 1233 1234 1231 \n",
      "1232 1234 1231 1233 \n",
      "1232 1234 1233 1231 \n",
      "1233 1231 1232 1234 \n",
      "1233 1231 1234 1232 \n",
      "1233 1232 1231 1234 \n",
      "1233 1232 1234 1231 \n",
      "1233 1234 1231 1232 \n",
      "1233 1234 1232 1231 \n",
      "1234 1231 1232 1233 \n",
      "1234 1231 1233 1232 \n",
      "1234 1232 1231 1233 \n",
      "1234 1232 1233 1231 \n",
      "1234 1233 1231 1232 \n",
      "1234 1233 1232 1231 \n"
     ]
    }
   ],
   "source": [
    "results = list(permutations(numbers, M))\n",
    "results.sort()\n",
    "for r in results:\n",
    "    printResult(r)"
   ],
   "metadata": {
    "collapsed": false,
    "pycharm": {
     "name": "#%%\n"
    }
   }
  },
  {
   "cell_type": "code",
   "execution_count": 4,
   "outputs": [],
   "source": [
    "def printResult(result):\n",
    "    for r in result:\n",
    "        print(r, end=' ')\n",
    "    print()"
   ],
   "metadata": {
    "collapsed": false,
    "pycharm": {
     "name": "#%%\n"
    }
   }
  }
 ],
 "metadata": {
  "kernelspec": {
   "display_name": "Python 3",
   "language": "python",
   "name": "python3"
  },
  "language_info": {
   "codemirror_mode": {
    "name": "ipython",
    "version": 2
   },
   "file_extension": ".py",
   "mimetype": "text/x-python",
   "name": "python",
   "nbconvert_exporter": "python",
   "pygments_lexer": "ipython2",
   "version": "2.7.6"
  }
 },
 "nbformat": 4,
 "nbformat_minor": 0
}