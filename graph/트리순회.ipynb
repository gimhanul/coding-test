{
 "cells": [
  {
   "cell_type": "markdown",
   "source": [
    "# 트리 순회\n",
    "\n",
    "[here](https://www.acmicpc.net/problem/1991)"
   ],
   "metadata": {
    "collapsed": false,
    "pycharm": {
     "name": "#%% md\n"
    }
   }
  },
  {
   "cell_type": "code",
   "execution_count": null,
   "outputs": [],
   "source": [
    "class Node:\n",
    "    def __init__(self, data, left, right):\n",
    "        self.data = data\n",
    "        self.left = left\n",
    "        self.right = right"
   ],
   "metadata": {
    "collapsed": false,
    "pycharm": {
     "name": "#%%\n"
    }
   }
  },
  {
   "cell_type": "code",
   "execution_count": null,
   "metadata": {
    "collapsed": true,
    "pycharm": {
     "name": "#%%\n"
    }
   },
   "outputs": [],
   "source": [
    "N = int(input())\n",
    "tree = {}\n",
    "\n",
    "for _ in range(N):\n",
    "    data, left, right = input().split()\n",
    "    tree[data] = Node(data, left if left != '.' else None, right if right != '.' else None)"
   ]
  },
  {
   "cell_type": "code",
   "execution_count": null,
   "outputs": [],
   "source": [
    "preorder(tree['A'])\n",
    "print()\n",
    "inorder(tree['A'])\n",
    "print()\n",
    "postorder(tree['A'])"
   ],
   "metadata": {
    "collapsed": false,
    "pycharm": {
     "name": "#%%\n"
    }
   }
  },
  {
   "cell_type": "code",
   "execution_count": null,
   "outputs": [],
   "source": [
    "def preorder(node: Node):\n",
    "    print(node.data, end='')\n",
    "    if node.left is not None: preorder(tree[node.left])\n",
    "    if node.right is not None: preorder(tree[node.right])"
   ],
   "metadata": {
    "collapsed": false,
    "pycharm": {
     "name": "#%%\n"
    }
   }
  },
  {
   "cell_type": "code",
   "execution_count": null,
   "outputs": [],
   "source": [
    "def inorder(node: Node):\n",
    "    if node.left is not None: inorder(tree[node.left])\n",
    "    print(node.data, end='')\n",
    "    if node.right is not None: inorder(tree[node.right])"
   ],
   "metadata": {
    "collapsed": false,
    "pycharm": {
     "name": "#%%\n"
    }
   }
  },
  {
   "cell_type": "code",
   "execution_count": null,
   "outputs": [],
   "source": [
    "def postorder(node: Node):\n",
    "    if node.left is not None: postorder(tree[node.left])\n",
    "    if node.right is not None: postorder(tree[node.right])\n",
    "    print(node.data, end='')"
   ],
   "metadata": {
    "collapsed": false,
    "pycharm": {
     "name": "#%%\n"
    }
   }
  }
 ],
 "metadata": {
  "kernelspec": {
   "display_name": "Python 3",
   "language": "python",
   "name": "python3"
  },
  "language_info": {
   "codemirror_mode": {
    "name": "ipython",
    "version": 2
   },
   "file_extension": ".py",
   "mimetype": "text/x-python",
   "name": "python",
   "nbconvert_exporter": "python",
   "pygments_lexer": "ipython2",
   "version": "2.7.6"
  }
 },
 "nbformat": 4,
 "nbformat_minor": 0
}