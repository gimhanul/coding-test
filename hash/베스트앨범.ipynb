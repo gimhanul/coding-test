{
 "cells": [
  {
   "cell_type": "markdown",
   "source": [
    "# 베스트앨범\n",
    "\n",
    "[here](https://school.programmers.co.kr/learn/courses/30/lessons/42579)"
   ],
   "metadata": {
    "collapsed": false,
    "pycharm": {
     "name": "#%% md\n"
    }
   }
  },
  {
   "cell_type": "code",
   "execution_count": 6,
   "outputs": [],
   "source": [
    "import heapq"
   ],
   "metadata": {
    "collapsed": false,
    "pycharm": {
     "name": "#%%\n"
    }
   }
  },
  {
   "cell_type": "code",
   "execution_count": 13,
   "metadata": {
    "collapsed": true,
    "pycharm": {
     "name": "#%%\n"
    }
   },
   "outputs": [],
   "source": [
    "def solution(genres, plays):\n",
    "    play_sum = {}\n",
    "    genre_ranking = {}\n",
    "\n",
    "    for i in range(len(genres)):\n",
    "        if genres[i] in play_sum:\n",
    "            play_sum[genres[i]] += plays[i]\n",
    "        else:\n",
    "            play_sum[genres[i]] = plays[i]\n",
    "            genre_ranking[genres[i]] = []\n",
    "\n",
    "        heapq.heappush(genre_ranking[genres[i]], (-plays[i], i))\n",
    "\n",
    "    sorted_play_sum = sorted(play_sum.items(), reverse=True, key = lambda  x: x[1])\n",
    "\n",
    "    result = []\n",
    "    for g, s in sorted_play_sum:\n",
    "        for i in range(2):\n",
    "            if genre_ranking[g]: result.append(heapq.heappop(genre_ranking[g])[1])\n",
    "\n",
    "    return result"
   ]
  },
  {
   "cell_type": "code",
   "execution_count": 14,
   "outputs": [
    {
     "data": {
      "text/plain": "[4, 1, 3, 0]"
     },
     "execution_count": 14,
     "metadata": {},
     "output_type": "execute_result"
    }
   ],
   "source": [
    "solution([\"classic\", \"pop\", \"classic\", \"classic\", \"pop\"],\t[500, 600, 150, 800, 2500])\n",
    "\n",
    "# must be [4, 1, 3, 0]"
   ],
   "metadata": {
    "collapsed": false,
    "pycharm": {
     "name": "#%%\n"
    }
   }
  }
 ],
 "metadata": {
  "kernelspec": {
   "display_name": "Python 3",
   "language": "python",
   "name": "python3"
  },
  "language_info": {
   "codemirror_mode": {
    "name": "ipython",
    "version": 2
   },
   "file_extension": ".py",
   "mimetype": "text/x-python",
   "name": "python",
   "nbconvert_exporter": "python",
   "pygments_lexer": "ipython2",
   "version": "2.7.6"
  }
 },
 "nbformat": 4,
 "nbformat_minor": 0
}