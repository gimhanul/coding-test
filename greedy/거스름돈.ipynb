{
 "cells": [
  {
   "cell_type": "markdown",
   "source": [
    "# 거스름돈\n",
    "\n",
    "당신은 음식점의 계산을 도와주는 점원이다. 카운터에는 거스름돈으로 사용할 500원, 100원, 50원, 10원짜리 동전이 무한히 존재한다고 가정한다. 손님에게 거슬러 줘야 할 돈이 N원일 때 거슬러 줘야 할 동전의 최소 개수를 구하라.\n",
    "단, 거슬러 줘야 할 돈 N은 항상 10의 배수이다."
   ],
   "metadata": {
    "collapsed": false,
    "pycharm": {
     "name": "#%% md\n"
    }
   }
  },
  {
   "cell_type": "code",
   "execution_count": 4,
   "outputs": [
    {
     "name": "stdout",
     "output_type": "stream",
     "text": [
      "6\n"
     ]
    }
   ],
   "source": [
    "myMoney = 1260 # 손님 잔액\n",
    "\n",
    "money = [500, 100, 50, 10] # 동전 종류\n",
    "count = 0 # 동전의 개수\n",
    "\n",
    "# 큰 동전 금액으로 먼저 나누고 -> 손님 잔액에서 빼기\n",
    "for m in money:\n",
    "    count += myMoney // m\n",
    "    myMoney = myMoney % m\n",
    "\n",
    "print(count)"
   ],
   "metadata": {
    "collapsed": false,
    "pycharm": {
     "name": "#%%\n"
    }
   }
  }
 ],
 "metadata": {
  "kernelspec": {
   "display_name": "Python 3",
   "language": "python",
   "name": "python3"
  },
  "language_info": {
   "codemirror_mode": {
    "name": "ipython",
    "version": 2
   },
   "file_extension": ".py",
   "mimetype": "text/x-python",
   "name": "python",
   "nbconvert_exporter": "python",
   "pygments_lexer": "ipython2",
   "version": "2.7.6"
  }
 },
 "nbformat": 4,
 "nbformat_minor": 0
}