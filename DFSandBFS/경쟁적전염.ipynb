{
 "cells": [
  {
   "cell_type": "markdown",
   "source": [
    "# 경쟁적 전염\n",
    "\n",
    "N * N 크기의 시험관이 있습니다. 시험관은 1 * 1 크기의 칸으로 나누어지며, 특정한 위치에는 바이러스가 존재할 수 있습니다. 바이러스의 종류는 1 ~ K번까지 K가지가 있으며 모든 바이러스는 이 중 하나에 속합니다.\n",
    "\n",
    "시험관에 존재하는 모든 바이러스는 1초마다 상, 하, 좌, 우의 방향으로 증식하는데, 매초 번호가 낮은 종류의 바이러스부터 먼저 증식합니다. 또한 증식 과정에서 특정한 칸에 이미 어떠한 바이러스가 있다면, 그곳에는 다른 바이러스가 들어갈 수 없습니다.\n",
    "\n",
    "시험관의 크기와 바이러스의 위치 정보가 주어졌을 때, S초가 지난 후에 (X, Y)에 존재하는 바이러스의 종류를 출력하는 프로그램을 작성하세요. 만약 S초가 지난 후에 해당 위치에 바이러스가 존재하지 않는다면, 0을 출력합니다. 이때 X와 Y는 각각 행과 열의 위치를 의미하며, 시험관의 가장 왼쪽 위에 해당하는 곳은 (1, 1)에 해당합니다.\n",
    "\n",
    "<br>\n",
    "\n",
    "**입력 조건**\n",
    "\n",
    "- 첫째 줄에 자연수 N, K가 주어지며, 각 자연수는 공백으로 구분합니다. (1 <= N <= 200, 1 <= K <= 1000)\n",
    "- 둘째 줄부터 N개의 줄에 걸쳐서 시험관의 정보가 주어집니다. 각 행은 N개의 원소로 구성되며, 해당 위치에 존재하는 바이러스의 번호가 주어지며 공백으로 구분합니다. 단, 해당 위치에 바이러스가 존재하지 않는 경우 0이 주어집니다. 또한 모든 바이러스의 번호는 K 이하의 자연수로만 주어집니다.\n",
    "- N + 2번째 줄에는 S, X, Y가 주어지며 공백으로 구분합니다. (0 <= S <= 10000, 1 <= X, Y <= N)\n",
    "\n",
    "<br>\n",
    "\n",
    "**출력 조건**\n",
    "\n",
    "- S초 뒤에 (X, Y)에 존재하는 바이러스의 종류를 출력합니다. 만약 S초 뒤에 해당 위치에 바이러스가 존재하지 않는다면, 0을 출력합니다.\n",
    "\n",
    "<br>\n",
    "\n",
    "|입력|출력|\n",
    "|---|---|\n",
    "|3 3<br>1 0 2<br>0 0 0<br>3 0 0<br>2 3 2|3|\n",
    "|3 3<br>1 0 2<br>0 0 0<br>3 0 0<br>1 2 2|0|"
   ],
   "metadata": {
    "collapsed": false,
    "pycharm": {
     "name": "#%% md\n"
    }
   }
  },
  {
   "cell_type": "code",
   "execution_count": 43,
   "outputs": [],
   "source": [
    "N, K = map(int, input().split())\n",
    "space = [list(map(int, input().split())) for _ in range(N)]\n",
    "second = 0\n",
    "\n",
    "S, X, Y = map(int, input().split())"
   ],
   "metadata": {
    "collapsed": false,
    "pycharm": {
     "name": "#%%\n"
    }
   }
  },
  {
   "cell_type": "code",
   "execution_count": 44,
   "outputs": [],
   "source": [
    "viruses = [[] for _ in range(K + 1)]\n",
    "\n",
    "for i in range(N):\n",
    "    for j in range(N):\n",
    "        if space[i][j] > 0: viruses[space[i][j]].append((i, j, second))"
   ],
   "metadata": {
    "collapsed": false,
    "pycharm": {
     "name": "#%%\n"
    }
   }
  },
  {
   "cell_type": "code",
   "execution_count": 45,
   "outputs": [],
   "source": [
    "go = [(-1, 0), (1, 0), (0, -1), (0, 1)]"
   ],
   "metadata": {
    "collapsed": false,
    "pycharm": {
     "name": "#%%\n"
    }
   }
  },
  {
   "cell_type": "code",
   "execution_count": 46,
   "outputs": [],
   "source": [
    "while second != S:\n",
    "    for i in range(1, K+1):\n",
    "        while viruses[i] and viruses[i][0][2] == second:\n",
    "            vY, vX, vS = viruses[i].pop(0)\n",
    "            for goX, goY in go:\n",
    "                y = vY + goY\n",
    "                x = vX + goX\n",
    "                if 0 <= x < N and 0 <= y < N and space[y][x] == 0:\n",
    "                    space[y][x] = i\n",
    "                    viruses[i].append((y, x, second + 1))\n",
    "\n",
    "    second += 1"
   ],
   "metadata": {
    "collapsed": false,
    "pycharm": {
     "name": "#%%\n"
    }
   }
  },
  {
   "cell_type": "code",
   "execution_count": 47,
   "outputs": [
    {
     "name": "stdout",
     "output_type": "stream",
     "text": [
      "1\n"
     ]
    }
   ],
   "source": [
    "print(space[X-1][Y-1])"
   ],
   "metadata": {
    "collapsed": false,
    "pycharm": {
     "name": "#%%\n"
    }
   }
  }
 ],
 "metadata": {
  "kernelspec": {
   "display_name": "Python 3",
   "language": "python",
   "name": "python3"
  },
  "language_info": {
   "codemirror_mode": {
    "name": "ipython",
    "version": 2
   },
   "file_extension": ".py",
   "mimetype": "text/x-python",
   "name": "python",
   "nbconvert_exporter": "python",
   "pygments_lexer": "ipython2",
   "version": "2.7.6"
  }
 },
 "nbformat": 4,
 "nbformat_minor": 0
}