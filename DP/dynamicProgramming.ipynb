{
 "cells": [
  {
   "cell_type": "markdown",
   "source": [
    "# Dynamic Programming\n",
    "\n",
    "동적 계획법. 메모리 공간을 약간 더 사용하여 연산 속도를 비약적으로 증가 시킴."
   ],
   "metadata": {
    "collapsed": false
   }
  },
  {
   "cell_type": "markdown",
   "source": [
    "## Top-Down 방식\n",
    "\n",
    "하향식. 재귀 함수를 이용함. 큰 문제를 해결하기 위해 작은 문제를 호출함."
   ],
   "metadata": {
    "collapsed": false
   }
  },
  {
   "cell_type": "code",
   "execution_count": 1,
   "outputs": [
    {
     "name": "stdout",
     "output_type": "stream",
     "text": [
      "5\n"
     ]
    }
   ],
   "source": [
    "def fibo(x):\n",
    "    if x == 1 or x == 2: return 1\n",
    "\n",
    "    result = fibo(x-1) + fibo(x-2)\n",
    "    return result\n",
    "\n",
    "print(fibo(5))"
   ],
   "metadata": {
    "collapsed": false,
    "ExecuteTime": {
     "start_time": "2023-09-13T08:30:52.565316Z",
     "end_time": "2023-09-13T08:30:52.569099Z"
    }
   }
  },
  {
   "cell_type": "markdown",
   "source": [
    "**메모이제이션**을 사용하여 성능을 개선할 수 있음."
   ],
   "metadata": {
    "collapsed": false
   }
  },
  {
   "cell_type": "code",
   "execution_count": 4,
   "outputs": [
    {
     "name": "stdout",
     "output_type": "stream",
     "text": [
      "218922995834555169026\n"
     ]
    }
   ],
   "source": [
    "# memoization list\n",
    "memo = [0] * 100\n",
    "\n",
    "def fibo(x):\n",
    "    if x == 1 or x == 2: return 1\n",
    "\n",
    "    if memo[x] != 0: return memo[x]\n",
    "\n",
    "    memo[x] = fibo(x-1) + fibo(x-2)\n",
    "    return memo[x]\n",
    "\n",
    "print(fibo(99))"
   ],
   "metadata": {
    "collapsed": false
   }
  },
  {
   "cell_type": "markdown",
   "source": [
    "## Bottom-Up 방식\n",
    "\n",
    "상향식. 작은 문제부터 차근차근 답을 도출함."
   ],
   "metadata": {
    "collapsed": false
   }
  },
  {
   "cell_type": "code",
   "execution_count": 2,
   "outputs": [
    {
     "name": "stdout",
     "output_type": "stream",
     "text": [
      "218922995834555169026\n"
     ]
    }
   ],
   "source": [
    "# DP table 초기화\n",
    "dp = [0] * 100\n",
    "\n",
    "# 첫 번째 피보나치 수와 두 번째 피보나치 수는 1\n",
    "dp[1] = 1\n",
    "dp[2] = 1\n",
    "n = 99\n",
    "\n",
    "for i in range(3, n+1):\n",
    "    dp[i] = dp[i-1] + dp[i-2]\n",
    "\n",
    "print(dp[n])"
   ],
   "metadata": {
    "collapsed": false
   }
  }
 ],
 "metadata": {
  "kernelspec": {
   "display_name": "Python 3",
   "language": "python",
   "name": "python3"
  },
  "language_info": {
   "codemirror_mode": {
    "name": "ipython",
    "version": 2
   },
   "file_extension": ".py",
   "mimetype": "text/x-python",
   "name": "python",
   "nbconvert_exporter": "python",
   "pygments_lexer": "ipython2",
   "version": "2.7.6"
  }
 },
 "nbformat": 4,
 "nbformat_minor": 0
}
