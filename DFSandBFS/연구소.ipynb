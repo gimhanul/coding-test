{
 "cells": [
  {
   "cell_type": "markdown",
   "source": [
    "# 연구소\n",
    "\n",
    "인체에 치명적인 바이러스를 연구하던 연구소에서 바이러스가 유출되었습니다. 다행히 바이러스는 아직 퍼지지 않았고, 바이러스의 확산을 막기 위해서 연구소에 벽은 세우려고 합니다.\n",
    "연구소는 크기가 N * M인 직사각형으로 나타낼 수 있으며, 직사각형은 1 * 1 크기의 정사각형으로 나누어져 있습니다. 연구소는 빈칸, 벽으로 이루어져 있으며, 벽은 칸 하나를 가득 차지합니다.\n",
    "일부 칸은 바이러스가 존재하며, 이 바이러스는 상하좌우로 인접한 빈칸으로 모두 퍼져나갈 수 있습니다. 새로 세울 수 있는 벽의 개수는 3개이며, 꼭 3개를 세워야 합니다.\n",
    "연구소의 지도가 주어졌을 때 얻을 수 있는 안전 영역 크기의 최댓값을 구하는 프로그램을 작성하세요.\n",
    "\n",
    "<br>\n",
    "\n",
    "**입력 조건**\n",
    "\n",
    "- 첫째 줄에 지도의 세로크기 N과 가로 크기 M이 주어집니다. (3 <= N, M <= 8)\n",
    "- 둘째 줄부터 N개의 줄에 지도의 모양이 주어집니다. 0은 빈칸, 1은 벽, 2는 바이러스가 있는 위치입니다. 2의 개수는 2보다 크거나 같고, 10보다 작거나 같은 자연수입니다.\n",
    "- 빈칸의 개수는 3개 이상입니다.\n",
    "\n",
    "<br>\n",
    "\n",
    "**출력 조건**\n",
    "\n",
    "- 첫째 줄에 얻을 수 있는 안전 영역의 최대 크기를 출력합니다.\n",
    "\n",
    "<br>\n",
    "\n",
    "|입력|출력|\n",
    "|---|---|\n",
    "|7 7<br>2 0 0 0 1 1 0<br>0 0 1 0 1 2 0<br>0 1 1 0 1 0 0<br>0 1 0 0 0 0 0<br>0 0 0 0 0 1 1<br>0 1 0 0 0 0 0<br>0 1 0 0 0 0 0|27|\n",
    "|4 6<br>0 0 0 0 0 0<br>1 0 0 0 0 2<br>1 1 1 0 0 2<br>0 0 0 0 0 2|9|\n",
    "|8 8<br>2 0 0 0 0 0 0 2<br>2 0 0 0 0 0 0 2<br>2 0 0 0 0 0 0 2<br>2 0 0 0 0 0 0 2<br>2 0 0 0 0 0 0 2<br>0 0 0 0 0 0 0 0<br>0 0 0 0 0 0 0 0<br>0 0 0 0 0 0 0 0|3|"
   ],
   "metadata": {
    "collapsed": false,
    "pycharm": {
     "name": "#%% md\n"
    }
   }
  },
  {
   "cell_type": "code",
   "execution_count": 32,
   "outputs": [],
   "source": [
    "from collections import deque\n",
    "from itertools import combinations\n",
    "import copy"
   ],
   "metadata": {
    "collapsed": false,
    "pycharm": {
     "name": "#%%\n"
    }
   }
  },
  {
   "cell_type": "code",
   "execution_count": 44,
   "outputs": [],
   "source": [
    "N, M = map(int, input().split())\n",
    "space = [list(map(int, input().split())) for _ in range(N)]"
   ],
   "metadata": {
    "collapsed": false,
    "pycharm": {
     "name": "#%%\n"
    }
   }
  },
  {
   "cell_type": "code",
   "execution_count": 45,
   "outputs": [],
   "source": [
    "viruses = []\n",
    "emptySpaces = []\n",
    "\n",
    "for i in range(N):\n",
    "    for j in range(M):\n",
    "        if space[i][j] == 0: emptySpaces.append((i, j))\n",
    "        elif space[i][j] == 2: viruses.append((i, j))"
   ],
   "metadata": {
    "collapsed": false,
    "pycharm": {
     "name": "#%%\n"
    }
   }
  },
  {
   "cell_type": "code",
   "execution_count": 10,
   "outputs": [],
   "source": [
    "go = [(0, 1), (0, -1), (1, 0), (-1, 0)]"
   ],
   "metadata": {
    "collapsed": false,
    "pycharm": {
     "name": "#%%\n"
    }
   }
  },
  {
   "cell_type": "code",
   "execution_count": 4,
   "outputs": [],
   "source": [
    "def countSafeSpace(s):\n",
    "    cnt = 0\n",
    "    for i in range(len(s)):\n",
    "        cnt += s[i].count(0)\n",
    "    return cnt"
   ],
   "metadata": {
    "collapsed": false,
    "pycharm": {
     "name": "#%%\n"
    }
   }
  },
  {
   "cell_type": "code",
   "execution_count": 28,
   "outputs": [],
   "source": [
    "def spreadVirus(s):\n",
    "    for virus in viruses:\n",
    "        q = deque([virus])\n",
    "\n",
    "        while q:\n",
    "            vy, vx = q.popleft()\n",
    "\n",
    "            for goX, goY in go:\n",
    "                x = vx + goX\n",
    "                y = vy + goY\n",
    "                if 0 <= x < M and 0 <= y < N and s[y][x] == 0:\n",
    "                    q.append((y, x))\n",
    "                    s[y][x] = 2\n",
    "    return s"
   ],
   "metadata": {
    "collapsed": false,
    "pycharm": {
     "name": "#%%\n"
    }
   }
  },
  {
   "cell_type": "code",
   "execution_count": 37,
   "outputs": [],
   "source": [
    "def spaceToSetWall(target):\n",
    "    tempSpace = copy.deepcopy(space)\n",
    "    for t in target:\n",
    "        tempSpace[t[0]][t[1]] = 1\n",
    "    return tempSpace"
   ],
   "metadata": {
    "collapsed": false,
    "pycharm": {
     "name": "#%%\n"
    }
   }
  },
  {
   "cell_type": "code",
   "execution_count": 46,
   "outputs": [
    {
     "name": "stdout",
     "output_type": "stream",
     "text": [
      "3\n"
     ]
    }
   ],
   "source": [
    "targetToSetWall = list(combinations(emptySpaces, 3))\n",
    "maxSafeSpaceSize = -1\n",
    "\n",
    "for tt in targetToSetWall:\n",
    "    maxSafeSpaceSize = max(maxSafeSpaceSize, countSafeSpace(spreadVirus(spaceToSetWall(tt))))\n",
    "\n",
    "print(maxSafeSpaceSize)"
   ],
   "metadata": {
    "collapsed": false,
    "pycharm": {
     "name": "#%%\n"
    }
   }
  }
 ],
 "metadata": {
  "kernelspec": {
   "display_name": "Python 3",
   "language": "python",
   "name": "python3"
  },
  "language_info": {
   "codemirror_mode": {
    "name": "ipython",
    "version": 2
   },
   "file_extension": ".py",
   "mimetype": "text/x-python",
   "name": "python",
   "nbconvert_exporter": "python",
   "pygments_lexer": "ipython2",
   "version": "2.7.6"
  }
 },
 "nbformat": 4,
 "nbformat_minor": 0
}