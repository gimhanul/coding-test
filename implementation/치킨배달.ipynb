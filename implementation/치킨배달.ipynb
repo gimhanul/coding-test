{
 "cells": [
  {
   "cell_type": "markdown",
   "source": [
    "# 치킨 배달\n",
    "\n",
    "크기가 N * N인 도시가 있습니다. 도시는 1 * 1 크기의 칸으로 나누어져 있습니다. 도시의 각 칸은 빈칸, 치킨집, 집 중 하나입니다. 도시의 칸은 (r, c)와 같은 형태로 나타내고, r행 c열 또는 위에서부터 r번째 칸, 왼쪽에서부터 c번째 칸을 의미합니다. r과 c는 1부터 시작합니다.\n",
    "\n",
    "이 도시에 사는 사람들은 치킨을 매우 좋아합니다. 따라서 사람들은 \"**치킨 거리**\"라는 말을 주로 사용합니다. **치킨 거리**는 집과 가장 가까운 치킨집 사이의 거리입니다. 즉 치킨 거리는 집을 기준으로 정해지며, 각각의 집은 **치킨 거리**를 가지고 있습니다. **도시의 치킨 거리**는 모든 집의 **치킨 거리**의 합입니다.\n",
    "\n",
    "임의의 두 칸 (r₁, c₁)과 (r₂, c₂) 사이의 거리는 $|r₁-r₂| + |c₁-c₂|$로 구합니다.\n",
    "\n",
    "이 도시에 있는 치킨집은 모두 같은 프랜차이즈입니다. 프랜차이즈 본사에서는 수익을 증가시키기 위해 일부 치킨집을 폐업시키려고 합니다. 오랜 연구 끝에 이 도시에서 가장 수익을 많이 낼 수 있는 치킨집의 개수는 최대 M개라는 사실을 알아냈습니다.\n",
    "\n",
    "도시에 있는 치킨집 중에서 최대 M개를 고르고, 나머지 치킨집은 모두 폐업시켜야 합니다. 어떻게 고르면, **도시의 치킨 거리**가 가장 작게 될지 구하는 프로그램을 작성하세요.\n",
    "\n",
    "<br>\n",
    "\n",
    "**입력 조건**\n",
    "\n",
    "- 첫째 줄에 N(2 <= N <= 50)과 M(1 <= M <= 13)이 주어집니다.\n",
    "- 둘째 줄부터 N개의 줄에는 도시의 정보가 주어집니다.\n",
    "- 도시의 정보는 0, 1, 2로 이루어져 있고, 0은 빈칸, 1은 집, 2는 치킨집을 의미합니다. 집의 개수는 2N개를 넘지 않으며, 적어도 1개는 존재합니다. 치킨집의 개수는 M보다 크거나 같고, 13보다 작거나 같습니다.\n",
    "\n",
    "<br>\n",
    "\n",
    "**출력 조건**\n",
    "\n",
    "- 첫째 줄에 폐업시키지 않을 치킨집을 최대 M개를 골랐을 때, 도시의 치킨 거리의 최솟값을 출력합니다.\n",
    "\n",
    "<br>\n",
    "\n",
    "|입력|출력|\n",
    "|---|---|\n",
    "|5 3<br>0 0 1 0 0<br>0 0 2 0 1<br>0 1 2 0 0<br>0 0 1 0 0<br>0 0 0 0 2|5|\n",
    "|5 2<br>0 2 0 1 0<br>1 0 1 0 0<br>0 0 0 0 0<br>2 0 0 1 1<br>2 2 0 1 2|10|\n",
    "|5 1<br>1 2 0 0 0<br>1 2 0 0 0<br>1 2 0 0 0<br>1 2 0 0 0<br>1 2 0 0 0|11|\n",
    "|5 1<br>1 2 0 2 1<br>1 2 0 2 1<br>1 2 0 2 1<br>1 2 0 2 1<br>1 2 0 2 1|32|"
   ],
   "metadata": {
    "collapsed": false,
    "pycharm": {
     "name": "#%% md\n"
    }
   }
  },
  {
   "cell_type": "code",
   "execution_count": 27,
   "outputs": [],
   "source": [
    "N, M = map(int, input().split())\n",
    "city = [list(map(int, input().split())) for _ in range(N)]"
   ],
   "metadata": {
    "collapsed": false,
    "pycharm": {
     "name": "#%%\n"
    }
   }
  },
  {
   "cell_type": "code",
   "execution_count": 28,
   "outputs": [],
   "source": [
    "chickens = []\n",
    "homes = []\n",
    "for x in range(N):\n",
    "    for y in range(N):\n",
    "        if city[x][y] == 1: homes.append((x, y))\n",
    "        elif city[x][y] == 2: chickens.append((x, y))"
   ],
   "metadata": {
    "collapsed": false,
    "pycharm": {
     "name": "#%%\n"
    }
   }
  },
  {
   "cell_type": "code",
   "execution_count": 16,
   "outputs": [],
   "source": [
    "def getSpace(one, two):\n",
    "    return abs(one[0]-two[0]) + abs(one[1]-two[1])"
   ],
   "metadata": {
    "collapsed": false,
    "pycharm": {
     "name": "#%%\n"
    }
   }
  },
  {
   "cell_type": "code",
   "execution_count": 10,
   "outputs": [],
   "source": [
    "def getMinChickenSpace(home, targetChickens):\n",
    "    minChickenSpace = 1000\n",
    "    for c in targetChickens:\n",
    "        minChickenSpace = min(minChickenSpace, getSpace(home, c))\n",
    "\n",
    "    return minChickenSpace"
   ],
   "metadata": {
    "collapsed": false,
    "pycharm": {
     "name": "#%%\n"
    }
   }
  },
  {
   "cell_type": "code",
   "execution_count": 9,
   "outputs": [],
   "source": [
    "def getSumOfChickenSpace(targetChickens):\n",
    "    sumOfChickenSpace = 0\n",
    "    for h in homes:\n",
    "        sumOfChickenSpace += getMinChickenSpace(h, targetChickens)\n",
    "\n",
    "    return sumOfChickenSpace"
   ],
   "metadata": {
    "collapsed": false,
    "pycharm": {
     "name": "#%%\n"
    }
   }
  },
  {
   "cell_type": "code",
   "execution_count": 12,
   "outputs": [],
   "source": [
    "from itertools import combinations"
   ],
   "metadata": {
    "collapsed": false,
    "pycharm": {
     "name": "#%%\n"
    }
   }
  },
  {
   "cell_type": "code",
   "execution_count": 29,
   "outputs": [],
   "source": [
    "target = list(combinations(chickens, M))\n",
    "result = 10000\n",
    "\n",
    "for t in target:\n",
    "    result = min(result, getSumOfChickenSpace(t))"
   ],
   "metadata": {
    "collapsed": false,
    "pycharm": {
     "name": "#%%\n"
    }
   }
  },
  {
   "cell_type": "code",
   "execution_count": 30,
   "outputs": [
    {
     "name": "stdout",
     "output_type": "stream",
     "text": [
      "32\n"
     ]
    }
   ],
   "source": [
    "print(result)"
   ],
   "metadata": {
    "collapsed": false,
    "pycharm": {
     "name": "#%%\n"
    }
   }
  }
 ],
 "metadata": {
  "kernelspec": {
   "display_name": "Python 3",
   "language": "python",
   "name": "python3"
  },
  "language_info": {
   "codemirror_mode": {
    "name": "ipython",
    "version": 2
   },
   "file_extension": ".py",
   "mimetype": "text/x-python",
   "name": "python",
   "nbconvert_exporter": "python",
   "pygments_lexer": "ipython2",
   "version": "2.7.6"
  }
 },
 "nbformat": 4,
 "nbformat_minor": 0
}