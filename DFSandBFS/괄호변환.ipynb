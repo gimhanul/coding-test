{
 "cells": [
  {
   "cell_type": "markdown",
   "source": [
    "# 괄호 변환\n",
    "\n",
    "[여기](https://school.programmers.co.kr/learn/courses/30/lessons/60058)"
   ],
   "metadata": {
    "collapsed": false,
    "pycharm": {
     "name": "#%% md\n"
    }
   }
  },
  {
   "cell_type": "code",
   "execution_count": null,
   "outputs": [],
   "source": [
    "def getSplitPoint(s):\n",
    "    balance = 0\n",
    "    for i in range(len(s)):\n",
    "        if s[i] == '(': balance += 1\n",
    "        elif s[i] == ')': balance -= 1\n",
    "\n",
    "        if balance == 0: return i + 1\n",
    "\n",
    "    return -1"
   ],
   "metadata": {
    "collapsed": false,
    "pycharm": {
     "name": "#%%\n"
    }
   }
  },
  {
   "cell_type": "code",
   "execution_count": null,
   "outputs": [],
   "source": [
    "def splitStr(s):\n",
    "    point = getSplitPoint(s)\n",
    "    return {\"u\": s[:point], \"v\": s[point:]}"
   ],
   "metadata": {
    "collapsed": false,
    "pycharm": {
     "name": "#%%\n"
    }
   }
  },
  {
   "cell_type": "code",
   "execution_count": null,
   "outputs": [],
   "source": [
    "def checkRight(s):\n",
    "    right = 0\n",
    "    i = 0\n",
    "\n",
    "    while i < len(s):\n",
    "        if right < 0: return False\n",
    "\n",
    "        if s[i] == '(': right += 1\n",
    "        elif s[i] == ')': right -= 1\n",
    "        i += 1\n",
    "\n",
    "    return True"
   ],
   "metadata": {
    "collapsed": false,
    "pycharm": {
     "name": "#%%\n"
    }
   }
  },
  {
   "cell_type": "code",
   "execution_count": null,
   "outputs": [],
   "source": [
    "def xorStr(w):\n",
    "    result = ''\n",
    "    for i in w:\n",
    "        if i == '(': result += ')'\n",
    "        elif i == ')': result += '('\n",
    "    return result"
   ],
   "metadata": {
    "collapsed": false,
    "pycharm": {
     "name": "#%%\n"
    }
   }
  },
  {
   "cell_type": "code",
   "execution_count": null,
   "outputs": [],
   "source": [
    "def changeRight(s):\n",
    "    if len(s) == 0: return ''\n",
    "    elif checkRight(s): return ''.join(s)\n",
    "    splitResult = splitStr(s)\n",
    "    if checkRight(splitResult[\"u\"]):\n",
    "        return ''.join(splitResult[\"u\"]) + changeRight(splitResult[\"v\"])\n",
    "    else:\n",
    "        return '(' + changeRight(splitResult[\"v\"]) + ')' + xorStr(splitResult[\"u\"][1:-1])"
   ],
   "metadata": {
    "collapsed": false,
    "pycharm": {
     "name": "#%%\n"
    }
   }
  },
  {
   "cell_type": "code",
   "execution_count": null,
   "metadata": {
    "collapsed": true,
    "pycharm": {
     "name": "#%%\n"
    }
   },
   "outputs": [],
   "source": [
    "def solution(p):\n",
    "    w = list(p)\n",
    "    return changeRight(w)"
   ]
  }
 ],
 "metadata": {
  "kernelspec": {
   "display_name": "Python 3",
   "language": "python",
   "name": "python3"
  },
  "language_info": {
   "codemirror_mode": {
    "name": "ipython",
    "version": 2
   },
   "file_extension": ".py",
   "mimetype": "text/x-python",
   "name": "python",
   "nbconvert_exporter": "python",
   "pygments_lexer": "ipython2",
   "version": "2.7.6"
  }
 },
 "nbformat": 4,
 "nbformat_minor": 0
}