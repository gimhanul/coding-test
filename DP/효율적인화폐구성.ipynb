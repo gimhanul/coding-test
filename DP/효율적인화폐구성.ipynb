{
 "cells": [
  {
   "cell_type": "markdown",
   "source": [
    "# 효율적인 화폐 구성\n",
    "\n",
    "N가지 종류의 화폐가 있다. 이 화폐들의 개수를 최소한으로 이용해서 그 가치의 합이 M원이 되도록 하려고 한다. 이때 각 화폐는 몇 개라도 사용할 수 있으며, 사용한 화폐의 구성은 같지만 순서마나 다른 것은 같은 경우로 구분한다.\n",
    "\n",
    "<br>\n",
    "\n",
    "**입력 조건**\n",
    "\n",
    "- 첫째 줄에 N, M이 주어진다. (1 <= N <= 100, 1 <= M <= 10000)\n",
    "- 이후 N개의 줄에는 각 화폐의 가치가 주어진다. 화폐 가치는 10000보다 작거나 같은 자연수이다.\n",
    "\n",
    "<br>\n",
    "\n",
    "**출력 조건**\n",
    "\n",
    "- 첫째 줄에는 M원을 만들기 위한 최소한의 화폐 개수를 출력한다.\n",
    "- 불가능할 때는 -1을 출력한다.\n",
    "\n",
    "<br>\n",
    "\n",
    "|입력|출력|\n",
    "|---|---|\n",
    "|2 15<br>2<br>3|5|\n",
    "|3 4<br>3<br>5<br>7|-1|"
   ],
   "metadata": {
    "collapsed": false,
    "pycharm": {
     "name": "#%% md\n"
    }
   }
  },
  {
   "cell_type": "code",
   "execution_count": 11,
   "outputs": [
    {
     "name": "stdout",
     "output_type": "stream",
     "text": [
      "5\n"
     ]
    }
   ],
   "source": [
    "N, M = map(int, input().split())\n",
    "money = list(map(int, input().split()))\n",
    "\n",
    "dp = [10001] * (M + 1)\n",
    "dp[0] = 0\n",
    "\n",
    "for i in range(N):\n",
    "    for j in range(money[i], M+1):\n",
    "        dp[j] = min(dp[j], dp[j-money[i]]+1)\n",
    "\n",
    "print(dp[M]) if dp[M] != 10001 else print(-1)"
   ],
   "metadata": {
    "collapsed": false,
    "pycharm": {
     "name": "#%%\n"
    }
   }
  }
 ],
 "metadata": {
  "kernelspec": {
   "display_name": "Python 3",
   "language": "python",
   "name": "python3"
  },
  "language_info": {
   "codemirror_mode": {
    "name": "ipython",
    "version": 2
   },
   "file_extension": ".py",
   "mimetype": "text/x-python",
   "name": "python",
   "nbconvert_exporter": "python",
   "pygments_lexer": "ipython2",
   "version": "2.7.6"
  }
 },
 "nbformat": 4,
 "nbformat_minor": 0
}