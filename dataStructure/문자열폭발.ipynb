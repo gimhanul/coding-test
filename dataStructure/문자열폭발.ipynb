{
 "cells": [
  {
   "cell_type": "markdown",
   "source": [
    "# 문자열 폭발\n",
    "\n",
    "[here](https://www.acmicpc.net/problem/9935)"
   ],
   "metadata": {
    "collapsed": false,
    "pycharm": {
     "name": "#%% md\n"
    }
   }
  },
  {
   "cell_type": "code",
   "execution_count": null,
   "metadata": {
    "collapsed": true,
    "pycharm": {
     "name": "#%%\n"
    }
   },
   "outputs": [],
   "source": [
    "s = input()\n",
    "target = input()\n",
    "\n",
    "while target in s:\n",
    "    s = s.replace(target, '')\n",
    "\n",
    "print(s if s != '' else 'FRULA')"
   ]
  },
  {
   "cell_type": "markdown",
   "source": [
    "는 너무ㅜ 무겁다!!"
   ],
   "metadata": {
    "collapsed": false,
    "pycharm": {
     "name": "#%% md\n"
    }
   }
  },
  {
   "cell_type": "code",
   "execution_count": null,
   "outputs": [],
   "source": [
    "ss = input()\n",
    "target = input()\n",
    "targetLen = len(target)\n",
    "stack = []\n",
    "\n",
    "for s in ss:\n",
    "    stack.append(s)\n",
    "\n",
    "    if s == target[-1] and ''.join(stack[-targetLen:]) == target:\n",
    "        for _ in range(targetLen):\n",
    "            stack.pop()\n",
    "\n",
    "print(''.join(stack) if len(stack) != 0 else 'FRULA')"
   ],
   "metadata": {
    "collapsed": false,
    "pycharm": {
     "name": "#%%\n"
    }
   }
  }
 ],
 "metadata": {
  "kernelspec": {
   "display_name": "Python 3",
   "language": "python",
   "name": "python3"
  },
  "language_info": {
   "codemirror_mode": {
    "name": "ipython",
    "version": 2
   },
   "file_extension": ".py",
   "mimetype": "text/x-python",
   "name": "python",
   "nbconvert_exporter": "python",
   "pygments_lexer": "ipython2",
   "version": "2.7.6"
  }
 },
 "nbformat": 4,
 "nbformat_minor": 0
}