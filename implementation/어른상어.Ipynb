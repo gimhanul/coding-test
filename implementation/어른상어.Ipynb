{
 "cells": [
  {
   "cell_type": "markdown",
   "source": [
    "# 어른 상어\n",
    "\n",
    "[here](https://www.acmicpc.net/problem/19237)"
   ],
   "metadata": {
    "collapsed": false,
    "pycharm": {
     "name": "#%% md\n"
    }
   }
  },
  {
   "cell_type": "code",
   "execution_count": null,
   "outputs": [],
   "source": [
    "import sys"
   ],
   "metadata": {
    "collapsed": false,
    "pycharm": {
     "name": "#%%\n"
    }
   }
  },
  {
   "cell_type": "code",
   "execution_count": null,
   "metadata": {
    "collapsed": true,
    "pycharm": {
     "name": "#%%\n"
    }
   },
   "outputs": [],
   "source": [
    "N, M, k = map(int, sys.stdin.readline().split())\n",
    "sea = [list(map(int, sys.stdin.readline().split())) for _ in range(N)]\n",
    "smell = [[[0] * 2 for _ in range(N)] for _ in range(N)]\n",
    "go = [(-1, 0), (1, 0), (0, -1), (0, 1)]\n",
    "sharkDirection = list(map(int, sys.stdin.readline().split()))\n",
    "directionPriority = [[list(map(int, sys.stdin.readline().split())) for _ in range(4)] for _ in range(M)]\n",
    "\n",
    "print(solution())"
   ]
  },
  {
   "cell_type": "code",
   "execution_count": null,
   "outputs": [],
   "source": [
    "def solution():\n",
    "    for t in range(0, 1002):\n",
    "        if isOnlyOneShark():\n",
    "            return t-1\n",
    "\n",
    "        loseSmell()\n",
    "        moveSharks()\n",
    "\n",
    "    return -1"
   ],
   "metadata": {
    "collapsed": false,
    "pycharm": {
     "name": "#%%\n"
    }
   }
  },
  {
   "cell_type": "code",
   "execution_count": null,
   "outputs": [],
   "source": [
    "def isOnlyOneShark():\n",
    "    for i in range(1, M):\n",
    "        if sharkDirection[i] is not None: return False\n",
    "\n",
    "    return True"
   ],
   "metadata": {
    "collapsed": false,
    "pycharm": {
     "name": "#%%\n"
    }
   }
  },
  {
   "cell_type": "code",
   "execution_count": null,
   "outputs": [],
   "source": [
    "def loseSmell():\n",
    "    global smell\n",
    "    for i in range(N):\n",
    "        for j in range(N):\n",
    "            if smell[i][j][1] > 1:\n",
    "                smell[i][j][1] -= 1\n",
    "            elif smell[i][j][1] == 1:\n",
    "                smell[i][j][0] = 0\n",
    "                smell[i][j][1] = 0"
   ],
   "metadata": {
    "collapsed": false,
    "pycharm": {
     "name": "#%%\n"
    }
   }
  },
  {
   "cell_type": "code",
   "execution_count": null,
   "outputs": [],
   "source": [
    "def moveSharks():\n",
    "    sharks = []\n",
    "    for m in range(M, 0, -1):\n",
    "        result = findSharkPositionAndLeaveSmell(m)\n",
    "        if result is not None:\n",
    "            sharks.append((m, result))\n",
    "\n",
    "    for m, xy in sharks:\n",
    "        sx, sy = xy\n",
    "        goShark(m, sx, sy)"
   ],
   "metadata": {
    "collapsed": false,
    "pycharm": {
     "name": "#%%\n"
    }
   }
  },
  {
   "cell_type": "code",
   "execution_count": null,
   "outputs": [],
   "source": [
    "def findSharkPositionAndLeaveSmell(target):\n",
    "    global smell, sharkDirection\n",
    "\n",
    "    for i in range(N):\n",
    "        for j in range(N):\n",
    "            if sea[i][j] == target:\n",
    "                smell[i][j] = [target, k]\n",
    "                return i, j\n",
    "\n",
    "    sharkDirection[target-1] = None\n",
    "    return None"
   ],
   "metadata": {
    "collapsed": false,
    "pycharm": {
     "name": "#%%\n"
    }
   }
  },
  {
   "cell_type": "code",
   "execution_count": null,
   "outputs": [],
   "source": [
    "def goShark(shark, sx, sy):\n",
    "    sdirection = sharkDirection[shark-1]\n",
    "\n",
    "    for d in directionPriority[shark-1][sdirection-1]:\n",
    "        gx, gy = go[d-1]\n",
    "        tx, ty = sx+gx, sy+gy\n",
    "\n",
    "        if 0 <= tx < N and 0 <= ty < N and smell[tx][ty][0] == 0:\n",
    "            moveShark(shark, sx, sy, tx, ty, d)\n",
    "            return\n",
    "\n",
    "    for d in directionPriority[shark-1][sdirection-1]:\n",
    "        gx, gy = go[d-1]\n",
    "        tx, ty = sx+gx, sy+gy\n",
    "\n",
    "        if 0 <= tx < N and 0 <= ty < N and smell[tx][ty][0] == shark:\n",
    "            moveShark(shark, sx, sy, tx, ty, d)\n",
    "            return"
   ],
   "metadata": {
    "collapsed": false,
    "pycharm": {
     "name": "#%%\n"
    }
   }
  },
  {
   "cell_type": "code",
   "execution_count": null,
   "outputs": [],
   "source": [
    "def moveShark(shark, sx, sy, tx, ty, d):\n",
    "    global sea, sharkDirection\n",
    "\n",
    "    sea[sx][sy] = 0\n",
    "    sea[tx][ty] = shark\n",
    "    sharkDirection[shark-1] = d"
   ],
   "metadata": {
    "collapsed": false,
    "pycharm": {
     "name": "#%%\n"
    }
   }
  }
 ],
 "metadata": {
  "kernelspec": {
   "display_name": "Python 3",
   "language": "python",
   "name": "python3"
  },
  "language_info": {
   "codemirror_mode": {
    "name": "ipython",
    "version": 2
   },
   "file_extension": ".py",
   "mimetype": "text/x-python",
   "name": "python",
   "nbconvert_exporter": "python",
   "pygments_lexer": "ipython2",
   "version": "2.7.6"
  }
 },
 "nbformat": 4,
 "nbformat_minor": 0
}