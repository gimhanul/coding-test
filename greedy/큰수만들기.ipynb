{
 "cells": [
  {
   "cell_type": "markdown",
   "source": [
    "# 큰 수 만들기\n",
    "\n",
    "[here](https://school.programmers.co.kr/learn/courses/30/lessons/42883?language=python3)"
   ],
   "metadata": {
    "collapsed": false,
    "pycharm": {
     "name": "#%% md\n"
    }
   }
  },
  {
   "cell_type": "code",
   "execution_count": null,
   "metadata": {
    "collapsed": true,
    "pycharm": {
     "name": "#%%\n"
    }
   },
   "outputs": [],
   "source": [
    "def solution(number, k):\n",
    "    answer = []\n",
    "\n",
    "    for n in number:\n",
    "        while k > 0 and answer and answer[-1] < n:\n",
    "            answer.pop()\n",
    "            k -= 1\n",
    "        answer.append(n)\n",
    "\n",
    "    return ''.join(answer[:len(answer) - k])"
   ]
  }
 ],
 "metadata": {
  "kernelspec": {
   "display_name": "Python 3",
   "language": "python",
   "name": "python3"
  },
  "language_info": {
   "codemirror_mode": {
    "name": "ipython",
    "version": 2
   },
   "file_extension": ".py",
   "mimetype": "text/x-python",
   "name": "python",
   "nbconvert_exporter": "python",
   "pygments_lexer": "ipython2",
   "version": "2.7.6"
  }
 },
 "nbformat": 4,
 "nbformat_minor": 0
}