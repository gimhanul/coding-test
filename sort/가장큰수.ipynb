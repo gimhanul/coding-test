{
 "cells": [
  {
   "cell_type": "markdown",
   "source": [
    "# 가장 큰 수\n",
    "\n",
    "[here](https://school.programmers.co.kr/learn/courses/30/lessons/42746)"
   ],
   "metadata": {
    "collapsed": false,
    "pycharm": {
     "name": "#%% md\n"
    }
   }
  },
  {
   "cell_type": "code",
   "execution_count": 9,
   "outputs": [],
   "source": [
    "def solution(numbers):\n",
    "    for i in range(len(numbers)):\n",
    "        numbers[i] = str(numbers[i])\n",
    "\n",
    "    numbers.sort(reverse=True)\n",
    "    return ''.join(numbers)"
   ],
   "metadata": {
    "collapsed": false,
    "pycharm": {
     "name": "#%%\n"
    }
   }
  },
  {
   "cell_type": "markdown",
   "source": [
    "아쉽게도 [3, 30, 34, 5, 9]에서 안 먹히는 알고리듬이내요...\n",
    "\n",
    "redix sort 기수 정렬을 쓰면 좋다는 힌트 획득...\n",
    "\n",
    "[참고 글](https://week-year.tistory.com/206)\n",
    "\n",
    "그러려고햇는데  더 좋은 풀이를 찾아버렷다."
   ],
   "metadata": {
    "collapsed": false,
    "pycharm": {
     "name": "#%% md\n"
    }
   }
  },
  {
   "cell_type": "code",
   "execution_count": 19,
   "outputs": [],
   "source": [
    "def solution(numbers):\n",
    "    str_numbers = list(map(str, numbers))\n",
    "    result = sorted(str_numbers, key = lambda x: x*3, reverse=True)\n",
    "    return str(int(''.join(result)))"
   ],
   "metadata": {
    "collapsed": false,
    "pycharm": {
     "name": "#%%\n"
    }
   }
  },
  {
   "cell_type": "code",
   "execution_count": 20,
   "metadata": {
    "collapsed": true,
    "pycharm": {
     "name": "#%%\n"
    }
   },
   "outputs": [
    {
     "data": {
      "text/plain": "'6210'"
     },
     "execution_count": 20,
     "metadata": {},
     "output_type": "execute_result"
    }
   ],
   "source": [
    "solution([6, 10, 2])\n",
    "\n",
    "# must be \"6210\""
   ]
  },
  {
   "cell_type": "code",
   "execution_count": 21,
   "outputs": [
    {
     "data": {
      "text/plain": "'9534330'"
     },
     "execution_count": 21,
     "metadata": {},
     "output_type": "execute_result"
    }
   ],
   "source": [
    "solution([3, 30, 34, 5, 9])\n",
    "\n",
    "# must be \"9534330\""
   ],
   "metadata": {
    "collapsed": false,
    "pycharm": {
     "name": "#%%\n"
    }
   }
  }
 ],
 "metadata": {
  "kernelspec": {
   "display_name": "Python 3",
   "language": "python",
   "name": "python3"
  },
  "language_info": {
   "codemirror_mode": {
    "name": "ipython",
    "version": 2
   },
   "file_extension": ".py",
   "mimetype": "text/x-python",
   "name": "python",
   "nbconvert_exporter": "python",
   "pygments_lexer": "ipython2",
   "version": "2.7.6"
  }
 },
 "nbformat": 4,
 "nbformat_minor": 0
}