{
 "cells": [
  {
   "cell_type": "markdown",
   "source": [
    "# 사탕 분배\n",
    "\n",
    "Singapore Programming Task"
   ],
   "metadata": {
    "collapsed": false,
    "pycharm": {
     "name": "#%% md\n"
    }
   }
  },
  {
   "cell_type": "code",
   "execution_count": null,
   "metadata": {
    "collapsed": true,
    "pycharm": {
     "name": "#%%\n"
    }
   },
   "outputs": [],
   "source": [
    "import sys\n",
    "\n",
    "read = sys.stdin.readline\n",
    "\n",
    "N = int(read().rstrip())\n",
    "rating = list(map(int, read().split()))\n",
    "candy = [1] * N\n",
    "\n",
    "hasChanged = True\n",
    "while (hasChanged):\n",
    "    hasChanged = False\n",
    "    for i in range(N):\n",
    "        if 0 < i < N and rating[i] > rating[i - 1] and candy[i] <= candy[i - 1]:\n",
    "            candy[i] = candy[i - 1] + 1\n",
    "            hasChanged = True\n",
    "        if 0 <= i < N - 1 and rating[i] > rating[i + 1] and candy[i] <= candy[i + 1]:\n",
    "            candy[i] = candy[i + 1] + 1\n",
    "            hasChanged = True\n",
    "\n",
    "print(sum(candy))\n"
   ]
  }
 ],
 "metadata": {
  "kernelspec": {
   "display_name": "Python 3",
   "language": "python",
   "name": "python3"
  },
  "language_info": {
   "codemirror_mode": {
    "name": "ipython",
    "version": 2
   },
   "file_extension": ".py",
   "mimetype": "text/x-python",
   "name": "python",
   "nbconvert_exporter": "python",
   "pygments_lexer": "ipython2",
   "version": "2.7.6"
  }
 },
 "nbformat": 4,
 "nbformat_minor": 0
}