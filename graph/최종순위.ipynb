{
 "cells": [
  {
   "cell_type": "markdown",
   "source": [
    "# 최종 순위\n",
    "\n",
    "[here](https://www.acmicpc.net/problem/3665)"
   ],
   "metadata": {
    "collapsed": false,
    "pycharm": {
     "name": "#%% md\n"
    }
   }
  },
  {
   "cell_type": "code",
   "execution_count": 9,
   "outputs": [],
   "source": [
    "from collections import deque\n",
    "import sys"
   ],
   "metadata": {
    "collapsed": false,
    "pycharm": {
     "name": "#%%\n"
    }
   }
  },
  {
   "cell_type": "code",
   "execution_count": 7,
   "metadata": {
    "collapsed": true,
    "pycharm": {
     "name": "#%%\n"
    }
   },
   "outputs": [],
   "source": [
    "def solution():\n",
    "    n = int(sys.stdin.readline())\n",
    "    graph = [[] for _ in range(n+1)]\n",
    "    indegree = [0] * (n+1)\n",
    "    lastYearTeamRanking = list(map(int, sys.stdin.readline().split()))\n",
    "\n",
    "    m = int(sys.stdin.readline())\n",
    "    changes = []\n",
    "    for _ in range(m):\n",
    "        a, b = map(int, sys.stdin.readline().split())\n",
    "        changes.append((a, b))\n",
    "\n",
    "    for i in range(n-1):\n",
    "        for j in range(i+1, n):\n",
    "            a, b = lastYearTeamRanking[i], lastYearTeamRanking[j]\n",
    "            if (a, b) in changes or (b, a) in changes:\n",
    "                graph[b].append(a)\n",
    "                indegree[a] += 1\n",
    "            else:\n",
    "                graph[a].append(b)\n",
    "                indegree[b] += 1\n",
    "\n",
    "    result = topology(graph, n, indegree)\n",
    "    if len(result) == 0: print(\"IMPOSSIBLE\")\n",
    "    else:\n",
    "        for r in result: print(r, end=' ')"
   ]
  },
  {
   "cell_type": "code",
   "execution_count": 8,
   "outputs": [],
   "source": [
    "def topology(graph, n, indegree):\n",
    "    result = []\n",
    "    q = deque()\n",
    "\n",
    "    for i in range(1, n+1):\n",
    "        if indegree[i] == 0: q.append(i)\n",
    "\n",
    "    while q:\n",
    "        now = q.popleft()\n",
    "        if len(q) == 0: result.append(now)\n",
    "        else: return []\n",
    "\n",
    "        for g in graph[now]:\n",
    "            indegree[g] -= 1\n",
    "            if indegree[g] == 0: q.append(g)\n",
    "\n",
    "    return result"
   ],
   "metadata": {
    "collapsed": false,
    "pycharm": {
     "name": "#%%\n"
    }
   }
  },
  {
   "cell_type": "code",
   "execution_count": 10,
   "outputs": [
    {
     "ename": "ValueError",
     "evalue": "invalid literal for int() with base 10: ''",
     "output_type": "error",
     "traceback": [
      "\u001B[0;31m---------------------------------------------------------------------------\u001B[0m",
      "\u001B[0;31mValueError\u001B[0m                                Traceback (most recent call last)",
      "Input \u001B[0;32mIn [10]\u001B[0m, in \u001B[0;36m<cell line: 1>\u001B[0;34m()\u001B[0m\n\u001B[0;32m----> 1\u001B[0m testcase \u001B[38;5;241m=\u001B[39m \u001B[38;5;28;43mint\u001B[39;49m\u001B[43m(\u001B[49m\u001B[43msys\u001B[49m\u001B[38;5;241;43m.\u001B[39;49m\u001B[43mstdin\u001B[49m\u001B[38;5;241;43m.\u001B[39;49m\u001B[43mreadline\u001B[49m\u001B[43m(\u001B[49m\u001B[43m)\u001B[49m\u001B[43m)\u001B[49m\n\u001B[1;32m      2\u001B[0m \u001B[38;5;28;01mfor\u001B[39;00m _ \u001B[38;5;129;01min\u001B[39;00m \u001B[38;5;28mrange\u001B[39m(testcase):\n\u001B[1;32m      3\u001B[0m     solution()\n",
      "\u001B[0;31mValueError\u001B[0m: invalid literal for int() with base 10: ''"
     ]
    }
   ],
   "source": [
    "testcase = int(sys.stdin.readline())\n",
    "for _ in range(testcase):\n",
    "    solution()\n",
    "    print()"
   ],
   "metadata": {
    "collapsed": false,
    "pycharm": {
     "name": "#%%\n"
    }
   }
  },
  {
   "cell_type": "code",
   "execution_count": null,
   "outputs": [],
   "source": [
    "인접행렬로 바꿔서 성능개선.."
   ],
   "metadata": {
    "collapsed": false,
    "pycharm": {
     "name": "#%%\n"
    }
   }
  },
  {
   "cell_type": "code",
   "execution_count": null,
   "outputs": [],
   "source": [
    "from collections import deque\n",
    "import sys\n",
    "\n",
    "\n",
    "def solution():\n",
    "    n = int(sys.stdin.readline())\n",
    "    graph = [[False] * (n+1) for _ in range(n+1)]\n",
    "    indegree = [0] * (n+1)\n",
    "\n",
    "    lastYearTeamRanking = list(map(int, sys.stdin.readline().split()))\n",
    "    for i in range(n):\n",
    "        for j in range(i+1, n):\n",
    "            graph[lastYearTeamRanking[i]][lastYearTeamRanking[j]] = True\n",
    "            indegree[lastYearTeamRanking[j]] += 1\n",
    "\n",
    "    m = int(sys.stdin.readline())\n",
    "    for i in range(m):\n",
    "        a, b = map(int, sys.stdin.readline().split())\n",
    "        if graph[b][a]: a, b = b, a\n",
    "\n",
    "        graph[a][b], graph[b][a] = False, True\n",
    "        indegree[a] += 1\n",
    "        indegree[b] -= 1\n",
    "\n",
    "    print(topology(graph, n, indegree))\n",
    "\n",
    "\n",
    "def topology(graph, n, indegree):\n",
    "    result = []\n",
    "    q = deque()\n",
    "\n",
    "    for i in range(1, n+1):\n",
    "        if indegree[i] == 0: q.append(i)\n",
    "\n",
    "    while q:\n",
    "        now = q.popleft()\n",
    "        if len(q) == 0: result.append(now)\n",
    "        else: return \"IMPOSSIBLE\"\n",
    "\n",
    "        for i in range(1, n+1):\n",
    "            if graph[now][i]:\n",
    "                indegree[i] -= 1\n",
    "                if indegree[i] == 0: q.append(i)\n",
    "\n",
    "    if len(result) != n: return \"IMPOSSIBLE\"\n",
    "\n",
    "    resultStr = \"\"\n",
    "    for r in result: resultStr += str(r) + \" \"\n",
    "    return resultStr\n",
    "\n",
    "\n",
    "testcase = int(sys.stdin.readline())\n",
    "for _ in range(testcase): solution()"
   ],
   "metadata": {
    "collapsed": false,
    "pycharm": {
     "name": "#%%\n"
    }
   }
  }
 ],
 "metadata": {
  "kernelspec": {
   "display_name": "Python 3",
   "language": "python",
   "name": "python3"
  },
  "language_info": {
   "codemirror_mode": {
    "name": "ipython",
    "version": 2
   },
   "file_extension": ".py",
   "mimetype": "text/x-python",
   "name": "python",
   "nbconvert_exporter": "python",
   "pygments_lexer": "ipython2",
   "version": "2.7.6"
  }
 },
 "nbformat": 4,
 "nbformat_minor": 0
}