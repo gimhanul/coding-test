{
 "cells": [
  {
   "cell_type": "markdown",
   "source": [
    "# 집합의 표현\n",
    "\n",
    "[here](https://www.acmicpc.net/problem/1717)"
   ],
   "metadata": {
    "collapsed": false,
    "pycharm": {
     "name": "#%% md\n"
    }
   }
  },
  {
   "cell_type": "code",
   "execution_count": null,
   "metadata": {
    "collapsed": true,
    "pycharm": {
     "name": "#%%\n"
    }
   },
   "outputs": [],
   "source": [
    "import sys\n",
    "read = sys.stdin.readline\n",
    "sys.setrecursionlimit(10**5)\n",
    "\n",
    "n, m = map(int, read().split())\n",
    "parent = list(range(n + 1))\n",
    "\n",
    "\n",
    "def findParent(x):\n",
    "    global parent\n",
    "\n",
    "    if parent[x] != x:\n",
    "        parent[x] = findParent(parent[x])\n",
    "    return parent[x]\n",
    "\n",
    "\n",
    "def unionParent(a, b):\n",
    "    global parent\n",
    "\n",
    "    a = findParent(a)\n",
    "    b = findParent(b)\n",
    "\n",
    "    if a < b: parent[b] = a\n",
    "    else: parent[a] = b\n",
    "\n",
    "\n",
    "for _ in range(m):\n",
    "    flag, a, b = map(int, read().split())\n",
    "    if flag == 0: unionParent(a, b)\n",
    "    else: print(\"YES\" if findParent(a) == findParent(b) else \"NO\")"
   ]
  }
 ],
 "metadata": {
  "kernelspec": {
   "display_name": "Python 3",
   "language": "python",
   "name": "python3"
  },
  "language_info": {
   "codemirror_mode": {
    "name": "ipython",
    "version": 2
   },
   "file_extension": ".py",
   "mimetype": "text/x-python",
   "name": "python",
   "nbconvert_exporter": "python",
   "pygments_lexer": "ipython2",
   "version": "2.7.6"
  }
 },
 "nbformat": 4,
 "nbformat_minor": 0
}