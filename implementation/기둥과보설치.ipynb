{
 "cells": [
  {
   "cell_type": "markdown",
   "source": [
    "# 기둥과 보 설치\n",
    "\n",
    "[here](https://programmers.co.kr/learn/courses/30/lessons/60061)"
   ],
   "metadata": {
    "collapsed": false,
    "pycharm": {
     "name": "#%% md\n"
    }
   }
  },
  {
   "cell_type": "code",
   "execution_count": null,
   "metadata": {
    "collapsed": true,
    "pycharm": {
     "name": "#%%\n"
    }
   },
   "outputs": [],
   "source": [
    "def checkBo(structure, bo):\n",
    "    x, y, gidungOrBo = bo\n",
    "    return [x, y-1, 0] in structure or [x+1, y-1, 0] in structure or ([x-1, y, 1] in structure and [x+1, y, 1] in structure)"
   ]
  },
  {
   "cell_type": "code",
   "execution_count": null,
   "outputs": [],
   "source": [
    "def checkGidung(structure, gidung):\n",
    "    x, y, gidungOrBo = gidung\n",
    "    return y == 0 or [x-1, y, 1] in structure or [x, y, 1] in structure or [x, y-1, 0] in structure"
   ],
   "metadata": {
    "collapsed": false,
    "pycharm": {
     "name": "#%%\n"
    }
   }
  },
  {
   "cell_type": "code",
   "execution_count": null,
   "outputs": [],
   "source": [
    "def check(structure):\n",
    "    for s in structure:\n",
    "        if s[2] == 0: result = checkGidung(structure, s)\n",
    "        elif s[2] == 1: result = checkBo(structure, s)\n",
    "\n",
    "        if not result: return False\n",
    "\n",
    "    return True"
   ],
   "metadata": {
    "collapsed": false,
    "pycharm": {
     "name": "#%%\n"
    }
   }
  },
  {
   "cell_type": "code",
   "execution_count": null,
   "outputs": [],
   "source": [
    "def solution(n, build_frame):\n",
    "    answer = []\n",
    "\n",
    "    for b in build_frame:\n",
    "        structure = b[:3]\n",
    "\n",
    "        if b[3] == 0: answer.remove(structure)\n",
    "        elif b[3] == 1: answer.append(structure)\n",
    "\n",
    "        if not check(answer):\n",
    "            if b[3] == 0: answer.append(structure)\n",
    "            elif b[3] == 1: answer.remove(structure)\n",
    "\n",
    "    answer.sort()\n",
    "    return answer"
   ],
   "metadata": {
    "collapsed": false,
    "pycharm": {
     "name": "#%%\n"
    }
   }
  }
 ],
 "metadata": {
  "kernelspec": {
   "display_name": "Python 3",
   "language": "python",
   "name": "python3"
  },
  "language_info": {
   "codemirror_mode": {
    "name": "ipython",
    "version": 2
   },
   "file_extension": ".py",
   "mimetype": "text/x-python",
   "name": "python",
   "nbconvert_exporter": "python",
   "pygments_lexer": "ipython2",
   "version": "2.7.6"
  }
 },
 "nbformat": 4,
 "nbformat_minor": 0
}