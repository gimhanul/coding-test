{
 "cells": [
  {
   "cell_type": "markdown",
   "source": [
    "# 최소직사각형\n",
    "\n",
    "[here](https://school.programmers.co.kr/learn/courses/30/lessons/86491)"
   ],
   "metadata": {
    "collapsed": false,
    "pycharm": {
     "name": "#%% md\n"
    }
   }
  },
  {
   "cell_type": "code",
   "execution_count": 25,
   "metadata": {
    "collapsed": true,
    "pycharm": {
     "name": "#%%\n"
    }
   },
   "outputs": [],
   "source": [
    "def solution(sizes):\n",
    "    max_width, max_height = -1, -1\n",
    "    for w, h in sizes:\n",
    "        if w < h: w, h = h, w\n",
    "        max_width = max(max_width, w)\n",
    "        max_height = max(max_height, h)\n",
    "    return max_width * max_height"
   ]
  },
  {
   "cell_type": "code",
   "execution_count": 26,
   "outputs": [
    {
     "name": "stdout",
     "output_type": "stream",
     "text": [
      "4000\n"
     ]
    }
   ],
   "source": [
    "print(solution([[60, 50], [30, 70], [60, 30], [80, 40]]))\n",
    "\n",
    "# must be 4000"
   ],
   "metadata": {
    "collapsed": false,
    "pycharm": {
     "name": "#%%\n"
    }
   }
  },
  {
   "cell_type": "code",
   "execution_count": 27,
   "outputs": [
    {
     "name": "stdout",
     "output_type": "stream",
     "text": [
      "120\n"
     ]
    }
   ],
   "source": [
    "print(solution([[10, 7], [12, 3], [8, 15], [14, 7], [5, 15]]))\n",
    "\n",
    "# must be 120"
   ],
   "metadata": {
    "collapsed": false,
    "pycharm": {
     "name": "#%%\n"
    }
   }
  },
  {
   "cell_type": "code",
   "execution_count": 28,
   "outputs": [
    {
     "name": "stdout",
     "output_type": "stream",
     "text": [
      "133\n"
     ]
    }
   ],
   "source": [
    "print(solution([[14, 4], [19, 6], [6, 16], [18, 7], [7, 11]]))\n",
    "\n",
    "# must be 133"
   ],
   "metadata": {
    "collapsed": false,
    "pycharm": {
     "name": "#%%\n"
    }
   }
  }
 ],
 "metadata": {
  "kernelspec": {
   "display_name": "Python 3",
   "language": "python",
   "name": "python3"
  },
  "language_info": {
   "codemirror_mode": {
    "name": "ipython",
    "version": 2
   },
   "file_extension": ".py",
   "mimetype": "text/x-python",
   "name": "python",
   "nbconvert_exporter": "python",
   "pygments_lexer": "ipython2",
   "version": "2.7.6"
  }
 },
 "nbformat": 4,
 "nbformat_minor": 0
}