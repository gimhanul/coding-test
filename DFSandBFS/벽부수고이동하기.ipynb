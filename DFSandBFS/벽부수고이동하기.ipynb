{
 "cells": [
  {
   "cell_type": "markdown",
   "source": [
    "# 벽 부수고 이동하기\n",
    "\n",
    "[here](https://www.acmicpc.net/problem/2206)"
   ],
   "metadata": {
    "collapsed": false,
    "pycharm": {
     "name": "#%% md\n"
    }
   }
  },
  {
   "cell_type": "code",
   "execution_count": null,
   "metadata": {
    "collapsed": true,
    "pycharm": {
     "name": "#%%\n"
    }
   },
   "outputs": [],
   "source": [
    "from collections import deque\n",
    "\n",
    "INF = int(1e9)\n",
    "go = [(0, 1), (1, 0), (-1, 0), (0, -1)]\n",
    "N, M = map(int, input().split())\n",
    "place = [[] for _ in range(N)]\n",
    "\n",
    "for i in range(N):\n",
    "    place[i] = list(map(int, input()))\n",
    "\n",
    "\n",
    "def getShortestDistance():\n",
    "    p = [[0] * M for _ in range(N)]\n",
    "    p[0][0] = 1\n",
    "    q = deque([(0, 0)])\n",
    "\n",
    "    while q:\n",
    "        nx, ny = q.popleft()\n",
    "\n",
    "        for gx, gy in go:\n",
    "            tx, ty = nx+gx, ny+gy\n",
    "            if 0 <= tx < N and 0 <= ty < M and p[tx][ty] == 0 and place[tx][ty] == 0:\n",
    "                p[tx][ty] = p[nx][ny] + 1\n",
    "                q.append((tx, ty))\n",
    "\n",
    "    if p[N-1][M-1] == 0: return INF\n",
    "    return p[N-1][M-1]\n",
    "\n",
    "\n",
    "def bombWall():\n",
    "    global minDistance\n",
    "\n",
    "    for i in range(N):\n",
    "        for j in range(M):\n",
    "            if place[i][j] == 1:\n",
    "                place[i][j] = 0\n",
    "                minDistance = min(minDistance, getShortestDistance())\n",
    "                place[i][j] = 1\n",
    "\n",
    "\n",
    "minDistance = getShortestDistance()\n",
    "bombWall()\n",
    "print(minDistance if minDistance != INF else -1)"
   ]
  }
 ],
 "metadata": {
  "kernelspec": {
   "display_name": "Python 3",
   "language": "python",
   "name": "python3"
  },
  "language_info": {
   "codemirror_mode": {
    "name": "ipython",
    "version": 2
   },
   "file_extension": ".py",
   "mimetype": "text/x-python",
   "name": "python",
   "nbconvert_exporter": "python",
   "pygments_lexer": "ipython2",
   "version": "2.7.6"
  }
 },
 "nbformat": 4,
 "nbformat_minor": 0
}