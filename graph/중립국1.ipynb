{
 "cells": [
  {
   "cell_type": "markdown",
   "source": [
    "# 중립국 1\n",
    "\n",
    "[here](https://codeup.kr/problem.php?id=3270)"
   ],
   "metadata": {
    "collapsed": false,
    "pycharm": {
     "name": "#%% md\n"
    }
   }
  },
  {
   "cell_type": "code",
   "execution_count": null,
   "metadata": {
    "collapsed": true,
    "pycharm": {
     "name": "#%%\n"
    }
   },
   "outputs": [],
   "source": [
    "import sys\n",
    "read = sys.stdin.readline\n",
    "\n",
    "N, M = map(int, read().split())\n",
    "parent = list(range(N+1))\n",
    "\n",
    "\n",
    "def findParent(x):\n",
    "    global parent\n",
    "\n",
    "    if parent[x] != x:\n",
    "        parent[x] = findParent(parent[x])\n",
    "    return parent[x]\n",
    "\n",
    "\n",
    "def unionParent(a, b):\n",
    "    global parent\n",
    "\n",
    "    a = findParent(a)\n",
    "    b = findParent(b)\n",
    "\n",
    "    if a < b: parent[b] = a\n",
    "    else: parent[a] = b\n",
    "\n",
    "\n",
    "for _ in range(M):\n",
    "    kingdom, kingd0m = map(int, read().split())\n",
    "    unionParent(kingdom, kingd0m)\n",
    "\n",
    "for i in range(1, N+1):\n",
    "    print(findParent(i), end=' ')"
   ]
  }
 ],
 "metadata": {
  "kernelspec": {
   "display_name": "Python 3",
   "language": "python",
   "name": "python3"
  },
  "language_info": {
   "codemirror_mode": {
    "name": "ipython",
    "version": 2
   },
   "file_extension": ".py",
   "mimetype": "text/x-python",
   "name": "python",
   "nbconvert_exporter": "python",
   "pygments_lexer": "ipython2",
   "version": "2.7.6"
  }
 },
 "nbformat": 4,
 "nbformat_minor": 0
}