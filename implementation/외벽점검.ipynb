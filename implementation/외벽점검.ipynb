{
 "cells": [
  {
   "cell_type": "markdown",
   "source": [
    "# 외벽 점검\n",
    "\n",
    "[here](https://school.programmers.co.kr/learn/courses/30/lessons/60062)"
   ],
   "metadata": {
    "collapsed": false,
    "pycharm": {
     "name": "#%% md\n"
    }
   }
  },
  {
   "cell_type": "code",
   "execution_count": null,
   "metadata": {
    "collapsed": true,
    "pycharm": {
     "name": "#%%\n"
    }
   },
   "outputs": [],
   "source": [
    "import copy\n",
    "from itertools import permutations\n",
    "\n",
    "def getServiceWeak(start, n, weak, dist):\n",
    "    serviceWeak = []\n",
    "    for _ in range(dist+1):\n",
    "        if start in weak: serviceWeak.append(start)\n",
    "        start = (start+1) % n\n",
    "\n",
    "    return serviceWeak\n",
    "\n",
    "def getMaxServiceWeak(n, weak, dist):\n",
    "    maxServiceWeak = []\n",
    "    for i in range(n):\n",
    "        temp = getServiceWeak(i, n, weak, dist)\n",
    "        if len(maxServiceWeak) < len(temp): maxServiceWeak = copy.deepcopy(temp)\n",
    "    return maxServiceWeak\n",
    "\n",
    "def serviceWeak(n, weak, dist):\n",
    "    serviceWeak = getMaxServiceWeak(n, weak, dist)\n",
    "\n",
    "    if len(serviceWeak) == 0: return False\n",
    "\n",
    "    for s in serviceWeak:\n",
    "        weak.remove(s)\n",
    "\n",
    "    return True\n",
    "\n",
    "def getServiceWeakResult(n, weak, dist):\n",
    "    tempWeak = copy.deepcopy(weak)\n",
    "\n",
    "    cnt = 0\n",
    "    for d in dist:\n",
    "        if serviceWeak(n, tempWeak, d): cnt += 1\n",
    "\n",
    "    return cnt\n",
    "\n",
    "def solution(n, weak, dist):\n",
    "    targetDists = list(permutations(dist, len(dist)))\n",
    "    minServiceWeakResult = 10000\n",
    "    for t in targetDists:\n",
    "        minServiceWeakResult = min(minServiceWeakResult, getServiceWeakResult(n, weak, t))\n",
    "\n",
    "    return minServiceWeakResult"
   ]
  },
  {
   "cell_type": "markdown",
   "source": [
    "개같이 멸망\n",
    "시간초과 뜸"
   ],
   "metadata": {
    "collapsed": false,
    "pycharm": {
     "name": "#%% md\n"
    }
   }
  },
  {
   "cell_type": "code",
   "execution_count": null,
   "outputs": [],
   "source": [
    "from itertools import permutations\n",
    "\n",
    "def solution(n, weak, dist):\n",
    "\n",
    "    # 길이를 2배로 늘려 원형을 일자 형태로 변경\n",
    "    weakSize = len(weak)\n",
    "    for i in range(weakSize):\n",
    "        weak.append(weak[i] + n)\n",
    "\n",
    "    # 투입할 친구의 최솟값을 찾아야 하므로 친구 수 + 1로 초기화\n",
    "    answer = len(dist) + 1\n",
    "\n",
    "\n",
    "    for start in range(weakSize):\n",
    "\n",
    "        # 친구를 나열하는 모든 경우의 수에 대해 확인\n",
    "        for friends in list(permutations(dist, len(dist))):\n",
    "            cnt = 1\n",
    "            position = weak[start] + friends[cnt - 1]\n",
    "            for i in range(start, start + weakSize):\n",
    "                if position < weak[i]:\n",
    "                    cnt += 1\n",
    "                    if cnt > len(dist): break\n",
    "                    position = weak[i] + friends[cnt - 1]\n",
    "            answer = min(answer, cnt)\n",
    "\n",
    "    if answer > len(dist): return -1\n",
    "    return answer"
   ],
   "metadata": {
    "collapsed": false,
    "pycharm": {
     "name": "#%%\n"
    }
   }
  }
 ],
 "metadata": {
  "kernelspec": {
   "display_name": "Python 3",
   "language": "python",
   "name": "python3"
  },
  "language_info": {
   "codemirror_mode": {
    "name": "ipython",
    "version": 2
   },
   "file_extension": ".py",
   "mimetype": "text/x-python",
   "name": "python",
   "nbconvert_exporter": "python",
   "pygments_lexer": "ipython2",
   "version": "2.7.6"
  }
 },
 "nbformat": 4,
 "nbformat_minor": 0
}