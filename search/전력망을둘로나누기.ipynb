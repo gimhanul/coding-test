{
 "cells": [
  {
   "cell_type": "markdown",
   "source": [
    "# 전력망을 둘로 나누기\n",
    "\n",
    "[here](https://school.programmers.co.kr/learn/courses/30/lessons/86971)"
   ],
   "metadata": {
    "collapsed": false,
    "pycharm": {
     "name": "#%% md\n"
    }
   }
  },
  {
   "cell_type": "code",
   "execution_count": 8,
   "metadata": {
    "collapsed": true,
    "pycharm": {
     "name": "#%%\n"
    }
   },
   "outputs": [],
   "source": [
    "def solution(n, wires):\n",
    "    answer = 999999\n",
    "\n",
    "    for i in range(len(wires)):\n",
    "        graph = create_graph(n, wires, i)\n",
    "        answer = min(answer, bfs(graph, n))\n",
    "\n",
    "    return answer"
   ]
  },
  {
   "cell_type": "code",
   "execution_count": 6,
   "outputs": [],
   "source": [
    "def create_graph(n, wires, removeIndex):\n",
    "    graph = [[] for _ in range(n+1)]\n",
    "\n",
    "    for i in range(len(wires)):\n",
    "        if i != removeIndex:\n",
    "            w1, w2 = wires[i][0], wires[i][1]\n",
    "            graph[w1].append(w2)\n",
    "            graph[w2].append(w1)\n",
    "\n",
    "    return graph"
   ],
   "metadata": {
    "collapsed": false,
    "pycharm": {
     "name": "#%%\n"
    }
   }
  },
  {
   "cell_type": "code",
   "execution_count": 24,
   "outputs": [],
   "source": [
    "from collections import deque\n",
    "\n",
    "def bfs(graph, n):\n",
    "    queue = deque([1])\n",
    "    visited = [False] * (n+1)\n",
    "    visited[1] = True\n",
    "    cnt = 1\n",
    "\n",
    "    while queue:\n",
    "        v = queue.popleft()\n",
    "\n",
    "        for i in graph[v]:\n",
    "            if not visited[i]:\n",
    "                queue.append(i)\n",
    "                cnt += 1\n",
    "                visited[i] = True\n",
    "\n",
    "    return abs((n - cnt) - cnt)"
   ],
   "metadata": {
    "collapsed": false,
    "pycharm": {
     "name": "#%%\n"
    }
   }
  },
  {
   "cell_type": "code",
   "execution_count": 25,
   "outputs": [
    {
     "name": "stdout",
     "output_type": "stream",
     "text": [
      "3\n"
     ]
    }
   ],
   "source": [
    "print(solution(9, [[1,3],[2,3],[3,4],[4,5],[4,6],[4,7],[7,8],[7,9]]))\n",
    "\n",
    "# must be 3"
   ],
   "metadata": {
    "collapsed": false,
    "pycharm": {
     "name": "#%%\n"
    }
   }
  },
  {
   "cell_type": "code",
   "execution_count": 26,
   "outputs": [
    {
     "name": "stdout",
     "output_type": "stream",
     "text": [
      "0\n"
     ]
    }
   ],
   "source": [
    "print(solution(4, [[1,2],[2,3],[3,4]]))\n",
    "\n",
    "# must be 0"
   ],
   "metadata": {
    "collapsed": false,
    "pycharm": {
     "name": "#%%\n"
    }
   }
  },
  {
   "cell_type": "code",
   "execution_count": 27,
   "outputs": [
    {
     "name": "stdout",
     "output_type": "stream",
     "text": [
      "1\n"
     ]
    }
   ],
   "source": [
    "print(solution(7, [[1,2],[2,7],[3,7],[3,4],[4,5],[6,7]]))\n",
    "\n",
    "# must be 1"
   ],
   "metadata": {
    "collapsed": false,
    "pycharm": {
     "name": "#%%\n"
    }
   }
  },
  {
   "cell_type": "code",
   "execution_count": null,
   "outputs": [],
   "source": [],
   "metadata": {
    "collapsed": false,
    "pycharm": {
     "name": "#%%\n"
    }
   }
  }
 ],
 "metadata": {
  "kernelspec": {
   "display_name": "Python 3",
   "language": "python",
   "name": "python3"
  },
  "language_info": {
   "codemirror_mode": {
    "name": "ipython",
    "version": 2
   },
   "file_extension": ".py",
   "mimetype": "text/x-python",
   "name": "python",
   "nbconvert_exporter": "python",
   "pygments_lexer": "ipython2",
   "version": "2.7.6"
  }
 },
 "nbformat": 4,
 "nbformat_minor": 0
}