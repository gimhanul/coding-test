{
 "cells": [
  {
   "cell_type": "markdown",
   "source": [
    "# 럭키 스트레이트\n",
    "\n",
    "게임의 아웃복서 캐릭터는 필사기인 '럭키 스트레이트' 기술이 있습니다. 이 기술은 매우 강력한 대신에 게임 내에서 점수가 특정 조건을 만족할 때만 사용할 수 있습니다.\n",
    "\n",
    "특정 조건이란 현재 캐릭터의 점수를 N이라고 할 때 자릿수를 기준으로 점수 N을 반으로 나누어 왼쪽 부분의 각 자릿수의 합과 오른쪽 부분의 각 자릿수의 합을 더한 값이 동일한 상황을 의미합니다.\n",
    "\n",
    "현재 점수 N이 주어지면 럭키 스트레이트를 사용할 수 있는 상태인지 아닌지를 알려주는 프로그램을 작성하세요.\n",
    "\n",
    "<br>\n",
    "\n",
    "**입력 조건**\n",
    "\n",
    "- 첫째 줄에 정수 N이 정수로 주어집니다. (10 <= N <= 99999999) 단, 정수 N의 자릿수는 항상 짝수 형태로만 주어집니다.\n",
    "\n",
    "<br>\n",
    "\n",
    "**출력 조건**\n",
    "\n",
    "- 첫째 줄에 럭키 스트레이트를 사용할 수 있다면 'LUCKY'를, 사용할 수 없다면 'READY'를 출력합니다.\n",
    "\n",
    "<br>\n",
    "\n",
    "|입력|출력|\n",
    "|---|---|\n",
    "|123402|LUCKY|\n",
    "|7755|READY|"
   ],
   "metadata": {
    "collapsed": false,
    "pycharm": {
     "name": "#%% md\n"
    }
   }
  },
  {
   "cell_type": "code",
   "execution_count": 4,
   "outputs": [
    {
     "name": "stdout",
     "output_type": "stream",
     "text": [
      "LUCKY\n"
     ]
    }
   ],
   "source": [
    "N = input()\n",
    "\n",
    "left = 0\n",
    "right = 0\n",
    "\n",
    "for i in range(len(N)):\n",
    "    if i < len(N) // 2: left += int(N[i])\n",
    "    else: right += int(N[i])\n",
    "\n",
    "print('LUCKY' if right == left else 'READY')"
   ],
   "metadata": {
    "collapsed": false,
    "pycharm": {
     "name": "#%%\n"
    }
   }
  }
 ],
 "metadata": {
  "kernelspec": {
   "display_name": "Python 3",
   "language": "python",
   "name": "python3"
  },
  "language_info": {
   "codemirror_mode": {
    "name": "ipython",
    "version": 2
   },
   "file_extension": ".py",
   "mimetype": "text/x-python",
   "name": "python",
   "nbconvert_exporter": "python",
   "pygments_lexer": "ipython2",
   "version": "2.7.6"
  }
 },
 "nbformat": 4,
 "nbformat_minor": 0
}