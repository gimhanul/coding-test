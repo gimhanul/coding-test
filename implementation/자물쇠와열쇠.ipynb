{
 "cells": [
  {
   "cell_type": "markdown",
   "source": [
    "# 자물쇠와 열쇠\n",
    "\n",
    "[여기](https://school.programmers.co.kr/learn/courses/30/lessons/60059)"
   ],
   "metadata": {
    "collapsed": false,
    "pycharm": {
     "name": "#%% md\n"
    }
   }
  },
  {
   "cell_type": "code",
   "execution_count": null,
   "outputs": [],
   "source": [
    "import copy"
   ],
   "metadata": {
    "collapsed": false,
    "pycharm": {
     "name": "#%%\n"
    }
   }
  },
  {
   "cell_type": "code",
   "execution_count": null,
   "outputs": [],
   "source": [
    "def turn(array):\n",
    "    n = len(array)\n",
    "    result = [[0] * n for _ in range(n)]\n",
    "\n",
    "    for i in range(n):\n",
    "        for j in range(n):\n",
    "            result[j][n-i-1] = array[i][j]\n",
    "\n",
    "    return result"
   ],
   "metadata": {
    "collapsed": false,
    "pycharm": {
     "name": "#%%\n"
    }
   }
  },
  {
   "cell_type": "code",
   "execution_count": null,
   "outputs": [],
   "source": [
    "def putKeyIntoTheLock(key, lock, startW, startH):\n",
    "    keyAndLock = copy.deepcopy(lock)\n",
    "    for i in range(len(key)):\n",
    "        for j in range(len(key)):\n",
    "            keyAndLock[startW+i][startH+j] += key[i][j]\n",
    "\n",
    "    return keyAndLock"
   ],
   "metadata": {
    "collapsed": false,
    "pycharm": {
     "name": "#%%\n"
    }
   }
  },
  {
   "cell_type": "code",
   "execution_count": null,
   "outputs": [],
   "source": [
    "def check(array):\n",
    "    n = len(array) // 3\n",
    "\n",
    "    for i in range(n, n*2):\n",
    "        for j in range(n, n*2):\n",
    "            if array[i][j] != 1: return False\n",
    "\n",
    "    return True"
   ],
   "metadata": {
    "collapsed": false,
    "pycharm": {
     "name": "#%%\n"
    }
   }
  },
  {
   "cell_type": "code",
   "execution_count": null,
   "metadata": {
    "collapsed": true,
    "pycharm": {
     "name": "#%%\n"
    }
   },
   "outputs": [],
   "source": [
    "def solution(key, lock):\n",
    "    lockSize = len(lock)\n",
    "    keySize = len(key)\n",
    "\n",
    "    bigLock = [[0] * lockSize*3 for _ in range(lockSize*3)]\n",
    "    for i in range(lockSize):\n",
    "        for j in range(lockSize):\n",
    "            bigLock[lockSize+i][lockSize+j] = lock[i][j]\n",
    "\n",
    "    for _ in range(4):\n",
    "        key = turn(key)\n",
    "\n",
    "        for i in range(lockSize*2):\n",
    "            for j in range(lockSize*2):\n",
    "                keyAndLock = putKeyIntoTheLock(key, bigLock, i, j)\n",
    "                if check(keyAndLock): return True\n",
    "\n",
    "    return False"
   ]
  }
 ],
 "metadata": {
  "kernelspec": {
   "display_name": "Python 3",
   "language": "python",
   "name": "python3"
  },
  "language_info": {
   "codemirror_mode": {
    "name": "ipython",
    "version": 2
   },
   "file_extension": ".py",
   "mimetype": "text/x-python",
   "name": "python",
   "nbconvert_exporter": "python",
   "pygments_lexer": "ipython2",
   "version": "2.7.6"
  }
 },
 "nbformat": 4,
 "nbformat_minor": 0
}