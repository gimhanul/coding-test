{
 "cells": [
  {
   "cell_type": "markdown",
   "source": [
    "# 공유기 설치\n",
    "\n",
    "[here](https://www.acmicpc.net/problem/2110)"
   ],
   "metadata": {
    "collapsed": false,
    "pycharm": {
     "name": "#%% md\n"
    }
   }
  },
  {
   "cell_type": "code",
   "execution_count": 1,
   "outputs": [],
   "source": [
    "N, C = map(int, input().split())\n",
    "\n",
    "house = []\n",
    "for _ in range(N):\n",
    "    house.append(int(input()))\n",
    "\n",
    "house.sort()"
   ],
   "metadata": {
    "collapsed": false,
    "pycharm": {
     "name": "#%%\n"
    }
   }
  },
  {
   "cell_type": "code",
   "execution_count": 4,
   "outputs": [],
   "source": [
    "start = 1\n",
    "end = house[-1] - house[0]\n",
    "result = 0"
   ],
   "metadata": {
    "collapsed": false,
    "pycharm": {
     "name": "#%%\n"
    }
   }
  },
  {
   "cell_type": "code",
   "execution_count": 5,
   "outputs": [
    {
     "name": "stdout",
     "output_type": "stream",
     "text": [
      "3\n"
     ]
    }
   ],
   "source": [
    "while start <= end:\n",
    "    mid = (start + end) // 2\n",
    "    cnt = 1\n",
    "\n",
    "    value = house[0]\n",
    "    for i in range(1, N):\n",
    "        if house[i] >= value + mid:\n",
    "            value = house[i]\n",
    "            cnt += 1\n",
    "\n",
    "    if cnt >= C:\n",
    "        start = mid + 1\n",
    "        result = mid\n",
    "    else: end = mid - 1\n",
    "\n",
    "print(result)"
   ],
   "metadata": {
    "collapsed": false,
    "pycharm": {
     "name": "#%%\n"
    }
   }
  }
 ],
 "metadata": {
  "kernelspec": {
   "display_name": "Python 3",
   "language": "python",
   "name": "python3"
  },
  "language_info": {
   "codemirror_mode": {
    "name": "ipython",
    "version": 2
   },
   "file_extension": ".py",
   "mimetype": "text/x-python",
   "name": "python",
   "nbconvert_exporter": "python",
   "pygments_lexer": "ipython2",
   "version": "2.7.6"
  }
 },
 "nbformat": 4,
 "nbformat_minor": 0
}