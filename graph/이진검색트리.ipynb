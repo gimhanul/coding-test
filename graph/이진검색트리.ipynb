{
 "cells": [
  {
   "cell_type": "markdown",
   "source": [
    "# 이진 검색 트리\n",
    "\n",
    "[here](https://www.acmicpc.net/problem/5639)"
   ],
   "metadata": {
    "collapsed": false,
    "pycharm": {
     "name": "#%% md\n"
    }
   }
  },
  {
   "cell_type": "code",
   "execution_count": null,
   "outputs": [],
   "source": [
    "import sys\n",
    "sys.setrecursionlimit(10**5)\n",
    "read = sys.stdin.readline"
   ],
   "metadata": {
    "collapsed": false,
    "pycharm": {
     "name": "#%%\n"
    }
   }
  },
  {
   "cell_type": "code",
   "execution_count": null,
   "outputs": [],
   "source": [
    "class Node:\n",
    "    def __init__(self, data):\n",
    "        self.data = data\n",
    "        self.left = None\n",
    "        self.right = None"
   ],
   "metadata": {
    "collapsed": false,
    "pycharm": {
     "name": "#%%\n"
    }
   }
  },
  {
   "cell_type": "code",
   "execution_count": null,
   "metadata": {
    "collapsed": true,
    "pycharm": {
     "name": "#%%\n"
    }
   },
   "outputs": [],
   "source": [
    "root = Node(int(read().rstrip()))\n",
    "\n",
    "while True:\n",
    "    try:\n",
    "        setNodeToTree(Node(int(read().rstrip())))\n",
    "    except:\n",
    "        break\n",
    "\n",
    "postorder(root)"
   ]
  },
  {
   "cell_type": "code",
   "execution_count": null,
   "outputs": [],
   "source": [
    "def setNodeToTree(node: Node):\n",
    "    now = root\n",
    "\n",
    "    while now:\n",
    "        if now.data > node.data:\n",
    "            if now.left is None:\n",
    "                now.left = node\n",
    "                return\n",
    "\n",
    "            now = now.left\n",
    "\n",
    "        elif now.data < node.data:\n",
    "            if now.right is None:\n",
    "                now.right = node\n",
    "                return\n",
    "\n",
    "            now = now.right"
   ],
   "metadata": {
    "collapsed": false,
    "pycharm": {
     "name": "#%%\n"
    }
   }
  },
  {
   "cell_type": "code",
   "execution_count": null,
   "outputs": [],
   "source": [
    "def postorder(node: Node):\n",
    "    if node.left is not None: postorder(node.left)\n",
    "    if node.right is not None: postorder(node.right)\n",
    "    print(node.data)"
   ],
   "metadata": {
    "collapsed": false,
    "pycharm": {
     "name": "#%%\n"
    }
   }
  }
 ],
 "metadata": {
  "kernelspec": {
   "display_name": "Python 3",
   "language": "python",
   "name": "python3"
  },
  "language_info": {
   "codemirror_mode": {
    "name": "ipython",
    "version": 2
   },
   "file_extension": ".py",
   "mimetype": "text/x-python",
   "name": "python",
   "nbconvert_exporter": "python",
   "pygments_lexer": "ipython2",
   "version": "2.7.6"
  }
 },
 "nbformat": 4,
 "nbformat_minor": 0
}