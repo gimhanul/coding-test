{
 "cells": [
  {
   "cell_type": "markdown",
   "source": [
    "# 청소년 상어\n",
    "\n",
    "[here](https://www.acmicpc.net/problem/19236)"
   ],
   "metadata": {
    "collapsed": false,
    "pycharm": {
     "name": "#%% md\n"
    }
   }
  },
  {
   "cell_type": "code",
   "execution_count": null,
   "outputs": [],
   "source": [
    "import sys, copy"
   ],
   "metadata": {
    "collapsed": false,
    "pycharm": {
     "name": "#%%\n"
    }
   }
  },
  {
   "cell_type": "code",
   "execution_count": null,
   "metadata": {
    "collapsed": true,
    "pycharm": {
     "name": "#%%\n"
    }
   },
   "outputs": [],
   "source": [
    "n = 4\n",
    "seaArray = [list(map(int, sys.stdin.readline().split())) for _ in range(n)]\n",
    "go = [(-1, 0), (-1, -2), (0, -2), (1, -2), (1, 0), (1, 2), (0, 2), (-1, 2)]\n",
    "maxSharkSize = 0\n",
    "\n",
    "dfs(seaArray, 0, 0, 0)\n",
    "print(maxSharkSize)"
   ]
  },
  {
   "cell_type": "code",
   "execution_count": null,
   "outputs": [],
   "source": [
    "def dfs(sea, sharkSize, sx, sy):\n",
    "    global maxSharkSize\n",
    "\n",
    "    sharkSize += sea[sx][sy]\n",
    "    sea[sx][sy] = -1\n",
    "    moveFishes(sea)\n",
    "\n",
    "    sharkMoving = canSharkMove(sea, sx, sy)\n",
    "    if len(sharkMoving) == 0:\n",
    "        maxSharkSize = max(maxSharkSize, sharkSize)\n",
    "\n",
    "    else:\n",
    "        for mx, my in sharkMoving:\n",
    "            sea[sx][sy] = 0\n",
    "            dfs(copy.deepcopy(sea), sharkSize, mx, my)"
   ],
   "metadata": {
    "collapsed": false,
    "pycharm": {
     "name": "#%%\n"
    }
   }
  },
  {
   "cell_type": "code",
   "execution_count": null,
   "outputs": [],
   "source": [
    "def moveFishes(sea):\n",
    "    for target in range(1, n * n + 1):\n",
    "        changeFish(sea, target)"
   ],
   "metadata": {
    "collapsed": false,
    "pycharm": {
     "name": "#%%\n"
    }
   }
  },
  {
   "cell_type": "code",
   "execution_count": null,
   "outputs": [],
   "source": [
    "def changeFish(sea, target):\n",
    "    for i in range(n):\n",
    "        for j in range(0, n * 2, 2):\n",
    "            if sea[i][j] == target:\n",
    "                for _ in range(len(go)):\n",
    "                    gx, gy = go[sea[i][j + 1] - 1]\n",
    "                    tx, ty = i + gx, j + gy\n",
    "\n",
    "                    if 0 <= tx < n and 0 <= ty < n * 2 and sea[tx][ty] != -1:\n",
    "                        sea[i][j], sea[tx][ty] = sea[tx][ty], sea[i][j]\n",
    "                        sea[i][j + 1], sea[tx][ty + 1] = sea[tx][ty + 1], sea[i][j + 1]\n",
    "                        return\n",
    "\n",
    "                    sea[i][j + 1] = (sea[i][j + 1] + 1) % len(go)\n",
    "\n",
    "                return"
   ],
   "metadata": {
    "collapsed": false,
    "pycharm": {
     "name": "#%%\n"
    }
   }
  },
  {
   "cell_type": "code",
   "execution_count": null,
   "outputs": [],
   "source": [
    "def canSharkMove(sea, sx, sy):\n",
    "    gx, gy = go[sea[sx][sy + 1] - 1]\n",
    "    result = []\n",
    "\n",
    "    for _ in range(n):\n",
    "        sx += gx\n",
    "        sy += gy\n",
    "        if 0 <= sx < n and 0 <= sy < n * 2:\n",
    "            if 1 <= sea[sx][sy] <= n * n:\n",
    "                result.append((sx, sy))\n",
    "\n",
    "    return result"
   ],
   "metadata": {
    "collapsed": false,
    "pycharm": {
     "name": "#%%\n"
    }
   }
  },
  {
   "cell_type": "code",
   "execution_count": null,
   "outputs": [],
   "source": [
    "def printSea(sea):\n",
    "    for i in range(4):\n",
    "        for j in range(0, 8, 2):\n",
    "            print(sea[i][j], end=' ')\n",
    "        print()\n",
    "\n",
    "    print()"
   ],
   "metadata": {
    "collapsed": false,
    "pycharm": {
     "name": "#%%\n"
    }
   }
  }
 ],
 "metadata": {
  "kernelspec": {
   "display_name": "Python 3",
   "language": "python",
   "name": "python3"
  },
  "language_info": {
   "codemirror_mode": {
    "name": "ipython",
    "version": 2
   },
   "file_extension": ".py",
   "mimetype": "text/x-python",
   "name": "python",
   "nbconvert_exporter": "python",
   "pygments_lexer": "ipython2",
   "version": "2.7.6"
  }
 },
 "nbformat": 4,
 "nbformat_minor": 0
}