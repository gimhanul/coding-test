{
 "cells": [
  {
   "cell_type": "markdown",
   "source": [
    "# 금광\n",
    "\n",
    "n * m 크기의 금광이 있습니다. 금광은 1 * 1 크기의 칸으로 나누어져 있으며, 각 칸은 특정한 크기의 금이 들어 있습니다. 채굴자는 첫 번째 열부터 출발하여 금을 캐기 시작합니다. 맨 처음에는 첫 번째 열의 어느 행에서든 출발할 수 있습니다. 이후에 m번에 걸쳐서 매번 오른쪽 위, 오른쪽, 오른쪽 아래 3가지 중 하나의 위치로 이동해야 합니다. 결과적으로 채굴자가 얻을 수 있는 금의 최대 크기를 출력하는 프로그램을 작성하세요.\n",
    "\n",
    "<br>\n",
    "\n",
    "**입력 조건**\n",
    "\n",
    "- 첫째 줄에 테스트 케이스 T가 입력됩니다. (1 <= T <= 1000)\n",
    "- 매 테스트 케이스 첫째 줄에 n과 m이 공백으로 구분되어 입력됩니다. (1 <= n, m <= 20) 둘째 줄에 n * m개의 위치에 매장된 금의 개수가 공백으로 구분되어 입력됩니다. (0 <= 각 위치에 매장된 금의 개수 <= 100)\n",
    "\n",
    "<br>\n",
    "\n",
    "**출력 조건**\n",
    "\n",
    "- 테스트 케이스마다 채굴자가 얻을 수 있는 금의 최대 크기를 출력합니다. 각 테스트 케이스는 줄 바꿈을 이용해 구분합니다.\n",
    "\n",
    "<br>\n",
    "\n",
    "|입력|출력|\n",
    "|---|---|\n",
    "|2<br>3 4<br>1 3 3 2 2 1 4 1 0 6 4 7<br>4 4<br>1 3 1 5 2 2 4 1 5 0 2 3 0 6 1 2|19<br>16|"
   ],
   "metadata": {
    "collapsed": false,
    "pycharm": {
     "name": "#%% md\n"
    }
   }
  },
  {
   "cell_type": "code",
   "execution_count": 5,
   "outputs": [],
   "source": [
    "def getMaxGold(goldMine, n, m):\n",
    "    for j in range(1, m):\n",
    "        for i in range(n):\n",
    "            leftUp, leftDown = 0, 0\n",
    "            if i != 0: leftUp = goldMine[i-1][j-1]\n",
    "            if i != n-1: leftDown = goldMine[i+1][j-1]\n",
    "            left = goldMine[i][j-1]\n",
    "\n",
    "            goldMine[i][j] += max(leftUp, left, leftDown)\n",
    "\n",
    "    maxGold = 0\n",
    "    for g in goldMine:\n",
    "        maxGold = max(maxGold, max(g))\n",
    "\n",
    "    return maxGold"
   ],
   "metadata": {
    "collapsed": false,
    "pycharm": {
     "name": "#%%\n"
    }
   }
  },
  {
   "cell_type": "code",
   "execution_count": 7,
   "metadata": {
    "collapsed": true,
    "pycharm": {
     "name": "#%%\n"
    }
   },
   "outputs": [],
   "source": [
    "def solution():\n",
    "    n, m = map(int, input().split()) # n: 세로 / m: 가로\n",
    "    arr = list(map(int, input().split()))\n",
    "\n",
    "    goldMine = []\n",
    "    index = 0\n",
    "    for _ in range(n):\n",
    "        goldMine.append(arr[index : index+m])\n",
    "        index += m\n",
    "\n",
    "    print(getMaxGold(goldMine, n, m))"
   ]
  },
  {
   "cell_type": "code",
   "execution_count": 8,
   "outputs": [
    {
     "name": "stdout",
     "output_type": "stream",
     "text": [
      "19\n",
      "16\n"
     ]
    }
   ],
   "source": [
    "T = int(input())\n",
    "for _ in range(T): solution()"
   ],
   "metadata": {
    "collapsed": false,
    "pycharm": {
     "name": "#%%\n"
    }
   }
  }
 ],
 "metadata": {
  "kernelspec": {
   "display_name": "Python 3",
   "language": "python",
   "name": "python3"
  },
  "language_info": {
   "codemirror_mode": {
    "name": "ipython",
    "version": 2
   },
   "file_extension": ".py",
   "mimetype": "text/x-python",
   "name": "python",
   "nbconvert_exporter": "python",
   "pygments_lexer": "ipython2",
   "version": "2.7.6"
  }
 },
 "nbformat": 4,
 "nbformat_minor": 0
}