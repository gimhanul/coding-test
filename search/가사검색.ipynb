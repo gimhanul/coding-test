{
 "cells": [
  {
   "cell_type": "markdown",
   "source": [
    "# 가사 검색\n",
    "\n",
    "[here](https://school.programmers.co.kr/learn/courses/30/lessons/60060)"
   ],
   "metadata": {
    "collapsed": false,
    "pycharm": {
     "name": "#%% md\n"
    }
   }
  },
  {
   "cell_type": "markdown",
   "source": [
    "처음 푼 풀이\n",
    "\n",
    "효율성에서 나락"
   ],
   "metadata": {
    "collapsed": false,
    "pycharm": {
     "name": "#%% md\n"
    }
   }
  },
  {
   "cell_type": "code",
   "execution_count": null,
   "metadata": {
    "collapsed": true,
    "pycharm": {
     "name": "#%%\n"
    }
   },
   "outputs": [],
   "source": [
    "def findLeftIndex(start, end, array, target):\n",
    "    if start > end: return None\n",
    "\n",
    "    mid = (start + end) // 2\n",
    "    if (mid == 0 or array[mid] != array[mid-1]) and target == array[mid]: return mid\n",
    "    elif array[mid] >= target: return findLeftIndex(start, mid-1, array, target)\n",
    "    else: return findLeftIndex(mid+1, end, array, target)\n",
    "\n",
    "def findRightIndex(start, end, array, target):\n",
    "    if start > end: return None\n",
    "\n",
    "    mid = (start + end) // 2\n",
    "    if (mid == len(array)-1 or array[mid] != array[mid+1]) and target == array[mid]: return mid\n",
    "    elif array[mid] <= target: return findRightIndex(mid+1, end, array, target)\n",
    "    else: return findRightIndex(start, mid-1, array, target)\n",
    "\n",
    "def findStartAndEndIndex(word):\n",
    "    wordList = list(word)\n",
    "    start, end = -1, -1\n",
    "\n",
    "    for i in range(len(wordList)):\n",
    "        if start == -1 and wordList[i] != '?': start = i\n",
    "        if start != -1 and (i == len(wordList)-1 or wordList[i+1] == '?'):\n",
    "            end = i+1\n",
    "            break\n",
    "\n",
    "    return (start, end)\n",
    "\n",
    "def cutWords(words, start, end, length):\n",
    "    tempWords = list(map(lambda x: x[start:end] if len(x) == length else '', words))\n",
    "\n",
    "    tempWords.sort()\n",
    "    return tempWords\n",
    "\n",
    "def solution(words, queries):\n",
    "    answer = []\n",
    "\n",
    "    for q in queries:\n",
    "        start, end = findStartAndEndIndex(q)\n",
    "        tempWords = cutWords(words, start, end, len(q))\n",
    "\n",
    "        rightIndex = findRightIndex(0, len(tempWords)-1, tempWords, q[start:end])\n",
    "        if rightIndex == None: answer.append(0)\n",
    "        else: answer.append(rightIndex - findLeftIndex(0, len(tempWords)-1, tempWords, q[start:end]) + 1)\n",
    "\n",
    "    return answer"
   ]
  },
  {
   "cell_type": "markdown",
   "source": [
    "두 번째 풀이\n",
    "\n",
    "시간은 미친 성능 개성이 있었으나\n",
    "효율성 나락 그래도 첫번째보단 나아짐"
   ],
   "metadata": {
    "collapsed": false,
    "pycharm": {
     "name": "#%% md\n"
    }
   }
  },
  {
   "cell_type": "code",
   "execution_count": null,
   "outputs": [],
   "source": [
    "def cutWords(array, length):\n",
    "    tempWords = list(map(lambda x: x[:length], array))\n",
    "    return tempWords\n",
    "\n",
    "def solution(words, queries):\n",
    "    answer = []\n",
    "    array = [[] for _ in range(10001)]\n",
    "    reversedArray = [[] for _ in range(10001)]\n",
    "\n",
    "    for w in words:\n",
    "        array[len(w)].append(w)\n",
    "        reversedArray[len(w)].append(w[::-1])\n",
    "\n",
    "    for q in queries:\n",
    "        nq = q.replace('?', '')\n",
    "\n",
    "        if nq == '': answer.append(len(array[len(q)]))\n",
    "        elif q[0] == '?': answer.append(cutWords(reversedArray[len(q)], len(nq)).count(nq[::-1]))\n",
    "        else: answer.append(cutWords(array[len(q)], len(nq)).count(nq))\n",
    "\n",
    "    return answer"
   ],
   "metadata": {
    "collapsed": false,
    "pycharm": {
     "name": "#%%\n"
    }
   }
  },
  {
   "cell_type": "markdown",
   "source": [
    "결국 답지의 힘을 빌림"
   ],
   "metadata": {
    "collapsed": false,
    "pycharm": {
     "name": "#%% md\n"
    }
   }
  },
  {
   "cell_type": "code",
   "execution_count": null,
   "outputs": [],
   "source": [
    "from bisect import bisect_left, bisect_right\n",
    "\n",
    "def getCountByRange(array, left, right):\n",
    "    return bisect_right(array, right) - bisect_left(array, left)\n",
    "\n",
    "def solution(words, queries):\n",
    "    answer = []\n",
    "    array = [[] for _ in range(10001)]\n",
    "    reversedArray = [[] for _ in range(10001)]\n",
    "\n",
    "    for w in words:\n",
    "        array[len(w)].append(w)\n",
    "        reversedArray[len(w)].append(w[::-1])\n",
    "\n",
    "    for i in range(10001):\n",
    "        array[i].sort()\n",
    "        reversedArray[i].sort()\n",
    "\n",
    "    for q in queries:\n",
    "        if q[0] == '?': res = getCountByRange(reversedArray[len(q)], q[::-1].replace('?', 'a'), q[::-1].replace('?', 'z'))\n",
    "        else: res = getCountByRange(array[len(q)], q.replace('?', 'a'), q.replace('?', 'z'))\n",
    "\n",
    "        answer.append(res)\n",
    "\n",
    "    return answer"
   ],
   "metadata": {
    "collapsed": false,
    "pycharm": {
     "name": "#%%\n"
    }
   }
  },
  {
   "cell_type": "markdown",
   "source": [
    "결론: 선형 쓰면 효율성 나락"
   ],
   "metadata": {
    "collapsed": false,
    "pycharm": {
     "name": "#%% md\n"
    }
   }
  }
 ],
 "metadata": {
  "kernelspec": {
   "display_name": "Python 3",
   "language": "python",
   "name": "python3"
  },
  "language_info": {
   "codemirror_mode": {
    "name": "ipython",
    "version": 2
   },
   "file_extension": ".py",
   "mimetype": "text/x-python",
   "name": "python",
   "nbconvert_exporter": "python",
   "pygments_lexer": "ipython2",
   "version": "2.7.6"
  }
 },
 "nbformat": 4,
 "nbformat_minor": 0
}