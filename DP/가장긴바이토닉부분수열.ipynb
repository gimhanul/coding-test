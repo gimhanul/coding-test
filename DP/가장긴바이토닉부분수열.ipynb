{
 "cells": [
  {
   "cell_type": "markdown",
   "source": [
    "# 가장 긴 바이토닉 부분 수열\n",
    "\n",
    "[here](https://www.acmicpc.net/problem/11054)"
   ],
   "metadata": {
    "collapsed": false,
    "pycharm": {
     "name": "#%% md\n"
    }
   }
  },
  {
   "cell_type": "code",
   "execution_count": null,
   "metadata": {
    "collapsed": true,
    "pycharm": {
     "name": "#%%\n"
    }
   },
   "outputs": [],
   "source": [
    "import sys\n",
    "read = sys.stdin.readline\n",
    "\n",
    "N = int(read().rstrip())\n",
    "numbers = list(map(int, read().split()))\n",
    "increase = [1] * N\n",
    "decrease = [1] * N\n",
    "\n",
    "for i in range(N):\n",
    "    for j in range(i):\n",
    "        if numbers[i] > numbers[j]: increase[i] = max(increase[i], increase[j]+1)\n",
    "        if numbers[N-i-1] > numbers[N-j-1]: decrease[N-i-1] = max(decrease[N-i-1], decrease[N-j-1]+1)\n",
    "\n",
    "result = -1\n",
    "for i in range(N):\n",
    "    result = max(result, increase[i]+decrease[i]-1)\n",
    "\n",
    "print(result)"
   ]
  }
 ],
 "metadata": {
  "kernelspec": {
   "display_name": "Python 3",
   "language": "python",
   "name": "python3"
  },
  "language_info": {
   "codemirror_mode": {
    "name": "ipython",
    "version": 2
   },
   "file_extension": ".py",
   "mimetype": "text/x-python",
   "name": "python",
   "nbconvert_exporter": "python",
   "pygments_lexer": "ipython2",
   "version": "2.7.6"
  }
 },
 "nbformat": 4,
 "nbformat_minor": 0
}