{
 "cells": [
  {
   "cell_type": "markdown",
   "source": [
    "# 여행경로\n",
    "\n",
    "[here](https://school.programmers.co.kr/learn/courses/30/lessons/43164?language=python3)"
   ],
   "metadata": {
    "collapsed": false,
    "pycharm": {
     "name": "#%% md\n"
    }
   }
  },
  {
   "cell_type": "code",
   "execution_count": 1,
   "outputs": [],
   "source": [
    "import heapq"
   ],
   "metadata": {
    "collapsed": false,
    "pycharm": {
     "name": "#%%\n"
    }
   }
  },
  {
   "cell_type": "code",
   "execution_count": 2,
   "outputs": [],
   "source": [
    "airports = {}\n",
    "flag = False\n",
    "answer = [\"ICN\"]"
   ],
   "metadata": {
    "collapsed": false,
    "pycharm": {
     "name": "#%%\n"
    }
   }
  },
  {
   "cell_type": "code",
   "execution_count": 4,
   "metadata": {
    "collapsed": true,
    "pycharm": {
     "name": "#%%\n"
    }
   },
   "outputs": [],
   "source": [
    "def solution(tickets):\n",
    "    global answer\n",
    "\n",
    "    for ticket in tickets:\n",
    "        link_airport(ticket)\n",
    "\n",
    "    dfs(1, len(tickets) + 1)\n",
    "\n",
    "    return answer"
   ]
  },
  {
   "cell_type": "code",
   "execution_count": 5,
   "outputs": [],
   "source": [
    "def link_airport(ticket):\n",
    "    global airports\n",
    "\n",
    "    start, end = ticket\n",
    "    if start not in airports:\n",
    "        airports[start] = []\n",
    "\n",
    "    heapq.heappush(airports[start], [end, False])"
   ],
   "metadata": {
    "collapsed": false,
    "pycharm": {
     "name": "#%%\n"
    }
   }
  },
  {
   "cell_type": "code",
   "execution_count": 6,
   "outputs": [],
   "source": [
    "def dfs(depth, n):\n",
    "    global answer, airports, flag\n",
    "\n",
    "    if flag: return\n",
    "    if depth == n:\n",
    "        flag = True\n",
    "        return\n",
    "\n",
    "    now = answer[-1]\n",
    "    for i in range(len(airports[now])):\n",
    "        if not airports[now][i][1]:\n",
    "            answer.append(airports[now][i][0])\n",
    "            airports[now][i][1] = True\n",
    "            dfs(depth + 1, n)\n",
    "            if not flag:\n",
    "                answer.pop()\n",
    "                airports[now][i][1] = False\n"
   ],
   "metadata": {
    "collapsed": false,
    "pycharm": {
     "name": "#%%\n"
    }
   }
  },
  {
   "cell_type": "markdown",
   "source": [
    "```python\n",
    "    for _ in range(len(tickets)):\n",
    "        now = answer[-1]\n",
    "        answer.append(heapq.heappop(airports[now]))\n",
    "```\n",
    "이래 짰더니 못 가는 경우에 테케 통과 ㄴㄴ"
   ],
   "metadata": {
    "collapsed": false,
    "pycharm": {
     "name": "#%% md\n"
    }
   }
  },
  {
   "cell_type": "code",
   "execution_count": 1,
   "outputs": [],
   "source": [
    "from collections import defaultdict"
   ],
   "metadata": {
    "collapsed": false,
    "pycharm": {
     "name": "#%%\n"
    }
   }
  },
  {
   "cell_type": "code",
   "execution_count": 13,
   "outputs": [],
   "source": [
    "def solution(tickets):\n",
    "    path = []\n",
    "\n",
    "    graph = defaultdict(list)\n",
    "    for (start, end) in tickets:\n",
    "        graph[start].append(end)\n",
    "\n",
    "    for airport in graph.keys():\n",
    "        graph[airport].sort(reverse=True)\n",
    "\n",
    "    stack = [\"ICN\"]\n",
    "\n",
    "    while stack:\n",
    "        top = stack.pop()\n",
    "\n",
    "        if top not in graph or not graph[top]:\n",
    "            path.append(top)\n",
    "        else:\n",
    "            stack.append(top)\n",
    "            stack.append(graph[top].pop())\n",
    "\n",
    "    return path[::-1]"
   ],
   "metadata": {
    "collapsed": false,
    "pycharm": {
     "name": "#%%\n"
    }
   }
  },
  {
   "cell_type": "code",
   "execution_count": 14,
   "outputs": [
    {
     "name": "stdout",
     "output_type": "stream",
     "text": [
      "['ICN', 'JFK', 'HND', 'IAD']\n"
     ]
    }
   ],
   "source": [
    "print(solution([[\"ICN\", \"JFK\"], [\"HND\", \"IAD\"], [\"JFK\", \"HND\"]]))\n",
    "\n",
    "# must be [\"ICN\", \"JFK\", \"HND\", \"IAD\"]"
   ],
   "metadata": {
    "collapsed": false,
    "pycharm": {
     "name": "#%%\n"
    }
   }
  },
  {
   "cell_type": "code",
   "execution_count": 15,
   "outputs": [
    {
     "name": "stdout",
     "output_type": "stream",
     "text": [
      "['ICN', 'ATL', 'ICN', 'SFO', 'ATL', 'SFO']\n"
     ]
    }
   ],
   "source": [
    "print(solution([[\"ICN\", \"SFO\"], [\"ICN\", \"ATL\"], [\"SFO\", \"ATL\"], [\"ATL\", \"ICN\"], [\"ATL\", \"SFO\"]]))\n",
    "\n",
    "# must be [\"ICN\", \"ATL\", \"ICN\", \"SFO\", \"ATL\", \"SFO\"]"
   ],
   "metadata": {
    "collapsed": false,
    "pycharm": {
     "name": "#%%\n"
    }
   }
  },
  {
   "cell_type": "code",
   "execution_count": null,
   "outputs": [],
   "source": [],
   "metadata": {
    "collapsed": false,
    "pycharm": {
     "name": "#%%\n"
    }
   }
  }
 ],
 "metadata": {
  "kernelspec": {
   "display_name": "Python 3",
   "language": "python",
   "name": "python3"
  },
  "language_info": {
   "codemirror_mode": {
    "name": "ipython",
    "version": 2
   },
   "file_extension": ".py",
   "mimetype": "text/x-python",
   "name": "python",
   "nbconvert_exporter": "python",
   "pygments_lexer": "ipython2",
   "version": "2.7.6"
  }
 },
 "nbformat": 4,
 "nbformat_minor": 0
}