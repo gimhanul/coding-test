{
 "cells": [
  {
   "cell_type": "markdown",
   "source": [
    "# 왕실의 나이트\n",
    "\n",
    "행복 왕국의 왕실 정원은 체스판과 같은 8 * 8 좌표평면이다. 왕실 정원의 특정한 한 칸에 나이트가 서 있다. 나이트는 매우 충성스러운 신하로서 매일 무술을 연마한다.\n",
    "나이트는 말을 타고 있기 때문에 이동을 할 때는 L자 형태로만 이동할 수 있으며 정원 밖으로는 나갈 수 없다. 나이트는 특정한 위치에서 다음과 같은 2 가지 경우로 이동할 수 있다.\n",
    "\n",
    "1. 수평으로 두 칸 이동한 뒤에 수직으로 한 칸 이동하기\n",
    "2. 수직으로 두 칸 이동한 뒤에 수평으로 한 칸 이동하기\n",
    "\n",
    "이처럼 8 * 8 좌표평면 상에서 나이트의 위치가 주어졌을 때 나이트가 이동할 수 있는 경우의 수를 출력하는 프로그램을 작성하시오. 이때 왕실의 정원에서 행 위치를 표현할 때는 1부터 8로 표현하며, 열 위치를 표현할 대는 a부터 h로 표현한다.\n",
    "\n",
    "<br>\n",
    "\n",
    "|입력|출력|\n",
    "|---|---|\n",
    "|a1|2|"
   ],
   "metadata": {
    "collapsed": false,
    "pycharm": {
     "name": "#%% md\n"
    }
   }
  },
  {
   "cell_type": "code",
   "execution_count": 10,
   "outputs": [
    {
     "name": "stdout",
     "output_type": "stream",
     "text": [
      "2\n"
     ]
    }
   ],
   "source": [
    "N = 8\n",
    "xBay = ['a', 'b', 'c', 'd', 'e', 'f', 'h']\n",
    "position = input()\n",
    "result = 0\n",
    "\n",
    "x = xBay.index(position[0]) + 1\n",
    "y = int(position[1])\n",
    "\n",
    "if x+2 <= N and y+1 <= N: result += 1\n",
    "if x+2 <= N and y-1 >= 1: result += 1\n",
    "if x-2 >= 1 and y+1 <= N: result += 1\n",
    "if x-2 >= 1 and y-1 >= 1: result += 1\n",
    "if y+2 <= N and x+1 <= N: result += 1\n",
    "if y+2 <= N and x-1 >= 1: result += 1\n",
    "if y-2 >= 1 and x+1 <= N: result += 1\n",
    "if y-2 >= 1 and x-1 >= 1: result += 1\n",
    "\n",
    "print(result)"
   ],
   "metadata": {
    "collapsed": false,
    "pycharm": {
     "name": "#%%\n"
    }
   }
  },
  {
   "cell_type": "markdown",
   "source": [
    "히히 모르겠어서 일단 무지성으로 풀었는데 해설도 나와 그닥 다르지 않다~"
   ],
   "metadata": {
    "collapsed": false,
    "pycharm": {
     "name": "#%% md\n"
    }
   }
  },
  {
   "cell_type": "code",
   "execution_count": 12,
   "outputs": [
    {
     "name": "stdout",
     "output_type": "stream",
     "text": [
      "2\n"
     ]
    }
   ],
   "source": [
    "N = 8\n",
    "xBay = ['a', 'b', 'c', 'd', 'e', 'f', 'h']\n",
    "position = input()\n",
    "result = 0\n",
    "\n",
    "x = xBay.index(position[0]) + 1\n",
    "y = int(position[1])\n",
    "\n",
    "move = [(2, 1), (2, -1), (-2, 1), (2, -1), (1, 2), (1, -2), (-1, 2), (1, -2)]\n",
    "for m in move:\n",
    "    if 1 <= x+m[0] <= N and 1 <= y + m[1] <= N: result += 1\n",
    "\n",
    "print(result)"
   ],
   "metadata": {
    "collapsed": false,
    "pycharm": {
     "name": "#%%\n"
    }
   }
  },
  {
   "cell_type": "markdown",
   "source": [
    "아니네 훨씬 났네요... ㅎㅎ"
   ],
   "metadata": {
    "collapsed": false,
    "pycharm": {
     "name": "#%% md\n"
    }
   }
  }
 ],
 "metadata": {
  "kernelspec": {
   "display_name": "Python 3",
   "language": "python",
   "name": "python3"
  },
  "language_info": {
   "codemirror_mode": {
    "name": "ipython",
    "version": 2
   },
   "file_extension": ".py",
   "mimetype": "text/x-python",
   "name": "python",
   "nbconvert_exporter": "python",
   "pygments_lexer": "ipython2",
   "version": "2.7.6"
  }
 },
 "nbformat": 4,
 "nbformat_minor": 0
}