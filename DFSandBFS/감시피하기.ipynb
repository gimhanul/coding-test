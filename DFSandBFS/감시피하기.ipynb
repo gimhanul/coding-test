{
 "cells": [
  {
   "cell_type": "markdown",
   "source": [
    "# 감시 피하기\n",
    "\n",
    "NxN 크기의 복도가 있다. 복도는 1x1 크기의 칸으로 나누어지며, 특정한 위치에는 선생님, 학생, 혹은 장애물이 위치할 수 있습니다. 현재 몇 명의 학생들은 수업시간에 몰래 복도로 빠져나왔는데, 복도로 빠져나온 학생들은 선생님의 감시에 들키지 않는 것이 목표입니다.\n",
    "\n",
    "각 선생님들은 자신의 위치에서 상, 하, 좌, 우 4가지 방향으로 감시를 진행합니다. 단, 복도에 장애물이 위치한 경우, 선생님은 장애물 뒤편에 숨어 있는 학생들은 볼 수 없습니다. 또한 선생님은 상, 하, 좌, 우 4가지 방향에 대하여, 아무리 멀리 있더라도 장애물로 막히기 전까지의 학생들은 모두 볼 수 있다고 가정합니다.\n",
    "\n",
    "문제에서 위칫값을 나타낼 때는 (행, 열)의 형태로 표현합니다. 각 칸은 선생님이 존재하면 T, 학생이 존재하면 S, 장애물이 존재하면 O로 표시합니다.\n",
    "\n",
    "학생들은 복도의 빈칸 중에서 장애물을 설치할 위치를 골라, 정확히 3개의 장애물을 설치해야 합니다. 그리고 장애물을 3개 설치해서 선생님의 감시로부터 모든 학생이 피할 수 있는지 계산해야 합니다. NxN 크기의 복도에서 학생과 선생님의 위치 정보가 주어졌을때, 장애물을 정확히 3개 설치하여 모든 학생이 선생님의 감시를 피할 수 있는지 출력하는 프로그램을 작성하세요.\n",
    "\n",
    "<br>\n",
    "\n",
    "**입력 조건**\n",
    "\n",
    "- 첫째 줄에 자연수 N이 주어집니다. (3 <= N <= 6)\n",
    "- 둘째 줄에 N개의 줄에 걸쳐서 복도의 정보가 주어집니다. 각 행에서는 N개의 원소가 주어지며, 공백으로 구분합니다. 해당 위치에 학생이 있다면 S, 선생님이 있다면 T, 아무것도 존재하지 않는다면 X가 주어집니다. 단, 항상 빈칸의 개수는 3개 이상으로 주어집니다.\n",
    "\n",
    "<br>\n",
    "\n",
    "**출력 조건**\n",
    "\n",
    "- 첫째 줄에 정확히 3개의 장애물을 설치하여 모든 학생들을 감시로부터 피하도록 할 수 있는지의 여부를 출력합니다. 모든 학생들을 감시로부터 피하도록 할 수 있다면 \"YES\", 그렇지 않다면 \"NO\"를 출력합니다.\n",
    "\n",
    "<br>\n",
    "\n",
    "|입력|출력|\n",
    "|---|---|\n",
    "|5<br>X S X X T<br>T X S X X<br>X X X X X<br>X T X X X<br>X X T X X|YES|\n",
    "|4<br>S S S T<br>X X X X<br>X X X X<br>T T T X|NO|"
   ],
   "metadata": {
    "collapsed": false,
    "pycharm": {
     "name": "#%% md\n"
    }
   }
  },
  {
   "cell_type": "code",
   "execution_count": 5,
   "outputs": [],
   "source": [
    "from itertools import combinations"
   ],
   "metadata": {
    "collapsed": false,
    "pycharm": {
     "name": "#%%\n"
    }
   }
  },
  {
   "cell_type": "code",
   "execution_count": 21,
   "outputs": [],
   "source": [
    "N = int(input())\n",
    "space = [input().split() for _ in range(N)]\n",
    "\n",
    "teachers = []\n",
    "empty = []\n",
    "students = []\n",
    "for i in range(N):\n",
    "    for j in range(N):\n",
    "        if space[i][j] == 'X': empty.append((i, j))\n",
    "        elif space[i][j] == 'T': teachers.append((i, j))\n",
    "        elif space[i][j] == 'S': students.append((i, j))"
   ],
   "metadata": {
    "collapsed": false,
    "pycharm": {
     "name": "#%%\n"
    }
   }
  },
  {
   "cell_type": "code",
   "execution_count": 4,
   "outputs": [],
   "source": [
    "go = [(0, -1), (0, 1), (1, 0), (-1, 0)]"
   ],
   "metadata": {
    "collapsed": false,
    "pycharm": {
     "name": "#%%\n"
    }
   }
  },
  {
   "cell_type": "code",
   "execution_count": 20,
   "outputs": [],
   "source": [
    "def gamsi():\n",
    "    for tX, tY in teachers:\n",
    "        for goX, goY in go:\n",
    "            x = tX\n",
    "            y = tY\n",
    "            while 0 <= x < N and 0 <= y < N and space[x][y] != 'O':\n",
    "                if space[x][y] == 'S': return False\n",
    "                x += goX\n",
    "                y += goY\n",
    "\n",
    "    return True"
   ],
   "metadata": {
    "collapsed": false,
    "pycharm": {
     "name": "#%%\n"
    }
   }
  },
  {
   "cell_type": "code",
   "execution_count": 7,
   "outputs": [],
   "source": [
    "def setObstacle(obstacle):\n",
    "    global space\n",
    "\n",
    "    for oX, oY in obstacle:\n",
    "        space[oX][oY] = 'O'"
   ],
   "metadata": {
    "collapsed": false,
    "pycharm": {
     "name": "#%%\n"
    }
   }
  },
  {
   "cell_type": "code",
   "execution_count": 8,
   "outputs": [],
   "source": [
    "def removeObstacle(obstacle):\n",
    "    global space\n",
    "\n",
    "    for oX, oY in obstacle:\n",
    "        space[oX][oY] = 'X'"
   ],
   "metadata": {
    "collapsed": false,
    "pycharm": {
     "name": "#%%\n"
    }
   }
  },
  {
   "cell_type": "code",
   "execution_count": 9,
   "outputs": [],
   "source": [
    "def main():\n",
    "    obstacles = list(combinations(empty, 3))\n",
    "\n",
    "    for o in obstacles:\n",
    "        setObstacle(o)\n",
    "        if gamsi(): return True\n",
    "        removeObstacle(o)\n",
    "\n",
    "    return False"
   ],
   "metadata": {
    "collapsed": false,
    "pycharm": {
     "name": "#%%\n"
    }
   }
  },
  {
   "cell_type": "code",
   "execution_count": 22,
   "outputs": [
    {
     "name": "stdout",
     "output_type": "stream",
     "text": [
      "NO\n"
     ]
    }
   ],
   "source": [
    "print(\"YES\" if main() else \"NO\")"
   ],
   "metadata": {
    "collapsed": false,
    "pycharm": {
     "name": "#%%\n"
    }
   }
  }
 ],
 "metadata": {
  "kernelspec": {
   "display_name": "Python 3",
   "language": "python",
   "name": "python3"
  },
  "language_info": {
   "codemirror_mode": {
    "name": "ipython",
    "version": 2
   },
   "file_extension": ".py",
   "mimetype": "text/x-python",
   "name": "python",
   "nbconvert_exporter": "python",
   "pygments_lexer": "ipython2",
   "version": "2.7.6"
  }
 },
 "nbformat": 4,
 "nbformat_minor": 0
}