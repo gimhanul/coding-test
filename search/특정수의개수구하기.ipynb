{
 "cells": [
  {
   "cell_type": "markdown",
   "source": [
    "# 정렬된 배열에서 특정 수의 개수 구하기\n",
    "\n",
    "N개의 원소를 포함하고 있는 수열이 오름차순으로 정렬되어 있습니다. 이때 이 수열에서 x가 등장하는 횟수를 계산하세요.\n",
    "단, 이 문제의 시간 복잡도 O(logN)으로 알고리즘을 설계하지 않으면 '시간 초과' 판정을 받습니다.\n",
    "\n",
    "<br>\n",
    "\n",
    "**입력 조건**\n",
    "\n",
    "- 첫째 줄에 N과 x가 정수 형태로 공백으로 구분되어 입력됩니다. (1 ≤ N ≤ 1,000,000), (-10⁹ ≤ x ≤ 10⁹)\n",
    "- 둘째 줄에 N개의 원소가 정수 형태로 공백으로 구분되어 입력됩니다. (-10⁹ ≤ 각 원소의 값 ≤ 10⁹)\n",
    "\n",
    "<br>\n",
    "\n",
    "**출력 조건**\n",
    "\n",
    "- 수열의 원소 중에서 값이 x인 원소의 개수를 출력합니다. 단, 값이 x인 원소가 하나도 없다면 -1을 출력합니다.\n",
    "\n",
    "<br>\n",
    "\n",
    "|입력|출력|\n",
    "|---|---|\n",
    "|7 2<br>1 1 2 2 2 2 3|4|\n",
    "|7 4<br>1 1 2 2 2 2 3|-1|"
   ],
   "metadata": {
    "collapsed": false,
    "pycharm": {
     "name": "#%% md\n"
    }
   }
  },
  {
   "cell_type": "code",
   "execution_count": 29,
   "outputs": [],
   "source": [
    "N, x = map(int, input().split())\n",
    "numbers = list(map(int, input().split()))"
   ],
   "metadata": {
    "collapsed": false,
    "pycharm": {
     "name": "#%%\n"
    }
   }
  },
  {
   "cell_type": "code",
   "execution_count": 25,
   "outputs": [],
   "source": [
    "def findLeftIndex(start, end):\n",
    "    if start > end: return None\n",
    "    mid = (start + end) // 2\n",
    "\n",
    "    if (mid == 0 or numbers[mid] != numbers[mid-1]) and numbers[mid] == x: return mid\n",
    "    elif numbers[mid] >= x: return findLeftIndex(start, mid-1)\n",
    "    elif numbers[mid] < x: return findLeftIndex(mid+1, end)"
   ],
   "metadata": {
    "collapsed": false,
    "pycharm": {
     "name": "#%%\n"
    }
   }
  },
  {
   "cell_type": "code",
   "execution_count": 26,
   "outputs": [],
   "source": [
    "def findRightIndex(start, end):\n",
    "    if start > end: return None\n",
    "    mid = (start + end) // 2\n",
    "\n",
    "    if (mid == N-1 or numbers[mid] != numbers[mid+1]) and numbers[mid] == x: return mid\n",
    "    elif numbers[mid] > x: return findRightIndex(start, mid-1)\n",
    "    elif numbers[mid] <= x: return findRightIndex(mid+1, end)"
   ],
   "metadata": {
    "collapsed": false,
    "pycharm": {
     "name": "#%%\n"
    }
   }
  },
  {
   "cell_type": "code",
   "execution_count": 30,
   "outputs": [
    {
     "name": "stdout",
     "output_type": "stream",
     "text": [
      "-1\n"
     ]
    }
   ],
   "source": [
    "print(findRightIndex(0, N-1) - findLeftIndex(0, N-1) + 1 if x in numbers else -1)"
   ],
   "metadata": {
    "collapsed": false,
    "pycharm": {
     "name": "#%%\n"
    }
   }
  }
 ],
 "metadata": {
  "kernelspec": {
   "display_name": "Python 3",
   "language": "python",
   "name": "python3"
  },
  "language_info": {
   "codemirror_mode": {
    "name": "ipython",
    "version": 2
   },
   "file_extension": ".py",
   "mimetype": "text/x-python",
   "name": "python",
   "nbconvert_exporter": "python",
   "pygments_lexer": "ipython2",
   "version": "2.7.6"
  }
 },
 "nbformat": 4,
 "nbformat_minor": 0
}