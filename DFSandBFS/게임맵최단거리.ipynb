{
 "cells": [
  {
   "cell_type": "markdown",
   "source": [
    "# 게임 맵 최단거리\n",
    "\n",
    "[here](https://school.programmers.co.kr/learn/courses/30/lessons/1844?language=python3)"
   ],
   "metadata": {
    "collapsed": false,
    "pycharm": {
     "name": "#%% md\n"
    }
   }
  },
  {
   "cell_type": "code",
   "execution_count": 1,
   "outputs": [],
   "source": [
    "from collections import deque"
   ],
   "metadata": {
    "collapsed": false,
    "pycharm": {
     "name": "#%%\n"
    }
   }
  },
  {
   "cell_type": "code",
   "execution_count": 19,
   "metadata": {
    "collapsed": true,
    "pycharm": {
     "name": "#%%\n"
    }
   },
   "outputs": [],
   "source": [
    "def solution(maps):\n",
    "    n, m = len(maps[0]), len(maps)\n",
    "    go = [(0, 1), (1, 0), (-1, 0), (0, -1)]\n",
    "    q = deque([(0, 0)])\n",
    "\n",
    "    while q:\n",
    "        nx, ny = q.popleft()\n",
    "\n",
    "        for gx, gy in go:\n",
    "            tx, ty = nx+gx, ny+gy\n",
    "            if 0 <= tx < m and 0 <= ty < n and maps[tx][ty] == 1:\n",
    "                q.append([tx, ty])\n",
    "                maps[tx][ty] = maps[nx][ny]+1\n",
    "\n",
    "    return -1 if maps[-1][-1] == 1 else maps[-1][-1]"
   ]
  },
  {
   "cell_type": "code",
   "execution_count": 20,
   "outputs": [
    {
     "name": "stdout",
     "output_type": "stream",
     "text": [
      "11\n"
     ]
    }
   ],
   "source": [
    "print(solution([[1,0,1,1,1],[1,0,1,0,1],[1,0,1,1,1],[1,1,1,0,1],[0,0,0,0,1]]))\n",
    "\n",
    "# must be 11"
   ],
   "metadata": {
    "collapsed": false,
    "pycharm": {
     "name": "#%%\n"
    }
   }
  },
  {
   "cell_type": "code",
   "execution_count": 21,
   "outputs": [
    {
     "name": "stdout",
     "output_type": "stream",
     "text": [
      "-1\n"
     ]
    }
   ],
   "source": [
    "print(solution([[1,0,1,1,1],[1,0,1,0,1],[1,0,1,1,1],[1,1,1,0,0],[0,0,0,0,1]]))\n",
    "\n",
    "# must be -1"
   ],
   "metadata": {
    "collapsed": false,
    "pycharm": {
     "name": "#%%\n"
    }
   }
  },
  {
   "cell_type": "code",
   "execution_count": null,
   "outputs": [],
   "source": [],
   "metadata": {
    "collapsed": false,
    "pycharm": {
     "name": "#%%\n"
    }
   }
  }
 ],
 "metadata": {
  "kernelspec": {
   "display_name": "Python 3",
   "language": "python",
   "name": "python3"
  },
  "language_info": {
   "codemirror_mode": {
    "name": "ipython",
    "version": 2
   },
   "file_extension": ".py",
   "mimetype": "text/x-python",
   "name": "python",
   "nbconvert_exporter": "python",
   "pygments_lexer": "ipython2",
   "version": "2.7.6"
  }
 },
 "nbformat": 4,
 "nbformat_minor": 0
}