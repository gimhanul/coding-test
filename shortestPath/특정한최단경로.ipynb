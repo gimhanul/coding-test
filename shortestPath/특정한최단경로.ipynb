{
 "cells": [
  {
   "cell_type": "markdown",
   "source": [
    "# 특정한 최단 경로\n",
    "\n",
    "[here](https://www.acmicpc.net/problem/1504)"
   ],
   "metadata": {
    "collapsed": false,
    "pycharm": {
     "name": "#%% md\n"
    }
   }
  },
  {
   "cell_type": "code",
   "execution_count": null,
   "outputs": [],
   "source": [
    "import sys\n",
    "import heapq\n",
    "read = sys.stdin.readline"
   ],
   "metadata": {
    "collapsed": false,
    "pycharm": {
     "name": "#%%\n"
    }
   }
  },
  {
   "cell_type": "code",
   "execution_count": null,
   "metadata": {
    "collapsed": true,
    "pycharm": {
     "name": "#%%\n"
    }
   },
   "outputs": [],
   "source": [
    "N, E = map(int, read().split())\n",
    "path = [[] for _ in range(N+1)]\n",
    "INF = int(1e9)\n",
    "\n",
    "for _ in range(E):\n",
    "    a, b, c = map(int, read().split())\n",
    "    path[a].append((b, c))\n",
    "    path[b].append((a, c))\n",
    "\n",
    "u, v = map(int, read().split())"
   ]
  },
  {
   "cell_type": "code",
   "execution_count": null,
   "outputs": [],
   "source": [
    "startResult = dijkstra(1)\n",
    "uvResult = dijkstra(u)\n",
    "endResult = dijkstra(N)\n",
    "result = min(startResult[u]+uvResult[v]+endResult[v], startResult[v]+uvResult[v]+endResult[u])\n",
    "print(result if result < INF else -1)"
   ],
   "metadata": {
    "collapsed": false,
    "pycharm": {
     "name": "#%%\n"
    }
   }
  },
  {
   "cell_type": "code",
   "execution_count": null,
   "outputs": [],
   "source": [
    "def dijkstra(start):\n",
    "    distance = [INF] * (N+1)\n",
    "    q = []\n",
    "    heapq.heappush(q, (0, start))\n",
    "    distance[start] = 0\n",
    "\n",
    "    while q:\n",
    "        ndist, now = heapq.heappop(q)\n",
    "        if distance[now] < ndist: continue\n",
    "\n",
    "        for p, d in path[now]:\n",
    "            dist = ndist + d\n",
    "\n",
    "            if dist < distance[p]:\n",
    "                distance[p] = dist\n",
    "                heapq.heappush(q, (dist, p))\n",
    "\n",
    "    return distance"
   ],
   "metadata": {
    "collapsed": false,
    "pycharm": {
     "name": "#%%\n"
    }
   }
  }
 ],
 "metadata": {
  "kernelspec": {
   "display_name": "Python 3",
   "language": "python",
   "name": "python3"
  },
  "language_info": {
   "codemirror_mode": {
    "name": "ipython",
    "version": 2
   },
   "file_extension": ".py",
   "mimetype": "text/x-python",
   "name": "python",
   "nbconvert_exporter": "python",
   "pygments_lexer": "ipython2",
   "version": "2.7.6"
  }
 },
 "nbformat": 4,
 "nbformat_minor": 0
}