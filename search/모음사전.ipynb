{
 "cells": [
  {
   "cell_type": "markdown",
   "source": [
    "# 모음 사전\n",
    "\n",
    "[here](https://school.programmers.co.kr/learn/courses/30/lessons/84512)"
   ],
   "metadata": {
    "collapsed": false,
    "pycharm": {
     "name": "#%% md\n"
    }
   }
  },
  {
   "cell_type": "code",
   "execution_count": 8,
   "metadata": {
    "collapsed": true,
    "pycharm": {
     "name": "#%%\n"
    }
   },
   "outputs": [],
   "source": [
    "def solution(word):\n",
    "    alphabet = [\"\", \"A\", \"E\", \"I\", \"O\", \"U\"]\n",
    "    words = set()\n",
    "\n",
    "    for i in range(len(alphabet)):\n",
    "        for j in range(len(alphabet)):\n",
    "            for k in range(len(alphabet)):\n",
    "                for o in range(len(alphabet)):\n",
    "                    for h in range(len(alphabet)):\n",
    "                        words.add(f'{alphabet[i]}{alphabet[j]}{alphabet[k]}{alphabet[o]}{alphabet[h]}')\n",
    "\n",
    "    words_list = list(words)\n",
    "    words_list.sort()\n",
    "\n",
    "    return words_list.index(word)"
   ]
  },
  {
   "cell_type": "code",
   "execution_count": 9,
   "outputs": [
    {
     "name": "stdout",
     "output_type": "stream",
     "text": [
      "6\n"
     ]
    }
   ],
   "source": [
    "print(solution(\"AAAAE\"))\n",
    "\n",
    "# must be 6"
   ],
   "metadata": {
    "collapsed": false,
    "pycharm": {
     "name": "#%%\n"
    }
   }
  },
  {
   "cell_type": "code",
   "execution_count": 10,
   "outputs": [
    {
     "name": "stdout",
     "output_type": "stream",
     "text": [
      "10\n"
     ]
    }
   ],
   "source": [
    "print(solution(\"AAAE\"))\n",
    "\n",
    "# must be 10"
   ],
   "metadata": {
    "collapsed": false,
    "pycharm": {
     "name": "#%%\n"
    }
   }
  },
  {
   "cell_type": "code",
   "execution_count": 11,
   "outputs": [
    {
     "name": "stdout",
     "output_type": "stream",
     "text": [
      "1563\n"
     ]
    }
   ],
   "source": [
    "print(solution(\"I\"))\n",
    "\n",
    "# must be 1563"
   ],
   "metadata": {
    "collapsed": false,
    "pycharm": {
     "name": "#%%\n"
    }
   }
  },
  {
   "cell_type": "code",
   "execution_count": 12,
   "outputs": [
    {
     "name": "stdout",
     "output_type": "stream",
     "text": [
      "1189\n"
     ]
    }
   ],
   "source": [
    "print(solution(\"EIO\"))\n",
    "\n",
    "# must be 1189"
   ],
   "metadata": {
    "collapsed": false,
    "pycharm": {
     "name": "#%%\n"
    }
   }
  },
  {
   "cell_type": "code",
   "execution_count": null,
   "outputs": [],
   "source": [],
   "metadata": {
    "collapsed": false,
    "pycharm": {
     "name": "#%%\n"
    }
   }
  }
 ],
 "metadata": {
  "kernelspec": {
   "display_name": "Python 3",
   "language": "python",
   "name": "python3"
  },
  "language_info": {
   "codemirror_mode": {
    "name": "ipython",
    "version": 2
   },
   "file_extension": ".py",
   "mimetype": "text/x-python",
   "name": "python",
   "nbconvert_exporter": "python",
   "pygments_lexer": "ipython2",
   "version": "2.7.6"
  }
 },
 "nbformat": 4,
 "nbformat_minor": 0
}