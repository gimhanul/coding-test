{
 "cells": [
  {
   "cell_type": "markdown",
   "source": [
    "# 스티커\n",
    "\n",
    "[here](https://www.acmicpc.net/problem/9465)"
   ],
   "metadata": {
    "collapsed": false,
    "pycharm": {
     "name": "#%% md\n"
    }
   }
  },
  {
   "cell_type": "code",
   "execution_count": null,
   "outputs": [],
   "source": [
    "import sys\n",
    "\n",
    "\n",
    "def solution():\n",
    "    n = int(input())\n",
    "    stickers = [list(map(int, sys.stdin.readline().split())) for _ in range(2)]\n",
    "\n",
    "    if n > 1:\n",
    "        stickers[0][1] += stickers[1][0]\n",
    "        stickers[1][1] += stickers[0][0]\n",
    "        for i in range(2, n):\n",
    "            stickers[0][i] += max(stickers[1][i-1], stickers[0][i-2], stickers[1][i-2])\n",
    "            stickers[1][i] += max(stickers[0][i-1], stickers[0][i-2], stickers[1][i-2])\n",
    "\n",
    "    return max(map(max, stickers))\n",
    "\n",
    "\n",
    "T = int(input())\n",
    "for _ in range(T):\n",
    "    print(solution())"
   ],
   "metadata": {
    "collapsed": false,
    "pycharm": {
     "name": "#%%\n"
    }
   }
  }
 ],
 "metadata": {
  "kernelspec": {
   "display_name": "Python 3",
   "language": "python",
   "name": "python3"
  },
  "language_info": {
   "codemirror_mode": {
    "name": "ipython",
    "version": 2
   },
   "file_extension": ".py",
   "mimetype": "text/x-python",
   "name": "python",
   "nbconvert_exporter": "python",
   "pygments_lexer": "ipython2",
   "version": "2.7.6"
  }
 },
 "nbformat": 4,
 "nbformat_minor": 0
}