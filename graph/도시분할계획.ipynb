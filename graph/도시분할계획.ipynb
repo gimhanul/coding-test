{
 "cells": [
  {
   "cell_type": "markdown",
   "source": [
    "# 도시 분할 계획\n",
    "\n",
    "동물원에서 막 탈출한 원숭이 한 마리가 세상 구경을 하고 있다. 어느 날 원숭이는 '평화로운 마을'에 잠시 머물렀는데 마침 마을 사람들은 도로 공사 문제로 머리를 맞대고 회의 중이었다.\n",
    "마을은 N개의 집과 그 집들을 연결하는 M개의 길로 이루어져 있다. 길은 어느 방향으로든지 다닐 수 있는 편리한 길이다. 그리고 길마다 길을 유치하는 데 드는 유지비가 있다.\n",
    "마을의 이장은 마을을 2개의 분리된 마을로 분할할 계획을 세우고 있다. 마을이 너무 커서 혼자서는 관리할 수 없기 때문이다. 마을을 분할할 때는 각 분리된 마을 안에 집들이 서로 연결되도록 분할해야 한다. 각 분리된 마을 안에 있는 임의의 두 집 사이에 경로가 항상 존재해야 한다는 뜻이다. 마을에는 집이 하나 이상 있어야 한다.\n",
    "그렇게 마을의 이장은 계획을 세우다가 마을 안에 길이 너무 많다는 생각을 하게 되었다. 일단 분리된 두 마을 사이에 있는 길들은 필요가 없으므로 없앨 수 있다. 그리고 각 분리된 마을 안에서도 임의의 두 집 사이에 경로가 항상 존재하게 하면서 길을 더 없앨 수 있다. 마을의 이장은 위 조건을 만족하도록 길들을 모두 없애고 나머지 길의 유지비의 합을 최소로 하고 싶다. 이것을 구하는 프로그램을 작성하시오.\n",
    "\n",
    "<br>\n",
    "\n",
    "**입력 조건**\n",
    "\n",
    "- 첫째 줄에 집의 개수 N, 길의 개수 M이 주어진다. N은 2 이상 100000 이하의 정수이고, M은 1 이상 1000000 이하인 정수이다.\n",
    "- 그 다음 줄부터 M줄에 걸쳐 길의 정보가 A, B, C 3 개의 정수가 공백으로 구분되어 주어지는데 A번 집과 B번 집을 연결하는 길의 유지비가 (1 <= C <= 1000)라는 뜻이다.\n",
    "\n",
    "<br>\n",
    "\n",
    "**출력 조건**\n",
    "\n",
    "- 첫째 줄에 길을 없애고 남은 유지비의 합의 최솟값을 출력한다.\n",
    "\n",
    "<br>\n",
    "\n",
    "|입력|출력|\n",
    "|---|---|\n",
    "|7 12<br>1 2 3<br>1 3 2<br>3 2 1<br>2 5 2<br>3 4 4<br>7 3 6<br>5 1 5<br>1 6 2<br>6 4 1<br>6 5 3<br>4 5 3<br>6 7 4|8|"
   ],
   "metadata": {
    "collapsed": false,
    "pycharm": {
     "name": "#%% md\n"
    }
   }
  },
  {
   "cell_type": "code",
   "execution_count": 1,
   "outputs": [],
   "source": [
    "N, M = map(int, input().split())\n",
    "parent = [i for i in range(N+1)]\n",
    "\n",
    "edges = []\n",
    "\n",
    "for _ in range(M):\n",
    "    A, B, C = map(int, input().split())\n",
    "    edges.append((C, A, B))"
   ],
   "metadata": {
    "collapsed": false,
    "pycharm": {
     "name": "#%%\n"
    }
   }
  },
  {
   "cell_type": "code",
   "execution_count": 10,
   "outputs": [],
   "source": [
    "def findParent(parent, x):\n",
    "    if parent[x] != x:\n",
    "        parent[x] = findParent(parent, parent[x])\n",
    "\n",
    "    return parent[x]"
   ],
   "metadata": {
    "collapsed": false,
    "pycharm": {
     "name": "#%%\n"
    }
   }
  },
  {
   "cell_type": "code",
   "execution_count": 11,
   "outputs": [],
   "source": [
    "def unionParent(parent, a, b):\n",
    "    a = findParent(parent, a)\n",
    "    b = findParent(parent, b)\n",
    "\n",
    "    if a < b: parent[b] = a\n",
    "    else: parent[a] = b"
   ],
   "metadata": {
    "collapsed": false,
    "pycharm": {
     "name": "#%%\n"
    }
   }
  },
  {
   "cell_type": "code",
   "execution_count": 15,
   "outputs": [],
   "source": [
    "parent = [i for i in range(N+1)]"
   ],
   "metadata": {
    "collapsed": false,
    "pycharm": {
     "name": "#%%\n"
    }
   }
  },
  {
   "cell_type": "code",
   "execution_count": 16,
   "outputs": [
    {
     "name": "stdout",
     "output_type": "stream",
     "text": [
      "8\n"
     ]
    }
   ],
   "source": [
    "edges.sort()\n",
    "\n",
    "result = []\n",
    "\n",
    "for edge in edges:\n",
    "    cost, a, b = edge\n",
    "\n",
    "    if findParent(parent, a) != findParent(parent, b):\n",
    "        unionParent(parent, a, b)\n",
    "        result.append(cost)\n",
    "\n",
    "print(sum(result[:-1]))"
   ],
   "metadata": {
    "collapsed": false,
    "pycharm": {
     "name": "#%%\n"
    }
   }
  }
 ],
 "metadata": {
  "kernelspec": {
   "display_name": "Python 3",
   "language": "python",
   "name": "python3"
  },
  "language_info": {
   "codemirror_mode": {
    "name": "ipython",
    "version": 2
   },
   "file_extension": ".py",
   "mimetype": "text/x-python",
   "name": "python",
   "nbconvert_exporter": "python",
   "pygments_lexer": "ipython2",
   "version": "2.7.6"
  }
 },
 "nbformat": 4,
 "nbformat_minor": 0
}