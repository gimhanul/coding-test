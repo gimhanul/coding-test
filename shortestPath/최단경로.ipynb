{
 "cells": [
  {
   "cell_type": "markdown",
   "source": [
    "# 최단경로\n",
    "\n",
    "[here](https://www.acmicpc.net/problem/1753)"
   ],
   "metadata": {
    "collapsed": false,
    "pycharm": {
     "name": "#%% md\n"
    }
   }
  },
  {
   "cell_type": "code",
   "execution_count": null,
   "metadata": {
    "collapsed": true,
    "pycharm": {
     "name": "#%%\n"
    }
   },
   "outputs": [],
   "source": [
    "import sys\n",
    "import heapq\n",
    "read = sys.stdin.readline\n",
    "\n",
    "\n",
    "V, E = map(int, read().split())\n",
    "graph = [[] for _ in range(V+1)]\n",
    "K = int(read().rstrip())\n",
    "\n",
    "for _ in range(E):\n",
    "    u, v, w = map(int, read().split())\n",
    "    graph[u].append((v, w))\n",
    "\n",
    "INF = int(1e9)\n",
    "distance = [INF] * (V+1)\n",
    "\n",
    "\n",
    "def djikstra(start):\n",
    "    q = []\n",
    "    heapq.heappush(q, (0, start))\n",
    "    distance[start] = 0\n",
    "\n",
    "    while q:\n",
    "        ndist, now = heapq.heappop(q)\n",
    "        if distance[now] < ndist: continue\n",
    "\n",
    "        for node, dist in graph[now]:\n",
    "            tcost = dist + ndist\n",
    "            if tcost < distance[node]:\n",
    "                distance[node] = tcost\n",
    "                heapq.heappush(q, (tcost, node))\n",
    "\n",
    "\n",
    "djikstra(K)\n",
    "for d in distance[1:]: print(d if d < INF else 'INF')"
   ]
  }
 ],
 "metadata": {
  "kernelspec": {
   "display_name": "Python 3",
   "language": "python",
   "name": "python3"
  },
  "language_info": {
   "codemirror_mode": {
    "name": "ipython",
    "version": 2
   },
   "file_extension": ".py",
   "mimetype": "text/x-python",
   "name": "python",
   "nbconvert_exporter": "python",
   "pygments_lexer": "ipython2",
   "version": "2.7.6"
  }
 },
 "nbformat": 4,
 "nbformat_minor": 0
}