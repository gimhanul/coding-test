{
 "cells": [
  {
   "cell_type": "markdown",
   "source": [
    "# 블록 이동하기\n",
    "\n",
    "[here](https://school.programmers.co.kr/learn/courses/30/lessons/60063)"
   ],
   "metadata": {
    "collapsed": false,
    "pycharm": {
     "name": "#%% md\n"
    }
   }
  },
  {
   "cell_type": "code",
   "execution_count": 20,
   "metadata": {
    "collapsed": true,
    "pycharm": {
     "name": "#%%\n"
    }
   },
   "outputs": [],
   "source": [
    "from collections import deque\n",
    "\n",
    "def validationGo(x, y):\n",
    "    return 0 <= x < N and 0 <= y < N and b[x][y] != 1\n",
    "\n",
    "def canGo(robot):\n",
    "    result = []\n",
    "\n",
    "    r = list(robot)\n",
    "    r1x, r1y, r2x, r2y = r[0][0], r[0][1], r[1][0], r[1][1]\n",
    "\n",
    "    # 수직 or 수평으로 가는 경우\n",
    "    go = [(0,1),(0,-1),(-1,0),(1,0)]\n",
    "    for gx, gy in go:\n",
    "        if validationGo(gx+r1x, gy+r1y) and validationGo(gx+r2x, gy+r2y):\n",
    "            result.append({(gx+r1x, gy+r1y), (gx+r2x, gy+r2y)})\n",
    "\n",
    "    # 가로 -> 세로\n",
    "    if r1x == r2x:\n",
    "        for t in [1, -1]:\n",
    "           if validationGo(r1x+t, r1y) and validationGo(r2x+t, r2y):\n",
    "                result.append({(r1x, r1y), (r1x+t, r1y)})\n",
    "                result.append({(r2x, r2y), (r2x+t, r2y)})\n",
    "\n",
    "    # 세로 -> 가로\n",
    "    if r1y == r2y:\n",
    "        for t in [1, -1]:\n",
    "            if validationGo(r1x, r1y+t) and validationGo(r2x, r2y+t):\n",
    "                result.append({(r1x, r1y), (r1x, r1y+t)})\n",
    "                result.append({(r2x, r2y), (r2x, r2y+t)})\n",
    "\n",
    "    return result\n",
    "\n",
    "\n",
    "def solution(board):\n",
    "    global N\n",
    "    global b\n",
    "\n",
    "    N = len(board)\n",
    "    b = board\n",
    "\n",
    "    visited = []\n",
    "    robot = {(0, 0), (0, 1)}\n",
    "    q = deque([(robot, 0)])\n",
    "\n",
    "    while q:\n",
    "        nowRobot, nowTime = q.popleft()\n",
    "\n",
    "        if (N-1, N-1) in nowRobot:\n",
    "            return nowTime\n",
    "\n",
    "        for r in canGo(nowRobot):\n",
    "            if not r in visited:\n",
    "                q.append((r, nowTime+1))\n",
    "                visited.append(r)"
   ]
  },
  {
   "cell_type": "code",
   "execution_count": 21,
   "outputs": [
    {
     "name": "stdout",
     "output_type": "stream",
     "text": [
      "7\n"
     ]
    }
   ],
   "source": [
    "print(solution([[0, 0, 0, 1, 1],[0, 0, 0, 1, 0],[0, 1, 0, 1, 1],[1, 1, 0, 0, 1],[0, 0, 0, 0, 0]]))"
   ],
   "metadata": {
    "collapsed": false,
    "pycharm": {
     "name": "#%%\n"
    }
   }
  },
  {
   "cell_type": "code",
   "execution_count": null,
   "outputs": [],
   "source": [],
   "metadata": {
    "collapsed": false,
    "pycharm": {
     "name": "#%%\n"
    }
   }
  }
 ],
 "metadata": {
  "kernelspec": {
   "display_name": "Python 3",
   "language": "python",
   "name": "python3"
  },
  "language_info": {
   "codemirror_mode": {
    "name": "ipython",
    "version": 2
   },
   "file_extension": ".py",
   "mimetype": "text/x-python",
   "name": "python",
   "nbconvert_exporter": "python",
   "pygments_lexer": "ipython2",
   "version": "2.7.6"
  }
 },
 "nbformat": 4,
 "nbformat_minor": 0
}