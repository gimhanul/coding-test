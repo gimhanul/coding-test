{
 "cells": [
  {
   "cell_type": "markdown",
   "source": [
    "# 편집거리\n",
    "\n",
    "두 개의 문자열 A와 B가 주어졌을 때, 문자열 A를 편집하여 문자열 B로 만들고자 합니다. 문자열 A를 편집할 때는\n",
    "다음의 세 연산 중에서 한 번에 하나씩 선택하여 이용할 수 있습니다.\n",
    "\n",
    "\n",
    "1. 삽입(Insert) : 특정한 위치에 하나의 문자를 삽입합니다.\n",
    "2. 삭제(Remove) : 특정한 위치에 있는 하나의 문자를 삭제합니다.\n",
    "3. 교체(Replace) : 특정한 위치에 있는 하나의 문자를 다른 문자로 교체합니다.\n",
    "\n",
    "\n",
    "이때 편집 거리란 문자열 A를 편집하여 문자열 B로 만들기 위해 사용한 연산의 수를 의미합니다. 문자열 A를 문자열\n",
    "B로 만드는 최소 편집 거리를 계산하는 프로그램을 작성하세요. 예를 들어 \"sunday\"와 \"saturday\"의 최소 편집 거리는 3입니다.\n",
    "\n",
    "<br>\n",
    "\n",
    "**입력 조건**\n",
    "\n",
    "- 두 문자열 A와 B가 한 줄에 하나씩 주어집니다.\n",
    "- 각 문자열은 영문 알파벳으로만 구성되어 있으며, 각 문자열의 길이는 1보다 크거나 같고, 5,000보다 작거나 같습니다.\n",
    "\n",
    "<br>\n",
    "\n",
    "**출력 조건**\n",
    "\n",
    "- 최소 편집 거리를 출력합니다.\n",
    "\n",
    "<br>\n",
    "\n",
    "|입력|출력|\n",
    "|---|---|\n",
    "|cat<br>cut|1|\n",
    "|sunday<br>saturday|3|"
   ],
   "metadata": {
    "collapsed": false,
    "pycharm": {
     "name": "#%% md\n"
    }
   }
  },
  {
   "cell_type": "code",
   "execution_count": 52,
   "outputs": [],
   "source": [
    "A = input()\n",
    "B = input()\n",
    "editCnt = 0"
   ],
   "metadata": {
    "collapsed": false,
    "pycharm": {
     "name": "#%%\n"
    }
   }
  },
  {
   "cell_type": "code",
   "execution_count": 11,
   "outputs": [],
   "source": [
    "def getSameDegree(a, b):\n",
    "    result = 0\n",
    "\n",
    "    if len(a) == len(b):\n",
    "        for i in range(len(b)):\n",
    "            if a[i] == b[i]: result += 1\n",
    "\n",
    "        return result / len(b)\n",
    "\n",
    "    elif len(a) < len(b):\n",
    "        for i in range(len(a)):\n",
    "            if a[i] == b[i]: result += 1\n",
    "\n",
    "        return result / len(b)\n",
    "\n",
    "    elif len(a) > len(b):\n",
    "        for i in range(len(b)):\n",
    "            if a[i] == b[i]: result += 1\n",
    "\n",
    "        return result / len(a)"
   ],
   "metadata": {
    "collapsed": false,
    "pycharm": {
     "name": "#%%\n"
    }
   }
  },
  {
   "cell_type": "code",
   "execution_count": 14,
   "outputs": [],
   "source": [
    "def insert(word, index, target):\n",
    "    wordList = list(word)\n",
    "    wordList.insert(index, target)\n",
    "    return wordList\n",
    "\n",
    "def remove(word, index):\n",
    "    wordList = list(word)\n",
    "    wordList.pop(index)\n",
    "    return wordList\n",
    "\n",
    "def replace(word, index, target):\n",
    "    wordList = list(word)\n",
    "    wordList[index] = target\n",
    "    return wordList"
   ],
   "metadata": {
    "collapsed": false,
    "pycharm": {
     "name": "#%%\n"
    }
   }
  },
  {
   "cell_type": "code",
   "execution_count": 53,
   "outputs": [
    {
     "name": "stdout",
     "output_type": "stream",
     "text": [
      "3\n"
     ]
    }
   ],
   "source": [
    "i = -1\n",
    "while A != B:\n",
    "    i += 1\n",
    "\n",
    "    originalDegree = getSameDegree(A, B)\n",
    "    insertDegree = getSameDegree(insert(A, i, B[i]), B) if i < len(B) else 0\n",
    "    removeDegree = getSameDegree(remove(A, i), B) if i < len(A) else 0\n",
    "    replaceDegree = getSameDegree(replace(A, i, B[i]), B) if i < len(B) and i < len(A) else 0\n",
    "\n",
    "    maxDegree = max(originalDegree, insertDegree, removeDegree, replaceDegree)\n",
    "\n",
    "    if maxDegree == originalDegree: continue\n",
    "    elif maxDegree == insertDegree: A = ''.join(insert(A, i, B[i]))\n",
    "    elif maxDegree == removeDegree: A = ''.join(remove(A, i))\n",
    "    elif maxDegree == replaceDegree: A = ''.join(replace(A, i, B[i]))\n",
    "\n",
    "    editCnt += 1\n",
    "\n",
    "print(editCnt)"
   ],
   "metadata": {
    "collapsed": false,
    "pycharm": {
     "name": "#%%\n"
    }
   }
  },
  {
   "cell_type": "markdown",
   "source": [
    "백준에 있넹\n",
    "[여깅](https://www.acmicpc.net/problem/15483)\n",
    "\n",
    "근데 시간초과 뜸\n",
    "예제는 이거 저거 다 맞음"
   ],
   "metadata": {
    "collapsed": false,
    "pycharm": {
     "name": "#%% md\n"
    }
   }
  },
  {
   "cell_type": "code",
   "execution_count": 55,
   "outputs": [
    {
     "name": "stdout",
     "output_type": "stream",
     "text": [
      "3\n"
     ]
    }
   ],
   "source": [
    "def editDist(a, b):\n",
    "    dp = [[0] * (len(b)+1) for _ in range(len(a) + 1)]\n",
    "\n",
    "    for i in range(1, len(a)+1): dp[i][0] = i\n",
    "    for j in range(1, len(b)+1): dp[0][j] = j\n",
    "\n",
    "    for i in range(1, len(a)+1):\n",
    "        for j in range(1, len(b)+1):\n",
    "            if a[i-1] == b[j-1]: dp[i][j] = dp[i-1][j-1]\n",
    "            else: dp[i][j] = min(dp[i-1][j-1], dp[i-1][j], dp[i][j-1]) + 1\n",
    "\n",
    "    return dp[-1][-1]\n",
    "\n",
    "A = input()\n",
    "B = input()\n",
    "print(editDist(A, B))"
   ],
   "metadata": {
    "collapsed": false,
    "pycharm": {
     "name": "#%%\n"
    }
   }
  }
 ],
 "metadata": {
  "kernelspec": {
   "display_name": "Python 3",
   "language": "python",
   "name": "python3"
  },
  "language_info": {
   "codemirror_mode": {
    "name": "ipython",
    "version": 2
   },
   "file_extension": ".py",
   "mimetype": "text/x-python",
   "name": "python",
   "nbconvert_exporter": "python",
   "pygments_lexer": "ipython2",
   "version": "2.7.6"
  }
 },
 "nbformat": 4,
 "nbformat_minor": 0
}