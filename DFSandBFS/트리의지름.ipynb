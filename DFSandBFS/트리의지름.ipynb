{
 "cells": [
  {
   "cell_type": "markdown",
   "source": [
    "# 트리의 지름\n",
    "\n",
    "[here](https://www.acmicpc.net/problem/1167)"
   ],
   "metadata": {
    "collapsed": false,
    "pycharm": {
     "name": "#%% md\n"
    }
   }
  },
  {
   "cell_type": "code",
   "execution_count": null,
   "metadata": {
    "collapsed": true,
    "pycharm": {
     "name": "#%%\n"
    }
   },
   "outputs": [],
   "source": [
    "import sys\n",
    "sys.setrecursionlimit(10**5)\n",
    "read = sys.stdin.readline\n",
    "\n",
    "n = int(read().rstrip())\n",
    "tree = [[] for _ in range(n+1)]\n",
    "for _ in range(n):\n",
    "    vinfo = list(map(int, read().split()))[:-1]\n",
    "    for i in range(1, len(vinfo), 2):\n",
    "        tree[vinfo[0]].append((vinfo[i], vinfo[i+1]))\n",
    "\n",
    "\n",
    "def dfs(node, value):\n",
    "    for linkedNode, cost in tree[node]:\n",
    "        if v[linkedNode] == -1:\n",
    "            v[linkedNode] = value + cost\n",
    "            dfs(linkedNode, v[linkedNode])\n",
    "\n",
    "\n",
    "v = [-1] * (n+1)\n",
    "v[1] = 0\n",
    "dfs(1, 0)\n",
    "\n",
    "start = v.index(max(v))\n",
    "v = [-1] * (n+1)\n",
    "v[start] = 0\n",
    "dfs(start, 0)\n",
    "\n",
    "print(max(v))"
   ]
  },
  {
   "cell_type": "markdown",
   "source": [
    "도움받은 [힌트](https://www.acmicpc.net/board/view/83695)"
   ],
   "metadata": {
    "collapsed": false,
    "pycharm": {
     "name": "#%% md\n"
    }
   }
  }
 ],
 "metadata": {
  "kernelspec": {
   "display_name": "Python 3",
   "language": "python",
   "name": "python3"
  },
  "language_info": {
   "codemirror_mode": {
    "name": "ipython",
    "version": 2
   },
   "file_extension": ".py",
   "mimetype": "text/x-python",
   "name": "python",
   "nbconvert_exporter": "python",
   "pygments_lexer": "ipython2",
   "version": "2.7.6"
  }
 },
 "nbformat": 4,
 "nbformat_minor": 0
}