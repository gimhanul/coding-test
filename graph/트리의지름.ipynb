{
 "cells": [
  {
   "cell_type": "markdown",
   "source": [
    "# 트리의 지름\n",
    "\n",
    "[here](https://www.acmicpc.net/problem/1967)"
   ],
   "metadata": {
    "collapsed": false,
    "pycharm": {
     "name": "#%% md\n"
    }
   }
  },
  {
   "cell_type": "code",
   "execution_count": null,
   "metadata": {
    "collapsed": true,
    "pycharm": {
     "name": "#%%\n"
    }
   },
   "outputs": [],
   "source": [
    "import sys\n",
    "sys.setrecursionlimit(10**5)\n",
    "read = sys.stdin.readline\n",
    "\n",
    "n = int(read().rstrip())\n",
    "maxValue = -1\n",
    "tree = [[] for _ in range(n+1)]\n",
    "treeCost = [0] * (n+1)\n",
    "for _ in range(n-1):\n",
    "    parent, child, cost = map(int, read().split())\n",
    "    treeCost[child] = cost\n",
    "    tree[parent].append(child)\n",
    "\n",
    "\n",
    "def dfs(node):\n",
    "    global maxValue\n",
    "\n",
    "    if tree[node]:\n",
    "        result = [0] * (len(tree[node])+1)\n",
    "        for i in range(len(tree[node])):\n",
    "            dfs(tree[node][i])\n",
    "            result[i] = treeCost[tree[node][i]]\n",
    "\n",
    "        result.sort(reverse=True)\n",
    "        treeCost[node] += result[0]\n",
    "        maxValue = max(maxValue, sum(result[:2]))\n",
    "\n",
    "dfs(1)\n",
    "print(0 if n == 1 else maxValue)"
   ]
  }
 ],
 "metadata": {
  "kernelspec": {
   "display_name": "Python 3",
   "language": "python",
   "name": "python3"
  },
  "language_info": {
   "codemirror_mode": {
    "name": "ipython",
    "version": 2
   },
   "file_extension": ".py",
   "mimetype": "text/x-python",
   "name": "python",
   "nbconvert_exporter": "python",
   "pygments_lexer": "ipython2",
   "version": "2.7.6"
  }
 },
 "nbformat": 4,
 "nbformat_minor": 0
}