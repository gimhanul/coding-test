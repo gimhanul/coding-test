{
 "cells": [
  {
   "cell_type": "markdown",
   "source": [
    "# 1. 외판원 순회\n",
    "\n",
    "외판원 순회 문제는 영어로 Traveling Salesman problem (TSP) 라고 불리는 문제로 computer science 분야에서 가장 중요하게 취급되는 문제 중 하나이다.\n",
    "\n",
    "1번부터 N번까지 번호가 매겨져 있는 도시들이 있고, 도시들 사이에는 길이 있다. (길이 없을 수도 있다.) 한 외판원이 어느 한 도시에서 출발해 N개의 도시를 모두 거쳐 다시 원래의 도시로 돌아오는 순회 여행 경로를 계획하려고 한다. 단, 한 번 갔던 도시로는 다시 갈 수 없다. (맨 마지막에 여행을 출발했던 도시로 돌아오는 것은 예외) 이런 여행 경로는 여러 가지가 있을 수 있는데, 가장 적은 비용을 들이는 여행 계획을 세우고자 한다.\n",
    "\n",
    "각 도시간에 이동하는데 드는 비용은 행렬 W[i][j]형태로 주어진다. W[i][j]는 도시 i에서 도시 j로 가기 위한 비용을 나타낸다. 비용은 대칭적이지 않다. 즉, W[i][j] 는 W[j][i]와 다를 수 있다. 모든 도시간의 비용은 양의 정수이다. W[i][i]는 항상 0이다. 경우에 따라서 도시 i에서 도시 j로 갈 수 없는 경우도 있으며 이럴 경우 W[i][j]=0이라고 하자.\n",
    "\n",
    "N과 비용 행렬이 주어졌을 때, 가장 적은 비용을 들이는 외판원의 순회 여행 경로를 구하는 프로그램을 작성하시오.\n",
    "\n",
    "<br>\n",
    "\n",
    "**입력**\n",
    "\n",
    "첫째 줄에 도시의 수 N이 주어진다. (2 ≤ N ≤ 10) 다음 N개의 줄에는 비용 행렬이 주어진다. 각 행렬의 성분은 1,000,000 이하의 양의 정수이며, 갈 수 없는 경우는 0이 주어진다. W[i][j]는 도시 i에서 j로 가기 위한 비용을 나타낸다. 항상 순회할 수 있는 경우만 입력으로 주어진다.\n",
    "\n",
    "<br>\n",
    "\n",
    "**출력**\n",
    "\n",
    "첫째 줄에 외판원의 순회에 필요한 최소 비용을 출력한다."
   ],
   "metadata": {
    "collapsed": false,
    "pycharm": {
     "name": "#%% md\n"
    }
   }
  },
  {
   "cell_type": "code",
   "execution_count": 1,
   "outputs": [
    {
     "name": "stdout",
     "output_type": "stream",
     "text": [
      "35\n"
     ]
    }
   ],
   "source": [
    "import sys\n",
    "\n",
    "def go(now, trace):\n",
    "    if dp[now][trace]:\n",
    "        return dp[now][trace]\n",
    "\n",
    "    # 기저 조건\n",
    "    if trace == (1 << N)-1:\n",
    "        return path[now][0] if path[now][0] > 0 else MAX\n",
    "\n",
    "    # 각 상태에서 구해야하는 값\n",
    "    cost = MAX\n",
    "    for i in range(1, N):\n",
    "        if not trace & (1 << i) and path[now][i]:\n",
    "            val = go(i, trace | (1 << i))\n",
    "            cost = min(cost, val+path[now][i])\n",
    "\n",
    "    # dp에 값 갱신\n",
    "    dp[now][trace] = cost\n",
    "    return dp[now][trace]\n",
    "\n",
    "\n",
    "N = int(input())\n",
    "path = [list(map(int, input().split())) for _ in range(N)]\n",
    "dp = [[0] * (1 << N) for _ in range(N)]\n",
    "MAX = sys.maxsize\n",
    "\n",
    "print(go(0, 1))"
   ],
   "metadata": {
    "collapsed": false,
    "pycharm": {
     "name": "#%%\n"
    }
   }
  },
  {
   "cell_type": "markdown",
   "source": [
    "# 2. 소풍\n",
    "\n",
    "안드로메다 유치원 익스프레스반에서는 다음 주에 율동공원으로 소풍을 갑니다. 선생님은 소풍 때 학생들을 두 명씩 짝을 지어 행동하게 하려고 합니다. 그런데 서로 친구가 아닌 학생들끼리 짝을 지어 주면 서로 싸우거나 같이 돌아다니지 않기 때문에, 항상 서로 친구인 학생들끼리만 짝을 지어야 합니다.\n",
    "\n",
    "각 학생들의 상에 대해 이들이 서로 친구인지 여부가 주어질 때, 학생들을 짝 지을 수 있는 방법의 수를 계산하는 프로그램을 작성하세요. 짝이 되는 학생들이 일부만 다르더라도 다른 방법이라고 봅니다. 예를 들어 다음 두 가지 방법은 서로 다른 방법입니다.\n",
    "\n",
    "(뷔, 정국) (지민, 슈가) (진, 제이홉)\n",
    "(뷔, 정국) (지민, 제이홉) (진, 슈가)\n",
    "\n",
    "<br>\n",
    "\n",
    "**입력**\n",
    "\n",
    "입력의 첫 줄에는 학생의 수 n(2<=n<=10)과 친구 쌍의 수 m이 주어집니다. 그 다음 줄에 m개의 정수 쌍으로 서로 친구인 두 학생의 번호가 주어집니다. 번호는 모두 0부터 n-1 사이의 정수이고, 같은 쌍은 입력에 두 번 주어지지 않습니다. 학생들의 수는 짝수입니다.\n",
    "\n",
    "<br>\n",
    "\n",
    "**출력**\n",
    "\n",
    "각 테스트 케이스마다 한 줄에 모든 학생을 친구끼리만 짝지어줄 수 있는 방법의 수를 출력합니다."
   ],
   "metadata": {
    "collapsed": false,
    "pycharm": {
     "name": "#%% md\n"
    }
   }
  },
  {
   "cell_type": "code",
   "execution_count": 11,
   "outputs": [
    {
     "name": "stdout",
     "output_type": "stream",
     "text": [
      "3\n"
     ]
    }
   ],
   "source": [
    "n, m = map(int, input().split())\n",
    "friends = [[False] * 10 for _ in range(10)]\n",
    "taken = [False] * 10\n",
    "\n",
    "for _ in range(m):\n",
    "    f1, f2 = map(int, input().split())\n",
    "    friends[f1][f2] = True\n",
    "    friends[f2][f1] = True\n",
    "\n",
    "def countParing(taken):\n",
    "    smallest = -1\n",
    "    finished = True\n",
    "\n",
    "    # 종료 조건\n",
    "    for i in range(n):\n",
    "        if not taken[i]:\n",
    "            finished = False\n",
    "            smallest = i\n",
    "            break\n",
    "\n",
    "    if finished: return 1\n",
    "\n",
    "    count  = 0\n",
    "    for j in range(smallest + 1, n):\n",
    "        if friends[smallest][j] and not taken[j]:\n",
    "            taken[smallest] = True\n",
    "            taken[j] = True\n",
    "            count += countParing(taken)\n",
    "            taken[smallest] = False\n",
    "            taken[j] = False\n",
    "\n",
    "    return count\n",
    "\n",
    "print(countParing(taken))"
   ],
   "metadata": {
    "collapsed": false,
    "pycharm": {
     "name": "#%%\n"
    }
   }
  },
  {
   "cell_type": "markdown",
   "source": [
    "# 3. merge sort"
   ],
   "metadata": {
    "collapsed": false,
    "pycharm": {
     "name": "#%% md\n"
    }
   }
  },
  {
   "cell_type": "code",
   "execution_count": 13,
   "outputs": [
    {
     "name": "stdout",
     "output_type": "stream",
     "text": [
      "[1, 2, 3, 4, 5]\n"
     ]
    }
   ],
   "source": [
    "n = int(input())\n",
    "arr = list(map(int, input().split()))\n",
    "\n",
    "def mergeSort(list):\n",
    "\tsize = len(list)\n",
    "\tif size <= 1: return list\n",
    "\n",
    "\tmid = len(list) // 2\n",
    "\tleft = mergeSort(list[:mid])\n",
    "\tright = mergeSort(list[mid:])\n",
    "\tmerged = merge(left, right)\n",
    "\treturn merged\n",
    "\n",
    "def merge(list1, list2):\n",
    "\tmerged = []\n",
    "\twhile len(list1) > 0 and len(list2) > 0:\n",
    "\t\tif list1[0] <= list2[0]: merged.append(list1.pop(0))\n",
    "\t\telse: merged.append(list2.pop(0))\n",
    "\n",
    "\tif len(list1) > 0: merged += list1\n",
    "\tif len(list2) > 0: merged += list2\n",
    "\n",
    "\treturn merged\n",
    "\n",
    "\n",
    "sorted = mergeSort(arr)\n",
    "for i in range(n): print(sorted[i], end=' ')"
   ],
   "metadata": {
    "collapsed": false,
    "pycharm": {
     "name": "#%%\n"
    }
   }
  },
  {
   "cell_type": "markdown",
   "source": [
    "# 4. 색종이 만들기\n",
    "\n",
    "아래 <그림 1>과 같이 여러개의 정사각형칸들로 이루어진 정사각형 모양의 종이가 주어져 있고, 각 정사각형들은 하얀색으로 칠해져 있거나 파란색으로 칠해져 있다. 주어진 종이를 일정한 규칙에 따라 잘라서 다양한 크기를 가진 정사각형 모양의 하얀색 또는 파란색 색종이를 만들려고 한다.\n",
    "\n",
    "전체 종이의 크기가 N×N(N=2k, k는 1 이상 7 이하의 자연수) 이라면 종이를 자르는 규칙은 다음과 같다.\n",
    "\n",
    "전체 종이가 모두 같은 색으로 칠해져 있지 않으면 가로와 세로로 중간 부분을 잘라서 <그림 2>의 I, II, III, IV와 같이 똑같은 크기의 네 개의 N/2 × N/2색종이로 나눈다. 나누어진 종이 I, II, III, IV 각각에 대해서도 앞에서와 마찬가지로 모두 같은 색으로 칠해져 있지 않으면 같은 방법으로 똑같은 크기의 네 개의 색종이로 나눈다. 이와 같은 과정을 잘라진 종이가 모두 하얀색 또는 모두 파란색으로 칠해져 있거나, 하나의 정사각형 칸이 되어 더 이상 자를 수 없을 때까지 반복한다.\n",
    "\n",
    "위와 같은 규칙에 따라 잘랐을 때 <그림 3>은 <그림 1>의 종이를 처음 나눈 후의 상태를, <그림 4>는 두 번째 나눈 후의 상태를, <그림 5>는 최종적으로 만들어진 다양한 크기의 9장의 하얀색 색종이와 7장의 파란색 색종이를 보여주고 있다.\n",
    "\n",
    "입력으로 주어진 종이의 한 변의 길이 N과 각 정사각형칸의 색(하얀색 또는 파란색)이 주어질 때 잘라진 하얀색 색종이와 파란색 색종이의 개수를 구하는 프로그램을 작성하시오."
   ],
   "metadata": {
    "collapsed": false,
    "pycharm": {
     "name": "#%% md\n"
    }
   }
  },
  {
   "cell_type": "code",
   "execution_count": null,
   "outputs": [],
   "source": [
    "N = int(input())\n",
    "paper = [list(map(int, input().split())) for _ in range(N)]\n",
    "\n",
    "result = []\n",
    "\n",
    "def solution(x, y, N) :\n",
    "  color = paper[x][y]\n",
    "  for i in range(x, x+N) :\n",
    "    for j in range(y, y+N) :\n",
    "      if color != paper[i][j] :\n",
    "        solution(x, y, N//2)\n",
    "        solution(x, y+N//2, N//2)\n",
    "        solution(x+N//2, y, N//2)\n",
    "        solution(x+N//2, y+N//2, N//2)\n",
    "        return\n",
    "  if color == 0 :\n",
    "    result.append(0)\n",
    "  else :\n",
    "    result.append(1)\n",
    "\n",
    "\n",
    "solution(0,0,N)\n",
    "print(result.count(0))\n",
    "print(result.count(1))"
   ],
   "metadata": {
    "collapsed": false,
    "pycharm": {
     "name": "#%%\n"
    }
   }
  },
  {
   "cell_type": "markdown",
   "source": [
    "# 5. 이항계수\n",
    "\n",
    "이항 계수 $\\frac{n}{r}$ 은 $n$개의 서로 다른 원소 중에서 $r$개를 선택하는 방법의 수를 나타내는 것으로 $nC_k$과 같다.\n",
    "\n",
    "이항 계수에는 다음과 같은 점화식이 성립한다.\n",
    "\n",
    "$(n > r > 0)$일 때, $(\\frac{n}{r}) = (\\frac{n-1}{r-1}) + (\\frac{n-1}{r})$ 이고\n",
    "\n",
    "$(\\frac{n}{0}) = (\\frac{n}{n}) = 1$ 이다.\n",
    "\n",
    "이 점화식을 이용하여, $n, r$ 값이 주어질 $(\\frac{n}{r})$때 의 값을 반환하는 프로그램을 구현하시오.\n",
    "\n",
    "\n",
    "\n",
    "입력 : $n$과 $r$이 입력되며, 각 각 0 이상 30 이하의 정수이다.\n",
    "\n",
    "출력 : $(\\frac{n}{r})$값을 출력한다."
   ],
   "metadata": {
    "collapsed": false,
    "pycharm": {
     "name": "#%% md\n"
    }
   }
  },
  {
   "cell_type": "code",
   "execution_count": 4,
   "outputs": [
    {
     "name": "stdout",
     "output_type": "stream",
     "text": [
      "252\n"
     ]
    }
   ],
   "source": [
    "def factorial(n):\n",
    "    if n == 0:\n",
    "        return 1\n",
    "    return n * factorial(n-1)\n",
    "\n",
    "n, k = map(int, input().split())\n",
    "print(factorial(n) // (factorial(k) * factorial(n - k)))"
   ],
   "metadata": {
    "collapsed": false,
    "pycharm": {
     "name": "#%%\n"
    }
   }
  },
  {
   "cell_type": "markdown",
   "source": [
    "# 6. 외발뛰기\n",
    "\n",
    "땅따먹기를 하다 질린 재하와 영훈이는 땅따먹기의 변종인 새로운 게임을 하기로 했습니다. 이 게임은 그림과 같이 n*n 크기의 격자에 각 1부터 9 사이의 정수를 쓴 상태로 시작합니다. 각 차례인 사람은 맨 왼쪽 윗 칸에서 시작해 외발로 뛰어서 오른쪽 아래 칸으로 내려가야 합니다. 이 때 각 칸에 적혀 있는 숫자만큼 오른쪽이나 아래 칸으로 움직일 수 있으며, 중간에 게임판 밖으로 벗어나면 안 됩니다.\n",
    "\n",
    "균형을 잃어서 다른 발로 서거나 넘어져도 게임에서 집니다만, 재하와 영훈이는 젊고 활기차기 때문에 외발로 뛰어다니는 것은 아무것도 아닙니다. 다만 걱정되는 것은 주어진 게임판에 시작점에서 끝점으로 가는 방법이 존재하지 않을 수도 있다는 것입니다. 예를 들어 그림 (a)의 게임판에서는 사각형으로 표시된 칸들을 통해 끝에 도달할 수 있지만, 숫자가 하나 바뀐 그림 (b)에서는 그럴 수가 없습니다.\n",
    "\n",
    "게임판이 주어질 때 왼쪽 위의 시작점에서 오른쪽 아래의 시작점에 도달할 수 있는 방법이 있는지 확인하는 프로그램을 작성하세요.\n",
    "\n",
    "<br>\n",
    "\n",
    "**입력**\n",
    "입력의 첫 줄에는 격자의 크기 n(2 <= n <= 100)이 주어지고, 그 후 n줄에 각 n개의 숫자로 왼쪽 위부터 각 칸에 쓰인 숫자들이 주어집니다. 오른쪽 아래 있는 끝 점 위치에는 0이 주어집니다.\n",
    "\n",
    "<br>\n",
    "\n",
    "**출력**\n",
    "시작점에서 끝 점으로 도달할 수 있을 경우 \"YES\"를, 아닐 경우 \"NO\"를 출력합니다. (따옴표 제외)"
   ],
   "metadata": {
    "collapsed": false,
    "pycharm": {
     "name": "#%% md\n"
    }
   }
  },
  {
   "cell_type": "code",
   "execution_count": 7,
   "outputs": [
    {
     "name": "stdout",
     "output_type": "stream",
     "text": [
      "YES\n"
     ]
    }
   ],
   "source": [
    "n = int(input())\n",
    "ddang = [list(map(int, input().split())) for _ in range(n)]\n",
    "memo = [[-1] * n for _ in range(n)]\n",
    "\n",
    "def start(col, row):\n",
    "    if col >= n or row >= n: return False\n",
    "\n",
    "    go = ddang[col][row]\n",
    "\n",
    "    if memo[col][row] == -1:\n",
    "        memo[col][row] = (go == 0 or start(col, row+go) or start(col+go, row))\n",
    "\n",
    "    return memo[col][row]\n",
    "\n",
    "\n",
    "print(\"YES\") if start(0, 0) else print(\"NO\")"
   ],
   "metadata": {
    "collapsed": false,
    "pycharm": {
     "name": "#%%\n"
    }
   }
  },
  {
   "cell_type": "markdown",
   "source": [
    "# 7. 외발뛰기 반복적 동적계획"
   ],
   "metadata": {
    "collapsed": false,
    "pycharm": {
     "name": "#%% md\n"
    }
   }
  },
  {
   "cell_type": "code",
   "execution_count": null,
   "outputs": [],
   "source": [
    "n = int(input())\n",
    "ddang = [list(map(int, input().split())) for _ in range(n)]\n",
    "\n",
    "dp = [[0] * n for _ in range(n)]\n",
    "\n",
    "for i in range(n-1, -1, -1):\n",
    "    for j in range(n-1, -1, -1):\n",
    "        if i == n-1 and j == n-1: dp[i][j] = 1\n",
    "\n",
    "        jump = ddang[i][j]\n",
    "        if i+jump >= n and j+jump >= n: dp[i][j] = 0\n",
    "        elif i+jump >= n: dp[i][j] = dp[i][j+jump]\n",
    "        elif j+jump >= n: dp[i][j] = dp[i+jump][j]\n",
    "        else: dp[i][j] = dp[i][j+jump] or dp[i+jump][j]\n",
    "\n",
    "print(\"YES\") if dp[0][0] else print(\"NO\")"
   ],
   "metadata": {
    "collapsed": false,
    "pycharm": {
     "name": "#%%\n"
    }
   }
  },
  {
   "cell_type": "markdown",
   "source": [
    "# 8. 회전초밥\n",
    "\n",
    "가족 외식으로 회전초밥집에 갔습니다. 회전초밥집에는 n가지의 메뉴가 있고, 가족들은 각 메뉴에 대한 선호도를 매겼습니다.\n",
    "\n",
    "가족들은 주어진 금액 안에서 선호도의 합을 최대한으로 하도록 초밥을 먹고 싶습니다. 각 종류의 초밥은 무한정으로 공급된다고 가정합니다. 이 때 얻을 수 있는 최대한의 선호도는 얼마일까요?\n",
    "\n",
    "<br>\n",
    "\n",
    "**입력**\n",
    "입력의 첫 줄에는 초밥의 종류 n(1 <= n <= 20)과 가족외식 예산 m(1 <= m <= 1,000,000)이 주어집니다. 그 후 n 줄에 각 초밥의 가격과 선호도가 순서대로 주어집니다. 가격은 20,000 이하의 자연수로, 항상 100 의 배수입니다. 선호도는 20 이하의 자연수입니다.\n",
    "\n",
    "<br>\n",
    "\n",
    "**출력**\n",
    "각 테스트 케이스별로 한 줄에 가능한 선호도의 최대 합을 출력합니다."
   ],
   "metadata": {
    "collapsed": false,
    "pycharm": {
     "name": "#%% md\n"
    }
   }
  },
  {
   "cell_type": "code",
   "execution_count": null,
   "outputs": [],
   "source": [
    "n, m = map(int, input().split())\n",
    "cost = []\n",
    "like = []\n",
    "\n",
    "for _ in range(n):\n",
    "    c, l = map(int, input().split())\n",
    "    cost.append(c)\n",
    "    like.append(l)\n",
    "\n",
    "m //= 100\n",
    "sw = [0] * 201\n",
    "\n",
    "for b in range(1, m+1):\n",
    "    sw[b%201] = 0\n",
    "    for s in range(n):\n",
    "        targetPrice = cost[s] // 100\n",
    "        targetLike = like[s]\n",
    "\n",
    "        if b < targetPrice: continue\n",
    "        sw[b%201] = max(sw[b%201], sw[(b-targetPrice)%201] + targetLike)\n",
    "\n",
    "print(sw[m%201])"
   ],
   "metadata": {
    "collapsed": false,
    "pycharm": {
     "name": "#%%\n"
    }
   }
  },
  {
   "cell_type": "markdown",
   "source": [
    "# 9. 최대증가부분수열\n",
    "\n",
    "정수 수열 S의 부분 수열이란 S에서 0개 이상의 숫자를 지우고 남은 수열을 말합니다. 예를 들어 '1 2 4'는 '1 5 2 4 7'의 부분 수열입니다.\n",
    "\n",
    "부분 수열에 포함된 숫자들이 순 증가(strictly increasing)하면 이 부분 수열을 증가 부분 수열이라고 부릅니다. 예를 들어 S가 '1 3 4 2 4'라고 하면 '1 2 4'는 S의 증가 부분 수열이지만, '1 4 4'는 아닙니다.\n",
    "\n",
    "주어진 수열에서 얻을 수 있는 증가 부분 수열 중 가장 긴 것을 찾아봅시다.\n",
    "\n",
    "<br>\n",
    "\n",
    "**입력**\n",
    "\n",
    "입력의 첫 줄에는 수열에 포함된 원소의 수 N (<= 500)이 주어진다. 그 다음 줄에 N개의 정수가 주어진다. 각 정수는 1 이상 100,000 이하의 자연수이다.\n",
    "\n",
    "<br>\n",
    "\n",
    "**출력**\n",
    "\n",
    "주어진 수열의 가장 긴 증가 부분 수열의 길이를 출력한다."
   ],
   "metadata": {
    "collapsed": false,
    "pycharm": {
     "name": "#%% md\n"
    }
   }
  },
  {
   "cell_type": "code",
   "execution_count": 9,
   "outputs": [
    {
     "name": "stdout",
     "output_type": "stream",
     "text": [
      "4\n"
     ]
    }
   ],
   "source": [
    "x = int(input())\n",
    "arr = list(map(int, input().split()))\n",
    "\n",
    "dp = [1 for _ in range(x)]\n",
    "\n",
    "for i in range(x):\n",
    "    for j in range(i):\n",
    "        if arr[i] > arr[j]:\n",
    "            dp[i] = max(dp[i], dp[j]+1)\n",
    "\n",
    "print(max(dp))"
   ],
   "metadata": {
    "collapsed": false,
    "pycharm": {
     "name": "#%%\n"
    }
   }
  },
  {
   "cell_type": "markdown",
   "source": [],
   "metadata": {
    "collapsed": false,
    "pycharm": {
     "name": "#%% md\n"
    }
   }
  },
  {
   "cell_type": "code",
   "execution_count": null,
   "outputs": [],
   "source": [
    "x = int(input())\n",
    "arr = []\n",
    "for _ in range(x):\n",
    "\tarr.append(int(input()))\n",
    "\n",
    "dp = [1] * x\n",
    "\n",
    "for i in range(0, x):\n",
    "    for j in range(0, i):\n",
    "        if arr[j]<arr[i]:\n",
    "            dp[i] = max(dp[j]+1, dp[i])\n",
    "\n",
    "print(x-max(dp))"
   ],
   "metadata": {
    "collapsed": false,
    "pycharm": {
     "name": "#%%\n"
    }
   }
  }
 ],
 "metadata": {
  "kernelspec": {
   "display_name": "Python 3",
   "language": "python",
   "name": "python3"
  },
  "language_info": {
   "codemirror_mode": {
    "name": "ipython",
    "version": 2
   },
   "file_extension": ".py",
   "mimetype": "text/x-python",
   "name": "python",
   "nbconvert_exporter": "python",
   "pygments_lexer": "ipython2",
   "version": "2.7.6"
  }
 },
 "nbformat": 4,
 "nbformat_minor": 0
}