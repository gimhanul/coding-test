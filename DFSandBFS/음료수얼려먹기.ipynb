{
 "cells": [
  {
   "cell_type": "markdown",
   "source": [
    "# 음료수 얼려 먹기\n",
    "\n",
    "N * M 크기의 얼음 틀이 있다. 구멍이 뚫려있는 부분은 0, 칸막이가 존재하는 부분은 1로 표시된다. 구멍이 뚫려 있는 부분끼리 상, 하, 좌, 우로 붙어 있는 경우 서로 연결되어 있는 것으로 간주한다. 이때 얼음 틀의 모양이 주어졌을 때 생성되는 총 아이스크림의 개수를 구하는 프로그램을 작성하시오.\n",
    "\n",
    "<br>\n",
    "\n",
    "**입력 조건**\n",
    "\n",
    "- 첫 번째 줄에 얼음 틀의 세로 길이 N과 가로 길이 M이 주어진다. (1 <= N, M <= 1000)\n",
    "- 두 번재 줄부터 N + 1 번째 줄까지 얼음 틀의 형태가 주어진다.\n",
    "- 이때 구멍이 뚫려있는 부분은 0, 그렇지 않은 부분은 1이다.\n",
    "\n",
    "**출력 조건**\n",
    "\n",
    "- 한 번에 만들 수 있는 아이스크림의 개수를 출력한다.\n",
    "\n",
    "<br>\n",
    "\n",
    "| 입력                                                      |출력|\n",
    "|---------------------------------------------------------|---|\n",
    "| 4 5<br>0 0 1 1 0<br>0 0 0 1 1<br>1 1 1 1 1<br>0 0 0 0 0 |3|"
   ],
   "metadata": {
    "collapsed": false,
    "pycharm": {
     "name": "#%% md\n"
    }
   }
  },
  {
   "cell_type": "code",
   "execution_count": 9,
   "outputs": [
    {
     "name": "stdout",
     "output_type": "stream",
     "text": [
      "3\n"
     ]
    }
   ],
   "source": [
    "N, M = map(int, input().split())\n",
    "ice = [list(map(int, input().split())) for _ in range(N)]\n",
    "visited = [[False] * M for _ in range(N)]\n",
    "result = 0\n",
    "\n",
    "def dfs(x, y):\n",
    "    global ice, visited\n",
    "\n",
    "    go = [(0, 1), (0, -1), (-1, 0), (1, 0)]\n",
    "\n",
    "    # 현재 노드 방문 처리\n",
    "    visited[x][y] = True\n",
    "\n",
    "\n",
    "    # 현재 노드와 연결된 다른 노드를 재귀적으로 방문\n",
    "    for g in go:\n",
    "        tx = x + g[0]\n",
    "        ty = y + g[1]\n",
    "        if 0 <= tx < N and 0 <= ty < M and ice[tx][ty] == 0 and not visited[tx][ty]:\n",
    "            dfs(tx, ty)\n",
    "\n",
    "for x in range(N):\n",
    "    for y in range(M):\n",
    "        if not visited[x][y] and ice[x][y] == 0:\n",
    "            result += 1\n",
    "            dfs(x, y)\n",
    "\n",
    "print(result)"
   ],
   "metadata": {
    "collapsed": false,
    "pycharm": {
     "name": "#%%\n"
    }
   }
  }
 ],
 "metadata": {
  "kernelspec": {
   "display_name": "Python 3",
   "language": "python",
   "name": "python3"
  },
  "language_info": {
   "codemirror_mode": {
    "name": "ipython",
    "version": 2
   },
   "file_extension": ".py",
   "mimetype": "text/x-python",
   "name": "python",
   "nbconvert_exporter": "python",
   "pygments_lexer": "ipython2",
   "version": "2.7.6"
  }
 },
 "nbformat": 4,
 "nbformat_minor": 0
}