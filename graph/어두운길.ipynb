{
 "cells": [
  {
   "cell_type": "markdown",
   "source": [
    "# 어두운 길\n",
    "\n",
    "한 마을은 N개의 집과 m개의 도로로 구성되어 있습니다. 각 집은 0번부터 N-1번까지의 번호로 구분됩니다. 모든 도로에는 가로등이 구비되어 있는데, 특정한 도로의 가로등을 하루 동안 켜기 위한 비용은 해당 도로의 길이와 동일합니다.\n",
    "\n",
    "정부에서는 일부 가로등을 비활성화하되, 마을에 있는 임의의 두 집에 대하여 가로등이 켜진 도로만으로도 오갈 수 있도록 만들고자 합니다. 결과적으로 일부 가로등을 비활성화하여 최대한 많은 금액을 절약하고자 합니다. 마을의 집과 도로 정보가 주어졌을 때, 일부 가로등을 비활성화하여 절약할 수 있는 최대 금액을 출력하는 프로그램을 작성하세요.\n",
    "\n",
    "<br>\n",
    "\n",
    "**입력 조건**\n",
    "\n",
    "- 첫째줄에 집의 수 N(1<=N<=200,000)과 도로의 수 M(N-1<=M<=200,000)이 주어집니다.\n",
    "- 다음 M개의 줄에 걸쳐서 각 도로에 대한 정보 X,Y,Z가 주어지며, 공백으로 구분(0<=X,Y<N) 이는 X번 집과 Y번 집 사이에 양방향 도로가 있으며, 그 길이가 Z라는 의미입니다. 단, X와 Y가 동일한 경우는 없으며 마을을 구성하는 모든 도로의 길이의 합은 2^31보다 작습니다.\n",
    "\n",
    "<br>\n",
    "\n",
    "**출력 조건**\n",
    "\n",
    "- 첫째 줄에 일부 가로등을 비활성화하여 절약할 수 있는 최대 금액을 출력합니다.\n",
    "\n",
    "<br>\n",
    "\n",
    "|입력|출력|\n",
    "|---|---|\n",
    "|7 11<br>0 1 7<br>0 3 5<br>1 2 8<br>1 3 9<br>1 4 7<br>2 4 5<br>3 4 15<br>3 5 6<br>4 5 8<br>4 6 9<br>5 6 11|51|"
   ],
   "metadata": {
    "collapsed": false,
    "pycharm": {
     "name": "#%% md\n"
    }
   }
  },
  {
   "cell_type": "code",
   "execution_count": 7,
   "outputs": [],
   "source": [
    "def solution():\n",
    "    N, M = map(int, input().split())\n",
    "    parent = [i for i in range(N)]\n",
    "    load = []\n",
    "    result = 0\n",
    "    totalCost = 0\n",
    "\n",
    "    for _ in range(M):\n",
    "        X, Y, Z = map(int, input().split())\n",
    "        totalCost += Z\n",
    "        load.append((Z, X, Y))\n",
    "\n",
    "\n",
    "    load.sort()\n",
    "    for cost, a, b in load:\n",
    "        if findParent(parent, a) != findParent(parent, b):\n",
    "            result += cost\n",
    "            unionParent(parent, a, b)\n",
    "\n",
    "    return totalCost - result"
   ],
   "metadata": {
    "collapsed": false,
    "pycharm": {
     "name": "#%%\n"
    }
   }
  },
  {
   "cell_type": "code",
   "execution_count": 1,
   "outputs": [],
   "source": [
    "def findParent(parent, x):\n",
    "    if parent[x] != x:\n",
    "        parent[x] = findParent(parent, parent[x])\n",
    "\n",
    "    return parent[x]"
   ],
   "metadata": {
    "collapsed": false,
    "pycharm": {
     "name": "#%%\n"
    }
   }
  },
  {
   "cell_type": "code",
   "execution_count": 2,
   "outputs": [],
   "source": [
    "def unionParent(parent, a, b):\n",
    "    a = findParent(parent, a)\n",
    "    b = findParent(parent, b)\n",
    "\n",
    "    if a < b: parent[b] = a\n",
    "    else: parent[a] = b"
   ],
   "metadata": {
    "collapsed": false,
    "pycharm": {
     "name": "#%%\n"
    }
   }
  },
  {
   "cell_type": "code",
   "execution_count": 8,
   "outputs": [
    {
     "name": "stdout",
     "output_type": "stream",
     "text": [
      "51\n"
     ]
    }
   ],
   "source": [
    "print(solution())"
   ],
   "metadata": {
    "collapsed": false,
    "pycharm": {
     "name": "#%%\n"
    }
   }
  }
 ],
 "metadata": {
  "kernelspec": {
   "display_name": "Python 3",
   "language": "python",
   "name": "python3"
  },
  "language_info": {
   "codemirror_mode": {
    "name": "ipython",
    "version": 2
   },
   "file_extension": ".py",
   "mimetype": "text/x-python",
   "name": "python",
   "nbconvert_exporter": "python",
   "pygments_lexer": "ipython2",
   "version": "2.7.6"
  }
 },
 "nbformat": 4,
 "nbformat_minor": 0
}