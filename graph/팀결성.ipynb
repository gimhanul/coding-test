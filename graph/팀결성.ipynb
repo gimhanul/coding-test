{
 "cells": [
  {
   "cell_type": "markdown",
   "source": [
    "# 팀 결성\n",
    "\n",
    "학교에서 학생들에게 0번부터 N번까지의 번호를 부여했다. 처음에는 모든 학생이 서로 다른 팀으로 구분되어, 총 N+1개의 팀이 존재한다. 이때 선생님은 '팀 합치기' 연산과 '같은 팀 여부 확인' 연산을 사용할 수 있다.\n",
    "\n",
    "1. '팀 합치기' 연산은 두 팀을 합치는 연산이다.\n",
    "2. '같은 팀 여부 확인' 연산은 특정한 두 학생이 같은 팀에 속하는지를 확인하는 연산이다.\n",
    "\n",
    "선생님은 M개의 연산을 수행할 수 있을 떄, '같은 팀 여부 확인' 연산에 대한 연산 결과를 출력하는 프로그램을 작성하시오.\n",
    "\n",
    "<br>\n",
    "\n",
    "**입력 조건**\n",
    "\n",
    "- 첫째 줄에는 N, M이 주어진다. M은 입력으로 주어지는 연산의 개수이다. (1 <= N, M <= 100000)\n",
    "- 다음 M개의 줄에는 각각의 연산이 주어진다.\n",
    "- '팀 합치기' 연산은 0 a b 형태로 주어진다. a번 학생이 속한 팀과 b번 학생이 속한 팀을 합친다는 의미이다.\n",
    "- '같은 팀 여부 확인' 연산은 1 a b 형태로 주어진다. 이는 a번 학생과 b번 학생이 같은 팀에 속해있는지를 확인하는 연산이다.\n",
    "- a와 b는 N 이하의 양의 정수이다.\n",
    "\n",
    "<br>\n",
    "\n",
    "**출력 조건**\n",
    "\n",
    "- '같은 팀 여부 확인' 연산에 대하여 한 줄에 하나씩 YES 혹은 NO로 결과를 출력한다.\n",
    "\n",
    "<br>\n",
    "\n",
    "|입력|출력|\n",
    "|---|---|\n",
    "|7 8<br>0 1 3<br>1 1 7<br>0 7 6<br>1 7 1<br>0 3 7<br>0 4 2<br>0 1 1<br>1 1 1|NO<br>NO<br>YES|"
   ],
   "metadata": {
    "collapsed": false,
    "pycharm": {
     "name": "#%% md\n"
    }
   }
  },
  {
   "cell_type": "code",
   "execution_count": 6,
   "outputs": [],
   "source": [
    "N, M = map(int, input().split())\n",
    "parent = [i for i in range(N+1)]"
   ],
   "metadata": {
    "collapsed": false,
    "pycharm": {
     "name": "#%%\n"
    }
   }
  },
  {
   "cell_type": "code",
   "execution_count": 7,
   "metadata": {
    "collapsed": true,
    "pycharm": {
     "name": "#%%\n"
    }
   },
   "outputs": [],
   "source": [
    "def findParent(parent, x):\n",
    "    if parent[x] != x:\n",
    "        parent[x] = findParent(parent, parent[x])\n",
    "\n",
    "    return parent[x]"
   ]
  },
  {
   "cell_type": "code",
   "execution_count": 8,
   "outputs": [],
   "source": [
    "def unionParent(parent, a, b):\n",
    "    a = findParent(parent, a)\n",
    "    b = findParent(parent, b)\n",
    "\n",
    "    if a < b: parent[b] = a\n",
    "    else: parent[a] = b"
   ],
   "metadata": {
    "collapsed": false,
    "pycharm": {
     "name": "#%%\n"
    }
   }
  },
  {
   "cell_type": "code",
   "execution_count": 9,
   "outputs": [
    {
     "name": "stdout",
     "output_type": "stream",
     "text": [
      "NO\n",
      "NO\n",
      "YES\n"
     ]
    }
   ],
   "source": [
    "for _ in range(M):\n",
    "    flag, a, b = map(int, input().split())\n",
    "\n",
    "    if flag == 0: unionParent(parent, a, b)\n",
    "    elif flag == 1: print(\"YES\" if findParent(parent, a) == findParent(parent, b) else \"NO\")"
   ],
   "metadata": {
    "collapsed": false,
    "pycharm": {
     "name": "#%%\n"
    }
   }
  }
 ],
 "metadata": {
  "kernelspec": {
   "display_name": "Python 3",
   "language": "python",
   "name": "python3"
  },
  "language_info": {
   "codemirror_mode": {
    "name": "ipython",
    "version": 2
   },
   "file_extension": ".py",
   "mimetype": "text/x-python",
   "name": "python",
   "nbconvert_exporter": "python",
   "pygments_lexer": "ipython2",
   "version": "2.7.6"
  }
 },
 "nbformat": 4,
 "nbformat_minor": 0
}