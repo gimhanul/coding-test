{
 "cells": [
  {
   "cell_type": "markdown",
   "source": [
    "# 아이템 줍기\n",
    "\n",
    "[here](https://school.programmers.co.kr/learn/courses/30/lessons/87694?language=python3)"
   ],
   "metadata": {
    "collapsed": false,
    "pycharm": {
     "name": "#%% md\n"
    }
   }
  },
  {
   "cell_type": "code",
   "execution_count": 1,
   "outputs": [],
   "source": [
    "from collections import deque"
   ],
   "metadata": {
    "collapsed": false,
    "pycharm": {
     "name": "#%%\n"
    }
   }
  },
  {
   "cell_type": "code",
   "execution_count": 25,
   "metadata": {
    "collapsed": true,
    "pycharm": {
     "name": "#%%\n"
    }
   },
   "outputs": [],
   "source": [
    "def solution(rectangle, characterX, characterY, itemX, itemY):\n",
    "    go = [(0, 1), (1, 0), (-1, 0), (0, -1)]\n",
    "    place = [[-1] * 102 for _ in range(102)]\n",
    "    for r in rectangle:\n",
    "        mark_rectangle(r, place)\n",
    "\n",
    "    place[characterY][characterX] = 1\n",
    "    q = deque([(characterX*2, characterY*2)])\n",
    "\n",
    "    while q:\n",
    "        cx, cy = q.popleft()\n",
    "\n",
    "        for gx, gy in go:\n",
    "            tx, ty = gx+cx, gy+cy\n",
    "\n",
    "            if place[ty][tx] == 1:\n",
    "                q.append((tx, ty))\n",
    "                place[ty][tx] = place[cy][cx] + 1\n",
    "\n",
    "    return place[itemY*2][itemX*2] // 2"
   ]
  },
  {
   "cell_type": "code",
   "execution_count": 21,
   "outputs": [],
   "source": [
    "def mark_rectangle(rectangle, place):\n",
    "    left_bottom_x, left_bottom_y, right_top_x, right_top_y = map(lambda  x: x*2, rectangle)\n",
    "\n",
    "    for y in range(left_bottom_y, right_top_y+1):\n",
    "        for x in range(left_bottom_x, right_top_x+1):\n",
    "            if left_bottom_x < x < right_top_x and left_bottom_y < y < right_top_y: place[y][x] = 0\n",
    "            elif place[y][x] != 0: place[y][x] = 1"
   ],
   "metadata": {
    "collapsed": false,
    "pycharm": {
     "name": "#%%\n"
    }
   }
  },
  {
   "cell_type": "code",
   "execution_count": 26,
   "outputs": [
    {
     "name": "stdout",
     "output_type": "stream",
     "text": [
      "17\n"
     ]
    }
   ],
   "source": [
    "print(solution([[1,1,7,4],[3,2,5,5],[4,3,6,9],[2,6,8,8]], 1, 3, 7, 8))\n",
    "\n",
    "# must be 17"
   ],
   "metadata": {
    "collapsed": false,
    "pycharm": {
     "name": "#%%\n"
    }
   }
  },
  {
   "cell_type": "code",
   "execution_count": 27,
   "outputs": [
    {
     "name": "stdout",
     "output_type": "stream",
     "text": [
      "11\n"
     ]
    }
   ],
   "source": [
    "print(solution([[1,1,8,4],[2,2,4,9],[3,6,9,8],[6,3,7,7]], 9, 7, 6, 1))\n",
    "\n",
    "# must be 11"
   ],
   "metadata": {
    "collapsed": false,
    "pycharm": {
     "name": "#%%\n"
    }
   }
  },
  {
   "cell_type": "code",
   "execution_count": 28,
   "outputs": [
    {
     "name": "stdout",
     "output_type": "stream",
     "text": [
      "9\n"
     ]
    }
   ],
   "source": [
    "print(solution([[1,1,5,7]], 1, 1, 4, 7))\n",
    "\n",
    "# must be 9"
   ],
   "metadata": {
    "collapsed": false,
    "pycharm": {
     "name": "#%%\n"
    }
   }
  },
  {
   "cell_type": "code",
   "execution_count": 29,
   "outputs": [
    {
     "name": "stdout",
     "output_type": "stream",
     "text": [
      "15\n"
     ]
    }
   ],
   "source": [
    "print(solution([[2,1,7,5],[6,4,10,10]], 3, 1, 7, 10))\n",
    "\n",
    "# must be 15"
   ],
   "metadata": {
    "collapsed": false,
    "pycharm": {
     "name": "#%%\n"
    }
   }
  },
  {
   "cell_type": "code",
   "execution_count": 30,
   "outputs": [
    {
     "name": "stdout",
     "output_type": "stream",
     "text": [
      "10\n"
     ]
    }
   ],
   "source": [
    "print(solution([[2,2,5,5],[1,3,6,4],[3,1,4,6]], 1, 4, 6, 3))\n",
    "\n",
    "# must be 10"
   ],
   "metadata": {
    "collapsed": false,
    "pycharm": {
     "name": "#%%\n"
    }
   }
  },
  {
   "cell_type": "code",
   "execution_count": null,
   "outputs": [],
   "source": [],
   "metadata": {
    "collapsed": false,
    "pycharm": {
     "name": "#%%\n"
    }
   }
  }
 ],
 "metadata": {
  "kernelspec": {
   "display_name": "Python 3",
   "language": "python",
   "name": "python3"
  },
  "language_info": {
   "codemirror_mode": {
    "name": "ipython",
    "version": 2
   },
   "file_extension": ".py",
   "mimetype": "text/x-python",
   "name": "python",
   "nbconvert_exporter": "python",
   "pygments_lexer": "ipython2",
   "version": "2.7.6"
  }
 },
 "nbformat": 4,
 "nbformat_minor": 0
}