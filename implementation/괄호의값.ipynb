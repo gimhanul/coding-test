{
 "cells": [
  {
   "cell_type": "markdown",
   "source": [
    "# 괄호의 값\n",
    "\n",
    "[here](https://www.acmicpc.net/problem/2504)"
   ],
   "metadata": {
    "collapsed": false
   }
  },
  {
   "cell_type": "code",
   "execution_count": null,
   "metadata": {
    "collapsed": true
   },
   "outputs": [],
   "source": [
    "import re\n",
    "\n",
    "bracket = input()\n",
    "prev = bracket\n",
    "\n",
    "while True:\n",
    "    try:\n",
    "        print(int(bracket[1:]))\n",
    "        break\n",
    "    except:\n",
    "        prev = bracket\n",
    "        bracket = bracket.replace('()', 'n2')\n",
    "        bracket = bracket.replace('[]', 'n3')\n",
    "        bracket = re.sub('\\(n(\\d+)\\)', lambda m: f'n{2 * int(m.group(1))}', bracket)\n",
    "        bracket = re.sub('\\[n(\\d+)\\]', lambda m: f'n{3 * int(m.group(1))}', bracket)\n",
    "        bracket = re.sub('n(\\d+)n(\\d+)', lambda m: f'n{int(m.group(1)) + int(m.group(2))}', bracket)\n",
    "\n",
    "        if prev is bracket:\n",
    "            print(0)\n",
    "            break"
   ]
  }
 ],
 "metadata": {
  "kernelspec": {
   "display_name": "Python 3",
   "language": "python",
   "name": "python3"
  },
  "language_info": {
   "codemirror_mode": {
    "name": "ipython",
    "version": 2
   },
   "file_extension": ".py",
   "mimetype": "text/x-python",
   "name": "python",
   "nbconvert_exporter": "python",
   "pygments_lexer": "ipython2",
   "version": "2.7.6"
  }
 },
 "nbformat": 4,
 "nbformat_minor": 0
}
