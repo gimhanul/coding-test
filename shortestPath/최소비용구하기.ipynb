{
 "cells": [
  {
   "cell_type": "markdown",
   "source": [
    "# 최소비용 구하기\n",
    "\n",
    "[here](https://www.acmicpc.net/problem/1916)"
   ],
   "metadata": {
    "collapsed": false,
    "pycharm": {
     "name": "#%% md\n"
    }
   }
  },
  {
   "cell_type": "code",
   "execution_count": null,
   "outputs": [],
   "source": [
    "import sys\n",
    "import heapq"
   ],
   "metadata": {
    "collapsed": false,
    "pycharm": {
     "name": "#%%\n"
    }
   }
  },
  {
   "cell_type": "code",
   "execution_count": null,
   "metadata": {
    "collapsed": true,
    "pycharm": {
     "name": "#%%\n"
    }
   },
   "outputs": [],
   "source": [
    "INF = int(1e9)\n",
    "N = int(sys.stdin.readline().rstrip())\n",
    "M = int(sys.stdin.readline().rstrip())\n",
    "cities = [[] for _ in range(N+1)]\n",
    "distance = [INF] * (N+1)\n",
    "\n",
    "for _ in range(M):\n",
    "    bstart, bend, bcost = map(int, sys.stdin.readline().split())\n",
    "    cities[bstart].append((bend, bcost))\n",
    "\n",
    "start, end = map(int, sys.stdin.readline().split())"
   ]
  },
  {
   "cell_type": "code",
   "execution_count": null,
   "outputs": [],
   "source": [
    "q = []\n",
    "heapq.heappush(q, (0, start))\n",
    "distance[start] = 0\n",
    "\n",
    "while q:\n",
    "    ndist, now = heapq.heappop(q)\n",
    "    if distance[now] < ndist: continue\n",
    "\n",
    "    for city, ccost in cities[now]:\n",
    "        cost = ndist + ccost\n",
    "\n",
    "        if cost < distance[city]:\n",
    "            distance[city] = cost\n",
    "            heapq.heappush(q, (cost, city))"
   ],
   "metadata": {
    "collapsed": false,
    "pycharm": {
     "name": "#%%\n"
    }
   }
  },
  {
   "cell_type": "code",
   "execution_count": null,
   "outputs": [],
   "source": [
    "print(distance[end])"
   ],
   "metadata": {
    "collapsed": false,
    "pycharm": {
     "name": "#%%\n"
    }
   }
  }
 ],
 "metadata": {
  "kernelspec": {
   "display_name": "Python 3",
   "language": "python",
   "name": "python3"
  },
  "language_info": {
   "codemirror_mode": {
    "name": "ipython",
    "version": 2
   },
   "file_extension": ".py",
   "mimetype": "text/x-python",
   "name": "python",
   "nbconvert_exporter": "python",
   "pygments_lexer": "ipython2",
   "version": "2.7.6"
  }
 },
 "nbformat": 4,
 "nbformat_minor": 0
}