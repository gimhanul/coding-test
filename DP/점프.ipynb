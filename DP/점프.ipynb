{
 "cells": [
  {
   "cell_type": "markdown",
   "source": [
    "# 점프 게임\n",
    "\n",
    "Singapore Programming Task"
   ],
   "metadata": {
    "collapsed": false,
    "pycharm": {
     "name": "#%% md\n"
    }
   }
  },
  {
   "cell_type": "code",
   "execution_count": null,
   "outputs": [],
   "source": [
    "import sys\n",
    "read = sys.stdin.readline\n",
    "INF = int(1e9)\n",
    "\n",
    "N = int(read().rstrip())\n",
    "nums = list(map(int, read().split()))\n",
    "place = [INF] * (N+1)\n",
    "place[0] = 0\n",
    "\n",
    "for i in range(N):\n",
    "    place[i+1] = min(place[i+1], place[i]+1)\n",
    "\n",
    "    for j in range(1, nums[i]+1):\n",
    "        t = i + j\n",
    "        if t >= N: break\n",
    "        place[t] = min(place[t], place[i]+1)\n",
    "\n",
    "print(place[N-1])\n"
   ],
   "metadata": {
    "collapsed": false,
    "pycharm": {
     "name": "#%%\n"
    }
   }
  }
 ],
 "metadata": {
  "kernelspec": {
   "display_name": "Python 3",
   "language": "python",
   "name": "python3"
  },
  "language_info": {
   "codemirror_mode": {
    "name": "ipython",
    "version": 2
   },
   "file_extension": ".py",
   "mimetype": "text/x-python",
   "name": "python",
   "nbconvert_exporter": "python",
   "pygments_lexer": "ipython2",
   "version": "2.7.6"
  }
 },
 "nbformat": 4,
 "nbformat_minor": 0
}