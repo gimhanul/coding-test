{
 "cells": [
  {
   "cell_type": "markdown",
   "source": [
    "# 전화번호 목록\n",
    "\n",
    "[here](https://school.programmers.co.kr/learn/courses/30/lessons/42577)"
   ],
   "metadata": {
    "collapsed": false,
    "pycharm": {
     "name": "#%% md\n"
    }
   }
  },
  {
   "cell_type": "code",
   "execution_count": null,
   "metadata": {
    "collapsed": true,
    "pycharm": {
     "name": "#%%\n"
    }
   },
   "outputs": [],
   "source": [
    "def solution(phone_book):\n",
    "    for i in range(0, len(phone_book)):\n",
    "        for j in range(0, len(phone_book)):\n",
    "            if i is not j:\n",
    "                if phone_book[j].find(phone_book[i]) == 0:\n",
    "                    return False\n",
    "\n",
    "    return True\n"
   ]
  },
  {
   "cell_type": "markdown",
   "source": [
    "갑자기 java startsWith 를 쓰고 싶어서 java 로 갈아탐\n",
    "\n",
    "```java\n",
    "class Solution {\n",
    "    public boolean solution(String[] phone_book) {\n",
    "        for (int i = 0; i < phone_book.length; i++) {\n",
    "            for (int j = 0; j < phone_book.length; j++) {\n",
    "                if (i != j && phone_book[i].length() < phone_book[j].length()) {\n",
    "                    if (phone_book[j].startsWith(phone_book[i])) {\n",
    "                        return false;\n",
    "                    }\n",
    "                }\n",
    "            }\n",
    "        }\n",
    "\n",
    "        return true;\n",
    "    }\n",
    "}\n",
    "```\n",
    "\n",
    "근데 효율성 마지막 2개가 막혀요\n",
    "해서 찾아본 글이 [이거](https://school.programmers.co.kr/questions/39655)"
   ],
   "metadata": {
    "collapsed": false,
    "pycharm": {
     "name": "#%% md\n"
    }
   }
  },
  {
   "cell_type": "code",
   "execution_count": null,
   "outputs": [],
   "source": [
    "def solution(phone_book):\n",
    "    phone_piece = dict()\n",
    "\n",
    "    for p in phone_book:\n",
    "        for i in range(1, len(p)):\n",
    "            phone_piece[p[:i]] = 1\n",
    "\n",
    "    for p in phone_book:\n",
    "        if p in phone_piece: return False\n",
    "\n",
    "    return True"
   ],
   "metadata": {
    "collapsed": false,
    "pycharm": {
     "name": "#%%\n"
    }
   }
  }
 ],
 "metadata": {
  "kernelspec": {
   "display_name": "Python 3",
   "language": "python",
   "name": "python3"
  },
  "language_info": {
   "codemirror_mode": {
    "name": "ipython",
    "version": 2
   },
   "file_extension": ".py",
   "mimetype": "text/x-python",
   "name": "python",
   "nbconvert_exporter": "python",
   "pygments_lexer": "ipython2",
   "version": "2.7.6"
  }
 },
 "nbformat": 4,
 "nbformat_minor": 0
}