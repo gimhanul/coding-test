{
 "cells": [
  {
   "cell_type": "markdown",
   "source": [
    "# 정렬\n",
    "\n",
    "데이터를 특정한 기준에 따라서 순서대로 나열함."
   ],
   "metadata": {
    "collapsed": false,
    "pycharm": {
     "name": "#%% md\n"
    }
   }
  },
  {
   "cell_type": "code",
   "execution_count": 11,
   "outputs": [],
   "source": [
    "array = [7, 5, 9, 0, 3, 1, 6, 2, 4, 8]"
   ],
   "metadata": {
    "collapsed": false,
    "pycharm": {
     "name": "#%%\n"
    }
   }
  },
  {
   "cell_type": "markdown",
   "source": [
    "## 선택정렬\n",
    "\n",
    "가장 작은 것을 선택하는 정렬.\n",
    "\n",
    "가장 작은 데이터를 선택해 맨 앞에 있는 데이터와 바꾸고, 그 다음으로 작은 데이터를 선택해 앞에서 두 번째 데이터와 바꾸는 과정을 반복함.\n",
    "\n",
    "<br>\n",
    "\n",
    "**시간 복잡도**\n",
    "\n",
    "`O(N^2)`임. 2중 반복문이 사용되었기 때문임. 데이터의 개수가 10000개 이상이면 정렬 속도가 급격히 느려짐."
   ],
   "metadata": {
    "collapsed": false,
    "pycharm": {
     "name": "#%% md\n"
    }
   }
  },
  {
   "cell_type": "code",
   "execution_count": 4,
   "outputs": [
    {
     "name": "stdout",
     "output_type": "stream",
     "text": [
      "[0, 1, 2, 3, 4, 5, 6, 7, 8, 9]\n"
     ]
    }
   ],
   "source": [
    "for i in range(len(array)):\n",
    "    minIndex = i # 가장 작은 원소의 인덱스\n",
    "\n",
    "    for j in range(i+1, len(array)): # 정렬되지 않은 부분 내에서\n",
    "        if array[minIndex] > array[j]:\n",
    "            minIndex = j\n",
    "\n",
    "    array[i], array[minIndex] = array[minIndex], array[i] # swap\n",
    "\n",
    "print(array)"
   ],
   "metadata": {
    "collapsed": false,
    "pycharm": {
     "name": "#%%\n"
    }
   }
  },
  {
   "cell_type": "markdown",
   "source": [
    "## 삽입 정렬\n",
    "\n",
    "특정한 데이터를 적절한 위치에 삽입히는 정렬.\n",
    "\n",
    "특정한 데이터가 적절한 위치에 들어가기 이전에, 그 앞까지의 데이터는 이미 정렬되어 있다고 가정하고 정렬되어 있는 데이터 리스트에서 적절한 위치를 찾은 뒤에 그 위치에 삽입됨.\n",
    "\n",
    "> 첫 번째 데이터는 그 자체로 정렬되어 있다고 판단하고, 두 번째 데이터부터 정렬 시작함.\n",
    "\n",
    "<br>\n",
    "\n",
    "**시간 복잡도**\n",
    "\n",
    "`O(N^2)`임. 2중 반복문이 사용되었기 때문임.\n",
    "하지만 리스트의 데이터가 거의 정렬되어 있는 상태라면 매우 빠르게 동작함.\n",
    "최선의 경우 `O(N)`의 시간 복잡도를 가짐.\n"
   ],
   "metadata": {
    "collapsed": false,
    "pycharm": {
     "name": "#%% md\n"
    }
   }
  },
  {
   "cell_type": "code",
   "execution_count": 6,
   "outputs": [
    {
     "name": "stdout",
     "output_type": "stream",
     "text": [
      "[0, 1, 2, 3, 4, 5, 6, 7, 8, 9]\n"
     ]
    }
   ],
   "source": [
    "for i in range(1, len(array)):\n",
    "\n",
    "    for j in range(i, 0, -1): # 삽입될 위치 찾기\n",
    "        if array[j] < array[j-1]:\n",
    "            array[j], array[j-1] = array[j-1], array[j]\n",
    "        else:\n",
    "            break\n",
    "\n",
    "print(array)"
   ],
   "metadata": {
    "collapsed": false,
    "pycharm": {
     "name": "#%%\n"
    }
   }
  },
  {
   "cell_type": "markdown",
   "source": [
    "## 퀵 정렬\n",
    "\n",
    "기준 데이터를 설정하고 그 기준보다 큰 데이터와 작은 데이터의 위치를 바꾸는 정렬.\n",
    "\n",
    "기준을 설정한 다음 큰 수와 작은 수를 교환한 후 리스트를 반으로 나누는 방식으로 동작함.\n",
    "\n",
    "큰 숫자와 작은 숫자를 교환할 때 교환하기 위한 기준으로 Pivot을 사용함. 퀵 정렬을 수행하기 전에는 pivot을 어떻게 설정할 것인지 미리 명시함.\n",
    "\n",
    "호어 분할 `Hoare Partition` 방식을 기준은 가장 대표적인 분할 방식임.\n",
    "> 리스트에서 첫 번째 데이터를 pivot으로 정함.\n",
    "\n",
    "이와 같이 pivot을 설정한 뒤에는 왼쪽에서부터 pivot보다 큰 데이터를 찾고, 오른쪽에서부터 pivot보다 작은 데이터를 찾음. 그다음 큰 데이터와 작은 데이터의 위치를 서로 교환해주는 과정을 반복함.\n",
    "\n",
    "<br>\n",
    "\n",
    "**시간 복잡도**\n",
    "\n",
    "`O(NlogN)`임. 데이터 개수가 많을수록 동작이 빨라짐.\n",
    "하지만 데이터가 이미 정렬되어 있는 최악의 경우 시간 복잡도는 `O(N^2)`임."
   ],
   "metadata": {
    "collapsed": false,
    "pycharm": {
     "name": "#%% md\n"
    }
   }
  },
  {
   "cell_type": "code",
   "execution_count": 8,
   "outputs": [
    {
     "name": "stdout",
     "output_type": "stream",
     "text": [
      "[0, 1, 2, 3, 4, 5, 6, 7, 8, 9]\n"
     ]
    }
   ],
   "source": [
    "def quickSort(array, start, end):\n",
    "    if start >= end: return # 원소가 한 개인 경우 종료\n",
    "\n",
    "    pivot = start # pivot 은 첫 번째 원소\n",
    "\n",
    "    left = start + 1\n",
    "    right = end\n",
    "\n",
    "    while left <= right:\n",
    "\n",
    "        # pivot 보다 큰 데이터를 찾음\n",
    "        while left <= end and array[left] <= array[pivot]:\n",
    "            left += 1\n",
    "        # pivot 보다 작은 데이터를 찾음\n",
    "        while right > start and array[right] >= array[pivot]:\n",
    "            right -= 1\n",
    "\n",
    "        if left > right: # 엇갈렸다면 작은 데이터와 pivot 교체\n",
    "            array[right], array[pivot] = array[pivot], array[right]\n",
    "        else: # 엇갈리지 않았다면 작은 데이터와 큰 데이터 교체\n",
    "            array[left], array[right] = array[right], array[left]\n",
    "\n",
    "    # 분할 이후 왼쪽 부분과 오른쪽 부분에서 각각 정렬 수행\n",
    "    quickSort(array, start, right-1)\n",
    "    quickSort(array, right+1, end)\n",
    "\n",
    "quickSort(array, 0, len(array)-1)\n",
    "print(array)"
   ],
   "metadata": {
    "collapsed": false,
    "pycharm": {
     "name": "#%%\n"
    }
   }
  },
  {
   "cell_type": "markdown",
   "source": [
    "파이썬의 장점을 살려 작성한 퀵 정렬 소스코드. pivot과 데이터를 비교하는 비교 연산 횟수가 증가해 시간 면에서는 조금 비효율적임."
   ],
   "metadata": {
    "collapsed": false,
    "pycharm": {
     "name": "#%% md\n"
    }
   }
  },
  {
   "cell_type": "code",
   "execution_count": 10,
   "outputs": [
    {
     "name": "stdout",
     "output_type": "stream",
     "text": [
      "[0, 1, 2, 3, 4, 5, 6, 7, 8, 9]\n"
     ]
    }
   ],
   "source": [
    "def quickSort(array):\n",
    "\n",
    "    if len(array) <= 1: return array # 원소가 한 개인 경우 종료\n",
    "\n",
    "    pivot = array[0] # pivot 은 첫 번째 원소\n",
    "    tail = array[1:] # pivot 을 제외한 리스트\n",
    "\n",
    "    leftSide = [x for x in tail if x <= pivot] # 분할된 왼쪽 부분\n",
    "    rightSide = [x for x in tail if x > pivot] # 분할된 오른쪽 부분\n",
    "\n",
    "    # 분할 이후 왼쪽 부분과 오른쪽 부분에서 각각 정렬을 수행하고 전체 리스트를 반환\n",
    "    return quickSort(leftSide) + [pivot] + quickSort(rightSide)\n",
    "\n",
    "print(quickSort(array))"
   ],
   "metadata": {
    "collapsed": false,
    "pycharm": {
     "name": "#%%\n"
    }
   }
  },
  {
   "cell_type": "markdown",
   "source": [
    "## 계수 정렬\n",
    "\n",
    "일반적으로 별도의 리스트를 선언하고 그 안에 정렬에 대한 정보를 담음.\n",
    "\n",
    "먼저 가장 큰 데이터와 가장 작은 데이터의 범위가 모두 담길 수 있도록 하나의 리스트를 생성함. 그다음 데이터를 하나씩 확인하며 데이터 값과 동일한 인덱스의 데이터를 1씩 증가시킴.\n",
    "\n",
    "<br>\n",
    "\n",
    "### 제한 사항\n",
    "\n",
    "특정한 조건이 부합할 때만 사용할 수 있지만 매우 빠른 정렬 알고리즘임.\n",
    "\n",
    "데이터의 크기 범위가 제한되어 정수 형태로 표현할 수 있을 때만 사용할 수 있음. 일반적으로 가장 큰 데이터와 가장 작은 데이터의 차이가 1000000을 넘지 않을 때 효과적으로 사용할 수 있음. 모든 범위를 담을 수 있는 크기의 리스트를 선언해야 하기 때문임.\n",
    "\n",
    "<br>\n",
    "\n",
    "**시간 복잡도**\n",
    "\n",
    "모든 데이터가 양의 정수인 상황에서 데이터의 개수가 N, 데이터 중 최대값이 K일 때, 계수 정렬은 최악의 경우에도 수행 시간은 `O(N+K)`를 보장함.\n",
    "\n",
    "<br>\n",
    "\n",
    "**공간 복잡도**\n",
    "\n",
    "때에 따라서 심각한 비효율성을 초래할 수 있음.\n",
    "> 예를 들어 데이터가 0과 999999, 단 두 개만 존재한다고 가정할 때 리스트의 크기가 100만 개가 되도록 선언해야 한다.\n",
    "\n",
    "따라서 항상 사용할 수 있는 정렬 알고리즘은 아니며, 동일한 값을 가지는 데이터가 여러 개 등장할 때 적합함."
   ],
   "metadata": {
    "collapsed": false,
    "pycharm": {
     "name": "#%% md\n"
    }
   }
  },
  {
   "cell_type": "code",
   "execution_count": 12,
   "outputs": [
    {
     "name": "stdout",
     "output_type": "stream",
     "text": [
      "0 1 2 3 4 5 6 7 8 9 "
     ]
    }
   ],
   "source": [
    "count = [0] * (max(array) + 1)\n",
    "\n",
    "for i in range(len(array)):\n",
    "    count[array[i]] += 1 # 각 데이터에 해당하는 인덱스의 값 증가\n",
    "\n",
    "for i in range(len(count)): # 리스트에 기록된 정렬 정보 확인\n",
    "    for j in range(count[i]):\n",
    "        print(i, end=' ')"
   ],
   "metadata": {
    "collapsed": false,
    "pycharm": {
     "name": "#%%\n"
    }
   }
  }
 ],
 "metadata": {
  "kernelspec": {
   "display_name": "Python 3",
   "language": "python",
   "name": "python3"
  },
  "language_info": {
   "codemirror_mode": {
    "name": "ipython",
    "version": 2
   },
   "file_extension": ".py",
   "mimetype": "text/x-python",
   "name": "python",
   "nbconvert_exporter": "python",
   "pygments_lexer": "ipython2",
   "version": "2.7.6"
  }
 },
 "nbformat": 4,
 "nbformat_minor": 0
}