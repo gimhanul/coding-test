{
 "cells": [
  {
   "cell_type": "markdown",
   "source": [
    "# 정수 삼각형\n",
    "\n",
    "[here](https://www.acmicpc.net/problem/1932)"
   ],
   "metadata": {
    "collapsed": false,
    "pycharm": {
     "name": "#%% md\n"
    }
   }
  },
  {
   "cell_type": "code",
   "execution_count": 7,
   "outputs": [],
   "source": [
    "n = int(input())\n",
    "triangle = [list(map(int, input().split())) for _ in range(n)]"
   ],
   "metadata": {
    "collapsed": false,
    "pycharm": {
     "name": "#%%\n"
    }
   }
  },
  {
   "cell_type": "code",
   "execution_count": 8,
   "outputs": [],
   "source": [
    "if n > 1:\n",
    "    triangle[1][0] += triangle[0][0]\n",
    "    triangle[1][1] += triangle[0][0]\n",
    "\n",
    "    for i in range(2, n):\n",
    "        for j in range(len(triangle[i])):\n",
    "            if j == 0: triangle[i][j] += triangle[i-1][j]\n",
    "            elif j == len(triangle[i])-1: triangle[i][j] += triangle[i-1][j-1]\n",
    "            else: triangle[i][j] += max(triangle[i-1][j-1], triangle[i-1][j])"
   ],
   "metadata": {
    "collapsed": false,
    "pycharm": {
     "name": "#%%\n"
    }
   }
  },
  {
   "cell_type": "code",
   "execution_count": 9,
   "outputs": [
    {
     "name": "stdout",
     "output_type": "stream",
     "text": [
      "30\n"
     ]
    }
   ],
   "source": [
    "print(max(triangle[n-1]))"
   ],
   "metadata": {
    "collapsed": false,
    "pycharm": {
     "name": "#%%\n"
    }
   }
  }
 ],
 "metadata": {
  "kernelspec": {
   "display_name": "Python 3",
   "language": "python",
   "name": "python3"
  },
  "language_info": {
   "codemirror_mode": {
    "name": "ipython",
    "version": 2
   },
   "file_extension": ".py",
   "mimetype": "text/x-python",
   "name": "python",
   "nbconvert_exporter": "python",
   "pygments_lexer": "ipython2",
   "version": "2.7.6"
  }
 },
 "nbformat": 4,
 "nbformat_minor": 0
}