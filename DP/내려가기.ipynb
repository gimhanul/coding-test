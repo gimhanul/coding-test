{
 "cells": [
  {
   "cell_type": "markdown",
   "source": [
    "# 내려가기\n",
    "\n",
    "[here](https://www.acmicpc.net/problem/2096)"
   ],
   "metadata": {
    "collapsed": false,
    "pycharm": {
     "name": "#%% md\n"
    }
   }
  },
  {
   "cell_type": "code",
   "execution_count": null,
   "outputs": [],
   "source": [
    "import sys\n",
    "\n",
    "N = int(sys.stdin.readline().rstrip())\n",
    "minGame = [[0] * 3 for _ in range(2)]\n",
    "maxGame = [[0] * 3 for _ in range(2)]\n",
    "\n",
    "for i in range(0, N):\n",
    "    j = i % 2\n",
    "    gamePan = list(map(int, sys.stdin.readline().split()))\n",
    "    maxGame[j][0] = max(maxGame[1-j][0], maxGame[1-j][1]) + gamePan[0]\n",
    "    maxGame[j][1] = max(maxGame[1-j]) + gamePan[1]\n",
    "    maxGame[j][2] = max(maxGame[1-j][1], maxGame[1-j][2]) + gamePan[2]\n",
    "    minGame[j][0] = min(minGame[1-j][0], minGame[1-j][1]) + gamePan[0]\n",
    "    minGame[j][1] = min(minGame[1-j]) + gamePan[1]\n",
    "    minGame[j][2] = min(minGame[1-j][1], minGame[1-j][2]) + gamePan[2]\n",
    "\n",
    "print(max(maxGame[N%2-1]), end=' ')\n",
    "print(min(minGame[N%2-1]))"
   ],
   "metadata": {
    "collapsed": false,
    "pycharm": {
     "name": "#%%\n"
    }
   }
  }
 ],
 "metadata": {
  "kernelspec": {
   "display_name": "Python 3",
   "language": "python",
   "name": "python3"
  },
  "language_info": {
   "codemirror_mode": {
    "name": "ipython",
    "version": 2
   },
   "file_extension": ".py",
   "mimetype": "text/x-python",
   "name": "python",
   "nbconvert_exporter": "python",
   "pygments_lexer": "ipython2",
   "version": "2.7.6"
  }
 },
 "nbformat": 4,
 "nbformat_minor": 0
}