{
 "cells": [
  {
   "cell_type": "markdown",
   "source": [
    "# 구간 합 구하기 5\n",
    "\n",
    "[here](https://www.acmicpc.net/problem/11660)"
   ],
   "metadata": {
    "collapsed": false,
    "pycharm": {
     "name": "#%% md\n"
    }
   }
  },
  {
   "cell_type": "code",
   "execution_count": null,
   "outputs": [],
   "source": [
    "import sys\n",
    "\n",
    "N, M = map(int, sys.stdin.readline().split())\n",
    "array = [list(map(int, sys.stdin.readline().split())) for _ in range(N)]\n",
    "\n",
    "\n",
    "def getPrevValue(x, y):\n",
    "    if x == 0 and y == 0: return 0\n",
    "    elif y == 0: return array[x-1][N-1]\n",
    "    else: return array[x][y-1]\n",
    "\n",
    "\n",
    "for i in range(N):\n",
    "    for j in range(N):\n",
    "        array[i][j] += getPrevValue(i, j)\n",
    "\n",
    "print(array)\n",
    "\n",
    "for _ in range(M):\n",
    "    x1, y1, x2, y2 = map(int, sys.stdin.readline().split())\n",
    "    print(f'{array[x2-1][y2-1]} - {getPrevValue(x1-1, y1-1)} = {array[x2-1][y2-1] - getPrevValue(x1-1, y1-1)}')"
   ],
   "metadata": {
    "collapsed": false,
    "pycharm": {
     "name": "#%%\n"
    }
   }
  },
  {
   "cell_type": "markdown",
   "source": [
    "음~~~ 이게 아니었다\n",
    "개빡치넹"
   ],
   "metadata": {
    "collapsed": false,
    "pycharm": {
     "name": "#%% md\n"
    }
   }
  },
  {
   "cell_type": "code",
   "execution_count": null,
   "outputs": [],
   "source": [
    "import sys\n",
    "\n",
    "N, M = map(int, sys.stdin.readline().split())\n",
    "array = [list(map(int, sys.stdin.readline().split())) for _ in range(N)]\n",
    "\n",
    "\n",
    "def getPrevValue(x, y):\n",
    "    if y == 0: return 0\n",
    "    else: return array[x][y-1]\n",
    "\n",
    "\n",
    "for i in range(N):\n",
    "    for j in range(1, N):\n",
    "        array[i][j] += array[i][j-1]\n",
    "\n",
    "for _ in range(M):\n",
    "    x1, y1, x2, y2 = map(int, sys.stdin.readline().split())\n",
    "    sum = 0\n",
    "    for i in range(x1-1, x2):\n",
    "        sum += array[i][y2-1] - getPrevValue(i, y1-1)\n",
    "\n",
    "    print(sum)"
   ],
   "metadata": {
    "collapsed": false,
    "pycharm": {
     "name": "#%%\n"
    }
   }
  }
 ],
 "metadata": {
  "kernelspec": {
   "display_name": "Python 3",
   "language": "python",
   "name": "python3"
  },
  "language_info": {
   "codemirror_mode": {
    "name": "ipython",
    "version": 2
   },
   "file_extension": ".py",
   "mimetype": "text/x-python",
   "name": "python",
   "nbconvert_exporter": "python",
   "pygments_lexer": "ipython2",
   "version": "2.7.6"
  }
 },
 "nbformat": 4,
 "nbformat_minor": 0
}