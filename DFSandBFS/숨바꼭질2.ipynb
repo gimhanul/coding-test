{
 "cells": [
  {
   "cell_type": "markdown",
   "source": [
    "# 숨바꼭질2\n",
    "\n",
    "[here](https://www.acmicpc.net/problem/12851)"
   ],
   "metadata": {
    "collapsed": false,
    "pycharm": {
     "name": "#%% md\n"
    }
   }
  },
  {
   "cell_type": "code",
   "execution_count": null,
   "metadata": {
    "collapsed": true,
    "pycharm": {
     "name": "#%%\n"
    }
   },
   "outputs": [],
   "source": [
    "import sys\n",
    "import heapq\n",
    "read = sys.stdin.readline\n",
    "INF = int(1e9)\n",
    "\n",
    "N, K = map(int, read().split())\n",
    "distance = [INF] * (max(N, K)+2)\n",
    "cnt = 1\n",
    "\n",
    "\n",
    "def checkLinkedPlace(node, cost, tq):\n",
    "    global distance, cnt\n",
    "\n",
    "    if 0 <= node < len(distance):\n",
    "        if cost < distance[node]:\n",
    "            distance[node] = cost\n",
    "            heapq.heappush(tq, (cost, node))\n",
    "            if node == K: cnt = 1\n",
    "\n",
    "        elif node == K and cost == distance[node]:\n",
    "            cnt += 1\n",
    "\n",
    "\n",
    "q = []\n",
    "distance[N] = 0\n",
    "heapq.heappush(q, (0, N))\n",
    "\n",
    "while q:\n",
    "    dist, now = heapq.heappop(q)\n",
    "    if distance[now] < dist: continue\n",
    "\n",
    "    checkLinkedPlace(now+1, dist+1, q)\n",
    "    checkLinkedPlace(now-1, dist+1, q)\n",
    "    checkLinkedPlace(now*2, dist+1, q)\n",
    "\n",
    "print(distance[K])\n",
    "print(cnt)"
   ]
  },
  {
   "cell_type": "markdown",
   "source": [
    "최단경로 알고리즘 썼는데 umm...\n",
    "이건 아닌 것 같읍니다..."
   ],
   "metadata": {
    "collapsed": false,
    "pycharm": {
     "name": "#%% md\n"
    }
   }
  },
  {
   "cell_type": "code",
   "execution_count": null,
   "outputs": [],
   "source": [
    "import sys\n",
    "from collections import deque\n",
    "read = sys.stdin.readline\n",
    "INF = int(1e9)\n",
    "\n",
    "N, K = map(int, read().split())\n",
    "visited = [False] * (max(N, K)+2)\n",
    "cnt = 0\n",
    "fastestTime = -1\n",
    "\n",
    "q = deque([(N, 0)])\n",
    "\n",
    "\n",
    "def putNext(node, cost):\n",
    "    global q\n",
    "\n",
    "    if 0 <= node < (max(N, K)+2) and not visited[node]:\n",
    "        q.append((node, cost))\n",
    "\n",
    "\n",
    "while q:\n",
    "    now, dist = q.popleft()\n",
    "    visited[now] = True\n",
    "\n",
    "    # 처음 K를 만났을 때\n",
    "    if fastestTime == -1 and now == K: fastestTime = dist\n",
    "\n",
    "    if fastestTime == dist and now == K: cnt += 1\n",
    "    elif not (fastestTime != -1 and fastestTime < dist):\n",
    "        putNext(now+1, dist+1)\n",
    "        putNext(now-1, dist+1)\n",
    "        putNext(now*2, dist+1)\n",
    "\n",
    "\n",
    "print(fastestTime)\n",
    "print(cnt)"
   ],
   "metadata": {
    "collapsed": false,
    "pycharm": {
     "name": "#%%\n"
    }
   }
  }
 ],
 "metadata": {
  "kernelspec": {
   "display_name": "Python 3",
   "language": "python",
   "name": "python3"
  },
  "language_info": {
   "codemirror_mode": {
    "name": "ipython",
    "version": 2
   },
   "file_extension": ".py",
   "mimetype": "text/x-python",
   "name": "python",
   "nbconvert_exporter": "python",
   "pygments_lexer": "ipython2",
   "version": "2.7.6"
  }
 },
 "nbformat": 4,
 "nbformat_minor": 0
}